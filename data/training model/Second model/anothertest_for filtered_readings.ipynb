{
 "cells": [
  {
   "cell_type": "markdown",
   "id": "805979ad",
   "metadata": {},
   "source": [
    "## Import necessary libraries"
   ]
  },
  {
   "cell_type": "code",
   "execution_count": 1,
   "id": "a154bc51",
   "metadata": {},
   "outputs": [],
   "source": [
    "import pandas as pd\n",
    "import numpy as np\n",
    "import matplotlib.pyplot as plt\n",
    "import seaborn as sns\n",
    "from sklearn.preprocessing import StandardScaler\n",
    "from sklearn.model_selection import train_test_split\n",
    "from sklearn.utils.class_weight import compute_class_weight\n",
    "from sklearn.metrics import classification_report, confusion_matrix, roc_curve, auc\n",
    "import joblib\n",
    "import tensorflow as tf\n",
    "from tensorflow.keras.models import Sequential\n",
    "from tensorflow.keras.layers import LSTM, Dense, Dropout, BatchNormalization\n",
    "from tensorflow.keras.callbacks import EarlyStopping, ReduceLROnPlateau, ModelCheckpoint\n",
    "from tensorflow.keras.regularizers import l2\n",
    "from imblearn.over_sampling import SMOTE\n",
    "import warnings\n",
    "warnings.filterwarnings('ignore')"
   ]
  },
  {
   "cell_type": "markdown",
   "id": "bc5fc444",
   "metadata": {},
   "source": [
    "### Set seeds for reproducibility"
   ]
  },
  {
   "cell_type": "code",
   "execution_count": 2,
   "id": "8b23170c",
   "metadata": {},
   "outputs": [
    {
     "name": "stdout",
     "output_type": "stream",
     "text": [
      "======================================================================\n",
      "STEP-BY-STEP LSTM MODELING FOR TUBA FERMENTATION\n",
      "======================================================================\n"
     ]
    }
   ],
   "source": [
    "np.random.seed(42)\n",
    "tf.random.set_seed(42)\n",
    "print(\"=\"*70)\n",
    "print(\"STEP-BY-STEP LSTM MODELING FOR TUBA FERMENTATION\")\n",
    "print(\"=\"*70)"
   ]
  },
  {
   "cell_type": "code",
   "execution_count": 3,
   "id": "43656778",
   "metadata": {},
   "outputs": [
    {
     "name": "stdout",
     "output_type": "stream",
     "text": [
      "\n",
      "======================================================================\n",
      "STEP 1: DATA LOADING\n",
      "======================================================================\n"
     ]
    }
   ],
   "source": [
    "print(\"\\n\" + \"=\"*70)\n",
    "print(\"STEP 1: DATA LOADING\")\n",
    "print(\"=\"*70)"
   ]
  },
  {
   "cell_type": "code",
   "execution_count": 5,
   "id": "88d3a70e",
   "metadata": {},
   "outputs": [],
   "source": [
    "# Load your CSV file\n",
    "df = pd.read_csv('filtered_readings.csv')"
   ]
  },
  {
   "cell_type": "code",
   "execution_count": 6,
   "id": "662fb757",
   "metadata": {},
   "outputs": [
    {
     "name": "stdout",
     "output_type": "stream",
     "text": [
      "✓ Loaded 846 readings\n",
      "\n",
      "Dataset Info:\n",
      "<class 'pandas.core.frame.DataFrame'>\n",
      "RangeIndex: 846 entries, 0 to 845\n",
      "Data columns (total 10 columns):\n",
      " #   Column            Non-Null Count  Dtype  \n",
      "---  ------            --------------  -----  \n",
      " 0   id                846 non-null    int64  \n",
      " 1   batch_id          846 non-null    int64  \n",
      " 2   gravity           846 non-null    float64\n",
      " 3   temperature       846 non-null    float64\n",
      " 4   battery           846 non-null    float64\n",
      " 5   angle             846 non-null    float64\n",
      " 6   timestamp         846 non-null    object \n",
      " 7   brix              846 non-null    float64\n",
      " 8   date_only         846 non-null    object \n",
      " 9   interval_seconds  846 non-null    float64\n",
      "dtypes: float64(6), int64(2), object(2)\n",
      "memory usage: 66.2+ KB\n",
      "None\n",
      "\n",
      "First 5 rows:\n",
      "   id  batch_id   gravity  temperature   battery     angle  \\\n",
      "0   1         1  1.015740      30.1875  4.056309  31.13034   \n",
      "1   2         1  1.014763      30.1875  4.056309  30.65194   \n",
      "2   3         1  1.013954      30.1250  4.056309  30.26313   \n",
      "3   4         1  1.013093      30.0625  4.056309  29.85785   \n",
      "4   5         1  1.013142      30.0625  4.056309  29.88073   \n",
      "\n",
      "                    timestamp      brix   date_only  interval_seconds  \n",
      "0  2025-10-06 16:08:45.513729  4.012791  2025-10-06          0.000000  \n",
      "1  2025-10-06 16:08:58.411916  3.766628  2025-10-06         12.898187  \n",
      "2  2025-10-06 16:09:10.999436  3.562475  2025-10-06         12.587520  \n",
      "3  2025-10-06 16:09:23.931160  3.344882  2025-10-06         12.931724  \n",
      "4  2025-10-06 16:09:39.360793  3.357274  2025-10-06         15.429633  \n",
      "\n",
      "Last 5 rows:\n",
      "      id  batch_id   gravity  temperature   battery     angle  \\\n",
      "841  942         1  0.999196      26.1875  3.889468  24.21800   \n",
      "842  943         1  0.999142      26.1875  3.889468  24.19886   \n",
      "843  944         1  0.999194      26.1875  3.889468  24.21739   \n",
      "844  945         1  0.999150      26.1875  3.889468  24.20172   \n",
      "845  948         1  0.999195      26.1875  3.884254  24.21764   \n",
      "\n",
      "                      timestamp      brix   date_only  interval_seconds  \n",
      "841  2025-10-07 09:00:44.492278 -0.213019  2025-10-07         12.634615  \n",
      "842  2025-10-07 09:00:57.156743 -0.227015  2025-10-07         12.664465  \n",
      "843  2025-10-07 09:01:09.982037 -0.213538  2025-10-07         12.825294  \n",
      "844  2025-10-07 09:02:12.577656 -0.224941  2025-10-07         62.595619  \n",
      "845  2025-10-07 09:02:31.954492 -0.213278  2025-10-07         12.690843  \n",
      "\n",
      "Basic statistics:\n",
      "               id  batch_id     gravity  temperature     battery       angle  \\\n",
      "count  846.000000     846.0  846.000000   846.000000  846.000000  846.000000   \n",
      "mean   479.148936       1.0    1.002786    28.045508    4.000375   25.623538   \n",
      "std    288.252682       0.0    0.004956     1.063584    0.054699    1.951312   \n",
      "min      1.000000       1.0    0.998079    26.187500    3.863399   23.825360   \n",
      "25%    212.250000       1.0    0.998694    27.500000    3.983316   24.040780   \n",
      "50%    523.500000       1.0    0.999091    27.718750    3.993743   24.180965   \n",
      "75%    734.750000       1.0    1.006345    29.000000    4.045881   26.926142   \n",
      "max    948.000000       1.0    1.015740    30.187500    4.056309   31.130340   \n",
      "\n",
      "             brix  interval_seconds  \n",
      "count  846.000000        846.000000  \n",
      "mean     0.708879         71.886313  \n",
      "std      1.272207        949.108378  \n",
      "min     -0.502790          0.000000  \n",
      "25%     -0.343112         12.596372  \n",
      "50%     -0.240234         12.671882  \n",
      "75%      1.628113         13.190274  \n",
      "max      4.012791      19992.372990  \n"
     ]
    }
   ],
   "source": [
    "print(f\"✓ Loaded {len(df)} readings\")\n",
    "print(f\"\\nDataset Info:\")\n",
    "print(df.info())\n",
    "print(f\"\\nFirst 5 rows:\")\n",
    "print(df.head())\n",
    "print(f\"\\nLast 5 rows:\")\n",
    "print(df.tail())\n",
    "print(f\"\\nBasic statistics:\")\n",
    "print(df.describe())"
   ]
  },
  {
   "cell_type": "code",
   "execution_count": 7,
   "id": "68a95268",
   "metadata": {},
   "outputs": [
    {
     "name": "stdout",
     "output_type": "stream",
     "text": [
      "\n",
      "======================================================================\n",
      "STEP 2: DATA CLEANING\n",
      "======================================================================\n"
     ]
    }
   ],
   "source": [
    "print(\"\\n\" + \"=\"*70)\n",
    "print(\"STEP 2: DATA CLEANING\")\n",
    "print(\"=\"*70)"
   ]
  },
  {
   "cell_type": "code",
   "execution_count": 8,
   "id": "6d900dd0",
   "metadata": {},
   "outputs": [
    {
     "name": "stdout",
     "output_type": "stream",
     "text": [
      "✓ Converted timestamp to datetime format\n"
     ]
    }
   ],
   "source": [
    "# Convert timestamp to datetime\n",
    "df['timestamp'] = pd.to_datetime(df['timestamp'])\n",
    "print(f\"✓ Converted timestamp to datetime format\")"
   ]
  },
  {
   "cell_type": "code",
   "execution_count": 9,
   "id": "0a0f04a2",
   "metadata": {},
   "outputs": [
    {
     "name": "stdout",
     "output_type": "stream",
     "text": [
      "\n",
      "Missing values per column:\n",
      "id                  0\n",
      "batch_id            0\n",
      "gravity             0\n",
      "temperature         0\n",
      "battery             0\n",
      "angle               0\n",
      "timestamp           0\n",
      "brix                0\n",
      "date_only           0\n",
      "interval_seconds    0\n",
      "dtype: int64\n"
     ]
    }
   ],
   "source": [
    "# Check for missing values\n",
    "print(f\"\\nMissing values per column:\")\n",
    "print(df.isnull().sum())"
   ]
  },
  {
   "cell_type": "code",
   "execution_count": 10,
   "id": "bcc510af",
   "metadata": {},
   "outputs": [
    {
     "name": "stdout",
     "output_type": "stream",
     "text": [
      "\n",
      "Duplicate timestamps: 0\n"
     ]
    }
   ],
   "source": [
    "# Check for duplicate timestamps\n",
    "duplicates = df.duplicated(subset=['timestamp']).sum()\n",
    "print(f\"\\nDuplicate timestamps: {duplicates}\")\n",
    "if duplicates > 0:\n",
    "    df = df.drop_duplicates(subset=['timestamp'], keep='first')\n",
    "    print(f\"✓ Removed {duplicates} duplicate readings\")"
   ]
  },
  {
   "cell_type": "code",
   "execution_count": 11,
   "id": "d481bdc7",
   "metadata": {},
   "outputs": [],
   "source": [
    "# Remove sensor errors (impossible values)\n",
    "initial_count = len(df)"
   ]
  },
  {
   "cell_type": "code",
   "execution_count": 12,
   "id": "bf94a010",
   "metadata": {},
   "outputs": [
    {
     "name": "stdout",
     "output_type": "stream",
     "text": [
      "\n",
      "✓ Removed 0 readings with impossible values\n",
      "✓ Remaining readings: 846\n"
     ]
    }
   ],
   "source": [
    "# Gravity range: 0.990 - 1.120 (typical fermentation range)\n",
    "df = df[(df['gravity'] >= 0.990) & (df['gravity'] <= 1.120)]\n",
    "\n",
    "# Temperature range: 15-40°C (realistic fermentation temperature)\n",
    "df = df[(df['temperature'] >= 15) & (df['temperature'] <= 40)]\n",
    "\n",
    "# Brix range: -5 to 25 (reasonable range)\n",
    "df = df[(df['brix'] >= -5) & (df['brix'] <= 25)]\n",
    "\n",
    "removed = initial_count - len(df)\n",
    "print(f\"\\n✓ Removed {removed} readings with impossible values\")\n",
    "print(f\"✓ Remaining readings: {len(df)}\")"
   ]
  },
  {
   "cell_type": "code",
   "execution_count": 13,
   "id": "6acebcc0",
   "metadata": {},
   "outputs": [
    {
     "name": "stdout",
     "output_type": "stream",
     "text": [
      "\n",
      "Removing outliers using IQR method:\n",
      "  gravity: removed 0 outliers (range: 0.9834 to 1.0216)\n",
      "  temperature: removed 0 outliers (range: 24.5000 to 32.0000)\n",
      "  brix: removed 0 outliers (range: -4.2856 to 5.5706)\n",
      "\n",
      "✓ Final dataset after cleaning: 846 readings\n"
     ]
    }
   ],
   "source": [
    "# Detect and remove outliers using IQR method\n",
    "def remove_outliers_iqr(data, column, multiplier=1.5):\n",
    "    Q1 = data[column].quantile(0.25)\n",
    "    Q3 = data[column].quantile(0.75)\n",
    "    IQR = Q3 - Q1\n",
    "    lower_bound = Q1 - multiplier * IQR\n",
    "    upper_bound = Q3 + multiplier * IQR\n",
    "    \n",
    "    before = len(data)\n",
    "    data = data[(data[column] >= lower_bound) & (data[column] <= upper_bound)]\n",
    "    after = len(data)\n",
    "    \n",
    "    print(f\"  {column}: removed {before - after} outliers (range: {lower_bound:.4f} to {upper_bound:.4f})\")\n",
    "    return data\n",
    "\n",
    "print(f\"\\nRemoving outliers using IQR method:\")\n",
    "df = remove_outliers_iqr(df, 'gravity', multiplier=2.0)\n",
    "df = remove_outliers_iqr(df, 'temperature', multiplier=2.0)\n",
    "df = remove_outliers_iqr(df, 'brix', multiplier=2.0)\n",
    "\n",
    "print(f\"\\n✓ Final dataset after cleaning: {len(df)} readings\")"
   ]
  },
  {
   "cell_type": "code",
   "execution_count": 14,
   "id": "1e1b0047",
   "metadata": {},
   "outputs": [
    {
     "name": "stdout",
     "output_type": "stream",
     "text": [
      "\n",
      "======================================================================\n",
      "STEP 3: HANDLING MISSING DATA\n",
      "======================================================================\n"
     ]
    }
   ],
   "source": [
    "print(\"\\n\" + \"=\"*70)\n",
    "print(\"STEP 3: HANDLING MISSING DATA\")\n",
    "print(\"=\"*70)"
   ]
  },
  {
   "cell_type": "code",
   "execution_count": 15,
   "id": "0d24e380",
   "metadata": {},
   "outputs": [
    {
     "name": "stdout",
     "output_type": "stream",
     "text": [
      "✓ Sorted data by timestamp\n"
     ]
    }
   ],
   "source": [
    "# Sort by timestamp to ensure proper interpolation\n",
    "df = df.sort_values('timestamp').reset_index(drop=True)\n",
    "print(f\"✓ Sorted data by timestamp\")"
   ]
  },
  {
   "cell_type": "code",
   "execution_count": 16,
   "id": "fcaae56c",
   "metadata": {},
   "outputs": [],
   "source": [
    "# Check for time gaps (missed transmissions)\n",
    "df['time_diff'] = df['timestamp'].diff().dt.total_seconds()\n",
    "expected_interval = 15  # seconds\n",
    "tolerance = 5  # seconds"
   ]
  },
  {
   "cell_type": "code",
   "execution_count": 17,
   "id": "280e8600",
   "metadata": {},
   "outputs": [
    {
     "name": "stdout",
     "output_type": "stream",
     "text": [
      "\n",
      "Detected 27 time gaps larger than 20 seconds\n",
      "Largest gap: 19992.4 seconds\n"
     ]
    }
   ],
   "source": [
    "large_gaps = df[df['time_diff'] > (expected_interval + tolerance)]\n",
    "print(f\"\\nDetected {len(large_gaps)} time gaps larger than {expected_interval + tolerance} seconds\")\n",
    "\n",
    "if len(large_gaps) > 0:\n",
    "    print(f\"Largest gap: {df['time_diff'].max():.1f} seconds\")"
   ]
  },
  {
   "cell_type": "code",
   "execution_count": 19,
   "id": "d4a0ccd9",
   "metadata": {},
   "outputs": [],
   "source": [
    "# Interpolate missing values (if any NaN values exist after cleaning)\n",
    "numeric_cols = ['gravity', 'temperature', 'brix']\n",
    "for col in numeric_cols:\n",
    "    if df[col].isnull().sum() > 0:\n",
    "        df[col] = df[col].interpolate(method='linear', limit=3)\n",
    "        print(f\"✓ Interpolated missing values in {col}\")"
   ]
  },
  {
   "cell_type": "code",
   "execution_count": 20,
   "id": "132d6a05",
   "metadata": {},
   "outputs": [],
   "source": [
    "# Forward fill any remaining NaN at start\n",
    "df = df.fillna(method='bfill')\n"
   ]
  },
  {
   "cell_type": "code",
   "execution_count": 21,
   "id": "c568df58",
   "metadata": {},
   "outputs": [],
   "source": [
    "# Backward fill any remaining NaN at end\n",
    "df = df.fillna(method='ffill')"
   ]
  },
  {
   "cell_type": "code",
   "execution_count": 22,
   "id": "641424a7",
   "metadata": {},
   "outputs": [
    {
     "name": "stdout",
     "output_type": "stream",
     "text": [
      "\n",
      "✓ All missing values handled\n",
      "Remaining NaN values: 0\n"
     ]
    }
   ],
   "source": [
    "print(f\"\\n✓ All missing values handled\")\n",
    "print(f\"Remaining NaN values: {df.isnull().sum().sum()}\")"
   ]
  },
  {
   "cell_type": "code",
   "execution_count": 23,
   "id": "bd64bb1e",
   "metadata": {},
   "outputs": [
    {
     "name": "stdout",
     "output_type": "stream",
     "text": [
      "\n",
      "======================================================================\n",
      "STEP 4: FEATURE ENGINEERING\n",
      "======================================================================\n"
     ]
    }
   ],
   "source": [
    "print(\"\\n\" + \"=\"*70)\n",
    "print(\"STEP 4: FEATURE ENGINEERING\")\n",
    "print(\"=\"*70)\n"
   ]
  },
  {
   "cell_type": "code",
   "execution_count": 24,
   "id": "717e455f",
   "metadata": {},
   "outputs": [
    {
     "name": "stdout",
     "output_type": "stream",
     "text": [
      "✓ Created 'hours_elapsed' feature\n"
     ]
    }
   ],
   "source": [
    "# 4.1: Time-based features\n",
    "batch_start = df['timestamp'].iloc[0]\n",
    "df['hours_elapsed'] = (df['timestamp'] - batch_start).dt.total_seconds() / 3600\n",
    "print(f\"✓ Created 'hours_elapsed' feature\")"
   ]
  },
  {
   "cell_type": "code",
   "execution_count": 25,
   "id": "8402841e",
   "metadata": {},
   "outputs": [
    {
     "name": "stdout",
     "output_type": "stream",
     "text": [
      "✓ Brix values verified (avg diff: 0.0000)\n"
     ]
    }
   ],
   "source": [
    "# 4.2: Verify/Recalculate Brix (if needed)\n",
    "# You already have brix in your CSV, but let's verify it's correct\n",
    "# SG -> Brix formula: Brix = (((182.4601 * SG - 775.6821) * SG + 1262.7794) * SG - 669.5622)\n",
    "def sg_to_brix(sg):\n",
    "    \"\"\"Convert Specific Gravity to Brix using standard formula\"\"\"\n",
    "    return (((182.4601 * sg - 775.6821) * sg + 1262.7794) * sg - 669.5622)\n",
    "\n",
    "# Verify existing brix values (optional - your CSV already has brix)\n",
    "df['brix_verified'] = df['gravity'].apply(sg_to_brix)\n",
    "\n",
    "# Compare if significantly different\n",
    "brix_diff = abs(df['brix'] - df['brix_verified']).mean()\n",
    "if brix_diff > 0.1:\n",
    "    print(f\"⚠️  Warning: Brix values differ by {brix_diff:.4f} on average\")\n",
    "    print(f\"   Using verified brix from SG conversion\")\n",
    "    df['brix'] = df['brix_verified']\n",
    "else:\n",
    "    print(f\"✓ Brix values verified (avg diff: {brix_diff:.4f})\")\n",
    "\n",
    "df.drop('brix_verified', axis=1, inplace=True)"
   ]
  },
  {
   "cell_type": "code",
   "execution_count": 26,
   "id": "4a9ed119",
   "metadata": {},
   "outputs": [
    {
     "name": "stdout",
     "output_type": "stream",
     "text": [
      "✓ Original Gravity (OG): 1.0157\n",
      "✓ Calculated 'alcohol' content (ABV %) using SG method\n",
      "✓ Calculated 'alcohol_from_brix' using Brix method (more accurate for tuba)\n",
      "   Original Brix: 4.01°Bx\n",
      "   Final Brix: -0.21°Bx\n",
      "   Estimated final ABV: 2.17% (SG method)\n",
      "   Estimated final ABV: 2.49% (Brix method)\n"
     ]
    }
   ],
   "source": [
    "# 4.3: Calculate alcohol content using proper formula\n",
    "# Method 1: Standard ABV formula from OG and FG\n",
    "# ABV = (OG - FG) × 131.25\n",
    "# For tuba, we need to determine Original Gravity (OG) from first reading\n",
    "ORIGINAL_GRAVITY = df['gravity'].iloc[0]  # First reading is your OG\n",
    "print(f\"✓ Original Gravity (OG): {ORIGINAL_GRAVITY:.4f}\")\n",
    "\n",
    "df['alcohol'] = (ORIGINAL_GRAVITY - df['gravity']) * 131.25\n",
    "df['alcohol'] = df['alcohol'].clip(lower=0)  # No negative alcohol\n",
    "\n",
    "# Alternative Method 2: Using Brix for alcohol calculation\n",
    "# More accurate for sugar-based fermentation (tuba is coconut sap sugar)\n",
    "# ABV ≈ (Starting Brix - Final Brix) × 0.59\n",
    "# This accounts for the fact that not all sugar converts to alcohol\n",
    "ORIGINAL_BRIX = df['brix'].iloc[0]  # First reading\n",
    "df['alcohol_from_brix'] = (ORIGINAL_BRIX - df['brix']) * 0.59\n",
    "df['alcohol_from_brix'] = df['alcohol_from_brix'].clip(lower=0)\n",
    "\n",
    "print(f\"✓ Calculated 'alcohol' content (ABV %) using SG method\")\n",
    "print(f\"✓ Calculated 'alcohol_from_brix' using Brix method (more accurate for tuba)\")\n",
    "print(f\"   Original Brix: {ORIGINAL_BRIX:.2f}°Bx\")\n",
    "print(f\"   Final Brix: {df['brix'].iloc[-1]:.2f}°Bx\")\n",
    "print(f\"   Estimated final ABV: {df['alcohol'].iloc[-1]:.2f}% (SG method)\")\n",
    "print(f\"   Estimated final ABV: {df['alcohol_from_brix'].iloc[-1]:.2f}% (Brix method)\")\n"
   ]
  },
  {
   "cell_type": "code",
   "execution_count": 27,
   "id": "4c2552b8",
   "metadata": {},
   "outputs": [
    {
     "name": "stdout",
     "output_type": "stream",
     "text": [
      "✓ Calculated velocity features (rate of change)\n"
     ]
    }
   ],
   "source": [
    "# 4.3: Rate of change features (velocity)\n",
    "df['gravity_velocity'] = df['gravity'].diff() / df['hours_elapsed'].diff()\n",
    "df['temp_velocity'] = df['temperature'].diff() / df['hours_elapsed'].diff()\n",
    "df['brix_velocity'] = df['brix'].diff() / df['hours_elapsed'].diff()\n",
    "df['alcohol_velocity'] = df['alcohol'].diff() / df['hours_elapsed'].diff()\n",
    "print(f\"✓ Calculated velocity features (rate of change)\")"
   ]
  },
  {
   "cell_type": "code",
   "execution_count": 28,
   "id": "f6dee5a5",
   "metadata": {},
   "outputs": [
    {
     "name": "stdout",
     "output_type": "stream",
     "text": [
      "✓ Calculated acceleration features\n"
     ]
    }
   ],
   "source": [
    "# 4.4: Acceleration features (change in velocity)\n",
    "df['gravity_acceleration'] = df['gravity_velocity'].diff() / df['hours_elapsed'].diff()\n",
    "df['temp_acceleration'] = df['temp_velocity'].diff() / df['hours_elapsed'].diff()\n",
    "print(f\"✓ Calculated acceleration features\")"
   ]
  },
  {
   "cell_type": "code",
   "execution_count": 29,
   "id": "21624eba",
   "metadata": {},
   "outputs": [
    {
     "name": "stdout",
     "output_type": "stream",
     "text": [
      "✓ Calculated moving averages (windows: [5, 10, 20])\n"
     ]
    }
   ],
   "source": [
    "# 4.5: Moving averages (smoothing)\n",
    "window_sizes = [5, 10, 20]\n",
    "for window in window_sizes:\n",
    "    df[f'gravity_ma{window}'] = df['gravity'].rolling(window=window, min_periods=1).mean()\n",
    "    df[f'temp_ma{window}'] = df['temperature'].rolling(window=window, min_periods=1).mean()\n",
    "    df[f'brix_ma{window}'] = df['brix'].rolling(window=window, min_periods=1).mean()\n",
    "print(f\"✓ Calculated moving averages (windows: {window_sizes})\")"
   ]
  },
  {
   "cell_type": "code",
   "execution_count": 30,
   "id": "5e6dec56",
   "metadata": {},
   "outputs": [
    {
     "name": "stdout",
     "output_type": "stream",
     "text": [
      "✓ Calculated rolling standard deviations\n"
     ]
    }
   ],
   "source": [
    "# 4.6: Standard deviation (volatility)\n",
    "for window in [10, 20]:\n",
    "    df[f'gravity_std{window}'] = df['gravity'].rolling(window=window, min_periods=1).std()\n",
    "    df[f'temp_std{window}'] = df['temperature'].rolling(window=window, min_periods=1).std()\n",
    "print(f\"✓ Calculated rolling standard deviations\")"
   ]
  },
  {
   "cell_type": "code",
   "execution_count": 37,
   "id": "fa90c3e6",
   "metadata": {},
   "outputs": [
    {
     "name": "stdout",
     "output_type": "stream",
     "text": [
      "✓ Calculated cumulative features\n",
      "\n",
      "✓ Total features created: 36\n",
      "Feature columns: ['id', 'batch_id', 'gravity', 'temperature', 'battery', 'angle', 'timestamp', 'brix', 'date_only', 'interval_seconds', 'time_diff', 'hours_elapsed', 'alcohol', 'alcohol_from_brix', 'gravity_velocity', 'temp_velocity', 'brix_velocity', 'alcohol_velocity', 'gravity_acceleration', 'temp_acceleration', 'gravity_ma5', 'temp_ma5', 'brix_ma5', 'gravity_ma10', 'temp_ma10', 'brix_ma10', 'gravity_ma20', 'temp_ma20', 'brix_ma20', 'gravity_std10', 'temp_std10', 'gravity_std20', 'temp_std20', 'is_fermented', 'gravity_cumsum', 'gravity_change_cumsum']\n"
     ]
    }
   ],
   "source": [
    "# 4.7: Cumulative features\n",
    "df['gravity_cumsum'] = df['gravity'].cumsum()\n",
    "df['gravity_change_cumsum'] = (ORIGINAL_GRAVITY - df['gravity']).cumsum()\n",
    "print(f\"✓ Calculated cumulative features\")\n",
    "\n",
    "# Fill any NaN created by diff() and rolling operations\n",
    "df = df.fillna(method='bfill').fillna(method='ffill')\n",
    "\n",
    "print(f\"\\n✓ Total features created: {len(df.columns)}\")\n",
    "print(f\"Feature columns: {list(df.columns)}\")"
   ]
  },
  {
   "cell_type": "code",
   "execution_count": 38,
   "id": "02696429",
   "metadata": {},
   "outputs": [
    {
     "name": "stdout",
     "output_type": "stream",
     "text": [
      "\n",
      "======================================================================\n",
      "STEP 5: LABEL CREATION\n",
      "======================================================================\n"
     ]
    }
   ],
   "source": [
    "print(\"\\n\" + \"=\"*70)\n",
    "print(\"STEP 5: LABEL CREATION\")\n",
    "print(\"=\"*70)"
   ]
  },
  {
   "cell_type": "code",
   "execution_count": 39,
   "id": "d6852aa4",
   "metadata": {},
   "outputs": [],
   "source": [
    "# Your fermentation split point\n",
    "FERMENTATION_SPLIT = 717  # Reading 717 is where fermentation starts"
   ]
  },
  {
   "cell_type": "code",
   "execution_count": 40,
   "id": "375d024f",
   "metadata": {},
   "outputs": [
    {
     "name": "stdout",
     "output_type": "stream",
     "text": [
      "✓ Labels created:\n",
      "  - Not Fermented (Class 0): 717 readings\n",
      "  - Fermented (Class 1): 129 readings\n",
      "  - Class imbalance ratio: 5.56:1\n"
     ]
    }
   ],
   "source": [
    "# Create binary labels\n",
    "df['is_fermented'] = 0  # Default: Not Fermented\n",
    "df.loc[FERMENTATION_SPLIT:, 'is_fermented'] = 1  # After reading 816: Fermented\n",
    "\n",
    "not_fermented_count = (df['is_fermented'] == 0).sum()\n",
    "fermented_count = (df['is_fermented'] == 1).sum()\n",
    "\n",
    "print(f\"✓ Labels created:\")\n",
    "print(f\"  - Not Fermented (Class 0): {not_fermented_count} readings\")\n",
    "print(f\"  - Fermented (Class 1): {fermented_count} readings\")\n",
    "print(f\"  - Class imbalance ratio: {not_fermented_count/fermented_count:.2f}:1\")"
   ]
  },
  {
   "cell_type": "code",
   "execution_count": 41,
   "id": "55a2e978",
   "metadata": {},
   "outputs": [
    {
     "name": "stdout",
     "output_type": "stream",
     "text": [
      "\n",
      "======================================================================\n",
      "STEP 6: SEQUENCE CREATION FOR LSTM\n",
      "======================================================================\n"
     ]
    }
   ],
   "source": [
    "print(\"\\n\" + \"=\"*70)\n",
    "print(\"STEP 6: SEQUENCE CREATION FOR LSTM\")\n",
    "print(\"=\"*70)"
   ]
  },
  {
   "cell_type": "code",
   "execution_count": 42,
   "id": "8ca9aeb5",
   "metadata": {},
   "outputs": [],
   "source": [
    "# Define sequence length (number of timesteps LSTM will look at)\n",
    "SEQUENCE_LENGTH = 132  # Your Day 2 (fermented) length"
   ]
  },
  {
   "cell_type": "code",
   "execution_count": 43,
   "id": "c19db178",
   "metadata": {},
   "outputs": [
    {
     "name": "stdout",
     "output_type": "stream",
     "text": [
      "✓ Using 26 features for LSTM\n",
      "✓ Sequence length: 132 timesteps\n"
     ]
    }
   ],
   "source": [
    "# Select features for LSTM input\n",
    "feature_columns = [\n",
    "    # Core measurements\n",
    "    'gravity', 'temperature', 'brix', 'hours_elapsed',\n",
    "    \n",
    "    # Alcohol calculations (using Brix method - more accurate for tuba)\n",
    "    'alcohol_from_brix',  # Primary alcohol estimate\n",
    "    \n",
    "    # Velocities (rate of change)\n",
    "    'gravity_velocity', 'temp_velocity', 'brix_velocity', 'alcohol_velocity',\n",
    "    \n",
    "    # Accelerations\n",
    "    'gravity_acceleration', 'temp_acceleration',\n",
    "    \n",
    "    # Moving averages (5, 10, 20)\n",
    "    'gravity_ma5', 'temp_ma5', 'brix_ma5',\n",
    "    'gravity_ma10', 'temp_ma10', 'brix_ma10',\n",
    "    'gravity_ma20', 'temp_ma20', 'brix_ma20',\n",
    "    \n",
    "    # Standard deviations\n",
    "    'gravity_std10', 'temp_std10',\n",
    "    'gravity_std20', 'temp_std20',\n",
    "    \n",
    "    # Cumulative\n",
    "    'gravity_cumsum', 'gravity_change_cumsum'\n",
    "]\n",
    "\n",
    "print(f\"✓ Using {len(feature_columns)} features for LSTM\")\n",
    "print(f\"✓ Sequence length: {SEQUENCE_LENGTH} timesteps\")"
   ]
  },
  {
   "cell_type": "code",
   "execution_count": 44,
   "id": "3cc06dab",
   "metadata": {},
   "outputs": [],
   "source": [
    "# Create sequences using sliding window\n",
    "def create_sequences(data, feature_cols, label_col, seq_length, stride=10):\n",
    "    \"\"\"\n",
    "    Create overlapping sequences for LSTM training\n",
    "    \n",
    "    Parameters:\n",
    "    -----------\n",
    "    data : DataFrame\n",
    "    feature_cols : list of feature column names\n",
    "    label_col : str, label column name\n",
    "    seq_length : int, number of timesteps per sequence\n",
    "    stride : int, how many timesteps to move window (smaller = more sequences)\n",
    "    \n",
    "    Returns:\n",
    "    --------\n",
    "    X : array of shape (n_sequences, seq_length, n_features)\n",
    "    y : array of shape (n_sequences,)\n",
    "    \"\"\"\n",
    "    X_list = []\n",
    "    y_list = []\n",
    "    \n",
    "    X_data = data[feature_cols].values\n",
    "    \n",
    "    for i in range(0, len(X_data) - seq_length + 1, stride):\n",
    "        # Extract sequence\n",
    "        sequence = X_data[i:i + seq_length]\n",
    "        \n",
    "        # Label is from the LAST reading in the sequence\n",
    "        label_idx = i + seq_length - 1\n",
    "        label = data.iloc[label_idx][label_col]\n",
    "        \n",
    "        X_list.append(sequence)\n",
    "        y_list.append(label)\n",
    "    \n",
    "    return np.array(X_list), np.array(y_list)"
   ]
  },
  {
   "cell_type": "code",
   "execution_count": 45,
   "id": "eacf3fd4",
   "metadata": {},
   "outputs": [
    {
     "name": "stdout",
     "output_type": "stream",
     "text": [
      "\n",
      "✓ Created sequences:\n",
      "  - Total sequences: 72\n",
      "  - Shape: (72, 132, 26) (sequences, timesteps, features)\n",
      "  - Not Fermented sequences: 59\n",
      "  - Fermented sequences: 13\n",
      "  - Class imbalance: 4.54:1\n"
     ]
    }
   ],
   "source": [
    "# Create sequences with stride=10 (overlap for more training samples)\n",
    "X, y = create_sequences(\n",
    "    df, \n",
    "    feature_columns, \n",
    "    'is_fermented', \n",
    "    SEQUENCE_LENGTH, \n",
    "    stride=10\n",
    ")\n",
    "\n",
    "print(f\"\\n✓ Created sequences:\")\n",
    "print(f\"  - Total sequences: {len(X)}\")\n",
    "print(f\"  - Shape: {X.shape} (sequences, timesteps, features)\")\n",
    "print(f\"  - Not Fermented sequences: {(y == 0).sum()}\")\n",
    "print(f\"  - Fermented sequences: {(y == 1).sum()}\")\n",
    "print(f\"  - Class imbalance: {(y == 0).sum() / (y == 1).sum():.2f}:1\")"
   ]
  },
  {
   "cell_type": "code",
   "execution_count": 46,
   "id": "5aaf60da",
   "metadata": {},
   "outputs": [
    {
     "name": "stdout",
     "output_type": "stream",
     "text": [
      "\n",
      "======================================================================\n",
      "STEP 7: NORMALIZATION\n",
      "======================================================================\n"
     ]
    }
   ],
   "source": [
    "print(\"\\n\" + \"=\"*70)\n",
    "print(\"STEP 7: NORMALIZATION\")\n",
    "print(\"=\"*70)"
   ]
  },
  {
   "cell_type": "code",
   "execution_count": 47,
   "id": "ae8eda2d",
   "metadata": {},
   "outputs": [
    {
     "name": "stdout",
     "output_type": "stream",
     "text": [
      "✓ Data split:\n",
      "  - Training set: 57 sequences (47 Not Ferm, 10 Ferm)\n",
      "  - Test set: 15 sequences (12 Not Ferm, 3 Ferm)\n"
     ]
    }
   ],
   "source": [
    "# Split data first (important: normalize after split to prevent data leakage!)\n",
    "X_train, X_test, y_train, y_test = train_test_split(\n",
    "    X, y, \n",
    "    test_size=0.2, \n",
    "    random_state=42, \n",
    "    stratify=y  # Maintain class distribution\n",
    ")\n",
    "\n",
    "print(f\"✓ Data split:\")\n",
    "print(f\"  - Training set: {len(X_train)} sequences ({(y_train==0).sum()} Not Ferm, {(y_train==1).sum()} Ferm)\")\n",
    "print(f\"  - Test set: {len(X_test)} sequences ({(y_test==0).sum()} Not Ferm, {(y_test==1).sum()} Ferm)\")"
   ]
  },
  {
   "cell_type": "code",
   "execution_count": 48,
   "id": "d435988b",
   "metadata": {},
   "outputs": [
    {
     "name": "stdout",
     "output_type": "stream",
     "text": [
      "\n",
      "✓ Normalization completed using StandardScaler\n",
      "  - Mean: ~0, Std: ~1 for all features\n"
     ]
    }
   ],
   "source": [
    "# Initialize scaler\n",
    "scaler = StandardScaler()\n",
    "\n",
    "# Reshape for scaling: (samples * timesteps, features)\n",
    "n_samples_train, n_timesteps, n_features = X_train.shape\n",
    "X_train_reshaped = X_train.reshape(-1, n_features)\n",
    "\n",
    "# Fit scaler on training data only\n",
    "X_train_scaled = scaler.fit_transform(X_train_reshaped)\n",
    "X_train_scaled = X_train_scaled.reshape(n_samples_train, n_timesteps, n_features)\n",
    "\n",
    "# Transform test data (using fitted scaler)\n",
    "n_samples_test = X_test.shape[0]\n",
    "X_test_reshaped = X_test.reshape(-1, n_features)\n",
    "X_test_scaled = scaler.transform(X_test_reshaped)\n",
    "X_test_scaled = X_test_scaled.reshape(n_samples_test, n_timesteps, n_features)\n",
    "\n",
    "print(f\"\\n✓ Normalization completed using StandardScaler\")\n",
    "print(f\"  - Mean: ~0, Std: ~1 for all features\")"
   ]
  },
  {
   "cell_type": "code",
   "execution_count": 49,
   "id": "7450a7bb",
   "metadata": {},
   "outputs": [
    {
     "name": "stdout",
     "output_type": "stream",
     "text": [
      "✓ Scaler saved to 'tuba_scaler.pkl'\n"
     ]
    }
   ],
   "source": [
    "# Save scaler for production use\n",
    "joblib.dump(scaler, 'tuba_scaler.pkl')\n",
    "print(f\"✓ Scaler saved to 'tuba_scaler.pkl'\")"
   ]
  },
  {
   "cell_type": "code",
   "execution_count": 50,
   "id": "22f464fa",
   "metadata": {},
   "outputs": [
    {
     "name": "stdout",
     "output_type": "stream",
     "text": [
      "\n",
      "======================================================================\n",
      "STEP 8: HANDLING CLASS IMBALANCE\n",
      "======================================================================\n"
     ]
    }
   ],
   "source": [
    "print(\"\\n\" + \"=\"*70)\n",
    "print(\"STEP 8: HANDLING CLASS IMBALANCE\")\n",
    "print(\"=\"*70)"
   ]
  },
  {
   "cell_type": "code",
   "execution_count": 51,
   "id": "2bfaf536",
   "metadata": {},
   "outputs": [
    {
     "name": "stdout",
     "output_type": "stream",
     "text": [
      "✓ Calculated class weights:\n",
      "  - Class 0 (Not Fermented): 0.6064\n",
      "  - Class 1 (Fermented): 2.8500\n",
      "  → Model will penalize wrong 'Fermented' predictions 4.70x more\n"
     ]
    }
   ],
   "source": [
    "# Calculate class weights\n",
    "class_weights = compute_class_weight(\n",
    "    'balanced',\n",
    "    classes=np.unique(y_train),\n",
    "    y=y_train\n",
    ")\n",
    "class_weight_dict = {0: class_weights[0], 1: class_weights[1]}\n",
    "\n",
    "print(f\"✓ Calculated class weights:\")\n",
    "print(f\"  - Class 0 (Not Fermented): {class_weights[0]:.4f}\")\n",
    "print(f\"  - Class 1 (Fermented): {class_weights[1]:.4f}\")\n",
    "print(f\"  → Model will penalize wrong 'Fermented' predictions {class_weights[1]/class_weights[0]:.2f}x more\")"
   ]
  },
  {
   "cell_type": "code",
   "execution_count": 52,
   "id": "3a84875a",
   "metadata": {},
   "outputs": [
    {
     "name": "stdout",
     "output_type": "stream",
     "text": [
      "\n",
      "======================================================================\n",
      "STEP 9: BUILDING LSTM MODEL\n",
      "======================================================================\n"
     ]
    }
   ],
   "source": [
    "print(\"\\n\" + \"=\"*70)\n",
    "print(\"STEP 9: BUILDING LSTM MODEL\")\n",
    "print(\"=\"*70)"
   ]
  },
  {
   "cell_type": "code",
   "execution_count": 53,
   "id": "d38d4880",
   "metadata": {},
   "outputs": [],
   "source": [
    "def build_lstm_model(seq_length, n_features):\n",
    "    \"\"\"\n",
    "    Build LSTM architecture with regularization\n",
    "    \"\"\"\n",
    "    model = Sequential([\n",
    "        # First LSTM layer - captures long-term dependencies\n",
    "        LSTM(\n",
    "            128, \n",
    "            return_sequences=True,\n",
    "            input_shape=(seq_length, n_features),\n",
    "            kernel_regularizer=l2(0.01),\n",
    "            recurrent_regularizer=l2(0.01)\n",
    "        ),\n",
    "        Dropout(0.3),\n",
    "        BatchNormalization(),\n",
    "        \n",
    "        # Second LSTM layer - refines patterns\n",
    "        LSTM(\n",
    "            64,\n",
    "            return_sequences=True,\n",
    "            kernel_regularizer=l2(0.01),\n",
    "            recurrent_regularizer=l2(0.01)\n",
    "        ),\n",
    "        Dropout(0.3),\n",
    "        BatchNormalization(),\n",
    "        \n",
    "        # Third LSTM layer - final feature extraction\n",
    "        LSTM(\n",
    "            32,\n",
    "            kernel_regularizer=l2(0.01),\n",
    "            recurrent_regularizer=l2(0.01)\n",
    "        ),\n",
    "        Dropout(0.2),\n",
    "        \n",
    "        # Dense layers for classification\n",
    "        Dense(16, activation='relu', kernel_regularizer=l2(0.01)),\n",
    "        Dropout(0.2),\n",
    "        \n",
    "        # Output layer - binary classification\n",
    "        Dense(1, activation='sigmoid')\n",
    "    ])\n",
    "    \n",
    "    # Compile model\n",
    "    model.compile(\n",
    "        optimizer=tf.keras.optimizers.Adam(learning_rate=0.001),\n",
    "        loss='binary_crossentropy',\n",
    "        metrics=[\n",
    "            'accuracy',\n",
    "            tf.keras.metrics.Precision(name='precision'),\n",
    "            tf.keras.metrics.Recall(name='recall'),\n",
    "            tf.keras.metrics.AUC(name='auc')\n",
    "        ]\n",
    "    )\n",
    "    \n",
    "    return model"
   ]
  },
  {
   "cell_type": "code",
   "execution_count": 54,
   "id": "28b4d9fa",
   "metadata": {},
   "outputs": [
    {
     "name": "stdout",
     "output_type": "stream",
     "text": [
      "✓ LSTM model architecture:\n"
     ]
    },
    {
     "data": {
      "text/html": [
       "<pre style=\"white-space:pre;overflow-x:auto;line-height:normal;font-family:Menlo,'DejaVu Sans Mono',consolas,'Courier New',monospace\"><span style=\"font-weight: bold\">Model: \"sequential\"</span>\n",
       "</pre>\n"
      ],
      "text/plain": [
       "\u001b[1mModel: \"sequential\"\u001b[0m\n"
      ]
     },
     "metadata": {},
     "output_type": "display_data"
    },
    {
     "data": {
      "text/html": [
       "<pre style=\"white-space:pre;overflow-x:auto;line-height:normal;font-family:Menlo,'DejaVu Sans Mono',consolas,'Courier New',monospace\">┏━━━━━━━━━━━━━━━━━━━━━━━━━━━━━━━━━┳━━━━━━━━━━━━━━━━━━━━━━━━┳━━━━━━━━━━━━━━━┓\n",
       "┃<span style=\"font-weight: bold\"> Layer (type)                    </span>┃<span style=\"font-weight: bold\"> Output Shape           </span>┃<span style=\"font-weight: bold\">       Param # </span>┃\n",
       "┡━━━━━━━━━━━━━━━━━━━━━━━━━━━━━━━━━╇━━━━━━━━━━━━━━━━━━━━━━━━╇━━━━━━━━━━━━━━━┩\n",
       "│ lstm (<span style=\"color: #0087ff; text-decoration-color: #0087ff\">LSTM</span>)                     │ (<span style=\"color: #00d7ff; text-decoration-color: #00d7ff\">None</span>, <span style=\"color: #00af00; text-decoration-color: #00af00\">132</span>, <span style=\"color: #00af00; text-decoration-color: #00af00\">128</span>)       │        <span style=\"color: #00af00; text-decoration-color: #00af00\">79,360</span> │\n",
       "├─────────────────────────────────┼────────────────────────┼───────────────┤\n",
       "│ dropout (<span style=\"color: #0087ff; text-decoration-color: #0087ff\">Dropout</span>)               │ (<span style=\"color: #00d7ff; text-decoration-color: #00d7ff\">None</span>, <span style=\"color: #00af00; text-decoration-color: #00af00\">132</span>, <span style=\"color: #00af00; text-decoration-color: #00af00\">128</span>)       │             <span style=\"color: #00af00; text-decoration-color: #00af00\">0</span> │\n",
       "├─────────────────────────────────┼────────────────────────┼───────────────┤\n",
       "│ batch_normalization             │ (<span style=\"color: #00d7ff; text-decoration-color: #00d7ff\">None</span>, <span style=\"color: #00af00; text-decoration-color: #00af00\">132</span>, <span style=\"color: #00af00; text-decoration-color: #00af00\">128</span>)       │           <span style=\"color: #00af00; text-decoration-color: #00af00\">512</span> │\n",
       "│ (<span style=\"color: #0087ff; text-decoration-color: #0087ff\">BatchNormalization</span>)            │                        │               │\n",
       "├─────────────────────────────────┼────────────────────────┼───────────────┤\n",
       "│ lstm_1 (<span style=\"color: #0087ff; text-decoration-color: #0087ff\">LSTM</span>)                   │ (<span style=\"color: #00d7ff; text-decoration-color: #00d7ff\">None</span>, <span style=\"color: #00af00; text-decoration-color: #00af00\">132</span>, <span style=\"color: #00af00; text-decoration-color: #00af00\">64</span>)        │        <span style=\"color: #00af00; text-decoration-color: #00af00\">49,408</span> │\n",
       "├─────────────────────────────────┼────────────────────────┼───────────────┤\n",
       "│ dropout_1 (<span style=\"color: #0087ff; text-decoration-color: #0087ff\">Dropout</span>)             │ (<span style=\"color: #00d7ff; text-decoration-color: #00d7ff\">None</span>, <span style=\"color: #00af00; text-decoration-color: #00af00\">132</span>, <span style=\"color: #00af00; text-decoration-color: #00af00\">64</span>)        │             <span style=\"color: #00af00; text-decoration-color: #00af00\">0</span> │\n",
       "├─────────────────────────────────┼────────────────────────┼───────────────┤\n",
       "│ batch_normalization_1           │ (<span style=\"color: #00d7ff; text-decoration-color: #00d7ff\">None</span>, <span style=\"color: #00af00; text-decoration-color: #00af00\">132</span>, <span style=\"color: #00af00; text-decoration-color: #00af00\">64</span>)        │           <span style=\"color: #00af00; text-decoration-color: #00af00\">256</span> │\n",
       "│ (<span style=\"color: #0087ff; text-decoration-color: #0087ff\">BatchNormalization</span>)            │                        │               │\n",
       "├─────────────────────────────────┼────────────────────────┼───────────────┤\n",
       "│ lstm_2 (<span style=\"color: #0087ff; text-decoration-color: #0087ff\">LSTM</span>)                   │ (<span style=\"color: #00d7ff; text-decoration-color: #00d7ff\">None</span>, <span style=\"color: #00af00; text-decoration-color: #00af00\">32</span>)             │        <span style=\"color: #00af00; text-decoration-color: #00af00\">12,416</span> │\n",
       "├─────────────────────────────────┼────────────────────────┼───────────────┤\n",
       "│ dropout_2 (<span style=\"color: #0087ff; text-decoration-color: #0087ff\">Dropout</span>)             │ (<span style=\"color: #00d7ff; text-decoration-color: #00d7ff\">None</span>, <span style=\"color: #00af00; text-decoration-color: #00af00\">32</span>)             │             <span style=\"color: #00af00; text-decoration-color: #00af00\">0</span> │\n",
       "├─────────────────────────────────┼────────────────────────┼───────────────┤\n",
       "│ dense (<span style=\"color: #0087ff; text-decoration-color: #0087ff\">Dense</span>)                   │ (<span style=\"color: #00d7ff; text-decoration-color: #00d7ff\">None</span>, <span style=\"color: #00af00; text-decoration-color: #00af00\">16</span>)             │           <span style=\"color: #00af00; text-decoration-color: #00af00\">528</span> │\n",
       "├─────────────────────────────────┼────────────────────────┼───────────────┤\n",
       "│ dropout_3 (<span style=\"color: #0087ff; text-decoration-color: #0087ff\">Dropout</span>)             │ (<span style=\"color: #00d7ff; text-decoration-color: #00d7ff\">None</span>, <span style=\"color: #00af00; text-decoration-color: #00af00\">16</span>)             │             <span style=\"color: #00af00; text-decoration-color: #00af00\">0</span> │\n",
       "├─────────────────────────────────┼────────────────────────┼───────────────┤\n",
       "│ dense_1 (<span style=\"color: #0087ff; text-decoration-color: #0087ff\">Dense</span>)                 │ (<span style=\"color: #00d7ff; text-decoration-color: #00d7ff\">None</span>, <span style=\"color: #00af00; text-decoration-color: #00af00\">1</span>)              │            <span style=\"color: #00af00; text-decoration-color: #00af00\">17</span> │\n",
       "└─────────────────────────────────┴────────────────────────┴───────────────┘\n",
       "</pre>\n"
      ],
      "text/plain": [
       "┏━━━━━━━━━━━━━━━━━━━━━━━━━━━━━━━━━┳━━━━━━━━━━━━━━━━━━━━━━━━┳━━━━━━━━━━━━━━━┓\n",
       "┃\u001b[1m \u001b[0m\u001b[1mLayer (type)                   \u001b[0m\u001b[1m \u001b[0m┃\u001b[1m \u001b[0m\u001b[1mOutput Shape          \u001b[0m\u001b[1m \u001b[0m┃\u001b[1m \u001b[0m\u001b[1m      Param #\u001b[0m\u001b[1m \u001b[0m┃\n",
       "┡━━━━━━━━━━━━━━━━━━━━━━━━━━━━━━━━━╇━━━━━━━━━━━━━━━━━━━━━━━━╇━━━━━━━━━━━━━━━┩\n",
       "│ lstm (\u001b[38;5;33mLSTM\u001b[0m)                     │ (\u001b[38;5;45mNone\u001b[0m, \u001b[38;5;34m132\u001b[0m, \u001b[38;5;34m128\u001b[0m)       │        \u001b[38;5;34m79,360\u001b[0m │\n",
       "├─────────────────────────────────┼────────────────────────┼───────────────┤\n",
       "│ dropout (\u001b[38;5;33mDropout\u001b[0m)               │ (\u001b[38;5;45mNone\u001b[0m, \u001b[38;5;34m132\u001b[0m, \u001b[38;5;34m128\u001b[0m)       │             \u001b[38;5;34m0\u001b[0m │\n",
       "├─────────────────────────────────┼────────────────────────┼───────────────┤\n",
       "│ batch_normalization             │ (\u001b[38;5;45mNone\u001b[0m, \u001b[38;5;34m132\u001b[0m, \u001b[38;5;34m128\u001b[0m)       │           \u001b[38;5;34m512\u001b[0m │\n",
       "│ (\u001b[38;5;33mBatchNormalization\u001b[0m)            │                        │               │\n",
       "├─────────────────────────────────┼────────────────────────┼───────────────┤\n",
       "│ lstm_1 (\u001b[38;5;33mLSTM\u001b[0m)                   │ (\u001b[38;5;45mNone\u001b[0m, \u001b[38;5;34m132\u001b[0m, \u001b[38;5;34m64\u001b[0m)        │        \u001b[38;5;34m49,408\u001b[0m │\n",
       "├─────────────────────────────────┼────────────────────────┼───────────────┤\n",
       "│ dropout_1 (\u001b[38;5;33mDropout\u001b[0m)             │ (\u001b[38;5;45mNone\u001b[0m, \u001b[38;5;34m132\u001b[0m, \u001b[38;5;34m64\u001b[0m)        │             \u001b[38;5;34m0\u001b[0m │\n",
       "├─────────────────────────────────┼────────────────────────┼───────────────┤\n",
       "│ batch_normalization_1           │ (\u001b[38;5;45mNone\u001b[0m, \u001b[38;5;34m132\u001b[0m, \u001b[38;5;34m64\u001b[0m)        │           \u001b[38;5;34m256\u001b[0m │\n",
       "│ (\u001b[38;5;33mBatchNormalization\u001b[0m)            │                        │               │\n",
       "├─────────────────────────────────┼────────────────────────┼───────────────┤\n",
       "│ lstm_2 (\u001b[38;5;33mLSTM\u001b[0m)                   │ (\u001b[38;5;45mNone\u001b[0m, \u001b[38;5;34m32\u001b[0m)             │        \u001b[38;5;34m12,416\u001b[0m │\n",
       "├─────────────────────────────────┼────────────────────────┼───────────────┤\n",
       "│ dropout_2 (\u001b[38;5;33mDropout\u001b[0m)             │ (\u001b[38;5;45mNone\u001b[0m, \u001b[38;5;34m32\u001b[0m)             │             \u001b[38;5;34m0\u001b[0m │\n",
       "├─────────────────────────────────┼────────────────────────┼───────────────┤\n",
       "│ dense (\u001b[38;5;33mDense\u001b[0m)                   │ (\u001b[38;5;45mNone\u001b[0m, \u001b[38;5;34m16\u001b[0m)             │           \u001b[38;5;34m528\u001b[0m │\n",
       "├─────────────────────────────────┼────────────────────────┼───────────────┤\n",
       "│ dropout_3 (\u001b[38;5;33mDropout\u001b[0m)             │ (\u001b[38;5;45mNone\u001b[0m, \u001b[38;5;34m16\u001b[0m)             │             \u001b[38;5;34m0\u001b[0m │\n",
       "├─────────────────────────────────┼────────────────────────┼───────────────┤\n",
       "│ dense_1 (\u001b[38;5;33mDense\u001b[0m)                 │ (\u001b[38;5;45mNone\u001b[0m, \u001b[38;5;34m1\u001b[0m)              │            \u001b[38;5;34m17\u001b[0m │\n",
       "└─────────────────────────────────┴────────────────────────┴───────────────┘\n"
      ]
     },
     "metadata": {},
     "output_type": "display_data"
    },
    {
     "data": {
      "text/html": [
       "<pre style=\"white-space:pre;overflow-x:auto;line-height:normal;font-family:Menlo,'DejaVu Sans Mono',consolas,'Courier New',monospace\"><span style=\"font-weight: bold\"> Total params: </span><span style=\"color: #00af00; text-decoration-color: #00af00\">142,497</span> (556.63 KB)\n",
       "</pre>\n"
      ],
      "text/plain": [
       "\u001b[1m Total params: \u001b[0m\u001b[38;5;34m142,497\u001b[0m (556.63 KB)\n"
      ]
     },
     "metadata": {},
     "output_type": "display_data"
    },
    {
     "data": {
      "text/html": [
       "<pre style=\"white-space:pre;overflow-x:auto;line-height:normal;font-family:Menlo,'DejaVu Sans Mono',consolas,'Courier New',monospace\"><span style=\"font-weight: bold\"> Trainable params: </span><span style=\"color: #00af00; text-decoration-color: #00af00\">142,113</span> (555.13 KB)\n",
       "</pre>\n"
      ],
      "text/plain": [
       "\u001b[1m Trainable params: \u001b[0m\u001b[38;5;34m142,113\u001b[0m (555.13 KB)\n"
      ]
     },
     "metadata": {},
     "output_type": "display_data"
    },
    {
     "data": {
      "text/html": [
       "<pre style=\"white-space:pre;overflow-x:auto;line-height:normal;font-family:Menlo,'DejaVu Sans Mono',consolas,'Courier New',monospace\"><span style=\"font-weight: bold\"> Non-trainable params: </span><span style=\"color: #00af00; text-decoration-color: #00af00\">384</span> (1.50 KB)\n",
       "</pre>\n"
      ],
      "text/plain": [
       "\u001b[1m Non-trainable params: \u001b[0m\u001b[38;5;34m384\u001b[0m (1.50 KB)\n"
      ]
     },
     "metadata": {},
     "output_type": "display_data"
    },
    {
     "name": "stdout",
     "output_type": "stream",
     "text": [
      "\n",
      "✓ Model configuration:\n",
      "  - LSTM layers: 3 (128 → 64 → 32 units)\n",
      "  - Dropout rate: 0.2-0.3 (prevents overfitting)\n",
      "  - L2 regularization: 0.01 (weight decay)\n",
      "  - Optimizer: Adam (learning rate = 0.001)\n",
      "  - Loss: Binary crossentropy\n"
     ]
    }
   ],
   "source": [
    "# Build model\n",
    "model = build_lstm_model(SEQUENCE_LENGTH, n_features)\n",
    "\n",
    "print(f\"✓ LSTM model architecture:\")\n",
    "model.summary()\n",
    "\n",
    "print(f\"\\n✓ Model configuration:\")\n",
    "print(f\"  - LSTM layers: 3 (128 → 64 → 32 units)\")\n",
    "print(f\"  - Dropout rate: 0.2-0.3 (prevents overfitting)\")\n",
    "print(f\"  - L2 regularization: 0.01 (weight decay)\")\n",
    "print(f\"  - Optimizer: Adam (learning rate = 0.001)\")\n",
    "print(f\"  - Loss: Binary crossentropy\")"
   ]
  },
  {
   "cell_type": "code",
   "execution_count": 55,
   "id": "a7899c77",
   "metadata": {},
   "outputs": [
    {
     "name": "stdout",
     "output_type": "stream",
     "text": [
      "\n",
      "======================================================================\n",
      "STEP 10: TRAINING WITH FINE-TUNING\n",
      "======================================================================\n"
     ]
    }
   ],
   "source": [
    "print(\"\\n\" + \"=\"*70)\n",
    "print(\"STEP 10: TRAINING WITH FINE-TUNING\")\n",
    "print(\"=\"*70)"
   ]
  },
  {
   "cell_type": "code",
   "execution_count": 56,
   "id": "ed67e544",
   "metadata": {},
   "outputs": [
    {
     "name": "stdout",
     "output_type": "stream",
     "text": [
      "✓ Callbacks configured:\n",
      "  - EarlyStopping: patience=15\n",
      "  - ReduceLROnPlateau: factor=0.5, patience=7\n",
      "  - ModelCheckpoint: save best model to 'tuba_lstm_model.h5'\n"
     ]
    }
   ],
   "source": [
    "# Define callbacks for fine-tuning\n",
    "callbacks = [\n",
    "    # Early stopping - stop if validation loss doesn't improve\n",
    "    EarlyStopping(\n",
    "        monitor='val_loss',\n",
    "        patience=15,  # Wait 15 epochs before stopping\n",
    "        restore_best_weights=True,\n",
    "        verbose=1\n",
    "    ),\n",
    "    \n",
    "    # Reduce learning rate when learning plateaus\n",
    "    ReduceLROnPlateau(\n",
    "        monitor='val_loss',\n",
    "        factor=0.5,  # Reduce LR by half\n",
    "        patience=7,  # Wait 7 epochs before reducing\n",
    "        min_lr=1e-6,\n",
    "        verbose=1\n",
    "    ),\n",
    "    \n",
    "    # Save best model\n",
    "    ModelCheckpoint(\n",
    "        'tuba_lstm_model.h5',\n",
    "        monitor='val_accuracy',\n",
    "        save_best_only=True,\n",
    "        verbose=1\n",
    "    )\n",
    "]\n",
    "\n",
    "print(f\"✓ Callbacks configured:\")\n",
    "print(f\"  - EarlyStopping: patience=15\")\n",
    "print(f\"  - ReduceLROnPlateau: factor=0.5, patience=7\")\n",
    "print(f\"  - ModelCheckpoint: save best model to 'tuba_lstm_model.h5'\")"
   ]
  },
  {
   "cell_type": "code",
   "execution_count": 57,
   "id": "59bae81a",
   "metadata": {},
   "outputs": [
    {
     "name": "stdout",
     "output_type": "stream",
     "text": [
      "\n",
      "Starting training...\n",
      "======================================================================\n",
      "Epoch 1/100\n",
      "\u001b[1m2/2\u001b[0m \u001b[32m━━━━━━━━━━━━━━━━━━━━\u001b[0m\u001b[37m\u001b[0m \u001b[1m0s\u001b[0m 87ms/step - accuracy: 0.7717 - auc: 0.5320 - loss: 6.1830 - precision: 0.2500 - recall: 0.2000      \n",
      "Epoch 1: val_accuracy improved from -inf to 1.00000, saving model to tuba_lstm_model.h5\n"
     ]
    },
    {
     "name": "stderr",
     "output_type": "stream",
     "text": [
      "WARNING:absl:You are saving your model as an HDF5 file via `model.save()` or `keras.saving.save_model(model)`. This file format is considered legacy. We recommend using instead the native Keras format, e.g. `model.save('my_model.keras')` or `keras.saving.save_model(model, 'my_model.keras')`. \n"
     ]
    },
    {
     "name": "stdout",
     "output_type": "stream",
     "text": [
      "\u001b[1m2/2\u001b[0m \u001b[32m━━━━━━━━━━━━━━━━━━━━\u001b[0m\u001b[37m\u001b[0m \u001b[1m6s\u001b[0m 907ms/step - accuracy: 0.7893 - auc: 0.5834 - loss: 6.1703 - precision: 0.3333 - recall: 0.2667 - val_accuracy: 1.0000 - val_auc: 1.0000 - val_loss: 6.0015 - val_precision: 1.0000 - val_recall: 1.0000 - learning_rate: 0.0010\n",
      "Epoch 2/100\n",
      "\u001b[1m2/2\u001b[0m \u001b[32m━━━━━━━━━━━━━━━━━━━━\u001b[0m\u001b[37m\u001b[0m \u001b[1m0s\u001b[0m 86ms/step - accuracy: 0.9668 - auc: 0.9920 - loss: 5.8278 - precision: 0.9500 - recall: 0.8500\n",
      "Epoch 2: val_accuracy did not improve from 1.00000\n",
      "\u001b[1m2/2\u001b[0m \u001b[32m━━━━━━━━━━━━━━━━━━━━\u001b[0m\u001b[37m\u001b[0m \u001b[1m0s\u001b[0m 146ms/step - accuracy: 0.9662 - auc: 0.9919 - loss: 5.8237 - precision: 0.9333 - recall: 0.8667 - val_accuracy: 1.0000 - val_auc: 1.0000 - val_loss: 5.8077 - val_precision: 1.0000 - val_recall: 1.0000 - learning_rate: 0.0010\n",
      "Epoch 3/100\n",
      "\u001b[1m2/2\u001b[0m \u001b[32m━━━━━━━━━━━━━━━━━━━━\u001b[0m\u001b[37m\u001b[0m \u001b[1m0s\u001b[0m 75ms/step - accuracy: 0.9756 - auc: 1.0000 - loss: 5.6105 - precision: 0.8712 - recall: 1.0000\n",
      "Epoch 3: val_accuracy did not improve from 1.00000\n",
      "\u001b[1m2/2\u001b[0m \u001b[32m━━━━━━━━━━━━━━━━━━━━\u001b[0m\u001b[37m\u001b[0m \u001b[1m0s\u001b[0m 157ms/step - accuracy: 0.9779 - auc: 1.0000 - loss: 5.6084 - precision: 0.8838 - recall: 1.0000 - val_accuracy: 1.0000 - val_auc: 1.0000 - val_loss: 5.6161 - val_precision: 1.0000 - val_recall: 1.0000 - learning_rate: 0.0010\n",
      "Epoch 4/100\n",
      "\u001b[1m2/2\u001b[0m \u001b[32m━━━━━━━━━━━━━━━━━━━━\u001b[0m\u001b[37m\u001b[0m \u001b[1m0s\u001b[0m 74ms/step - accuracy: 0.9912 - auc: 1.0000 - loss: 5.4358 - precision: 1.0000 - recall: 0.9500 \n",
      "Epoch 4: val_accuracy did not improve from 1.00000\n",
      "\u001b[1m2/2\u001b[0m \u001b[32m━━━━━━━━━━━━━━━━━━━━\u001b[0m\u001b[37m\u001b[0m \u001b[1m0s\u001b[0m 144ms/step - accuracy: 0.9883 - auc: 1.0000 - loss: 5.4346 - precision: 1.0000 - recall: 0.9333 - val_accuracy: 1.0000 - val_auc: 1.0000 - val_loss: 5.4292 - val_precision: 1.0000 - val_recall: 1.0000 - learning_rate: 0.0010\n",
      "Epoch 5/100\n",
      "\u001b[1m2/2\u001b[0m \u001b[32m━━━━━━━━━━━━━━━━━━━━\u001b[0m\u001b[37m\u001b[0m \u001b[1m0s\u001b[0m 79ms/step - accuracy: 1.0000 - auc: 1.0000 - loss: 5.2743 - precision: 1.0000 - recall: 1.0000\n",
      "Epoch 5: val_accuracy did not improve from 1.00000\n",
      "\u001b[1m2/2\u001b[0m \u001b[32m━━━━━━━━━━━━━━━━━━━━\u001b[0m\u001b[37m\u001b[0m \u001b[1m0s\u001b[0m 149ms/step - accuracy: 1.0000 - auc: 1.0000 - loss: 5.2643 - precision: 1.0000 - recall: 1.0000 - val_accuracy: 1.0000 - val_auc: 1.0000 - val_loss: 5.2526 - val_precision: 1.0000 - val_recall: 1.0000 - learning_rate: 0.0010\n",
      "Epoch 6/100\n",
      "\u001b[1m2/2\u001b[0m \u001b[32m━━━━━━━━━━━━━━━━━━━━\u001b[0m\u001b[37m\u001b[0m \u001b[1m0s\u001b[0m 65ms/step - accuracy: 1.0000 - auc: 1.0000 - loss: 5.0523 - precision: 1.0000 - recall: 1.0000\n",
      "Epoch 6: val_accuracy did not improve from 1.00000\n",
      "\u001b[1m2/2\u001b[0m \u001b[32m━━━━━━━━━━━━━━━━━━━━\u001b[0m\u001b[37m\u001b[0m \u001b[1m0s\u001b[0m 134ms/step - accuracy: 1.0000 - auc: 1.0000 - loss: 5.0547 - precision: 1.0000 - recall: 1.0000 - val_accuracy: 1.0000 - val_auc: 1.0000 - val_loss: 5.0825 - val_precision: 1.0000 - val_recall: 1.0000 - learning_rate: 0.0010\n",
      "Epoch 7/100\n",
      "\u001b[1m2/2\u001b[0m \u001b[32m━━━━━━━━━━━━━━━━━━━━\u001b[0m\u001b[37m\u001b[0m \u001b[1m0s\u001b[0m 72ms/step - accuracy: 1.0000 - auc: 1.0000 - loss: 4.8214 - precision: 1.0000 - recall: 1.0000\n",
      "Epoch 7: val_accuracy did not improve from 1.00000\n",
      "\u001b[1m2/2\u001b[0m \u001b[32m━━━━━━━━━━━━━━━━━━━━\u001b[0m\u001b[37m\u001b[0m \u001b[1m0s\u001b[0m 141ms/step - accuracy: 1.0000 - auc: 1.0000 - loss: 4.8186 - precision: 1.0000 - recall: 1.0000 - val_accuracy: 1.0000 - val_auc: 1.0000 - val_loss: 4.9071 - val_precision: 1.0000 - val_recall: 1.0000 - learning_rate: 0.0010\n",
      "Epoch 8/100\n",
      "\u001b[1m2/2\u001b[0m \u001b[32m━━━━━━━━━━━━━━━━━━━━\u001b[0m\u001b[37m\u001b[0m \u001b[1m0s\u001b[0m 72ms/step - accuracy: 1.0000 - auc: 1.0000 - loss: 4.6973 - precision: 1.0000 - recall: 1.0000\n",
      "Epoch 8: val_accuracy did not improve from 1.00000\n",
      "\u001b[1m2/2\u001b[0m \u001b[32m━━━━━━━━━━━━━━━━━━━━\u001b[0m\u001b[37m\u001b[0m \u001b[1m0s\u001b[0m 134ms/step - accuracy: 1.0000 - auc: 1.0000 - loss: 4.6961 - precision: 1.0000 - recall: 1.0000 - val_accuracy: 1.0000 - val_auc: 1.0000 - val_loss: 4.7305 - val_precision: 1.0000 - val_recall: 1.0000 - learning_rate: 0.0010\n",
      "Epoch 9/100\n",
      "\u001b[1m2/2\u001b[0m \u001b[32m━━━━━━━━━━━━━━━━━━━━\u001b[0m\u001b[37m\u001b[0m \u001b[1m0s\u001b[0m 87ms/step - accuracy: 1.0000 - auc: 1.0000 - loss: 4.5523 - precision: 1.0000 - recall: 1.0000\n",
      "Epoch 9: val_accuracy did not improve from 1.00000\n",
      "\u001b[1m2/2\u001b[0m \u001b[32m━━━━━━━━━━━━━━━━━━━━\u001b[0m\u001b[37m\u001b[0m \u001b[1m0s\u001b[0m 152ms/step - accuracy: 1.0000 - auc: 1.0000 - loss: 4.5482 - precision: 1.0000 - recall: 1.0000 - val_accuracy: 1.0000 - val_auc: 1.0000 - val_loss: 4.5620 - val_precision: 1.0000 - val_recall: 1.0000 - learning_rate: 0.0010\n",
      "Epoch 10/100\n",
      "\u001b[1m2/2\u001b[0m \u001b[32m━━━━━━━━━━━━━━━━━━━━\u001b[0m\u001b[37m\u001b[0m \u001b[1m0s\u001b[0m 68ms/step - accuracy: 0.9756 - auc: 1.0000 - loss: 4.4057 - precision: 1.0000 - recall: 0.8500 \n",
      "Epoch 10: val_accuracy did not improve from 1.00000\n",
      "\u001b[1m2/2\u001b[0m \u001b[32m━━━━━━━━━━━━━━━━━━━━\u001b[0m\u001b[37m\u001b[0m \u001b[1m0s\u001b[0m 139ms/step - accuracy: 0.9779 - auc: 1.0000 - loss: 4.4001 - precision: 1.0000 - recall: 0.8667 - val_accuracy: 1.0000 - val_auc: 1.0000 - val_loss: 4.4007 - val_precision: 1.0000 - val_recall: 1.0000 - learning_rate: 0.0010\n",
      "Epoch 11/100\n",
      "\u001b[1m2/2\u001b[0m \u001b[32m━━━━━━━━━━━━━━━━━━━━\u001b[0m\u001b[37m\u001b[0m \u001b[1m0s\u001b[0m 64ms/step - accuracy: 1.0000 - auc: 1.0000 - loss: 4.2250 - precision: 1.0000 - recall: 1.0000\n",
      "Epoch 11: val_accuracy did not improve from 1.00000\n",
      "\u001b[1m2/2\u001b[0m \u001b[32m━━━━━━━━━━━━━━━━━━━━\u001b[0m\u001b[37m\u001b[0m \u001b[1m0s\u001b[0m 140ms/step - accuracy: 1.0000 - auc: 1.0000 - loss: 4.2229 - precision: 1.0000 - recall: 1.0000 - val_accuracy: 1.0000 - val_auc: 1.0000 - val_loss: 4.2476 - val_precision: 1.0000 - val_recall: 1.0000 - learning_rate: 0.0010\n",
      "Epoch 12/100\n",
      "\u001b[1m2/2\u001b[0m \u001b[32m━━━━━━━━━━━━━━━━━━━━\u001b[0m\u001b[37m\u001b[0m \u001b[1m0s\u001b[0m 60ms/step - accuracy: 0.9912 - auc: 1.0000 - loss: 4.1094 - precision: 0.9545 - recall: 1.0000 \n",
      "Epoch 12: val_accuracy did not improve from 1.00000\n",
      "\u001b[1m2/2\u001b[0m \u001b[32m━━━━━━━━━━━━━━━━━━━━\u001b[0m\u001b[37m\u001b[0m \u001b[1m0s\u001b[0m 131ms/step - accuracy: 0.9883 - auc: 1.0000 - loss: 4.1032 - precision: 0.9394 - recall: 1.0000 - val_accuracy: 1.0000 - val_auc: 1.0000 - val_loss: 4.1009 - val_precision: 1.0000 - val_recall: 1.0000 - learning_rate: 0.0010\n",
      "Epoch 13/100\n",
      "\u001b[1m2/2\u001b[0m \u001b[32m━━━━━━━━━━━━━━━━━━━━\u001b[0m\u001b[37m\u001b[0m \u001b[1m0s\u001b[0m 71ms/step - accuracy: 1.0000 - auc: 1.0000 - loss: 3.9538 - precision: 1.0000 - recall: 1.0000 \n",
      "Epoch 13: val_accuracy did not improve from 1.00000\n",
      "\u001b[1m2/2\u001b[0m \u001b[32m━━━━━━━━━━━━━━━━━━━━\u001b[0m\u001b[37m\u001b[0m \u001b[1m0s\u001b[0m 141ms/step - accuracy: 1.0000 - auc: 1.0000 - loss: 3.9478 - precision: 1.0000 - recall: 1.0000 - val_accuracy: 1.0000 - val_auc: 1.0000 - val_loss: 3.9588 - val_precision: 1.0000 - val_recall: 1.0000 - learning_rate: 0.0010\n",
      "Epoch 14/100\n",
      "\u001b[1m2/2\u001b[0m \u001b[32m━━━━━━━━━━━━━━━━━━━━\u001b[0m\u001b[37m\u001b[0m \u001b[1m0s\u001b[0m 63ms/step - accuracy: 1.0000 - auc: 1.0000 - loss: 3.7970 - precision: 1.0000 - recall: 1.0000\n",
      "Epoch 14: val_accuracy did not improve from 1.00000\n",
      "\u001b[1m2/2\u001b[0m \u001b[32m━━━━━━━━━━━━━━━━━━━━\u001b[0m\u001b[37m\u001b[0m \u001b[1m0s\u001b[0m 136ms/step - accuracy: 1.0000 - auc: 1.0000 - loss: 3.7907 - precision: 1.0000 - recall: 1.0000 - val_accuracy: 1.0000 - val_auc: 1.0000 - val_loss: 3.8167 - val_precision: 1.0000 - val_recall: 1.0000 - learning_rate: 0.0010\n",
      "Epoch 15/100\n",
      "\u001b[1m2/2\u001b[0m \u001b[32m━━━━━━━━━━━━━━━━━━━━\u001b[0m\u001b[37m\u001b[0m \u001b[1m0s\u001b[0m 71ms/step - accuracy: 1.0000 - auc: 1.0000 - loss: 3.6414 - precision: 1.0000 - recall: 1.0000\n",
      "Epoch 15: val_accuracy did not improve from 1.00000\n",
      "\u001b[1m2/2\u001b[0m \u001b[32m━━━━━━━━━━━━━━━━━━━━\u001b[0m\u001b[37m\u001b[0m \u001b[1m0s\u001b[0m 141ms/step - accuracy: 1.0000 - auc: 1.0000 - loss: 3.6408 - precision: 1.0000 - recall: 1.0000 - val_accuracy: 1.0000 - val_auc: 1.0000 - val_loss: 3.6766 - val_precision: 1.0000 - val_recall: 1.0000 - learning_rate: 0.0010\n",
      "Epoch 16/100\n",
      "\u001b[1m2/2\u001b[0m \u001b[32m━━━━━━━━━━━━━━━━━━━━\u001b[0m\u001b[37m\u001b[0m \u001b[1m0s\u001b[0m 74ms/step - accuracy: 1.0000 - auc: 1.0000 - loss: 3.5425 - precision: 1.0000 - recall: 1.0000\n",
      "Epoch 16: val_accuracy did not improve from 1.00000\n",
      "\u001b[1m2/2\u001b[0m \u001b[32m━━━━━━━━━━━━━━━━━━━━\u001b[0m\u001b[37m\u001b[0m \u001b[1m0s\u001b[0m 134ms/step - accuracy: 1.0000 - auc: 1.0000 - loss: 3.5384 - precision: 1.0000 - recall: 1.0000 - val_accuracy: 1.0000 - val_auc: 1.0000 - val_loss: 3.5437 - val_precision: 1.0000 - val_recall: 1.0000 - learning_rate: 0.0010\n",
      "Epoch 17/100\n",
      "\u001b[1m2/2\u001b[0m \u001b[32m━━━━━━━━━━━━━━━━━━━━\u001b[0m\u001b[37m\u001b[0m \u001b[1m0s\u001b[0m 79ms/step - accuracy: 1.0000 - auc: 1.0000 - loss: 3.4191 - precision: 1.0000 - recall: 1.0000\n",
      "Epoch 17: val_accuracy did not improve from 1.00000\n",
      "\u001b[1m2/2\u001b[0m \u001b[32m━━━━━━━━━━━━━━━━━━━━\u001b[0m\u001b[37m\u001b[0m \u001b[1m0s\u001b[0m 152ms/step - accuracy: 1.0000 - auc: 1.0000 - loss: 3.4187 - precision: 1.0000 - recall: 1.0000 - val_accuracy: 1.0000 - val_auc: 1.0000 - val_loss: 3.4192 - val_precision: 1.0000 - val_recall: 1.0000 - learning_rate: 0.0010\n",
      "Epoch 18/100\n",
      "\u001b[1m2/2\u001b[0m \u001b[32m━━━━━━━━━━━━━━━━━━━━\u001b[0m\u001b[37m\u001b[0m \u001b[1m0s\u001b[0m 71ms/step - accuracy: 1.0000 - auc: 1.0000 - loss: 3.3432 - precision: 1.0000 - recall: 1.0000\n",
      "Epoch 18: val_accuracy did not improve from 1.00000\n",
      "\u001b[1m2/2\u001b[0m \u001b[32m━━━━━━━━━━━━━━━━━━━━\u001b[0m\u001b[37m\u001b[0m \u001b[1m0s\u001b[0m 143ms/step - accuracy: 1.0000 - auc: 1.0000 - loss: 3.3341 - precision: 1.0000 - recall: 1.0000 - val_accuracy: 1.0000 - val_auc: 1.0000 - val_loss: 3.3032 - val_precision: 1.0000 - val_recall: 1.0000 - learning_rate: 0.0010\n",
      "Epoch 19/100\n",
      "\u001b[1m2/2\u001b[0m \u001b[32m━━━━━━━━━━━━━━━━━━━━\u001b[0m\u001b[37m\u001b[0m \u001b[1m0s\u001b[0m 79ms/step - accuracy: 1.0000 - auc: 1.0000 - loss: 3.2094 - precision: 1.0000 - recall: 1.0000\n",
      "Epoch 19: val_accuracy did not improve from 1.00000\n",
      "\u001b[1m2/2\u001b[0m \u001b[32m━━━━━━━━━━━━━━━━━━━━\u001b[0m\u001b[37m\u001b[0m \u001b[1m0s\u001b[0m 147ms/step - accuracy: 1.0000 - auc: 1.0000 - loss: 3.2064 - precision: 1.0000 - recall: 1.0000 - val_accuracy: 1.0000 - val_auc: 1.0000 - val_loss: 3.1928 - val_precision: 1.0000 - val_recall: 1.0000 - learning_rate: 0.0010\n",
      "Epoch 20/100\n",
      "\u001b[1m2/2\u001b[0m \u001b[32m━━━━━━━━━━━━━━━━━━━━\u001b[0m\u001b[37m\u001b[0m \u001b[1m0s\u001b[0m 64ms/step - accuracy: 1.0000 - auc: 1.0000 - loss: 3.0555 - precision: 1.0000 - recall: 1.0000\n",
      "Epoch 20: val_accuracy did not improve from 1.00000\n",
      "\u001b[1m2/2\u001b[0m \u001b[32m━━━━━━━━━━━━━━━━━━━━\u001b[0m\u001b[37m\u001b[0m \u001b[1m0s\u001b[0m 129ms/step - accuracy: 1.0000 - auc: 1.0000 - loss: 3.0546 - precision: 1.0000 - recall: 1.0000 - val_accuracy: 1.0000 - val_auc: 1.0000 - val_loss: 3.0865 - val_precision: 1.0000 - val_recall: 1.0000 - learning_rate: 0.0010\n",
      "Epoch 21/100\n",
      "\u001b[1m2/2\u001b[0m \u001b[32m━━━━━━━━━━━━━━━━━━━━\u001b[0m\u001b[37m\u001b[0m \u001b[1m0s\u001b[0m 73ms/step - accuracy: 1.0000 - auc: 1.0000 - loss: 2.9356 - precision: 1.0000 - recall: 1.0000\n",
      "Epoch 21: val_accuracy did not improve from 1.00000\n",
      "\u001b[1m2/2\u001b[0m \u001b[32m━━━━━━━━━━━━━━━━━━━━\u001b[0m\u001b[37m\u001b[0m \u001b[1m0s\u001b[0m 143ms/step - accuracy: 1.0000 - auc: 1.0000 - loss: 2.9358 - precision: 1.0000 - recall: 1.0000 - val_accuracy: 1.0000 - val_auc: 1.0000 - val_loss: 2.9831 - val_precision: 1.0000 - val_recall: 1.0000 - learning_rate: 0.0010\n",
      "Epoch 22/100\n",
      "\u001b[1m2/2\u001b[0m \u001b[32m━━━━━━━━━━━━━━━━━━━━\u001b[0m\u001b[37m\u001b[0m \u001b[1m0s\u001b[0m 73ms/step - accuracy: 1.0000 - auc: 1.0000 - loss: 2.8317 - precision: 1.0000 - recall: 1.0000\n",
      "Epoch 22: val_accuracy did not improve from 1.00000\n",
      "\u001b[1m2/2\u001b[0m \u001b[32m━━━━━━━━━━━━━━━━━━━━\u001b[0m\u001b[37m\u001b[0m \u001b[1m0s\u001b[0m 141ms/step - accuracy: 1.0000 - auc: 1.0000 - loss: 2.8323 - precision: 1.0000 - recall: 1.0000 - val_accuracy: 1.0000 - val_auc: 1.0000 - val_loss: 2.8795 - val_precision: 1.0000 - val_recall: 1.0000 - learning_rate: 0.0010\n",
      "Epoch 23/100\n",
      "\u001b[1m2/2\u001b[0m \u001b[32m━━━━━━━━━━━━━━━━━━━━\u001b[0m\u001b[37m\u001b[0m \u001b[1m0s\u001b[0m 61ms/step - accuracy: 0.9912 - auc: 1.0000 - loss: 2.7683 - precision: 1.0000 - recall: 0.9500 \n",
      "Epoch 23: val_accuracy did not improve from 1.00000\n",
      "\u001b[1m2/2\u001b[0m \u001b[32m━━━━━━━━━━━━━━━━━━━━\u001b[0m\u001b[37m\u001b[0m \u001b[1m0s\u001b[0m 137ms/step - accuracy: 0.9883 - auc: 1.0000 - loss: 2.7701 - precision: 1.0000 - recall: 0.9333 - val_accuracy: 1.0000 - val_auc: 1.0000 - val_loss: 2.7796 - val_precision: 1.0000 - val_recall: 1.0000 - learning_rate: 0.0010\n",
      "Epoch 24/100\n",
      "\u001b[1m2/2\u001b[0m \u001b[32m━━━━━━━━━━━━━━━━━━━━\u001b[0m\u001b[37m\u001b[0m \u001b[1m0s\u001b[0m 71ms/step - accuracy: 1.0000 - auc: 1.0000 - loss: 2.6215 - precision: 1.0000 - recall: 1.0000\n",
      "Epoch 24: val_accuracy did not improve from 1.00000\n",
      "\u001b[1m2/2\u001b[0m \u001b[32m━━━━━━━━━━━━━━━━━━━━\u001b[0m\u001b[37m\u001b[0m \u001b[1m0s\u001b[0m 146ms/step - accuracy: 1.0000 - auc: 1.0000 - loss: 2.6196 - precision: 1.0000 - recall: 1.0000 - val_accuracy: 1.0000 - val_auc: 1.0000 - val_loss: 2.6868 - val_precision: 1.0000 - val_recall: 1.0000 - learning_rate: 0.0010\n",
      "Epoch 25/100\n",
      "\u001b[1m2/2\u001b[0m \u001b[32m━━━━━━━━━━━━━━━━━━━━\u001b[0m\u001b[37m\u001b[0m \u001b[1m0s\u001b[0m 60ms/step - accuracy: 1.0000 - auc: 1.0000 - loss: 2.5392 - precision: 1.0000 - recall: 1.0000\n",
      "Epoch 25: val_accuracy did not improve from 1.00000\n",
      "\u001b[1m2/2\u001b[0m \u001b[32m━━━━━━━━━━━━━━━━━━━━\u001b[0m\u001b[37m\u001b[0m \u001b[1m0s\u001b[0m 138ms/step - accuracy: 1.0000 - auc: 1.0000 - loss: 2.5358 - precision: 1.0000 - recall: 1.0000 - val_accuracy: 1.0000 - val_auc: 1.0000 - val_loss: 2.6004 - val_precision: 1.0000 - val_recall: 1.0000 - learning_rate: 0.0010\n",
      "Epoch 26/100\n",
      "\u001b[1m2/2\u001b[0m \u001b[32m━━━━━━━━━━━━━━━━━━━━\u001b[0m\u001b[37m\u001b[0m \u001b[1m0s\u001b[0m 74ms/step - accuracy: 1.0000 - auc: 1.0000 - loss: 2.4588 - precision: 1.0000 - recall: 1.0000\n",
      "Epoch 26: val_accuracy did not improve from 1.00000\n",
      "\u001b[1m2/2\u001b[0m \u001b[32m━━━━━━━━━━━━━━━━━━━━\u001b[0m\u001b[37m\u001b[0m \u001b[1m0s\u001b[0m 132ms/step - accuracy: 1.0000 - auc: 1.0000 - loss: 2.4556 - precision: 1.0000 - recall: 1.0000 - val_accuracy: 1.0000 - val_auc: 1.0000 - val_loss: 2.5188 - val_precision: 1.0000 - val_recall: 1.0000 - learning_rate: 0.0010\n",
      "Epoch 27/100\n",
      "\u001b[1m2/2\u001b[0m \u001b[32m━━━━━━━━━━━━━━━━━━━━\u001b[0m\u001b[37m\u001b[0m \u001b[1m0s\u001b[0m 69ms/step - accuracy: 1.0000 - auc: 1.0000 - loss: 2.3757 - precision: 1.0000 - recall: 1.0000\n",
      "Epoch 27: val_accuracy did not improve from 1.00000\n",
      "\u001b[1m2/2\u001b[0m \u001b[32m━━━━━━━━━━━━━━━━━━━━\u001b[0m\u001b[37m\u001b[0m \u001b[1m0s\u001b[0m 138ms/step - accuracy: 1.0000 - auc: 1.0000 - loss: 2.3785 - precision: 1.0000 - recall: 1.0000 - val_accuracy: 1.0000 - val_auc: 1.0000 - val_loss: 2.4438 - val_precision: 1.0000 - val_recall: 1.0000 - learning_rate: 0.0010\n",
      "Epoch 28/100\n",
      "\u001b[1m2/2\u001b[0m \u001b[32m━━━━━━━━━━━━━━━━━━━━\u001b[0m\u001b[37m\u001b[0m \u001b[1m0s\u001b[0m 72ms/step - accuracy: 1.0000 - auc: 1.0000 - loss: 2.3087 - precision: 1.0000 - recall: 1.0000\n",
      "Epoch 28: val_accuracy did not improve from 1.00000\n",
      "\u001b[1m2/2\u001b[0m \u001b[32m━━━━━━━━━━━━━━━━━━━━\u001b[0m\u001b[37m\u001b[0m \u001b[1m0s\u001b[0m 127ms/step - accuracy: 1.0000 - auc: 1.0000 - loss: 2.3079 - precision: 1.0000 - recall: 1.0000 - val_accuracy: 1.0000 - val_auc: 1.0000 - val_loss: 2.3747 - val_precision: 1.0000 - val_recall: 1.0000 - learning_rate: 0.0010\n",
      "Epoch 29/100\n",
      "\u001b[1m2/2\u001b[0m \u001b[32m━━━━━━━━━━━━━━━━━━━━\u001b[0m\u001b[37m\u001b[0m \u001b[1m0s\u001b[0m 65ms/step - accuracy: 1.0000 - auc: 1.0000 - loss: 2.2026 - precision: 1.0000 - recall: 1.0000\n",
      "Epoch 29: val_accuracy did not improve from 1.00000\n",
      "\u001b[1m2/2\u001b[0m \u001b[32m━━━━━━━━━━━━━━━━━━━━\u001b[0m\u001b[37m\u001b[0m \u001b[1m0s\u001b[0m 144ms/step - accuracy: 1.0000 - auc: 1.0000 - loss: 2.2006 - precision: 1.0000 - recall: 1.0000 - val_accuracy: 1.0000 - val_auc: 1.0000 - val_loss: 2.3035 - val_precision: 1.0000 - val_recall: 1.0000 - learning_rate: 0.0010\n",
      "Epoch 30/100\n",
      "\u001b[1m2/2\u001b[0m \u001b[32m━━━━━━━━━━━━━━━━━━━━\u001b[0m\u001b[37m\u001b[0m \u001b[1m0s\u001b[0m 83ms/step - accuracy: 1.0000 - auc: 1.0000 - loss: 2.1530 - precision: 1.0000 - recall: 1.0000\n",
      "Epoch 30: val_accuracy did not improve from 1.00000\n",
      "\u001b[1m2/2\u001b[0m \u001b[32m━━━━━━━━━━━━━━━━━━━━\u001b[0m\u001b[37m\u001b[0m \u001b[1m0s\u001b[0m 147ms/step - accuracy: 1.0000 - auc: 1.0000 - loss: 2.1544 - precision: 1.0000 - recall: 1.0000 - val_accuracy: 1.0000 - val_auc: 1.0000 - val_loss: 2.2239 - val_precision: 1.0000 - val_recall: 1.0000 - learning_rate: 0.0010\n",
      "Epoch 31/100\n",
      "\u001b[1m2/2\u001b[0m \u001b[32m━━━━━━━━━━━━━━━━━━━━\u001b[0m\u001b[37m\u001b[0m \u001b[1m0s\u001b[0m 66ms/step - accuracy: 1.0000 - auc: 1.0000 - loss: 2.0778 - precision: 1.0000 - recall: 1.0000 \n",
      "Epoch 31: val_accuracy did not improve from 1.00000\n",
      "\u001b[1m2/2\u001b[0m \u001b[32m━━━━━━━━━━━━━━━━━━━━\u001b[0m\u001b[37m\u001b[0m \u001b[1m0s\u001b[0m 136ms/step - accuracy: 1.0000 - auc: 1.0000 - loss: 2.0797 - precision: 1.0000 - recall: 1.0000 - val_accuracy: 1.0000 - val_auc: 1.0000 - val_loss: 2.1472 - val_precision: 1.0000 - val_recall: 1.0000 - learning_rate: 0.0010\n",
      "Epoch 32/100\n",
      "\u001b[1m2/2\u001b[0m \u001b[32m━━━━━━━━━━━━━━━━━━━━\u001b[0m\u001b[37m\u001b[0m \u001b[1m0s\u001b[0m 77ms/step - accuracy: 1.0000 - auc: 1.0000 - loss: 2.0047 - precision: 1.0000 - recall: 1.0000\n",
      "Epoch 32: val_accuracy did not improve from 1.00000\n",
      "\u001b[1m2/2\u001b[0m \u001b[32m━━━━━━━━━━━━━━━━━━━━\u001b[0m\u001b[37m\u001b[0m \u001b[1m0s\u001b[0m 144ms/step - accuracy: 1.0000 - auc: 1.0000 - loss: 2.0049 - precision: 1.0000 - recall: 1.0000 - val_accuracy: 1.0000 - val_auc: 1.0000 - val_loss: 2.0829 - val_precision: 1.0000 - val_recall: 1.0000 - learning_rate: 0.0010\n",
      "Epoch 33/100\n",
      "\u001b[1m2/2\u001b[0m \u001b[32m━━━━━━━━━━━━━━━━━━━━\u001b[0m\u001b[37m\u001b[0m \u001b[1m0s\u001b[0m 69ms/step - accuracy: 1.0000 - auc: 1.0000 - loss: 1.9272 - precision: 1.0000 - recall: 1.0000 \n",
      "Epoch 33: val_accuracy did not improve from 1.00000\n",
      "\u001b[1m2/2\u001b[0m \u001b[32m━━━━━━━━━━━━━━━━━━━━\u001b[0m\u001b[37m\u001b[0m \u001b[1m0s\u001b[0m 141ms/step - accuracy: 1.0000 - auc: 1.0000 - loss: 1.9252 - precision: 1.0000 - recall: 1.0000 - val_accuracy: 1.0000 - val_auc: 1.0000 - val_loss: 2.0269 - val_precision: 1.0000 - val_recall: 1.0000 - learning_rate: 0.0010\n",
      "Epoch 34/100\n",
      "\u001b[1m2/2\u001b[0m \u001b[32m━━━━━━━━━━━━━━━━━━━━\u001b[0m\u001b[37m\u001b[0m \u001b[1m0s\u001b[0m 68ms/step - accuracy: 1.0000 - auc: 1.0000 - loss: 1.8709 - precision: 1.0000 - recall: 1.0000\n",
      "Epoch 34: val_accuracy did not improve from 1.00000\n",
      "\u001b[1m2/2\u001b[0m \u001b[32m━━━━━━━━━━━━━━━━━━━━\u001b[0m\u001b[37m\u001b[0m \u001b[1m0s\u001b[0m 134ms/step - accuracy: 1.0000 - auc: 1.0000 - loss: 1.8667 - precision: 1.0000 - recall: 1.0000 - val_accuracy: 1.0000 - val_auc: 1.0000 - val_loss: 1.9680 - val_precision: 1.0000 - val_recall: 1.0000 - learning_rate: 0.0010\n",
      "Epoch 35/100\n",
      "\u001b[1m2/2\u001b[0m \u001b[32m━━━━━━━━━━━━━━━━━━━━\u001b[0m\u001b[37m\u001b[0m \u001b[1m0s\u001b[0m 67ms/step - accuracy: 1.0000 - auc: 1.0000 - loss: 1.7936 - precision: 1.0000 - recall: 1.0000 \n",
      "Epoch 35: val_accuracy did not improve from 1.00000\n",
      "\u001b[1m2/2\u001b[0m \u001b[32m━━━━━━━━━━━━━━━━━━━━\u001b[0m\u001b[37m\u001b[0m \u001b[1m0s\u001b[0m 139ms/step - accuracy: 1.0000 - auc: 1.0000 - loss: 1.7933 - precision: 1.0000 - recall: 1.0000 - val_accuracy: 1.0000 - val_auc: 1.0000 - val_loss: 1.9054 - val_precision: 1.0000 - val_recall: 1.0000 - learning_rate: 0.0010\n",
      "Epoch 36/100\n",
      "\u001b[1m2/2\u001b[0m \u001b[32m━━━━━━━━━━━━━━━━━━━━\u001b[0m\u001b[37m\u001b[0m \u001b[1m0s\u001b[0m 69ms/step - accuracy: 1.0000 - auc: 1.0000 - loss: 1.7584 - precision: 1.0000 - recall: 1.0000\n",
      "Epoch 36: val_accuracy did not improve from 1.00000\n",
      "\u001b[1m2/2\u001b[0m \u001b[32m━━━━━━━━━━━━━━━━━━━━\u001b[0m\u001b[37m\u001b[0m \u001b[1m0s\u001b[0m 127ms/step - accuracy: 1.0000 - auc: 1.0000 - loss: 1.7609 - precision: 1.0000 - recall: 1.0000 - val_accuracy: 1.0000 - val_auc: 1.0000 - val_loss: 1.8405 - val_precision: 1.0000 - val_recall: 1.0000 - learning_rate: 0.0010\n",
      "Epoch 37/100\n",
      "\u001b[1m2/2\u001b[0m \u001b[32m━━━━━━━━━━━━━━━━━━━━\u001b[0m\u001b[37m\u001b[0m \u001b[1m0s\u001b[0m 68ms/step - accuracy: 1.0000 - auc: 1.0000 - loss: 1.6826 - precision: 1.0000 - recall: 1.0000\n",
      "Epoch 37: val_accuracy did not improve from 1.00000\n",
      "\u001b[1m2/2\u001b[0m \u001b[32m━━━━━━━━━━━━━━━━━━━━\u001b[0m\u001b[37m\u001b[0m \u001b[1m0s\u001b[0m 133ms/step - accuracy: 1.0000 - auc: 1.0000 - loss: 1.6804 - precision: 1.0000 - recall: 1.0000 - val_accuracy: 1.0000 - val_auc: 1.0000 - val_loss: 1.7833 - val_precision: 1.0000 - val_recall: 1.0000 - learning_rate: 0.0010\n",
      "Epoch 38/100\n",
      "\u001b[1m2/2\u001b[0m \u001b[32m━━━━━━━━━━━━━━━━━━━━\u001b[0m\u001b[37m\u001b[0m \u001b[1m0s\u001b[0m 71ms/step - accuracy: 1.0000 - auc: 1.0000 - loss: 1.6542 - precision: 1.0000 - recall: 1.0000\n",
      "Epoch 38: val_accuracy did not improve from 1.00000\n",
      "\u001b[1m2/2\u001b[0m \u001b[32m━━━━━━━━━━━━━━━━━━━━\u001b[0m\u001b[37m\u001b[0m \u001b[1m0s\u001b[0m 137ms/step - accuracy: 1.0000 - auc: 1.0000 - loss: 1.6558 - precision: 1.0000 - recall: 1.0000 - val_accuracy: 1.0000 - val_auc: 1.0000 - val_loss: 1.7346 - val_precision: 1.0000 - val_recall: 1.0000 - learning_rate: 0.0010\n",
      "Epoch 39/100\n",
      "\u001b[1m2/2\u001b[0m \u001b[32m━━━━━━━━━━━━━━━━━━━━\u001b[0m\u001b[37m\u001b[0m \u001b[1m0s\u001b[0m 65ms/step - accuracy: 1.0000 - auc: 1.0000 - loss: 1.5742 - precision: 1.0000 - recall: 1.0000\n",
      "Epoch 39: val_accuracy did not improve from 1.00000\n",
      "\u001b[1m2/2\u001b[0m \u001b[32m━━━━━━━━━━━━━━━━━━━━\u001b[0m\u001b[37m\u001b[0m \u001b[1m0s\u001b[0m 132ms/step - accuracy: 1.0000 - auc: 1.0000 - loss: 1.5727 - precision: 1.0000 - recall: 1.0000 - val_accuracy: 1.0000 - val_auc: 1.0000 - val_loss: 1.6909 - val_precision: 1.0000 - val_recall: 1.0000 - learning_rate: 0.0010\n",
      "Epoch 40/100\n",
      "\u001b[1m2/2\u001b[0m \u001b[32m━━━━━━━━━━━━━━━━━━━━\u001b[0m\u001b[37m\u001b[0m \u001b[1m0s\u001b[0m 81ms/step - accuracy: 1.0000 - auc: 1.0000 - loss: 1.5250 - precision: 1.0000 - recall: 1.0000\n",
      "Epoch 40: val_accuracy did not improve from 1.00000\n",
      "\u001b[1m2/2\u001b[0m \u001b[32m━━━━━━━━━━━━━━━━━━━━\u001b[0m\u001b[37m\u001b[0m \u001b[1m0s\u001b[0m 153ms/step - accuracy: 1.0000 - auc: 1.0000 - loss: 1.5273 - precision: 1.0000 - recall: 1.0000 - val_accuracy: 1.0000 - val_auc: 1.0000 - val_loss: 1.6442 - val_precision: 1.0000 - val_recall: 1.0000 - learning_rate: 0.0010\n",
      "Epoch 41/100\n",
      "\u001b[1m2/2\u001b[0m \u001b[32m━━━━━━━━━━━━━━━━━━━━\u001b[0m\u001b[37m\u001b[0m \u001b[1m0s\u001b[0m 65ms/step - accuracy: 1.0000 - auc: 1.0000 - loss: 1.4784 - precision: 1.0000 - recall: 1.0000\n",
      "Epoch 41: val_accuracy did not improve from 1.00000\n",
      "\u001b[1m2/2\u001b[0m \u001b[32m━━━━━━━━━━━━━━━━━━━━\u001b[0m\u001b[37m\u001b[0m \u001b[1m0s\u001b[0m 135ms/step - accuracy: 1.0000 - auc: 1.0000 - loss: 1.4769 - precision: 1.0000 - recall: 1.0000 - val_accuracy: 1.0000 - val_auc: 1.0000 - val_loss: 1.5852 - val_precision: 1.0000 - val_recall: 1.0000 - learning_rate: 0.0010\n",
      "Epoch 42/100\n",
      "\u001b[1m2/2\u001b[0m \u001b[32m━━━━━━━━━━━━━━━━━━━━\u001b[0m\u001b[37m\u001b[0m \u001b[1m0s\u001b[0m 68ms/step - accuracy: 1.0000 - auc: 1.0000 - loss: 1.4570 - precision: 1.0000 - recall: 1.0000\n",
      "Epoch 42: val_accuracy did not improve from 1.00000\n",
      "\u001b[1m2/2\u001b[0m \u001b[32m━━━━━━━━━━━━━━━━━━━━\u001b[0m\u001b[37m\u001b[0m \u001b[1m0s\u001b[0m 129ms/step - accuracy: 1.0000 - auc: 1.0000 - loss: 1.4535 - precision: 1.0000 - recall: 1.0000 - val_accuracy: 1.0000 - val_auc: 1.0000 - val_loss: 1.5298 - val_precision: 1.0000 - val_recall: 1.0000 - learning_rate: 0.0010\n",
      "Epoch 43/100\n",
      "\u001b[1m2/2\u001b[0m \u001b[32m━━━━━━━━━━━━━━━━━━━━\u001b[0m\u001b[37m\u001b[0m \u001b[1m0s\u001b[0m 68ms/step - accuracy: 1.0000 - auc: 1.0000 - loss: 1.4092 - precision: 1.0000 - recall: 1.0000 \n",
      "Epoch 43: val_accuracy did not improve from 1.00000\n",
      "\u001b[1m2/2\u001b[0m \u001b[32m━━━━━━━━━━━━━━━━━━━━\u001b[0m\u001b[37m\u001b[0m \u001b[1m0s\u001b[0m 124ms/step - accuracy: 1.0000 - auc: 1.0000 - loss: 1.4061 - precision: 1.0000 - recall: 1.0000 - val_accuracy: 1.0000 - val_auc: 1.0000 - val_loss: 1.4848 - val_precision: 1.0000 - val_recall: 1.0000 - learning_rate: 0.0010\n",
      "Epoch 44/100\n",
      "\u001b[1m2/2\u001b[0m \u001b[32m━━━━━━━━━━━━━━━━━━━━\u001b[0m\u001b[37m\u001b[0m \u001b[1m0s\u001b[0m 70ms/step - accuracy: 1.0000 - auc: 1.0000 - loss: 1.3400 - precision: 1.0000 - recall: 1.0000\n",
      "Epoch 44: val_accuracy did not improve from 1.00000\n",
      "\u001b[1m2/2\u001b[0m \u001b[32m━━━━━━━━━━━━━━━━━━━━\u001b[0m\u001b[37m\u001b[0m \u001b[1m0s\u001b[0m 135ms/step - accuracy: 1.0000 - auc: 1.0000 - loss: 1.3376 - precision: 1.0000 - recall: 1.0000 - val_accuracy: 1.0000 - val_auc: 1.0000 - val_loss: 1.4453 - val_precision: 1.0000 - val_recall: 1.0000 - learning_rate: 0.0010\n",
      "Epoch 45/100\n",
      "\u001b[1m2/2\u001b[0m \u001b[32m━━━━━━━━━━━━━━━━━━━━\u001b[0m\u001b[37m\u001b[0m \u001b[1m0s\u001b[0m 66ms/step - accuracy: 1.0000 - auc: 1.0000 - loss: 1.3261 - precision: 1.0000 - recall: 1.0000 \n",
      "Epoch 45: val_accuracy did not improve from 1.00000\n",
      "\u001b[1m2/2\u001b[0m \u001b[32m━━━━━━━━━━━━━━━━━━━━\u001b[0m\u001b[37m\u001b[0m \u001b[1m0s\u001b[0m 125ms/step - accuracy: 1.0000 - auc: 1.0000 - loss: 1.3208 - precision: 1.0000 - recall: 1.0000 - val_accuracy: 1.0000 - val_auc: 1.0000 - val_loss: 1.4076 - val_precision: 1.0000 - val_recall: 1.0000 - learning_rate: 0.0010\n",
      "Epoch 46/100\n",
      "\u001b[1m2/2\u001b[0m \u001b[32m━━━━━━━━━━━━━━━━━━━━\u001b[0m\u001b[37m\u001b[0m \u001b[1m0s\u001b[0m 75ms/step - accuracy: 1.0000 - auc: 1.0000 - loss: 1.2748 - precision: 1.0000 - recall: 1.0000\n",
      "Epoch 46: val_accuracy did not improve from 1.00000\n",
      "\u001b[1m2/2\u001b[0m \u001b[32m━━━━━━━━━━━━━━━━━━━━\u001b[0m\u001b[37m\u001b[0m \u001b[1m0s\u001b[0m 149ms/step - accuracy: 1.0000 - auc: 1.0000 - loss: 1.2717 - precision: 1.0000 - recall: 1.0000 - val_accuracy: 1.0000 - val_auc: 1.0000 - val_loss: 1.3715 - val_precision: 1.0000 - val_recall: 1.0000 - learning_rate: 0.0010\n",
      "Epoch 47/100\n",
      "\u001b[1m2/2\u001b[0m \u001b[32m━━━━━━━━━━━━━━━━━━━━\u001b[0m\u001b[37m\u001b[0m \u001b[1m0s\u001b[0m 63ms/step - accuracy: 1.0000 - auc: 1.0000 - loss: 1.2182 - precision: 1.0000 - recall: 1.0000\n",
      "Epoch 47: val_accuracy did not improve from 1.00000\n",
      "\u001b[1m2/2\u001b[0m \u001b[32m━━━━━━━━━━━━━━━━━━━━\u001b[0m\u001b[37m\u001b[0m \u001b[1m0s\u001b[0m 142ms/step - accuracy: 1.0000 - auc: 1.0000 - loss: 1.2165 - precision: 1.0000 - recall: 1.0000 - val_accuracy: 1.0000 - val_auc: 1.0000 - val_loss: 1.3402 - val_precision: 1.0000 - val_recall: 1.0000 - learning_rate: 0.0010\n",
      "Epoch 48/100\n",
      "\u001b[1m2/2\u001b[0m \u001b[32m━━━━━━━━━━━━━━━━━━━━\u001b[0m\u001b[37m\u001b[0m \u001b[1m0s\u001b[0m 58ms/step - accuracy: 1.0000 - auc: 1.0000 - loss: 1.1733 - precision: 1.0000 - recall: 1.0000\n",
      "Epoch 48: val_accuracy did not improve from 1.00000\n",
      "\u001b[1m2/2\u001b[0m \u001b[32m━━━━━━━━━━━━━━━━━━━━\u001b[0m\u001b[37m\u001b[0m \u001b[1m0s\u001b[0m 126ms/step - accuracy: 1.0000 - auc: 1.0000 - loss: 1.1715 - precision: 1.0000 - recall: 1.0000 - val_accuracy: 1.0000 - val_auc: 1.0000 - val_loss: 1.3100 - val_precision: 1.0000 - val_recall: 1.0000 - learning_rate: 0.0010\n",
      "Epoch 49/100\n",
      "\u001b[1m2/2\u001b[0m \u001b[32m━━━━━━━━━━━━━━━━━━━━\u001b[0m\u001b[37m\u001b[0m \u001b[1m0s\u001b[0m 66ms/step - accuracy: 1.0000 - auc: 1.0000 - loss: 1.1519 - precision: 1.0000 - recall: 1.0000\n",
      "Epoch 49: val_accuracy did not improve from 1.00000\n",
      "\u001b[1m2/2\u001b[0m \u001b[32m━━━━━━━━━━━━━━━━━━━━\u001b[0m\u001b[37m\u001b[0m \u001b[1m0s\u001b[0m 140ms/step - accuracy: 1.0000 - auc: 1.0000 - loss: 1.1561 - precision: 1.0000 - recall: 1.0000 - val_accuracy: 1.0000 - val_auc: 1.0000 - val_loss: 1.2748 - val_precision: 1.0000 - val_recall: 1.0000 - learning_rate: 0.0010\n",
      "Epoch 50/100\n",
      "\u001b[1m2/2\u001b[0m \u001b[32m━━━━━━━━━━━━━━━━━━━━\u001b[0m\u001b[37m\u001b[0m \u001b[1m0s\u001b[0m 68ms/step - accuracy: 1.0000 - auc: 1.0000 - loss: 1.1142 - precision: 1.0000 - recall: 1.0000\n",
      "Epoch 50: val_accuracy did not improve from 1.00000\n",
      "\u001b[1m2/2\u001b[0m \u001b[32m━━━━━━━━━━━━━━━━━━━━\u001b[0m\u001b[37m\u001b[0m \u001b[1m0s\u001b[0m 138ms/step - accuracy: 1.0000 - auc: 1.0000 - loss: 1.1131 - precision: 1.0000 - recall: 1.0000 - val_accuracy: 1.0000 - val_auc: 1.0000 - val_loss: 1.2388 - val_precision: 1.0000 - val_recall: 1.0000 - learning_rate: 0.0010\n",
      "Epoch 51/100\n",
      "\u001b[1m2/2\u001b[0m \u001b[32m━━━━━━━━━━━━━━━━━━━━\u001b[0m\u001b[37m\u001b[0m \u001b[1m0s\u001b[0m 66ms/step - accuracy: 1.0000 - auc: 1.0000 - loss: 1.0960 - precision: 1.0000 - recall: 1.0000\n",
      "Epoch 51: val_accuracy did not improve from 1.00000\n",
      "\u001b[1m2/2\u001b[0m \u001b[32m━━━━━━━━━━━━━━━━━━━━\u001b[0m\u001b[37m\u001b[0m \u001b[1m0s\u001b[0m 126ms/step - accuracy: 1.0000 - auc: 1.0000 - loss: 1.0912 - precision: 1.0000 - recall: 1.0000 - val_accuracy: 1.0000 - val_auc: 1.0000 - val_loss: 1.2045 - val_precision: 1.0000 - val_recall: 1.0000 - learning_rate: 0.0010\n",
      "Epoch 52/100\n",
      "\u001b[1m2/2\u001b[0m \u001b[32m━━━━━━━━━━━━━━━━━━━━\u001b[0m\u001b[37m\u001b[0m \u001b[1m0s\u001b[0m 62ms/step - accuracy: 1.0000 - auc: 1.0000 - loss: 1.0535 - precision: 1.0000 - recall: 1.0000\n",
      "Epoch 52: val_accuracy did not improve from 1.00000\n",
      "\u001b[1m2/2\u001b[0m \u001b[32m━━━━━━━━━━━━━━━━━━━━\u001b[0m\u001b[37m\u001b[0m \u001b[1m0s\u001b[0m 131ms/step - accuracy: 1.0000 - auc: 1.0000 - loss: 1.0551 - precision: 1.0000 - recall: 1.0000 - val_accuracy: 1.0000 - val_auc: 1.0000 - val_loss: 1.1718 - val_precision: 1.0000 - val_recall: 1.0000 - learning_rate: 0.0010\n",
      "Epoch 53/100\n",
      "\u001b[1m2/2\u001b[0m \u001b[32m━━━━━━━━━━━━━━━━━━━━\u001b[0m\u001b[37m\u001b[0m \u001b[1m0s\u001b[0m 65ms/step - accuracy: 1.0000 - auc: 1.0000 - loss: 1.0038 - precision: 1.0000 - recall: 1.0000\n",
      "Epoch 53: val_accuracy did not improve from 1.00000\n",
      "\u001b[1m2/2\u001b[0m \u001b[32m━━━━━━━━━━━━━━━━━━━━\u001b[0m\u001b[37m\u001b[0m \u001b[1m0s\u001b[0m 123ms/step - accuracy: 1.0000 - auc: 1.0000 - loss: 1.0027 - precision: 1.0000 - recall: 1.0000 - val_accuracy: 1.0000 - val_auc: 1.0000 - val_loss: 1.1448 - val_precision: 1.0000 - val_recall: 1.0000 - learning_rate: 0.0010\n",
      "Epoch 54/100\n",
      "\u001b[1m2/2\u001b[0m \u001b[32m━━━━━━━━━━━━━━━━━━━━\u001b[0m\u001b[37m\u001b[0m \u001b[1m0s\u001b[0m 65ms/step - accuracy: 1.0000 - auc: 1.0000 - loss: 1.0054 - precision: 1.0000 - recall: 1.0000\n",
      "Epoch 54: val_accuracy did not improve from 1.00000\n",
      "\u001b[1m2/2\u001b[0m \u001b[32m━━━━━━━━━━━━━━━━━━━━\u001b[0m\u001b[37m\u001b[0m \u001b[1m0s\u001b[0m 126ms/step - accuracy: 1.0000 - auc: 1.0000 - loss: 1.0023 - precision: 1.0000 - recall: 1.0000 - val_accuracy: 1.0000 - val_auc: 1.0000 - val_loss: 1.1201 - val_precision: 1.0000 - val_recall: 1.0000 - learning_rate: 0.0010\n",
      "Epoch 55/100\n",
      "\u001b[1m2/2\u001b[0m \u001b[32m━━━━━━━━━━━━━━━━━━━━\u001b[0m\u001b[37m\u001b[0m \u001b[1m0s\u001b[0m 70ms/step - accuracy: 1.0000 - auc: 1.0000 - loss: 0.9557 - precision: 1.0000 - recall: 1.0000\n",
      "Epoch 55: val_accuracy did not improve from 1.00000\n",
      "\u001b[1m2/2\u001b[0m \u001b[32m━━━━━━━━━━━━━━━━━━━━\u001b[0m\u001b[37m\u001b[0m \u001b[1m0s\u001b[0m 132ms/step - accuracy: 1.0000 - auc: 1.0000 - loss: 0.9584 - precision: 1.0000 - recall: 1.0000 - val_accuracy: 1.0000 - val_auc: 1.0000 - val_loss: 1.0921 - val_precision: 1.0000 - val_recall: 1.0000 - learning_rate: 0.0010\n",
      "Epoch 56/100\n",
      "\u001b[1m2/2\u001b[0m \u001b[32m━━━━━━━━━━━━━━━━━━━━\u001b[0m\u001b[37m\u001b[0m \u001b[1m0s\u001b[0m 65ms/step - accuracy: 1.0000 - auc: 1.0000 - loss: 0.9485 - precision: 1.0000 - recall: 1.0000\n",
      "Epoch 56: val_accuracy did not improve from 1.00000\n",
      "\u001b[1m2/2\u001b[0m \u001b[32m━━━━━━━━━━━━━━━━━━━━\u001b[0m\u001b[37m\u001b[0m \u001b[1m0s\u001b[0m 131ms/step - accuracy: 1.0000 - auc: 1.0000 - loss: 0.9500 - precision: 1.0000 - recall: 1.0000 - val_accuracy: 1.0000 - val_auc: 1.0000 - val_loss: 1.0623 - val_precision: 1.0000 - val_recall: 1.0000 - learning_rate: 0.0010\n",
      "Epoch 57/100\n",
      "\u001b[1m2/2\u001b[0m \u001b[32m━━━━━━━━━━━━━━━━━━━━\u001b[0m\u001b[37m\u001b[0m \u001b[1m0s\u001b[0m 63ms/step - accuracy: 1.0000 - auc: 1.0000 - loss: 0.9078 - precision: 1.0000 - recall: 1.0000\n",
      "Epoch 57: val_accuracy did not improve from 1.00000\n",
      "\u001b[1m2/2\u001b[0m \u001b[32m━━━━━━━━━━━━━━━━━━━━\u001b[0m\u001b[37m\u001b[0m \u001b[1m0s\u001b[0m 132ms/step - accuracy: 1.0000 - auc: 1.0000 - loss: 0.9102 - precision: 1.0000 - recall: 1.0000 - val_accuracy: 1.0000 - val_auc: 1.0000 - val_loss: 1.0291 - val_precision: 1.0000 - val_recall: 1.0000 - learning_rate: 0.0010\n",
      "Epoch 58/100\n",
      "\u001b[1m2/2\u001b[0m \u001b[32m━━━━━━━━━━━━━━━━━━━━\u001b[0m\u001b[37m\u001b[0m \u001b[1m0s\u001b[0m 69ms/step - accuracy: 1.0000 - auc: 1.0000 - loss: 0.8618 - precision: 1.0000 - recall: 1.0000\n",
      "Epoch 58: val_accuracy did not improve from 1.00000\n",
      "\u001b[1m2/2\u001b[0m \u001b[32m━━━━━━━━━━━━━━━━━━━━\u001b[0m\u001b[37m\u001b[0m \u001b[1m0s\u001b[0m 134ms/step - accuracy: 1.0000 - auc: 1.0000 - loss: 0.8622 - precision: 1.0000 - recall: 1.0000 - val_accuracy: 1.0000 - val_auc: 1.0000 - val_loss: 0.9985 - val_precision: 1.0000 - val_recall: 1.0000 - learning_rate: 0.0010\n",
      "Epoch 59/100\n",
      "\u001b[1m2/2\u001b[0m \u001b[32m━━━━━━━━━━━━━━━━━━━━\u001b[0m\u001b[37m\u001b[0m \u001b[1m0s\u001b[0m 66ms/step - accuracy: 1.0000 - auc: 1.0000 - loss: 0.8438 - precision: 1.0000 - recall: 1.0000\n",
      "Epoch 59: val_accuracy did not improve from 1.00000\n",
      "\u001b[1m2/2\u001b[0m \u001b[32m━━━━━━━━━━━━━━━━━━━━\u001b[0m\u001b[37m\u001b[0m \u001b[1m0s\u001b[0m 133ms/step - accuracy: 1.0000 - auc: 1.0000 - loss: 0.8431 - precision: 1.0000 - recall: 1.0000 - val_accuracy: 1.0000 - val_auc: 1.0000 - val_loss: 0.9754 - val_precision: 1.0000 - val_recall: 1.0000 - learning_rate: 0.0010\n",
      "Epoch 60/100\n",
      "\u001b[1m2/2\u001b[0m \u001b[32m━━━━━━━━━━━━━━━━━━━━\u001b[0m\u001b[37m\u001b[0m \u001b[1m0s\u001b[0m 66ms/step - accuracy: 1.0000 - auc: 1.0000 - loss: 0.8222 - precision: 1.0000 - recall: 1.0000\n",
      "Epoch 60: val_accuracy did not improve from 1.00000\n",
      "\u001b[1m2/2\u001b[0m \u001b[32m━━━━━━━━━━━━━━━━━━━━\u001b[0m\u001b[37m\u001b[0m \u001b[1m0s\u001b[0m 156ms/step - accuracy: 1.0000 - auc: 1.0000 - loss: 0.8224 - precision: 1.0000 - recall: 1.0000 - val_accuracy: 1.0000 - val_auc: 1.0000 - val_loss: 0.9572 - val_precision: 1.0000 - val_recall: 1.0000 - learning_rate: 0.0010\n",
      "Epoch 61/100\n",
      "\u001b[1m2/2\u001b[0m \u001b[32m━━━━━━━━━━━━━━━━━━━━\u001b[0m\u001b[37m\u001b[0m \u001b[1m0s\u001b[0m 75ms/step - accuracy: 1.0000 - auc: 1.0000 - loss: 0.7885 - precision: 1.0000 - recall: 1.0000 \n",
      "Epoch 61: val_accuracy did not improve from 1.00000\n",
      "\u001b[1m2/2\u001b[0m \u001b[32m━━━━━━━━━━━━━━━━━━━━\u001b[0m\u001b[37m\u001b[0m \u001b[1m0s\u001b[0m 158ms/step - accuracy: 1.0000 - auc: 1.0000 - loss: 0.7877 - precision: 1.0000 - recall: 1.0000 - val_accuracy: 1.0000 - val_auc: 1.0000 - val_loss: 0.9337 - val_precision: 1.0000 - val_recall: 1.0000 - learning_rate: 0.0010\n",
      "Epoch 62/100\n",
      "\u001b[1m2/2\u001b[0m \u001b[32m━━━━━━━━━━━━━━━━━━━━\u001b[0m\u001b[37m\u001b[0m \u001b[1m0s\u001b[0m 81ms/step - accuracy: 1.0000 - auc: 1.0000 - loss: 0.7597 - precision: 1.0000 - recall: 1.0000 \n",
      "Epoch 62: val_accuracy did not improve from 1.00000\n",
      "\u001b[1m2/2\u001b[0m \u001b[32m━━━━━━━━━━━━━━━━━━━━\u001b[0m\u001b[37m\u001b[0m \u001b[1m0s\u001b[0m 159ms/step - accuracy: 1.0000 - auc: 1.0000 - loss: 0.7593 - precision: 1.0000 - recall: 1.0000 - val_accuracy: 1.0000 - val_auc: 1.0000 - val_loss: 0.9080 - val_precision: 1.0000 - val_recall: 1.0000 - learning_rate: 0.0010\n",
      "Epoch 63/100\n",
      "\u001b[1m2/2\u001b[0m \u001b[32m━━━━━━━━━━━━━━━━━━━━\u001b[0m\u001b[37m\u001b[0m \u001b[1m0s\u001b[0m 74ms/step - accuracy: 1.0000 - auc: 1.0000 - loss: 0.7475 - precision: 1.0000 - recall: 1.0000 \n",
      "Epoch 63: val_accuracy did not improve from 1.00000\n",
      "\u001b[1m2/2\u001b[0m \u001b[32m━━━━━━━━━━━━━━━━━━━━\u001b[0m\u001b[37m\u001b[0m \u001b[1m0s\u001b[0m 148ms/step - accuracy: 1.0000 - auc: 1.0000 - loss: 0.7467 - precision: 1.0000 - recall: 1.0000 - val_accuracy: 1.0000 - val_auc: 1.0000 - val_loss: 0.8816 - val_precision: 1.0000 - val_recall: 1.0000 - learning_rate: 0.0010\n",
      "Epoch 64/100\n",
      "\u001b[1m2/2\u001b[0m \u001b[32m━━━━━━━━━━━━━━━━━━━━\u001b[0m\u001b[37m\u001b[0m \u001b[1m0s\u001b[0m 71ms/step - accuracy: 1.0000 - auc: 1.0000 - loss: 0.7387 - precision: 1.0000 - recall: 1.0000\n",
      "Epoch 64: val_accuracy did not improve from 1.00000\n",
      "\u001b[1m2/2\u001b[0m \u001b[32m━━━━━━━━━━━━━━━━━━━━\u001b[0m\u001b[37m\u001b[0m \u001b[1m0s\u001b[0m 141ms/step - accuracy: 1.0000 - auc: 1.0000 - loss: 0.7428 - precision: 1.0000 - recall: 1.0000 - val_accuracy: 1.0000 - val_auc: 1.0000 - val_loss: 0.8566 - val_precision: 1.0000 - val_recall: 1.0000 - learning_rate: 0.0010\n",
      "Epoch 65/100\n",
      "\u001b[1m2/2\u001b[0m \u001b[32m━━━━━━━━━━━━━━━━━━━━\u001b[0m\u001b[37m\u001b[0m \u001b[1m0s\u001b[0m 76ms/step - accuracy: 1.0000 - auc: 1.0000 - loss: 0.7025 - precision: 1.0000 - recall: 1.0000 \n",
      "Epoch 65: val_accuracy did not improve from 1.00000\n",
      "\u001b[1m2/2\u001b[0m \u001b[32m━━━━━━━━━━━━━━━━━━━━\u001b[0m\u001b[37m\u001b[0m \u001b[1m0s\u001b[0m 174ms/step - accuracy: 1.0000 - auc: 1.0000 - loss: 0.7033 - precision: 1.0000 - recall: 1.0000 - val_accuracy: 1.0000 - val_auc: 1.0000 - val_loss: 0.8342 - val_precision: 1.0000 - val_recall: 1.0000 - learning_rate: 0.0010\n",
      "Epoch 66/100\n",
      "\u001b[1m2/2\u001b[0m \u001b[32m━━━━━━━━━━━━━━━━━━━━\u001b[0m\u001b[37m\u001b[0m \u001b[1m0s\u001b[0m 71ms/step - accuracy: 1.0000 - auc: 1.0000 - loss: 0.6853 - precision: 1.0000 - recall: 1.0000 \n",
      "Epoch 66: val_accuracy did not improve from 1.00000\n",
      "\u001b[1m2/2\u001b[0m \u001b[32m━━━━━━━━━━━━━━━━━━━━\u001b[0m\u001b[37m\u001b[0m \u001b[1m0s\u001b[0m 143ms/step - accuracy: 1.0000 - auc: 1.0000 - loss: 0.6851 - precision: 1.0000 - recall: 1.0000 - val_accuracy: 1.0000 - val_auc: 1.0000 - val_loss: 0.8126 - val_precision: 1.0000 - val_recall: 1.0000 - learning_rate: 0.0010\n",
      "Epoch 67/100\n",
      "\u001b[1m2/2\u001b[0m \u001b[32m━━━━━━━━━━━━━━━━━━━━\u001b[0m\u001b[37m\u001b[0m \u001b[1m0s\u001b[0m 66ms/step - accuracy: 1.0000 - auc: 1.0000 - loss: 0.6773 - precision: 1.0000 - recall: 1.0000\n",
      "Epoch 67: val_accuracy did not improve from 1.00000\n",
      "\u001b[1m2/2\u001b[0m \u001b[32m━━━━━━━━━━━━━━━━━━━━\u001b[0m\u001b[37m\u001b[0m \u001b[1m0s\u001b[0m 135ms/step - accuracy: 1.0000 - auc: 1.0000 - loss: 0.6775 - precision: 1.0000 - recall: 1.0000 - val_accuracy: 1.0000 - val_auc: 1.0000 - val_loss: 0.7936 - val_precision: 1.0000 - val_recall: 1.0000 - learning_rate: 0.0010\n",
      "Epoch 68/100\n",
      "\u001b[1m2/2\u001b[0m \u001b[32m━━━━━━━━━━━━━━━━━━━━\u001b[0m\u001b[37m\u001b[0m \u001b[1m0s\u001b[0m 68ms/step - accuracy: 1.0000 - auc: 1.0000 - loss: 0.6600 - precision: 1.0000 - recall: 1.0000\n",
      "Epoch 68: val_accuracy did not improve from 1.00000\n",
      "\u001b[1m2/2\u001b[0m \u001b[32m━━━━━━━━━━━━━━━━━━━━\u001b[0m\u001b[37m\u001b[0m \u001b[1m0s\u001b[0m 167ms/step - accuracy: 1.0000 - auc: 1.0000 - loss: 0.6627 - precision: 1.0000 - recall: 1.0000 - val_accuracy: 1.0000 - val_auc: 1.0000 - val_loss: 0.7752 - val_precision: 1.0000 - val_recall: 1.0000 - learning_rate: 0.0010\n",
      "Epoch 69/100\n",
      "\u001b[1m2/2\u001b[0m \u001b[32m━━━━━━━━━━━━━━━━━━━━\u001b[0m\u001b[37m\u001b[0m \u001b[1m0s\u001b[0m 105ms/step - accuracy: 1.0000 - auc: 1.0000 - loss: 0.6501 - precision: 1.0000 - recall: 1.0000\n",
      "Epoch 69: val_accuracy did not improve from 1.00000\n",
      "\u001b[1m2/2\u001b[0m \u001b[32m━━━━━━━━━━━━━━━━━━━━\u001b[0m\u001b[37m\u001b[0m \u001b[1m0s\u001b[0m 216ms/step - accuracy: 1.0000 - auc: 1.0000 - loss: 0.6542 - precision: 1.0000 - recall: 1.0000 - val_accuracy: 1.0000 - val_auc: 1.0000 - val_loss: 0.7544 - val_precision: 1.0000 - val_recall: 1.0000 - learning_rate: 0.0010\n",
      "Epoch 70/100\n",
      "\u001b[1m2/2\u001b[0m \u001b[32m━━━━━━━━━━━━━━━━━━━━\u001b[0m\u001b[37m\u001b[0m \u001b[1m0s\u001b[0m 101ms/step - accuracy: 1.0000 - auc: 1.0000 - loss: 0.6140 - precision: 1.0000 - recall: 1.0000\n",
      "Epoch 70: val_accuracy did not improve from 1.00000\n",
      "\u001b[1m2/2\u001b[0m \u001b[32m━━━━━━━━━━━━━━━━━━━━\u001b[0m\u001b[37m\u001b[0m \u001b[1m0s\u001b[0m 210ms/step - accuracy: 1.0000 - auc: 1.0000 - loss: 0.6139 - precision: 1.0000 - recall: 1.0000 - val_accuracy: 1.0000 - val_auc: 1.0000 - val_loss: 0.7350 - val_precision: 1.0000 - val_recall: 1.0000 - learning_rate: 0.0010\n",
      "Epoch 71/100\n",
      "\u001b[1m2/2\u001b[0m \u001b[32m━━━━━━━━━━━━━━━━━━━━\u001b[0m\u001b[37m\u001b[0m \u001b[1m0s\u001b[0m 98ms/step - accuracy: 1.0000 - auc: 1.0000 - loss: 0.6033 - precision: 1.0000 - recall: 1.0000 \n",
      "Epoch 71: val_accuracy did not improve from 1.00000\n",
      "\u001b[1m2/2\u001b[0m \u001b[32m━━━━━━━━━━━━━━━━━━━━\u001b[0m\u001b[37m\u001b[0m \u001b[1m0s\u001b[0m 223ms/step - accuracy: 1.0000 - auc: 1.0000 - loss: 0.6033 - precision: 1.0000 - recall: 1.0000 - val_accuracy: 1.0000 - val_auc: 1.0000 - val_loss: 0.7164 - val_precision: 1.0000 - val_recall: 1.0000 - learning_rate: 0.0010\n",
      "Epoch 72/100\n",
      "\u001b[1m2/2\u001b[0m \u001b[32m━━━━━━━━━━━━━━━━━━━━\u001b[0m\u001b[37m\u001b[0m \u001b[1m0s\u001b[0m 108ms/step - accuracy: 1.0000 - auc: 1.0000 - loss: 0.5806 - precision: 1.0000 - recall: 1.0000\n",
      "Epoch 72: val_accuracy did not improve from 1.00000\n",
      "\u001b[1m2/2\u001b[0m \u001b[32m━━━━━━━━━━━━━━━━━━━━\u001b[0m\u001b[37m\u001b[0m \u001b[1m0s\u001b[0m 225ms/step - accuracy: 1.0000 - auc: 1.0000 - loss: 0.5827 - precision: 1.0000 - recall: 1.0000 - val_accuracy: 1.0000 - val_auc: 1.0000 - val_loss: 0.6981 - val_precision: 1.0000 - val_recall: 1.0000 - learning_rate: 0.0010\n",
      "Epoch 73/100\n",
      "\u001b[1m2/2\u001b[0m \u001b[32m━━━━━━━━━━━━━━━━━━━━\u001b[0m\u001b[37m\u001b[0m \u001b[1m0s\u001b[0m 107ms/step - accuracy: 1.0000 - auc: 1.0000 - loss: 0.5924 - precision: 1.0000 - recall: 1.0000\n",
      "Epoch 73: val_accuracy did not improve from 1.00000\n",
      "\u001b[1m2/2\u001b[0m \u001b[32m━━━━━━━━━━━━━━━━━━━━\u001b[0m\u001b[37m\u001b[0m \u001b[1m0s\u001b[0m 215ms/step - accuracy: 1.0000 - auc: 1.0000 - loss: 0.5910 - precision: 1.0000 - recall: 1.0000 - val_accuracy: 1.0000 - val_auc: 1.0000 - val_loss: 0.6777 - val_precision: 1.0000 - val_recall: 1.0000 - learning_rate: 0.0010\n",
      "Epoch 74/100\n",
      "\u001b[1m2/2\u001b[0m \u001b[32m━━━━━━━━━━━━━━━━━━━━\u001b[0m\u001b[37m\u001b[0m \u001b[1m0s\u001b[0m 114ms/step - accuracy: 1.0000 - auc: 1.0000 - loss: 0.5512 - precision: 1.0000 - recall: 1.0000\n",
      "Epoch 74: val_accuracy did not improve from 1.00000\n",
      "\u001b[1m2/2\u001b[0m \u001b[32m━━━━━━━━━━━━━━━━━━━━\u001b[0m\u001b[37m\u001b[0m \u001b[1m0s\u001b[0m 225ms/step - accuracy: 1.0000 - auc: 1.0000 - loss: 0.5516 - precision: 1.0000 - recall: 1.0000 - val_accuracy: 1.0000 - val_auc: 1.0000 - val_loss: 0.6580 - val_precision: 1.0000 - val_recall: 1.0000 - learning_rate: 0.0010\n",
      "Epoch 75/100\n",
      "\u001b[1m2/2\u001b[0m \u001b[32m━━━━━━━━━━━━━━━━━━━━\u001b[0m\u001b[37m\u001b[0m \u001b[1m0s\u001b[0m 115ms/step - accuracy: 1.0000 - auc: 1.0000 - loss: 0.5431 - precision: 1.0000 - recall: 1.0000\n",
      "Epoch 75: val_accuracy did not improve from 1.00000\n",
      "\u001b[1m2/2\u001b[0m \u001b[32m━━━━━━━━━━━━━━━━━━━━\u001b[0m\u001b[37m\u001b[0m \u001b[1m0s\u001b[0m 230ms/step - accuracy: 1.0000 - auc: 1.0000 - loss: 0.5431 - precision: 1.0000 - recall: 1.0000 - val_accuracy: 1.0000 - val_auc: 1.0000 - val_loss: 0.6391 - val_precision: 1.0000 - val_recall: 1.0000 - learning_rate: 0.0010\n",
      "Epoch 76/100\n",
      "\u001b[1m2/2\u001b[0m \u001b[32m━━━━━━━━━━━━━━━━━━━━\u001b[0m\u001b[37m\u001b[0m \u001b[1m0s\u001b[0m 108ms/step - accuracy: 1.0000 - auc: 1.0000 - loss: 0.5323 - precision: 1.0000 - recall: 1.0000\n",
      "Epoch 76: val_accuracy did not improve from 1.00000\n",
      "\u001b[1m2/2\u001b[0m \u001b[32m━━━━━━━━━━━━━━━━━━━━\u001b[0m\u001b[37m\u001b[0m \u001b[1m0s\u001b[0m 224ms/step - accuracy: 1.0000 - auc: 1.0000 - loss: 0.5329 - precision: 1.0000 - recall: 1.0000 - val_accuracy: 1.0000 - val_auc: 1.0000 - val_loss: 0.6236 - val_precision: 1.0000 - val_recall: 1.0000 - learning_rate: 0.0010\n",
      "Epoch 77/100\n",
      "\u001b[1m2/2\u001b[0m \u001b[32m━━━━━━━━━━━━━━━━━━━━\u001b[0m\u001b[37m\u001b[0m \u001b[1m0s\u001b[0m 106ms/step - accuracy: 1.0000 - auc: 1.0000 - loss: 0.5297 - precision: 1.0000 - recall: 1.0000\n",
      "Epoch 77: val_accuracy did not improve from 1.00000\n",
      "\u001b[1m2/2\u001b[0m \u001b[32m━━━━━━━━━━━━━━━━━━━━\u001b[0m\u001b[37m\u001b[0m \u001b[1m0s\u001b[0m 226ms/step - accuracy: 1.0000 - auc: 1.0000 - loss: 0.5272 - precision: 1.0000 - recall: 1.0000 - val_accuracy: 1.0000 - val_auc: 1.0000 - val_loss: 0.6107 - val_precision: 1.0000 - val_recall: 1.0000 - learning_rate: 0.0010\n",
      "Epoch 78/100\n",
      "\u001b[1m2/2\u001b[0m \u001b[32m━━━━━━━━━━━━━━━━━━━━\u001b[0m\u001b[37m\u001b[0m \u001b[1m0s\u001b[0m 105ms/step - accuracy: 1.0000 - auc: 1.0000 - loss: 0.5037 - precision: 1.0000 - recall: 1.0000\n",
      "Epoch 78: val_accuracy did not improve from 1.00000\n",
      "\u001b[1m2/2\u001b[0m \u001b[32m━━━━━━━━━━━━━━━━━━━━\u001b[0m\u001b[37m\u001b[0m \u001b[1m0s\u001b[0m 208ms/step - accuracy: 1.0000 - auc: 1.0000 - loss: 0.5040 - precision: 1.0000 - recall: 1.0000 - val_accuracy: 1.0000 - val_auc: 1.0000 - val_loss: 0.5888 - val_precision: 1.0000 - val_recall: 1.0000 - learning_rate: 0.0010\n",
      "Epoch 79/100\n",
      "\u001b[1m2/2\u001b[0m \u001b[32m━━━━━━━━━━━━━━━━━━━━\u001b[0m\u001b[37m\u001b[0m \u001b[1m0s\u001b[0m 111ms/step - accuracy: 1.0000 - auc: 1.0000 - loss: 0.4970 - precision: 1.0000 - recall: 1.0000\n",
      "Epoch 79: val_accuracy did not improve from 1.00000\n",
      "\u001b[1m2/2\u001b[0m \u001b[32m━━━━━━━━━━━━━━━━━━━━\u001b[0m\u001b[37m\u001b[0m \u001b[1m0s\u001b[0m 223ms/step - accuracy: 1.0000 - auc: 1.0000 - loss: 0.4963 - precision: 1.0000 - recall: 1.0000 - val_accuracy: 1.0000 - val_auc: 1.0000 - val_loss: 0.5698 - val_precision: 1.0000 - val_recall: 1.0000 - learning_rate: 0.0010\n",
      "Epoch 80/100\n",
      "\u001b[1m2/2\u001b[0m \u001b[32m━━━━━━━━━━━━━━━━━━━━\u001b[0m\u001b[37m\u001b[0m \u001b[1m0s\u001b[0m 102ms/step - accuracy: 1.0000 - auc: 1.0000 - loss: 0.4879 - precision: 1.0000 - recall: 1.0000\n",
      "Epoch 80: val_accuracy did not improve from 1.00000\n",
      "\u001b[1m2/2\u001b[0m \u001b[32m━━━━━━━━━━━━━━━━━━━━\u001b[0m\u001b[37m\u001b[0m \u001b[1m0s\u001b[0m 216ms/step - accuracy: 1.0000 - auc: 1.0000 - loss: 0.4909 - precision: 1.0000 - recall: 1.0000 - val_accuracy: 1.0000 - val_auc: 1.0000 - val_loss: 0.5553 - val_precision: 1.0000 - val_recall: 1.0000 - learning_rate: 0.0010\n",
      "Epoch 81/100\n",
      "\u001b[1m2/2\u001b[0m \u001b[32m━━━━━━━━━━━━━━━━━━━━\u001b[0m\u001b[37m\u001b[0m \u001b[1m0s\u001b[0m 109ms/step - accuracy: 1.0000 - auc: 1.0000 - loss: 0.4706 - precision: 1.0000 - recall: 1.0000\n",
      "Epoch 81: val_accuracy did not improve from 1.00000\n",
      "\u001b[1m2/2\u001b[0m \u001b[32m━━━━━━━━━━━━━━━━━━━━\u001b[0m\u001b[37m\u001b[0m \u001b[1m0s\u001b[0m 231ms/step - accuracy: 1.0000 - auc: 1.0000 - loss: 0.4692 - precision: 1.0000 - recall: 1.0000 - val_accuracy: 1.0000 - val_auc: 1.0000 - val_loss: 0.5427 - val_precision: 1.0000 - val_recall: 1.0000 - learning_rate: 0.0010\n",
      "Epoch 82/100\n",
      "\u001b[1m2/2\u001b[0m \u001b[32m━━━━━━━━━━━━━━━━━━━━\u001b[0m\u001b[37m\u001b[0m \u001b[1m0s\u001b[0m 107ms/step - accuracy: 1.0000 - auc: 1.0000 - loss: 0.4548 - precision: 1.0000 - recall: 1.0000\n",
      "Epoch 82: val_accuracy did not improve from 1.00000\n",
      "\u001b[1m2/2\u001b[0m \u001b[32m━━━━━━━━━━━━━━━━━━━━\u001b[0m\u001b[37m\u001b[0m \u001b[1m0s\u001b[0m 213ms/step - accuracy: 1.0000 - auc: 1.0000 - loss: 0.4541 - precision: 1.0000 - recall: 1.0000 - val_accuracy: 1.0000 - val_auc: 1.0000 - val_loss: 0.5323 - val_precision: 1.0000 - val_recall: 1.0000 - learning_rate: 0.0010\n",
      "Epoch 83/100\n",
      "\u001b[1m2/2\u001b[0m \u001b[32m━━━━━━━━━━━━━━━━━━━━\u001b[0m\u001b[37m\u001b[0m \u001b[1m0s\u001b[0m 106ms/step - accuracy: 1.0000 - auc: 1.0000 - loss: 0.4506 - precision: 1.0000 - recall: 1.0000\n",
      "Epoch 83: val_accuracy did not improve from 1.00000\n",
      "\u001b[1m2/2\u001b[0m \u001b[32m━━━━━━━━━━━━━━━━━━━━\u001b[0m\u001b[37m\u001b[0m \u001b[1m0s\u001b[0m 216ms/step - accuracy: 1.0000 - auc: 1.0000 - loss: 0.4505 - precision: 1.0000 - recall: 1.0000 - val_accuracy: 1.0000 - val_auc: 1.0000 - val_loss: 0.5193 - val_precision: 1.0000 - val_recall: 1.0000 - learning_rate: 0.0010\n",
      "Epoch 84/100\n",
      "\u001b[1m2/2\u001b[0m \u001b[32m━━━━━━━━━━━━━━━━━━━━\u001b[0m\u001b[37m\u001b[0m \u001b[1m0s\u001b[0m 101ms/step - accuracy: 1.0000 - auc: 1.0000 - loss: 0.4366 - precision: 1.0000 - recall: 1.0000\n",
      "Epoch 84: val_accuracy did not improve from 1.00000\n",
      "\u001b[1m2/2\u001b[0m \u001b[32m━━━━━━━━━━━━━━━━━━━━\u001b[0m\u001b[37m\u001b[0m \u001b[1m0s\u001b[0m 213ms/step - accuracy: 1.0000 - auc: 1.0000 - loss: 0.4366 - precision: 1.0000 - recall: 1.0000 - val_accuracy: 1.0000 - val_auc: 1.0000 - val_loss: 0.5021 - val_precision: 1.0000 - val_recall: 1.0000 - learning_rate: 0.0010\n",
      "Epoch 85/100\n",
      "\u001b[1m2/2\u001b[0m \u001b[32m━━━━━━━━━━━━━━━━━━━━\u001b[0m\u001b[37m\u001b[0m \u001b[1m0s\u001b[0m 105ms/step - accuracy: 1.0000 - auc: 1.0000 - loss: 0.4159 - precision: 1.0000 - recall: 1.0000\n",
      "Epoch 85: val_accuracy did not improve from 1.00000\n",
      "\u001b[1m2/2\u001b[0m \u001b[32m━━━━━━━━━━━━━━━━━━━━\u001b[0m\u001b[37m\u001b[0m \u001b[1m0s\u001b[0m 215ms/step - accuracy: 1.0000 - auc: 1.0000 - loss: 0.4157 - precision: 1.0000 - recall: 1.0000 - val_accuracy: 1.0000 - val_auc: 1.0000 - val_loss: 0.4873 - val_precision: 1.0000 - val_recall: 1.0000 - learning_rate: 0.0010\n",
      "Epoch 86/100\n",
      "\u001b[1m2/2\u001b[0m \u001b[32m━━━━━━━━━━━━━━━━━━━━\u001b[0m\u001b[37m\u001b[0m \u001b[1m0s\u001b[0m 107ms/step - accuracy: 1.0000 - auc: 1.0000 - loss: 0.4328 - precision: 1.0000 - recall: 1.0000\n",
      "Epoch 86: val_accuracy did not improve from 1.00000\n",
      "\u001b[1m2/2\u001b[0m \u001b[32m━━━━━━━━━━━━━━━━━━━━\u001b[0m\u001b[37m\u001b[0m \u001b[1m0s\u001b[0m 224ms/step - accuracy: 1.0000 - auc: 1.0000 - loss: 0.4297 - precision: 1.0000 - recall: 1.0000 - val_accuracy: 1.0000 - val_auc: 1.0000 - val_loss: 0.4749 - val_precision: 1.0000 - val_recall: 1.0000 - learning_rate: 0.0010\n",
      "Epoch 87/100\n",
      "\u001b[1m2/2\u001b[0m \u001b[32m━━━━━━━━━━━━━━━━━━━━\u001b[0m\u001b[37m\u001b[0m \u001b[1m0s\u001b[0m 110ms/step - accuracy: 1.0000 - auc: 1.0000 - loss: 0.3947 - precision: 1.0000 - recall: 1.0000\n",
      "Epoch 87: val_accuracy did not improve from 1.00000\n",
      "\u001b[1m2/2\u001b[0m \u001b[32m━━━━━━━━━━━━━━━━━━━━\u001b[0m\u001b[37m\u001b[0m \u001b[1m0s\u001b[0m 227ms/step - accuracy: 1.0000 - auc: 1.0000 - loss: 0.3945 - precision: 1.0000 - recall: 1.0000 - val_accuracy: 1.0000 - val_auc: 1.0000 - val_loss: 0.4636 - val_precision: 1.0000 - val_recall: 1.0000 - learning_rate: 0.0010\n",
      "Epoch 88/100\n",
      "\u001b[1m2/2\u001b[0m \u001b[32m━━━━━━━━━━━━━━━━━━━━\u001b[0m\u001b[37m\u001b[0m \u001b[1m0s\u001b[0m 109ms/step - accuracy: 1.0000 - auc: 1.0000 - loss: 0.3865 - precision: 1.0000 - recall: 1.0000\n",
      "Epoch 88: val_accuracy did not improve from 1.00000\n",
      "\u001b[1m2/2\u001b[0m \u001b[32m━━━━━━━━━━━━━━━━━━━━\u001b[0m\u001b[37m\u001b[0m \u001b[1m0s\u001b[0m 232ms/step - accuracy: 1.0000 - auc: 1.0000 - loss: 0.3864 - precision: 1.0000 - recall: 1.0000 - val_accuracy: 1.0000 - val_auc: 1.0000 - val_loss: 0.4519 - val_precision: 1.0000 - val_recall: 1.0000 - learning_rate: 0.0010\n",
      "Epoch 89/100\n",
      "\u001b[1m2/2\u001b[0m \u001b[32m━━━━━━━━━━━━━━━━━━━━\u001b[0m\u001b[37m\u001b[0m \u001b[1m0s\u001b[0m 114ms/step - accuracy: 1.0000 - auc: 1.0000 - loss: 0.3886 - precision: 1.0000 - recall: 1.0000\n",
      "Epoch 89: val_accuracy did not improve from 1.00000\n",
      "\u001b[1m2/2\u001b[0m \u001b[32m━━━━━━━━━━━━━━━━━━━━\u001b[0m\u001b[37m\u001b[0m \u001b[1m0s\u001b[0m 243ms/step - accuracy: 1.0000 - auc: 1.0000 - loss: 0.3887 - precision: 1.0000 - recall: 1.0000 - val_accuracy: 1.0000 - val_auc: 1.0000 - val_loss: 0.4406 - val_precision: 1.0000 - val_recall: 1.0000 - learning_rate: 0.0010\n",
      "Epoch 90/100\n",
      "\u001b[1m2/2\u001b[0m \u001b[32m━━━━━━━━━━━━━━━━━━━━\u001b[0m\u001b[37m\u001b[0m \u001b[1m0s\u001b[0m 104ms/step - accuracy: 1.0000 - auc: 1.0000 - loss: 0.3815 - precision: 1.0000 - recall: 1.0000\n",
      "Epoch 90: val_accuracy did not improve from 1.00000\n",
      "\u001b[1m2/2\u001b[0m \u001b[32m━━━━━━━━━━━━━━━━━━━━\u001b[0m\u001b[37m\u001b[0m \u001b[1m0s\u001b[0m 211ms/step - accuracy: 1.0000 - auc: 1.0000 - loss: 0.3840 - precision: 1.0000 - recall: 1.0000 - val_accuracy: 1.0000 - val_auc: 1.0000 - val_loss: 0.4328 - val_precision: 1.0000 - val_recall: 1.0000 - learning_rate: 0.0010\n",
      "Epoch 91/100\n",
      "\u001b[1m2/2\u001b[0m \u001b[32m━━━━━━━━━━━━━━━━━━━━\u001b[0m\u001b[37m\u001b[0m \u001b[1m0s\u001b[0m 106ms/step - accuracy: 1.0000 - auc: 1.0000 - loss: 0.3949 - precision: 1.0000 - recall: 1.0000\n",
      "Epoch 91: val_accuracy did not improve from 1.00000\n",
      "\u001b[1m2/2\u001b[0m \u001b[32m━━━━━━━━━━━━━━━━━━━━\u001b[0m\u001b[37m\u001b[0m \u001b[1m0s\u001b[0m 213ms/step - accuracy: 1.0000 - auc: 1.0000 - loss: 0.3935 - precision: 1.0000 - recall: 1.0000 - val_accuracy: 1.0000 - val_auc: 1.0000 - val_loss: 0.4185 - val_precision: 1.0000 - val_recall: 1.0000 - learning_rate: 0.0010\n",
      "Epoch 92/100\n",
      "\u001b[1m2/2\u001b[0m \u001b[32m━━━━━━━━━━━━━━━━━━━━\u001b[0m\u001b[37m\u001b[0m \u001b[1m0s\u001b[0m 103ms/step - accuracy: 1.0000 - auc: 1.0000 - loss: 0.3618 - precision: 1.0000 - recall: 1.0000\n",
      "Epoch 92: val_accuracy did not improve from 1.00000\n",
      "\u001b[1m2/2\u001b[0m \u001b[32m━━━━━━━━━━━━━━━━━━━━\u001b[0m\u001b[37m\u001b[0m \u001b[1m0s\u001b[0m 205ms/step - accuracy: 1.0000 - auc: 1.0000 - loss: 0.3610 - precision: 1.0000 - recall: 1.0000 - val_accuracy: 1.0000 - val_auc: 1.0000 - val_loss: 0.4059 - val_precision: 1.0000 - val_recall: 1.0000 - learning_rate: 0.0010\n",
      "Epoch 93/100\n",
      "\u001b[1m2/2\u001b[0m \u001b[32m━━━━━━━━━━━━━━━━━━━━\u001b[0m\u001b[37m\u001b[0m \u001b[1m0s\u001b[0m 100ms/step - accuracy: 1.0000 - auc: 1.0000 - loss: 0.3486 - precision: 1.0000 - recall: 1.0000\n",
      "Epoch 93: val_accuracy did not improve from 1.00000\n",
      "\u001b[1m2/2\u001b[0m \u001b[32m━━━━━━━━━━━━━━━━━━━━\u001b[0m\u001b[37m\u001b[0m \u001b[1m0s\u001b[0m 203ms/step - accuracy: 1.0000 - auc: 1.0000 - loss: 0.3483 - precision: 1.0000 - recall: 1.0000 - val_accuracy: 1.0000 - val_auc: 1.0000 - val_loss: 0.3959 - val_precision: 1.0000 - val_recall: 1.0000 - learning_rate: 0.0010\n",
      "Epoch 94/100\n",
      "\u001b[1m2/2\u001b[0m \u001b[32m━━━━━━━━━━━━━━━━━━━━\u001b[0m\u001b[37m\u001b[0m \u001b[1m0s\u001b[0m 104ms/step - accuracy: 1.0000 - auc: 1.0000 - loss: 0.3570 - precision: 1.0000 - recall: 1.0000\n",
      "Epoch 94: val_accuracy did not improve from 1.00000\n",
      "\u001b[1m2/2\u001b[0m \u001b[32m━━━━━━━━━━━━━━━━━━━━\u001b[0m\u001b[37m\u001b[0m \u001b[1m0s\u001b[0m 210ms/step - accuracy: 1.0000 - auc: 1.0000 - loss: 0.3639 - precision: 1.0000 - recall: 1.0000 - val_accuracy: 1.0000 - val_auc: 1.0000 - val_loss: 0.3849 - val_precision: 1.0000 - val_recall: 1.0000 - learning_rate: 0.0010\n",
      "Epoch 95/100\n",
      "\u001b[1m2/2\u001b[0m \u001b[32m━━━━━━━━━━━━━━━━━━━━\u001b[0m\u001b[37m\u001b[0m \u001b[1m0s\u001b[0m 111ms/step - accuracy: 1.0000 - auc: 1.0000 - loss: 0.3334 - precision: 1.0000 - recall: 1.0000\n",
      "Epoch 95: val_accuracy did not improve from 1.00000\n",
      "\u001b[1m2/2\u001b[0m \u001b[32m━━━━━━━━━━━━━━━━━━━━\u001b[0m\u001b[37m\u001b[0m \u001b[1m0s\u001b[0m 213ms/step - accuracy: 1.0000 - auc: 1.0000 - loss: 0.3336 - precision: 1.0000 - recall: 1.0000 - val_accuracy: 1.0000 - val_auc: 1.0000 - val_loss: 0.3765 - val_precision: 1.0000 - val_recall: 1.0000 - learning_rate: 0.0010\n",
      "Epoch 96/100\n",
      "\u001b[1m2/2\u001b[0m \u001b[32m━━━━━━━━━━━━━━━━━━━━\u001b[0m\u001b[37m\u001b[0m \u001b[1m0s\u001b[0m 107ms/step - accuracy: 1.0000 - auc: 1.0000 - loss: 0.3374 - precision: 1.0000 - recall: 1.0000\n",
      "Epoch 96: val_accuracy did not improve from 1.00000\n",
      "\u001b[1m2/2\u001b[0m \u001b[32m━━━━━━━━━━━━━━━━━━━━\u001b[0m\u001b[37m\u001b[0m \u001b[1m0s\u001b[0m 215ms/step - accuracy: 1.0000 - auc: 1.0000 - loss: 0.3406 - precision: 1.0000 - recall: 1.0000 - val_accuracy: 1.0000 - val_auc: 1.0000 - val_loss: 0.3678 - val_precision: 1.0000 - val_recall: 1.0000 - learning_rate: 0.0010\n",
      "Epoch 97/100\n",
      "\u001b[1m2/2\u001b[0m \u001b[32m━━━━━━━━━━━━━━━━━━━━\u001b[0m\u001b[37m\u001b[0m \u001b[1m0s\u001b[0m 106ms/step - accuracy: 1.0000 - auc: 1.0000 - loss: 0.3220 - precision: 1.0000 - recall: 1.0000\n",
      "Epoch 97: val_accuracy did not improve from 1.00000\n",
      "\u001b[1m2/2\u001b[0m \u001b[32m━━━━━━━━━━━━━━━━━━━━\u001b[0m\u001b[37m\u001b[0m \u001b[1m0s\u001b[0m 216ms/step - accuracy: 1.0000 - auc: 1.0000 - loss: 0.3224 - precision: 1.0000 - recall: 1.0000 - val_accuracy: 1.0000 - val_auc: 1.0000 - val_loss: 0.3579 - val_precision: 1.0000 - val_recall: 1.0000 - learning_rate: 0.0010\n",
      "Epoch 98/100\n",
      "\u001b[1m2/2\u001b[0m \u001b[32m━━━━━━━━━━━━━━━━━━━━\u001b[0m\u001b[37m\u001b[0m \u001b[1m0s\u001b[0m 105ms/step - accuracy: 1.0000 - auc: 1.0000 - loss: 0.3072 - precision: 1.0000 - recall: 1.0000\n",
      "Epoch 98: val_accuracy did not improve from 1.00000\n",
      "\u001b[1m2/2\u001b[0m \u001b[32m━━━━━━━━━━━━━━━━━━━━\u001b[0m\u001b[37m\u001b[0m \u001b[1m0s\u001b[0m 218ms/step - accuracy: 1.0000 - auc: 1.0000 - loss: 0.3069 - precision: 1.0000 - recall: 1.0000 - val_accuracy: 1.0000 - val_auc: 1.0000 - val_loss: 0.3488 - val_precision: 1.0000 - val_recall: 1.0000 - learning_rate: 0.0010\n",
      "Epoch 99/100\n",
      "\u001b[1m2/2\u001b[0m \u001b[32m━━━━━━━━━━━━━━━━━━━━\u001b[0m\u001b[37m\u001b[0m \u001b[1m0s\u001b[0m 110ms/step - accuracy: 1.0000 - auc: 1.0000 - loss: 0.3001 - precision: 1.0000 - recall: 1.0000\n",
      "Epoch 99: val_accuracy did not improve from 1.00000\n",
      "\u001b[1m2/2\u001b[0m \u001b[32m━━━━━━━━━━━━━━━━━━━━\u001b[0m\u001b[37m\u001b[0m \u001b[1m0s\u001b[0m 222ms/step - accuracy: 1.0000 - auc: 1.0000 - loss: 0.2999 - precision: 1.0000 - recall: 1.0000 - val_accuracy: 1.0000 - val_auc: 1.0000 - val_loss: 0.3409 - val_precision: 1.0000 - val_recall: 1.0000 - learning_rate: 0.0010\n",
      "Epoch 100/100\n",
      "\u001b[1m2/2\u001b[0m \u001b[32m━━━━━━━━━━━━━━━━━━━━\u001b[0m\u001b[37m\u001b[0m \u001b[1m0s\u001b[0m 110ms/step - accuracy: 1.0000 - auc: 1.0000 - loss: 0.3133 - precision: 1.0000 - recall: 1.0000\n",
      "Epoch 100: val_accuracy did not improve from 1.00000\n",
      "\u001b[1m2/2\u001b[0m \u001b[32m━━━━━━━━━━━━━━━━━━━━\u001b[0m\u001b[37m\u001b[0m \u001b[1m0s\u001b[0m 221ms/step - accuracy: 1.0000 - auc: 1.0000 - loss: 0.3151 - precision: 1.0000 - recall: 1.0000 - val_accuracy: 1.0000 - val_auc: 1.0000 - val_loss: 0.3334 - val_precision: 1.0000 - val_recall: 1.0000 - learning_rate: 0.0010\n",
      "Restoring model weights from the end of the best epoch: 100.\n",
      "\n",
      "======================================================================\n",
      "✓ TRAINING COMPLETED!\n",
      "======================================================================\n"
     ]
    }
   ],
   "source": [
    "# Train model\n",
    "print(f\"\\nStarting training...\")\n",
    "print(f\"=\"*70)\n",
    "\n",
    "history = model.fit(\n",
    "    X_train_scaled, y_train,\n",
    "    validation_data=(X_test_scaled, y_test),\n",
    "    epochs=100,\n",
    "    batch_size=32,\n",
    "    class_weight=class_weight_dict,  # Handle class imbalance\n",
    "    callbacks=callbacks,\n",
    "    verbose=1\n",
    ")\n",
    "\n",
    "print(f\"\\n\" + \"=\"*70)\n",
    "print(f\"✓ TRAINING COMPLETED!\")\n",
    "print(f\"=\"*70)\n"
   ]
  },
  {
   "cell_type": "code",
   "execution_count": 58,
   "id": "1b84db7d",
   "metadata": {},
   "outputs": [
    {
     "name": "stdout",
     "output_type": "stream",
     "text": [
      "\n",
      "======================================================================\n",
      "STEP 11: MODEL EVALUATION\n",
      "======================================================================\n"
     ]
    }
   ],
   "source": [
    "print(\"\\n\" + \"=\"*70)\n",
    "print(\"STEP 11: MODEL EVALUATION\")\n",
    "print(\"=\"*70)"
   ]
  },
  {
   "cell_type": "code",
   "execution_count": 59,
   "id": "d901fbf9",
   "metadata": {},
   "outputs": [
    {
     "name": "stderr",
     "output_type": "stream",
     "text": [
      "WARNING:absl:Compiled the loaded model, but the compiled metrics have yet to be built. `model.compile_metrics` will be empty until you train or evaluate the model.\n"
     ]
    },
    {
     "name": "stdout",
     "output_type": "stream",
     "text": [
      "✓ Loaded best model from checkpoint\n"
     ]
    }
   ],
   "source": [
    "# Load best model\n",
    "model = tf.keras.models.load_model('tuba_lstm_model.h5')\n",
    "print(f\"✓ Loaded best model from checkpoint\")"
   ]
  },
  {
   "cell_type": "code",
   "execution_count": 60,
   "id": "9802dc05",
   "metadata": {},
   "outputs": [],
   "source": [
    "# Make predictions\n",
    "y_pred_proba = model.predict(X_test_scaled, verbose=0)\n",
    "y_pred = (y_pred_proba > 0.5).astype(int).flatten()"
   ]
  },
  {
   "cell_type": "code",
   "execution_count": 61,
   "id": "188f3618",
   "metadata": {},
   "outputs": [
    {
     "name": "stdout",
     "output_type": "stream",
     "text": [
      "\n",
      "📊 CLASSIFICATION REPORT:\n",
      "======================================================================\n",
      "               precision    recall  f1-score   support\n",
      "\n",
      "Not Fermented     1.0000    1.0000    1.0000        12\n",
      "    Fermented     1.0000    1.0000    1.0000         3\n",
      "\n",
      "     accuracy                         1.0000        15\n",
      "    macro avg     1.0000    1.0000    1.0000        15\n",
      " weighted avg     1.0000    1.0000    1.0000        15\n",
      "\n"
     ]
    }
   ],
   "source": [
    "# Classification report\n",
    "print(f\"\\n📊 CLASSIFICATION REPORT:\")\n",
    "print(\"=\"*70)\n",
    "print(classification_report(\n",
    "    y_test, y_pred,\n",
    "    target_names=['Not Fermented', 'Fermented'],\n",
    "    digits=4\n",
    "))"
   ]
  },
  {
   "cell_type": "code",
   "execution_count": 62,
   "id": "28aacfa1",
   "metadata": {},
   "outputs": [
    {
     "name": "stdout",
     "output_type": "stream",
     "text": [
      "\n",
      "📊 CONFUSION MATRIX:\n",
      "======================================================================\n",
      "                  Predicted\n",
      "                  Not Ferm  Fermented\n",
      "Actual Not Ferm        12         0\n",
      "Actual Fermented        0         3\n"
     ]
    }
   ],
   "source": [
    "# Confusion matrix\n",
    "cm = confusion_matrix(y_test, y_pred)\n",
    "print(f\"\\n📊 CONFUSION MATRIX:\")\n",
    "print(\"=\"*70)\n",
    "print(f\"                  Predicted\")\n",
    "print(f\"                  Not Ferm  Fermented\")\n",
    "print(f\"Actual Not Ferm      {cm[0][0]:4d}      {cm[0][1]:4d}\")\n",
    "print(f\"Actual Fermented     {cm[1][0]:4d}      {cm[1][1]:4d}\")"
   ]
  },
  {
   "cell_type": "code",
   "execution_count": 63,
   "id": "b41cf1bb",
   "metadata": {},
   "outputs": [
    {
     "name": "stdout",
     "output_type": "stream",
     "text": [
      "\n",
      "📊 DETAILED METRICS:\n",
      "======================================================================\n",
      "Accuracy:    1.0000 (100.00%)\n",
      "Precision:   1.0000 (100.00%)\n",
      "Recall:      1.0000 (100.00%)\n",
      "Specificity: 1.0000 (100.00%)\n",
      "F1-Score:    1.0000\n"
     ]
    }
   ],
   "source": [
    "# Calculate metrics\n",
    "tn, fp, fn, tp = cm.ravel()\n",
    "accuracy = (tp + tn) / (tp + tn + fp + fn)\n",
    "precision = tp / (tp + fp) if (tp + fp) > 0 else 0\n",
    "recall = tp / (tp + fn) if (tp + fn) > 0 else 0\n",
    "f1 = 2 * (precision * recall) / (precision + recall) if (precision + recall) > 0 else 0\n",
    "specificity = tn / (tn + fp) if (tn + fp) > 0 else 0\n",
    "\n",
    "print(f\"\\n📊 DETAILED METRICS:\")\n",
    "print(\"=\"*70)\n",
    "print(f\"Accuracy:    {accuracy:.4f} ({accuracy*100:.2f}%)\")\n",
    "print(f\"Precision:   {precision:.4f} ({precision*100:.2f}%)\")\n",
    "print(f\"Recall:      {recall:.4f} ({recall*100:.2f}%)\")\n",
    "print(f\"Specificity: {specificity:.4f} ({specificity*100:.2f}%)\")\n",
    "print(f\"F1-Score:    {f1:.4f}\")"
   ]
  },
  {
   "cell_type": "code",
   "execution_count": 64,
   "id": "c4507cba",
   "metadata": {},
   "outputs": [
    {
     "name": "stdout",
     "output_type": "stream",
     "text": [
      "ROC-AUC:     1.0000\n"
     ]
    }
   ],
   "source": [
    "# ROC-AUC\n",
    "fpr, tpr, _ = roc_curve(y_test, y_pred_proba)\n",
    "roc_auc = auc(fpr, tpr)\n",
    "print(f\"ROC-AUC:     {roc_auc:.4f}\")"
   ]
  },
  {
   "cell_type": "code",
   "execution_count": 65,
   "id": "91fff58f",
   "metadata": {},
   "outputs": [
    {
     "name": "stdout",
     "output_type": "stream",
     "text": [
      "\n",
      "======================================================================\n",
      "STEP 12: CREATING VISUALIZATIONS\n",
      "======================================================================\n"
     ]
    }
   ],
   "source": [
    "print(\"\\n\" + \"=\"*70)\n",
    "print(\"STEP 12: CREATING VISUALIZATIONS\")\n",
    "print(\"=\"*70)"
   ]
  },
  {
   "cell_type": "code",
   "execution_count": 66,
   "id": "1f312978",
   "metadata": {},
   "outputs": [
    {
     "data": {
      "image/png": "[encoded data removed]",
      "text/plain": [
       "<Figure size 1600x1200 with 1 Axes>"
      ]
     },
     "metadata": {},
     "output_type": "display_data"
    }
   ],
   "source": [
    "fig = plt.figure(figsize=(16, 12))\n",
    "\n",
    "# 1. Training History - Accuracy\n",
    "ax1 = plt.subplot(3, 3, 1)\n",
    "ax1.plot(history.history['accuracy'], label='Train', linewidth=2)\n",
    "ax1.plot(history.history['val_accuracy'], label='Validation', linewidth=2)\n",
    "ax1.set_xlabel('Epoch')\n",
    "ax1.set_ylabel('Accuracy')\n",
    "ax1.set_title('Model Accuracy')\n",
    "ax1.legend()\n",
    "ax1.grid(True, alpha=0.3)"
   ]
  },
  {
   "cell_type": "code",
   "execution_count": 67,
   "id": "8a0fdc45",
   "metadata": {},
   "outputs": [
    {
     "data": {
      "image/png": "[encoded data removed]",
      "text/plain": [
       "<Figure size 640x480 with 1 Axes>"
      ]
     },
     "metadata": {},
     "output_type": "display_data"
    }
   ],
   "source": [
    "# 2. Training History - Loss\n",
    "ax2 = plt.subplot(3, 3, 2)\n",
    "ax2.plot(history.history['loss'], label='Train', linewidth=2)\n",
    "ax2.plot(history.history['val_loss'], label='Validation', linewidth=2)\n",
    "ax2.set_xlabel('Epoch')\n",
    "ax2.set_ylabel('Loss')\n",
    "ax2.set_title('Model Loss')\n",
    "ax2.legend()\n",
    "ax2.grid(True, alpha=0.3)"
   ]
  },
  {
   "cell_type": "code",
   "execution_count": 68,
   "id": "9fdea850",
   "metadata": {},
   "outputs": [
    {
     "data": {
      "text/plain": [
       "Text(0.5, 1.0, 'Confusion Matrix')"
      ]
     },
     "execution_count": 68,
     "metadata": {},
     "output_type": "execute_result"
    },
    {
     "data": {
      "image/png": "[encoded data removed]",
      "text/plain": [
       "<Figure size 640x480 with 2 Axes>"
      ]
     },
     "metadata": {},
     "output_type": "display_data"
    }
   ],
   "source": [
    "# 3. Confusion Matrix\n",
    "ax3 = plt.subplot(3, 3, 3)\n",
    "sns.heatmap(cm, annot=True, fmt='d', cmap='Blues', ax=ax3,\n",
    "            xticklabels=['Not Ferm', 'Fermented'],\n",
    "            yticklabels=['Not Ferm', 'Fermented'],\n",
    "            cbar_kws={'label': 'Count'})\n",
    "ax3.set_xlabel('Predicted')\n",
    "ax3.set_ylabel('Actual')\n",
    "ax3.set_title('Confusion Matrix')"
   ]
  },
  {
   "cell_type": "code",
   "execution_count": 69,
   "id": "be802c7a",
   "metadata": {},
   "outputs": [
    {
     "data": {
      "image/png": "[encoded data removed]",
      "text/plain": [
       "<Figure size 640x480 with 1 Axes>"
      ]
     },
     "metadata": {},
     "output_type": "display_data"
    }
   ],
   "source": [
    "# 4. ROC Curve\n",
    "ax4 = plt.subplot(3, 3, 4)\n",
    "ax4.plot(fpr, tpr, linewidth=2, label=f'ROC (AUC = {roc_auc:.4f})')\n",
    "ax4.plot([0, 1], [0, 1], 'k--', linewidth=1, label='Random')\n",
    "ax4.set_xlabel('False Positive Rate')\n",
    "ax4.set_ylabel('True Positive Rate')\n",
    "ax4.set_title('ROC Curve')\n",
    "ax4.legend()\n",
    "ax4.grid(True, alpha=0.3)"
   ]
  },
  {
   "cell_type": "code",
   "execution_count": null,
   "id": "d40e9f2b",
   "metadata": {},
   "outputs": [],
   "source": []
  }
 ],
 "metadata": {
  "kernelspec": {
   "display_name": "base",
   "language": "python",
   "name": "python3"
  },
  "language_info": {
   "codemirror_mode": {
    "name": "ipython",
    "version": 3
   },
   "file_extension": ".py",
   "mimetype": "text/x-python",
   "name": "python",
   "nbconvert_exporter": "python",
   "pygments_lexer": "ipython3",
   "version": "3.12.7"
  }
 },
 "nbformat": 4,
 "nbformat_minor": 5
}
