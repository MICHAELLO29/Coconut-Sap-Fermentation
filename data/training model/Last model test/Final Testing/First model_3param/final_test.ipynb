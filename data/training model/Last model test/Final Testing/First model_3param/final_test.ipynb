{
 "cells": [
  {
   "cell_type": "code",
   "execution_count": 21,
   "id": "01da553a",
   "metadata": {},
   "outputs": [],
   "source": [
    "import pandas as pd\n",
    "import numpy as np\n",
    "from sklearn.preprocessing import MinMaxScaler\n",
    "from sklearn.metrics import mean_squared_error, classification_report, accuracy_score\n",
    "from tensorflow.keras.models import Model\n",
    "from tensorflow.keras.layers import LSTM, Dense, Dropout, Input\n",
    "from tensorflow.keras.callbacks import EarlyStopping\n",
    "import matplotlib.pyplot as plt"
   ]
  },
  {
   "cell_type": "code",
   "execution_count": 2,
   "id": "fa20b1eb",
   "metadata": {},
   "outputs": [
    {
     "name": "stdout",
     "output_type": "stream",
     "text": [
      "======================================================================\n",
      "STEP 1: Load and prepare data\n",
      "======================================================================\n"
     ]
    }
   ],
   "source": [
    "print(\"=\"*70)\n",
    "print(\"STEP 1: Load and prepare data\")\n",
    "print(\"=\"*70)"
   ]
  },
  {
   "cell_type": "code",
   "execution_count": 22,
   "id": "596ddb15",
   "metadata": {},
   "outputs": [],
   "source": [
    "df = pd.read_csv(\"transform_readings.csv\")\n",
    "df['timestamp'] = pd.to_datetime(df['timestamp'])\n",
    "df = df.sort_values('timestamp')"
   ]
  },
  {
   "cell_type": "code",
   "execution_count": 23,
   "id": "ff148293",
   "metadata": {},
   "outputs": [],
   "source": [
    "# Handle missing & anomalies\n",
    "df = df.interpolate(method='linear')\n",
    "df = df[(df['gravity'] > 0.9) & (df['gravity'] < 1.5)]\n",
    "df = df[(df['brix'] > -5) & (df['brix'] < 30)]\n",
    "df = df[(df['temperature'] > 10) & (df['temperature'] < 50)]\n",
    "df = df.sort_values('timestamp')"
   ]
  },
  {
   "cell_type": "code",
   "execution_count": 41,
   "id": "e45057bc",
   "metadata": {},
   "outputs": [],
   "source": [
    "# Keep the main features\n",
    "features = ['gravity', 'brix', 'temperature']\n",
    "scaler = MinMaxScaler()\n",
    "scaled = scaler.fit_transform(df[features])\n",
    "df_scaled = pd.DataFrame(scaled, columns=features)"
   ]
  },
  {
   "cell_type": "code",
   "execution_count": 5,
   "id": "e65c0a9f",
   "metadata": {},
   "outputs": [
    {
     "name": "stdout",
     "output_type": "stream",
     "text": [
      "======================================================================\n",
      "STEP 2: Scaling\n",
      "======================================================================\n"
     ]
    }
   ],
   "source": [
    "print(\"=\"*70)\n",
    "print(\"STEP 2: Scaling\")\n",
    "print(\"=\"*70)"
   ]
  },
  {
   "cell_type": "code",
   "execution_count": 26,
   "id": "c7d97b91",
   "metadata": {},
   "outputs": [],
   "source": [
    "scaler = StandardScaler()\n",
    "data_scaled = scaler.fit_transform(data)"
   ]
  },
  {
   "cell_type": "code",
   "execution_count": 27,
   "id": "ae5f649b",
   "metadata": {},
   "outputs": [
    {
     "name": "stdout",
     "output_type": "stream",
     "text": [
      "======================================================================\n",
      "STEP 3: Create sequences for LSTM\n",
      "======================================================================\n"
     ]
    }
   ],
   "source": [
    "print(\"=\"*70)\n",
    "print(\"STEP 3: Create sequences for LSTM\")\n",
    "print(\"=\"*70)"
   ]
  },
  {
   "cell_type": "code",
   "execution_count": 28,
   "id": "52e06117",
   "metadata": {},
   "outputs": [],
   "source": [
    "def create_sequences(data, seq_len=15):\n",
    "    X, y = [], []\n",
    "    for i in range(len(data) - seq_len):\n",
    "        seq = data.iloc[i:i+seq_len].values\n",
    "        target = data.iloc[i+seq_len].values  # predict next reading\n",
    "        X.append(seq)\n",
    "        y.append(target)\n",
    "    return np.array(X), np.array(y)\n",
    "\n",
    "SEQ_LEN = 15\n",
    "X, y = create_sequences(df_scaled, SEQ_LEN)\n",
    "\n",
    "# Split train/test\n",
    "split = int(0.8 * len(X))\n",
    "X_train, X_test = X[:split], X[split:]\n",
    "y_train_reg, y_test_reg = y[:split], y[split:]"
   ]
  },
  {
   "cell_type": "code",
   "execution_count": 29,
   "id": "0f73e7e9",
   "metadata": {},
   "outputs": [
    {
     "name": "stdout",
     "output_type": "stream",
     "text": [
      "======================================================================\n",
      "STEP 4: CREATE CLASSIFICATION TARGET (based on actual next-step brix)\n",
      "======================================================================\n"
     ]
    }
   ],
   "source": [
    "print(\"=\"*70)\n",
    "print(\"STEP 4: CREATE CLASSIFICATION TARGET (based on actual next-step brix)\")\n",
    "print(\"=\"*70)"
   ]
  },
  {
   "cell_type": "code",
   "execution_count": 30,
   "id": "5aae678e",
   "metadata": {},
   "outputs": [],
   "source": [
    "# 1 = fermented, 0 = not fermented\n",
    "y_train_class = np.where(y_train_reg[:, 1] <= 0.4, 1, 0)\n",
    "y_test_class = np.where(y_test_reg[:, 1] <= 0.4, 1, 0)"
   ]
  },
  {
   "cell_type": "code",
   "execution_count": 32,
   "id": "7f5448d2",
   "metadata": {},
   "outputs": [
    {
     "name": "stdout",
     "output_type": "stream",
     "text": [
      "======================================================================\n",
      "STEP 5: BUILD MULTI-OUTPUT LSTM MODEL\n",
      "======================================================================\n"
     ]
    }
   ],
   "source": [
    "print(\"=\"*70)\n",
    "print(\"STEP 5: BUILD MULTI-OUTPUT LSTM MODEL\")\n",
    "print(\"=\"*70)"
   ]
  },
  {
   "cell_type": "code",
   "execution_count": 33,
   "id": "3a7de472",
   "metadata": {},
   "outputs": [
    {
     "data": {
      "text/html": [
       "<pre style=\"white-space:pre;overflow-x:auto;line-height:normal;font-family:Menlo,'DejaVu Sans Mono',consolas,'Courier New',monospace\"><span style=\"font-weight: bold\">Model: \"functional_2\"</span>\n",
       "</pre>\n"
      ],
      "text/plain": [
       "\u001b[1mModel: \"functional_2\"\u001b[0m\n"
      ]
     },
     "metadata": {},
     "output_type": "display_data"
    },
    {
     "data": {
      "text/html": [
       "<pre style=\"white-space:pre;overflow-x:auto;line-height:normal;font-family:Menlo,'DejaVu Sans Mono',consolas,'Courier New',monospace\">┏━━━━━━━━━━━━━━━━━━━━━┳━━━━━━━━━━━━━━━━━━━┳━━━━━━━━━━━━┳━━━━━━━━━━━━━━━━━━━┓\n",
       "┃<span style=\"font-weight: bold\"> Layer (type)        </span>┃<span style=\"font-weight: bold\"> Output Shape      </span>┃<span style=\"font-weight: bold\">    Param # </span>┃<span style=\"font-weight: bold\"> Connected to      </span>┃\n",
       "┡━━━━━━━━━━━━━━━━━━━━━╇━━━━━━━━━━━━━━━━━━━╇━━━━━━━━━━━━╇━━━━━━━━━━━━━━━━━━━┩\n",
       "│ input_layer_2       │ (<span style=\"color: #00d7ff; text-decoration-color: #00d7ff\">None</span>, <span style=\"color: #00af00; text-decoration-color: #00af00\">15</span>, <span style=\"color: #00af00; text-decoration-color: #00af00\">3</span>)     │          <span style=\"color: #00af00; text-decoration-color: #00af00\">0</span> │ -                 │\n",
       "│ (<span style=\"color: #0087ff; text-decoration-color: #0087ff\">InputLayer</span>)        │                   │            │                   │\n",
       "├─────────────────────┼───────────────────┼────────────┼───────────────────┤\n",
       "│ lstm_4 (<span style=\"color: #0087ff; text-decoration-color: #0087ff\">LSTM</span>)       │ (<span style=\"color: #00d7ff; text-decoration-color: #00d7ff\">None</span>, <span style=\"color: #00af00; text-decoration-color: #00af00\">64</span>)        │     <span style=\"color: #00af00; text-decoration-color: #00af00\">17,408</span> │ input_layer_2[<span style=\"color: #00af00; text-decoration-color: #00af00\">0</span>]… │\n",
       "├─────────────────────┼───────────────────┼────────────┼───────────────────┤\n",
       "│ dropout_4 (<span style=\"color: #0087ff; text-decoration-color: #0087ff\">Dropout</span>) │ (<span style=\"color: #00d7ff; text-decoration-color: #00d7ff\">None</span>, <span style=\"color: #00af00; text-decoration-color: #00af00\">64</span>)        │          <span style=\"color: #00af00; text-decoration-color: #00af00\">0</span> │ lstm_4[<span style=\"color: #00af00; text-decoration-color: #00af00\">0</span>][<span style=\"color: #00af00; text-decoration-color: #00af00\">0</span>]      │\n",
       "├─────────────────────┼───────────────────┼────────────┼───────────────────┤\n",
       "│ dense_4 (<span style=\"color: #0087ff; text-decoration-color: #0087ff\">Dense</span>)     │ (<span style=\"color: #00d7ff; text-decoration-color: #00d7ff\">None</span>, <span style=\"color: #00af00; text-decoration-color: #00af00\">32</span>)        │      <span style=\"color: #00af00; text-decoration-color: #00af00\">2,080</span> │ dropout_4[<span style=\"color: #00af00; text-decoration-color: #00af00\">0</span>][<span style=\"color: #00af00; text-decoration-color: #00af00\">0</span>]   │\n",
       "├─────────────────────┼───────────────────┼────────────┼───────────────────┤\n",
       "│ forecast_output     │ (<span style=\"color: #00d7ff; text-decoration-color: #00d7ff\">None</span>, <span style=\"color: #00af00; text-decoration-color: #00af00\">3</span>)         │         <span style=\"color: #00af00; text-decoration-color: #00af00\">99</span> │ dense_4[<span style=\"color: #00af00; text-decoration-color: #00af00\">0</span>][<span style=\"color: #00af00; text-decoration-color: #00af00\">0</span>]     │\n",
       "│ (<span style=\"color: #0087ff; text-decoration-color: #0087ff\">Dense</span>)             │                   │            │                   │\n",
       "├─────────────────────┼───────────────────┼────────────┼───────────────────┤\n",
       "│ class_output        │ (<span style=\"color: #00d7ff; text-decoration-color: #00d7ff\">None</span>, <span style=\"color: #00af00; text-decoration-color: #00af00\">1</span>)         │         <span style=\"color: #00af00; text-decoration-color: #00af00\">33</span> │ dense_4[<span style=\"color: #00af00; text-decoration-color: #00af00\">0</span>][<span style=\"color: #00af00; text-decoration-color: #00af00\">0</span>]     │\n",
       "│ (<span style=\"color: #0087ff; text-decoration-color: #0087ff\">Dense</span>)             │                   │            │                   │\n",
       "└─────────────────────┴───────────────────┴────────────┴───────────────────┘\n",
       "</pre>\n"
      ],
      "text/plain": [
       "┏━━━━━━━━━━━━━━━━━━━━━┳━━━━━━━━━━━━━━━━━━━┳━━━━━━━━━━━━┳━━━━━━━━━━━━━━━━━━━┓\n",
       "┃\u001b[1m \u001b[0m\u001b[1mLayer (type)       \u001b[0m\u001b[1m \u001b[0m┃\u001b[1m \u001b[0m\u001b[1mOutput Shape     \u001b[0m\u001b[1m \u001b[0m┃\u001b[1m \u001b[0m\u001b[1m   Param #\u001b[0m\u001b[1m \u001b[0m┃\u001b[1m \u001b[0m\u001b[1mConnected to     \u001b[0m\u001b[1m \u001b[0m┃\n",
       "┡━━━━━━━━━━━━━━━━━━━━━╇━━━━━━━━━━━━━━━━━━━╇━━━━━━━━━━━━╇━━━━━━━━━━━━━━━━━━━┩\n",
       "│ input_layer_2       │ (\u001b[38;5;45mNone\u001b[0m, \u001b[38;5;34m15\u001b[0m, \u001b[38;5;34m3\u001b[0m)     │          \u001b[38;5;34m0\u001b[0m │ -                 │\n",
       "│ (\u001b[38;5;33mInputLayer\u001b[0m)        │                   │            │                   │\n",
       "├─────────────────────┼───────────────────┼────────────┼───────────────────┤\n",
       "│ lstm_4 (\u001b[38;5;33mLSTM\u001b[0m)       │ (\u001b[38;5;45mNone\u001b[0m, \u001b[38;5;34m64\u001b[0m)        │     \u001b[38;5;34m17,408\u001b[0m │ input_layer_2[\u001b[38;5;34m0\u001b[0m]… │\n",
       "├─────────────────────┼───────────────────┼────────────┼───────────────────┤\n",
       "│ dropout_4 (\u001b[38;5;33mDropout\u001b[0m) │ (\u001b[38;5;45mNone\u001b[0m, \u001b[38;5;34m64\u001b[0m)        │          \u001b[38;5;34m0\u001b[0m │ lstm_4[\u001b[38;5;34m0\u001b[0m][\u001b[38;5;34m0\u001b[0m]      │\n",
       "├─────────────────────┼───────────────────┼────────────┼───────────────────┤\n",
       "│ dense_4 (\u001b[38;5;33mDense\u001b[0m)     │ (\u001b[38;5;45mNone\u001b[0m, \u001b[38;5;34m32\u001b[0m)        │      \u001b[38;5;34m2,080\u001b[0m │ dropout_4[\u001b[38;5;34m0\u001b[0m][\u001b[38;5;34m0\u001b[0m]   │\n",
       "├─────────────────────┼───────────────────┼────────────┼───────────────────┤\n",
       "│ forecast_output     │ (\u001b[38;5;45mNone\u001b[0m, \u001b[38;5;34m3\u001b[0m)         │         \u001b[38;5;34m99\u001b[0m │ dense_4[\u001b[38;5;34m0\u001b[0m][\u001b[38;5;34m0\u001b[0m]     │\n",
       "│ (\u001b[38;5;33mDense\u001b[0m)             │                   │            │                   │\n",
       "├─────────────────────┼───────────────────┼────────────┼───────────────────┤\n",
       "│ class_output        │ (\u001b[38;5;45mNone\u001b[0m, \u001b[38;5;34m1\u001b[0m)         │         \u001b[38;5;34m33\u001b[0m │ dense_4[\u001b[38;5;34m0\u001b[0m][\u001b[38;5;34m0\u001b[0m]     │\n",
       "│ (\u001b[38;5;33mDense\u001b[0m)             │                   │            │                   │\n",
       "└─────────────────────┴───────────────────┴────────────┴───────────────────┘\n"
      ]
     },
     "metadata": {},
     "output_type": "display_data"
    },
    {
     "data": {
      "text/html": [
       "<pre style=\"white-space:pre;overflow-x:auto;line-height:normal;font-family:Menlo,'DejaVu Sans Mono',consolas,'Courier New',monospace\"><span style=\"font-weight: bold\"> Total params: </span><span style=\"color: #00af00; text-decoration-color: #00af00\">19,620</span> (76.64 KB)\n",
       "</pre>\n"
      ],
      "text/plain": [
       "\u001b[1m Total params: \u001b[0m\u001b[38;5;34m19,620\u001b[0m (76.64 KB)\n"
      ]
     },
     "metadata": {},
     "output_type": "display_data"
    },
    {
     "data": {
      "text/html": [
       "<pre style=\"white-space:pre;overflow-x:auto;line-height:normal;font-family:Menlo,'DejaVu Sans Mono',consolas,'Courier New',monospace\"><span style=\"font-weight: bold\"> Trainable params: </span><span style=\"color: #00af00; text-decoration-color: #00af00\">19,620</span> (76.64 KB)\n",
       "</pre>\n"
      ],
      "text/plain": [
       "\u001b[1m Trainable params: \u001b[0m\u001b[38;5;34m19,620\u001b[0m (76.64 KB)\n"
      ]
     },
     "metadata": {},
     "output_type": "display_data"
    },
    {
     "data": {
      "text/html": [
       "<pre style=\"white-space:pre;overflow-x:auto;line-height:normal;font-family:Menlo,'DejaVu Sans Mono',consolas,'Courier New',monospace\"><span style=\"font-weight: bold\"> Non-trainable params: </span><span style=\"color: #00af00; text-decoration-color: #00af00\">0</span> (0.00 B)\n",
       "</pre>\n"
      ],
      "text/plain": [
       "\u001b[1m Non-trainable params: \u001b[0m\u001b[38;5;34m0\u001b[0m (0.00 B)\n"
      ]
     },
     "metadata": {},
     "output_type": "display_data"
    }
   ],
   "source": [
    "inputs = Input(shape=(SEQ_LEN, len(features)))\n",
    "x = LSTM(64, return_sequences=False)(inputs)\n",
    "x = Dropout(0.3)(x)\n",
    "x = Dense(32, activation='relu')(x)\n",
    "\n",
    "# Forecasting head (3 outputs)\n",
    "forecast_output = Dense(3, activation='linear', name='forecast_output')(x)\n",
    "\n",
    "# Classification head (1 output)\n",
    "class_output = Dense(1, activation='sigmoid', name='class_output')(x)\n",
    "\n",
    "# Define multi-output model\n",
    "model = Model(inputs=inputs, outputs=[forecast_output, class_output])\n",
    "\n",
    "# Compile with weighted losses\n",
    "model.compile(\n",
    "    optimizer='adam',\n",
    "    loss={\n",
    "        'forecast_output': 'mse',\n",
    "        'class_output': 'binary_crossentropy'\n",
    "    },\n",
    "    metrics={'class_output': 'accuracy'}\n",
    ")\n",
    "\n",
    "model.summary()"
   ]
  },
  {
   "cell_type": "code",
   "execution_count": 12,
   "id": "b8376539",
   "metadata": {},
   "outputs": [
    {
     "name": "stdout",
     "output_type": "stream",
     "text": [
      "======================================================================\n",
      "STEP 5: Train the model\n",
      "======================================================================\n"
     ]
    }
   ],
   "source": [
    "print(\"=\"*70)\n",
    "print(\"STEP 5: Train the model\")\n",
    "print(\"=\"*70)"
   ]
  },
  {
   "cell_type": "code",
   "execution_count": 34,
   "id": "9c899bcb",
   "metadata": {},
   "outputs": [
    {
     "name": "stdout",
     "output_type": "stream",
     "text": [
      "Epoch 1/100\n",
      "\u001b[1m19/19\u001b[0m \u001b[32m━━━━━━━━━━━━━━━━━━━━\u001b[0m\u001b[37m\u001b[0m \u001b[1m3s\u001b[0m 22ms/step - class_output_accuracy: 0.5918 - class_output_loss: 0.6898 - forecast_output_loss: 0.1952 - loss: 0.8851 - val_class_output_accuracy: 1.0000 - val_class_output_loss: 0.6412 - val_forecast_output_loss: 0.0301 - val_loss: 0.6713\n",
      "Epoch 2/100\n",
      "\u001b[1m19/19\u001b[0m \u001b[32m━━━━━━━━━━━━━━━━━━━━\u001b[0m\u001b[37m\u001b[0m \u001b[1m0s\u001b[0m 7ms/step - class_output_accuracy: 0.8016 - class_output_loss: 0.6321 - forecast_output_loss: 0.0280 - loss: 0.6603 - val_class_output_accuracy: 1.0000 - val_class_output_loss: 0.5300 - val_forecast_output_loss: 0.0113 - val_loss: 0.5416\n",
      "Epoch 3/100\n",
      "\u001b[1m19/19\u001b[0m \u001b[32m━━━━━━━━━━━━━━━━━━━━\u001b[0m\u001b[37m\u001b[0m \u001b[1m0s\u001b[0m 7ms/step - class_output_accuracy: 0.8986 - class_output_loss: 0.4511 - forecast_output_loss: 0.0335 - loss: 0.4843 - val_class_output_accuracy: 1.0000 - val_class_output_loss: 0.2352 - val_forecast_output_loss: 0.0598 - val_loss: 0.2950\n",
      "Epoch 4/100\n",
      "\u001b[1m19/19\u001b[0m \u001b[32m━━━━━━━━━━━━━━━━━━━━\u001b[0m\u001b[37m\u001b[0m \u001b[1m0s\u001b[0m 7ms/step - class_output_accuracy: 0.9044 - class_output_loss: 0.2632 - forecast_output_loss: 0.0458 - loss: 0.3091 - val_class_output_accuracy: 1.0000 - val_class_output_loss: 0.1033 - val_forecast_output_loss: 0.0059 - val_loss: 0.1092\n",
      "Epoch 5/100\n",
      "\u001b[1m19/19\u001b[0m \u001b[32m━━━━━━━━━━━━━━━━━━━━\u001b[0m\u001b[37m\u001b[0m \u001b[1m0s\u001b[0m 7ms/step - class_output_accuracy: 0.9088 - class_output_loss: 0.2198 - forecast_output_loss: 0.0367 - loss: 0.2566 - val_class_output_accuracy: 1.0000 - val_class_output_loss: 0.0295 - val_forecast_output_loss: 0.0035 - val_loss: 0.0331\n",
      "Epoch 6/100\n",
      "\u001b[1m19/19\u001b[0m \u001b[32m━━━━━━━━━━━━━━━━━━━━\u001b[0m\u001b[37m\u001b[0m \u001b[1m0s\u001b[0m 6ms/step - class_output_accuracy: 0.9083 - class_output_loss: 0.2064 - forecast_output_loss: 0.0359 - loss: 0.2422 - val_class_output_accuracy: 1.0000 - val_class_output_loss: 0.0259 - val_forecast_output_loss: 0.0023 - val_loss: 0.0283\n",
      "Epoch 7/100\n",
      "\u001b[1m19/19\u001b[0m \u001b[32m━━━━━━━━━━━━━━━━━━━━\u001b[0m\u001b[37m\u001b[0m \u001b[1m0s\u001b[0m 6ms/step - class_output_accuracy: 0.9235 - class_output_loss: 0.1793 - forecast_output_loss: 0.0212 - loss: 0.2004 - val_class_output_accuracy: 1.0000 - val_class_output_loss: 0.0165 - val_forecast_output_loss: 0.0018 - val_loss: 0.0183\n",
      "Epoch 8/100\n",
      "\u001b[1m19/19\u001b[0m \u001b[32m━━━━━━━━━━━━━━━━━━━━\u001b[0m\u001b[37m\u001b[0m \u001b[1m0s\u001b[0m 6ms/step - class_output_accuracy: 0.9199 - class_output_loss: 0.1982 - forecast_output_loss: 0.0207 - loss: 0.2185 - val_class_output_accuracy: 1.0000 - val_class_output_loss: 0.0145 - val_forecast_output_loss: 9.0283e-04 - val_loss: 0.0155\n",
      "Epoch 9/100\n",
      "\u001b[1m19/19\u001b[0m \u001b[32m━━━━━━━━━━━━━━━━━━━━\u001b[0m\u001b[37m\u001b[0m \u001b[1m0s\u001b[0m 7ms/step - class_output_accuracy: 0.9382 - class_output_loss: 0.1687 - forecast_output_loss: 0.0192 - loss: 0.1881 - val_class_output_accuracy: 1.0000 - val_class_output_loss: 0.0111 - val_forecast_output_loss: 0.0022 - val_loss: 0.0133\n",
      "Epoch 10/100\n",
      "\u001b[1m19/19\u001b[0m \u001b[32m━━━━━━━━━━━━━━━━━━━━\u001b[0m\u001b[37m\u001b[0m \u001b[1m0s\u001b[0m 7ms/step - class_output_accuracy: 0.9218 - class_output_loss: 0.1723 - forecast_output_loss: 0.0199 - loss: 0.1923 - val_class_output_accuracy: 1.0000 - val_class_output_loss: 0.0103 - val_forecast_output_loss: 0.0016 - val_loss: 0.0119\n",
      "Epoch 11/100\n",
      "\u001b[1m19/19\u001b[0m \u001b[32m━━━━━━━━━━━━━━━━━━━━\u001b[0m\u001b[37m\u001b[0m \u001b[1m0s\u001b[0m 6ms/step - class_output_accuracy: 0.9209 - class_output_loss: 0.1842 - forecast_output_loss: 0.0158 - loss: 0.2001 - val_class_output_accuracy: 1.0000 - val_class_output_loss: 0.0089 - val_forecast_output_loss: 0.0047 - val_loss: 0.0135\n",
      "Epoch 12/100\n",
      "\u001b[1m19/19\u001b[0m \u001b[32m━━━━━━━━━━━━━━━━━━━━\u001b[0m\u001b[37m\u001b[0m \u001b[1m0s\u001b[0m 7ms/step - class_output_accuracy: 0.9048 - class_output_loss: 0.2062 - forecast_output_loss: 0.0137 - loss: 0.2197 - val_class_output_accuracy: 1.0000 - val_class_output_loss: 0.0060 - val_forecast_output_loss: 0.0016 - val_loss: 0.0076\n",
      "Epoch 13/100\n",
      "\u001b[1m19/19\u001b[0m \u001b[32m━━━━━━━━━━━━━━━━━━━━\u001b[0m\u001b[37m\u001b[0m \u001b[1m0s\u001b[0m 6ms/step - class_output_accuracy: 0.9149 - class_output_loss: 0.1805 - forecast_output_loss: 0.0149 - loss: 0.1954 - val_class_output_accuracy: 1.0000 - val_class_output_loss: 0.0046 - val_forecast_output_loss: 5.5081e-04 - val_loss: 0.0052\n",
      "Epoch 14/100\n",
      "\u001b[1m19/19\u001b[0m \u001b[32m━━━━━━━━━━━━━━━━━━━━\u001b[0m\u001b[37m\u001b[0m \u001b[1m0s\u001b[0m 6ms/step - class_output_accuracy: 0.9211 - class_output_loss: 0.1594 - forecast_output_loss: 0.0110 - loss: 0.1705 - val_class_output_accuracy: 1.0000 - val_class_output_loss: 0.0026 - val_forecast_output_loss: 2.9564e-04 - val_loss: 0.0029\n",
      "Epoch 15/100\n",
      "\u001b[1m19/19\u001b[0m \u001b[32m━━━━━━━━━━━━━━━━━━━━\u001b[0m\u001b[37m\u001b[0m \u001b[1m0s\u001b[0m 6ms/step - class_output_accuracy: 0.9289 - class_output_loss: 0.1668 - forecast_output_loss: 0.0106 - loss: 0.1772 - val_class_output_accuracy: 1.0000 - val_class_output_loss: 0.0031 - val_forecast_output_loss: 0.0015 - val_loss: 0.0046\n",
      "Epoch 16/100\n",
      "\u001b[1m19/19\u001b[0m \u001b[32m━━━━━━━━━━━━━━━━━━━━\u001b[0m\u001b[37m\u001b[0m \u001b[1m0s\u001b[0m 6ms/step - class_output_accuracy: 0.9245 - class_output_loss: 0.1680 - forecast_output_loss: 0.0102 - loss: 0.1781 - val_class_output_accuracy: 1.0000 - val_class_output_loss: 0.0021 - val_forecast_output_loss: 0.0025 - val_loss: 0.0046\n",
      "Epoch 17/100\n",
      "\u001b[1m19/19\u001b[0m \u001b[32m━━━━━━━━━━━━━━━━━━━━\u001b[0m\u001b[37m\u001b[0m \u001b[1m0s\u001b[0m 6ms/step - class_output_accuracy: 0.9142 - class_output_loss: 0.1754 - forecast_output_loss: 0.0102 - loss: 0.1858 - val_class_output_accuracy: 1.0000 - val_class_output_loss: 0.0017 - val_forecast_output_loss: 0.0019 - val_loss: 0.0036\n",
      "Epoch 18/100\n",
      "\u001b[1m19/19\u001b[0m \u001b[32m━━━━━━━━━━━━━━━━━━━━\u001b[0m\u001b[37m\u001b[0m \u001b[1m0s\u001b[0m 7ms/step - class_output_accuracy: 0.9345 - class_output_loss: 0.1525 - forecast_output_loss: 0.0090 - loss: 0.1617 - val_class_output_accuracy: 1.0000 - val_class_output_loss: 0.0012 - val_forecast_output_loss: 0.0025 - val_loss: 0.0036\n",
      "Epoch 19/100\n",
      "\u001b[1m19/19\u001b[0m \u001b[32m━━━━━━━━━━━━━━━━━━━━\u001b[0m\u001b[37m\u001b[0m \u001b[1m0s\u001b[0m 6ms/step - class_output_accuracy: 0.9161 - class_output_loss: 0.1670 - forecast_output_loss: 0.0101 - loss: 0.1770 - val_class_output_accuracy: 1.0000 - val_class_output_loss: 0.0022 - val_forecast_output_loss: 0.0019 - val_loss: 0.0042\n",
      "Epoch 20/100\n",
      "\u001b[1m19/19\u001b[0m \u001b[32m━━━━━━━━━━━━━━━━━━━━\u001b[0m\u001b[37m\u001b[0m \u001b[1m0s\u001b[0m 7ms/step - class_output_accuracy: 0.9166 - class_output_loss: 0.1668 - forecast_output_loss: 0.0116 - loss: 0.1786 - val_class_output_accuracy: 1.0000 - val_class_output_loss: 8.2471e-04 - val_forecast_output_loss: 0.0012 - val_loss: 0.0020\n",
      "Epoch 21/100\n",
      "\u001b[1m19/19\u001b[0m \u001b[32m━━━━━━━━━━━━━━━━━━━━\u001b[0m\u001b[37m\u001b[0m \u001b[1m0s\u001b[0m 7ms/step - class_output_accuracy: 0.9109 - class_output_loss: 0.1709 - forecast_output_loss: 0.0107 - loss: 0.1818 - val_class_output_accuracy: 1.0000 - val_class_output_loss: 8.1466e-04 - val_forecast_output_loss: 0.0033 - val_loss: 0.0042\n",
      "Epoch 22/100\n",
      "\u001b[1m19/19\u001b[0m \u001b[32m━━━━━━━━━━━━━━━━━━━━\u001b[0m\u001b[37m\u001b[0m \u001b[1m0s\u001b[0m 6ms/step - class_output_accuracy: 0.9347 - class_output_loss: 0.1489 - forecast_output_loss: 0.0094 - loss: 0.1582 - val_class_output_accuracy: 1.0000 - val_class_output_loss: 6.5871e-04 - val_forecast_output_loss: 5.3889e-04 - val_loss: 0.0012\n",
      "Epoch 23/100\n",
      "\u001b[1m19/19\u001b[0m \u001b[32m━━━━━━━━━━━━━━━━━━━━\u001b[0m\u001b[37m\u001b[0m \u001b[1m0s\u001b[0m 7ms/step - class_output_accuracy: 0.9221 - class_output_loss: 0.1653 - forecast_output_loss: 0.0079 - loss: 0.1730 - val_class_output_accuracy: 1.0000 - val_class_output_loss: 0.0016 - val_forecast_output_loss: 0.0012 - val_loss: 0.0028\n",
      "Epoch 24/100\n",
      "\u001b[1m19/19\u001b[0m \u001b[32m━━━━━━━━━━━━━━━━━━━━\u001b[0m\u001b[37m\u001b[0m \u001b[1m0s\u001b[0m 6ms/step - class_output_accuracy: 0.9170 - class_output_loss: 0.1562 - forecast_output_loss: 0.0071 - loss: 0.1632 - val_class_output_accuracy: 1.0000 - val_class_output_loss: 3.4556e-04 - val_forecast_output_loss: 9.0041e-04 - val_loss: 0.0012\n",
      "Epoch 25/100\n",
      "\u001b[1m19/19\u001b[0m \u001b[32m━━━━━━━━━━━━━━━━━━━━\u001b[0m\u001b[37m\u001b[0m \u001b[1m0s\u001b[0m 7ms/step - class_output_accuracy: 0.9309 - class_output_loss: 0.1661 - forecast_output_loss: 0.0074 - loss: 0.1736 - val_class_output_accuracy: 1.0000 - val_class_output_loss: 3.8195e-04 - val_forecast_output_loss: 6.2422e-04 - val_loss: 0.0010\n",
      "Epoch 26/100\n",
      "\u001b[1m19/19\u001b[0m \u001b[32m━━━━━━━━━━━━━━━━━━━━\u001b[0m\u001b[37m\u001b[0m \u001b[1m0s\u001b[0m 7ms/step - class_output_accuracy: 0.9121 - class_output_loss: 0.1800 - forecast_output_loss: 0.0076 - loss: 0.1878 - val_class_output_accuracy: 1.0000 - val_class_output_loss: 3.9903e-04 - val_forecast_output_loss: 0.0017 - val_loss: 0.0021\n",
      "Epoch 27/100\n",
      "\u001b[1m19/19\u001b[0m \u001b[32m━━━━━━━━━━━━━━━━━━━━\u001b[0m\u001b[37m\u001b[0m \u001b[1m0s\u001b[0m 7ms/step - class_output_accuracy: 0.9412 - class_output_loss: 0.1387 - forecast_output_loss: 0.0072 - loss: 0.1458 - val_class_output_accuracy: 1.0000 - val_class_output_loss: 2.1669e-04 - val_forecast_output_loss: 3.5424e-04 - val_loss: 5.7233e-04\n",
      "Epoch 28/100\n",
      "\u001b[1m19/19\u001b[0m \u001b[32m━━━━━━━━━━━━━━━━━━━━\u001b[0m\u001b[37m\u001b[0m \u001b[1m0s\u001b[0m 7ms/step - class_output_accuracy: 0.9261 - class_output_loss: 0.1724 - forecast_output_loss: 0.0071 - loss: 0.1797 - val_class_output_accuracy: 1.0000 - val_class_output_loss: 5.0740e-04 - val_forecast_output_loss: 4.7820e-04 - val_loss: 9.9442e-04\n",
      "Epoch 29/100\n",
      "\u001b[1m19/19\u001b[0m \u001b[32m━━━━━━━━━━━━━━━━━━━━\u001b[0m\u001b[37m\u001b[0m \u001b[1m0s\u001b[0m 6ms/step - class_output_accuracy: 0.9314 - class_output_loss: 0.1493 - forecast_output_loss: 0.0071 - loss: 0.1565 - val_class_output_accuracy: 1.0000 - val_class_output_loss: 1.5667e-04 - val_forecast_output_loss: 4.5919e-04 - val_loss: 6.2446e-04\n",
      "Epoch 30/100\n",
      "\u001b[1m19/19\u001b[0m \u001b[32m━━━━━━━━━━━━━━━━━━━━\u001b[0m\u001b[37m\u001b[0m \u001b[1m0s\u001b[0m 6ms/step - class_output_accuracy: 0.9355 - class_output_loss: 0.1558 - forecast_output_loss: 0.0064 - loss: 0.1623 - val_class_output_accuracy: 1.0000 - val_class_output_loss: 9.1973e-05 - val_forecast_output_loss: 0.0012 - val_loss: 0.0013\n",
      "Epoch 31/100\n",
      "\u001b[1m19/19\u001b[0m \u001b[32m━━━━━━━━━━━━━━━━━━━━\u001b[0m\u001b[37m\u001b[0m \u001b[1m0s\u001b[0m 6ms/step - class_output_accuracy: 0.8990 - class_output_loss: 0.2003 - forecast_output_loss: 0.0065 - loss: 0.2069 - val_class_output_accuracy: 1.0000 - val_class_output_loss: 1.1058e-04 - val_forecast_output_loss: 0.0014 - val_loss: 0.0016\n",
      "Epoch 32/100\n",
      "\u001b[1m19/19\u001b[0m \u001b[32m━━━━━━━━━━━━━━━━━━━━\u001b[0m\u001b[37m\u001b[0m \u001b[1m0s\u001b[0m 7ms/step - class_output_accuracy: 0.9348 - class_output_loss: 0.1577 - forecast_output_loss: 0.0058 - loss: 0.1634 - val_class_output_accuracy: 1.0000 - val_class_output_loss: 1.4549e-04 - val_forecast_output_loss: 9.0686e-04 - val_loss: 0.0011\n",
      "Epoch 33/100\n",
      "\u001b[1m19/19\u001b[0m \u001b[32m━━━━━━━━━━━━━━━━━━━━\u001b[0m\u001b[37m\u001b[0m \u001b[1m0s\u001b[0m 6ms/step - class_output_accuracy: 0.9258 - class_output_loss: 0.1482 - forecast_output_loss: 0.0060 - loss: 0.1539 - val_class_output_accuracy: 1.0000 - val_class_output_loss: 1.8028e-04 - val_forecast_output_loss: 6.2073e-04 - val_loss: 8.0293e-04\n",
      "Epoch 34/100\n",
      "\u001b[1m19/19\u001b[0m \u001b[32m━━━━━━━━━━━━━━━━━━━━\u001b[0m\u001b[37m\u001b[0m \u001b[1m0s\u001b[0m 6ms/step - class_output_accuracy: 0.9394 - class_output_loss: 0.1398 - forecast_output_loss: 0.0064 - loss: 0.1462 - val_class_output_accuracy: 1.0000 - val_class_output_loss: 5.5050e-05 - val_forecast_output_loss: 8.3371e-04 - val_loss: 8.8681e-04\n",
      "Epoch 35/100\n",
      "\u001b[1m19/19\u001b[0m \u001b[32m━━━━━━━━━━━━━━━━━━━━\u001b[0m\u001b[37m\u001b[0m \u001b[1m0s\u001b[0m 6ms/step - class_output_accuracy: 0.9296 - class_output_loss: 0.1600 - forecast_output_loss: 0.0056 - loss: 0.1656 - val_class_output_accuracy: 1.0000 - val_class_output_loss: 5.3830e-05 - val_forecast_output_loss: 5.6074e-04 - val_loss: 6.1842e-04\n",
      "Epoch 36/100\n",
      "\u001b[1m19/19\u001b[0m \u001b[32m━━━━━━━━━━━━━━━━━━━━\u001b[0m\u001b[37m\u001b[0m \u001b[1m0s\u001b[0m 6ms/step - class_output_accuracy: 0.9416 - class_output_loss: 0.1343 - forecast_output_loss: 0.0065 - loss: 0.1409 - val_class_output_accuracy: 1.0000 - val_class_output_loss: 4.2623e-05 - val_forecast_output_loss: 5.1187e-04 - val_loss: 5.4939e-04\n",
      "Epoch 37/100\n",
      "\u001b[1m19/19\u001b[0m \u001b[32m━━━━━━━━━━━━━━━━━━━━\u001b[0m\u001b[37m\u001b[0m \u001b[1m0s\u001b[0m 6ms/step - class_output_accuracy: 0.9227 - class_output_loss: 0.1488 - forecast_output_loss: 0.0068 - loss: 0.1553 - val_class_output_accuracy: 1.0000 - val_class_output_loss: 6.0008e-05 - val_forecast_output_loss: 7.3775e-04 - val_loss: 7.9555e-04\n",
      "Epoch 38/100\n",
      "\u001b[1m19/19\u001b[0m \u001b[32m━━━━━━━━━━━━━━━━━━━━\u001b[0m\u001b[37m\u001b[0m \u001b[1m0s\u001b[0m 6ms/step - class_output_accuracy: 0.9206 - class_output_loss: 0.1655 - forecast_output_loss: 0.0055 - loss: 0.1712 - val_class_output_accuracy: 1.0000 - val_class_output_loss: 1.2835e-05 - val_forecast_output_loss: 0.0022 - val_loss: 0.0022\n",
      "Epoch 39/100\n",
      "\u001b[1m19/19\u001b[0m \u001b[32m━━━━━━━━━━━━━━━━━━━━\u001b[0m\u001b[37m\u001b[0m \u001b[1m0s\u001b[0m 7ms/step - class_output_accuracy: 0.9419 - class_output_loss: 0.1264 - forecast_output_loss: 0.0055 - loss: 0.1320 - val_class_output_accuracy: 1.0000 - val_class_output_loss: 1.0304e-05 - val_forecast_output_loss: 5.7503e-04 - val_loss: 5.9337e-04\n",
      "Epoch 40/100\n",
      "\u001b[1m19/19\u001b[0m \u001b[32m━━━━━━━━━━━━━━━━━━━━\u001b[0m\u001b[37m\u001b[0m \u001b[1m0s\u001b[0m 6ms/step - class_output_accuracy: 0.9443 - class_output_loss: 0.1380 - forecast_output_loss: 0.0051 - loss: 0.1432 - val_class_output_accuracy: 1.0000 - val_class_output_loss: 5.2749e-06 - val_forecast_output_loss: 0.0014 - val_loss: 0.0014\n",
      "Epoch 41/100\n",
      "\u001b[1m19/19\u001b[0m \u001b[32m━━━━━━━━━━━━━━━━━━━━\u001b[0m\u001b[37m\u001b[0m \u001b[1m0s\u001b[0m 6ms/step - class_output_accuracy: 0.9292 - class_output_loss: 0.1436 - forecast_output_loss: 0.0058 - loss: 0.1492 - val_class_output_accuracy: 1.0000 - val_class_output_loss: 9.3686e-06 - val_forecast_output_loss: 0.0013 - val_loss: 0.0013\n",
      "Epoch 42/100\n",
      "\u001b[1m19/19\u001b[0m \u001b[32m━━━━━━━━━━━━━━━━━━━━\u001b[0m\u001b[37m\u001b[0m \u001b[1m0s\u001b[0m 7ms/step - class_output_accuracy: 0.9363 - class_output_loss: 0.1576 - forecast_output_loss: 0.0048 - loss: 0.1624 - val_class_output_accuracy: 1.0000 - val_class_output_loss: 6.3408e-06 - val_forecast_output_loss: 0.0011 - val_loss: 0.0011\n",
      "Epoch 43/100\n",
      "\u001b[1m19/19\u001b[0m \u001b[32m━━━━━━━━━━━━━━━━━━━━\u001b[0m\u001b[37m\u001b[0m \u001b[1m0s\u001b[0m 7ms/step - class_output_accuracy: 0.9436 - class_output_loss: 0.1347 - forecast_output_loss: 0.0056 - loss: 0.1401 - val_class_output_accuracy: 1.0000 - val_class_output_loss: 2.4393e-06 - val_forecast_output_loss: 9.9321e-04 - val_loss: 9.8766e-04\n",
      "Epoch 44/100\n",
      "\u001b[1m19/19\u001b[0m \u001b[32m━━━━━━━━━━━━━━━━━━━━\u001b[0m\u001b[37m\u001b[0m \u001b[1m0s\u001b[0m 6ms/step - class_output_accuracy: 0.9570 - class_output_loss: 0.1085 - forecast_output_loss: 0.0050 - loss: 0.1134 - val_class_output_accuracy: 1.0000 - val_class_output_loss: 2.4632e-06 - val_forecast_output_loss: 0.0022 - val_loss: 0.0022\n",
      "Epoch 45/100\n",
      "\u001b[1m19/19\u001b[0m \u001b[32m━━━━━━━━━━━━━━━━━━━━\u001b[0m\u001b[37m\u001b[0m \u001b[1m0s\u001b[0m 7ms/step - class_output_accuracy: 0.9469 - class_output_loss: 0.1213 - forecast_output_loss: 0.0056 - loss: 0.1267 - val_class_output_accuracy: 1.0000 - val_class_output_loss: 1.2561e-06 - val_forecast_output_loss: 0.0059 - val_loss: 0.0059\n",
      "Epoch 46/100\n",
      "\u001b[1m19/19\u001b[0m \u001b[32m━━━━━━━━━━━━━━━━━━━━\u001b[0m\u001b[37m\u001b[0m \u001b[1m0s\u001b[0m 6ms/step - class_output_accuracy: 0.9448 - class_output_loss: 0.1329 - forecast_output_loss: 0.0060 - loss: 0.1390 - val_class_output_accuracy: 1.0000 - val_class_output_loss: 2.1535e-06 - val_forecast_output_loss: 0.0010 - val_loss: 0.0010\n"
     ]
    }
   ],
   "source": [
    "early_stop = EarlyStopping(monitor='val_loss', patience=10, restore_best_weights=True)\n",
    "\n",
    "history = model.fit(\n",
    "    X_train,\n",
    "    {'forecast_output': y_train_reg, 'class_output': y_train_class},\n",
    "    validation_split=0.2,\n",
    "    epochs=100,\n",
    "    batch_size=32,\n",
    "    callbacks=[early_stop],\n",
    "    verbose=1\n",
    ")"
   ]
  },
  {
   "cell_type": "code",
   "execution_count": 35,
   "id": "53b5b510",
   "metadata": {},
   "outputs": [
    {
     "name": "stdout",
     "output_type": "stream",
     "text": [
      "======================================================================\n",
      "STEP 6: Evaluate Model\n",
      "======================================================================\n"
     ]
    }
   ],
   "source": [
    "print(\"=\"*70)\n",
    "print(\"STEP 6: Evaluate Model\")\n",
    "print(\"=\"*70)"
   ]
  },
  {
   "cell_type": "code",
   "execution_count": 36,
   "id": "2496dc66",
   "metadata": {},
   "outputs": [
    {
     "name": "stdout",
     "output_type": "stream",
     "text": [
      "\n",
      "✅ Model Classification Accuracy: 100.00%\n",
      "Forecast Loss (MSE): 0.012643\n"
     ]
    }
   ],
   "source": [
    "loss, forecast_loss, class_loss, class_acc = model.evaluate(\n",
    "    X_test, {'forecast_output': y_test_reg, 'class_output': y_test_class}, verbose=0\n",
    ")\n",
    "print(f\"\\n✅ Model Classification Accuracy: {class_acc*100:.2f}%\")\n",
    "print(f\"Forecast Loss (MSE): {forecast_loss:.6f}\")"
   ]
  },
  {
   "cell_type": "code",
   "execution_count": 37,
   "id": "6fcca84c",
   "metadata": {},
   "outputs": [
    {
     "name": "stdout",
     "output_type": "stream",
     "text": [
      "======================================================================\n",
      "STEP 7: PREDICT & CHECK PERFORMANCE\n",
      "======================================================================\n"
     ]
    }
   ],
   "source": [
    "print(\"=\"*70)\n",
    "print(\"STEP 7: PREDICT & CHECK PERFORMANCE\")\n",
    "print(\"=\"*70)"
   ]
  },
  {
   "cell_type": "code",
   "execution_count": 38,
   "id": "ee736f3e",
   "metadata": {},
   "outputs": [
    {
     "name": "stdout",
     "output_type": "stream",
     "text": [
      "\u001b[1m6/6\u001b[0m \u001b[32m━━━━━━━━━━━━━━━━━━━━\u001b[0m\u001b[37m\u001b[0m \u001b[1m0s\u001b[0m 44ms/step\n",
      "\n",
      "Classification Report:\n",
      "              precision    recall  f1-score   support\n",
      "\n",
      "           1       1.00      1.00      1.00       187\n",
      "\n",
      "    accuracy                           1.00       187\n",
      "   macro avg       1.00      1.00      1.00       187\n",
      "weighted avg       1.00      1.00      1.00       187\n",
      "\n"
     ]
    }
   ],
   "source": [
    "forecast_pred, class_pred = model.predict(X_test)\n",
    "\n",
    "# Inverse scale the forecast\n",
    "forecast_pred_inv = scaler.inverse_transform(forecast_pred)\n",
    "y_test_reg_inv = scaler.inverse_transform(y_test_reg)\n",
    "\n",
    "# Classification evaluation\n",
    "y_pred_labels = (class_pred > 0.5).astype(int)\n",
    "print(\"\\nClassification Report:\")\n",
    "print(classification_report(y_test_class, y_pred_labels))"
   ]
  },
  {
   "cell_type": "code",
   "execution_count": 18,
   "id": "3549bbd9",
   "metadata": {},
   "outputs": [
    {
     "name": "stdout",
     "output_type": "stream",
     "text": [
      "======================================================================\n",
      "# STEP 8: Visualization\n",
      "======================================================================\n"
     ]
    }
   ],
   "source": [
    "print(\"=\"*70)\n",
    "print(\"# STEP 8: Visualization\")\n",
    "print(\"=\"*70)"
   ]
  },
  {
   "cell_type": "code",
   "execution_count": 39,
   "id": "f2b60850",
   "metadata": {},
   "outputs": [
    {
     "data": {
      "image/png": "[encoded data removed]",
      "text/plain": [
       "<Figure size 800x400 with 1 Axes>"
      ]
     },
     "metadata": {},
     "output_type": "display_data"
    }
   ],
   "source": [
    "plt.figure(figsize=(8,4))\n",
    "plt.plot(y_test_reg_inv[:, 1], label='Actual Brix')\n",
    "plt.plot(forecast_pred_inv[:, 1], label='Predicted Brix', linestyle='--')\n",
    "plt.legend()\n",
    "plt.title(\"Brix Forecast vs Actual\")\n",
    "plt.show()"
   ]
  },
  {
   "cell_type": "code",
   "execution_count": 42,
   "id": "8dc97f95",
   "metadata": {},
   "outputs": [
    {
     "name": "stdout",
     "output_type": "stream",
     "text": [
      "======================================================================\n",
      "# STEP 9: Save the model\n",
      "======================================================================\n"
     ]
    }
   ],
   "source": [
    "print(\"=\"*70)\n",
    "print(\"# STEP 9: Save the model\")\n",
    "print(\"=\"*70)"
   ]
  },
  {
   "cell_type": "code",
   "execution_count": 43,
   "id": "7f55e7f5",
   "metadata": {},
   "outputs": [
    {
     "name": "stderr",
     "output_type": "stream",
     "text": [
      "WARNING:absl:You are saving your model as an HDF5 file via `model.save()` or `keras.saving.save_model(model)`. This file format is considered legacy. We recommend using instead the native Keras format, e.g. `model.save('my_model.keras')` or `keras.saving.save_model(model, 'my_model.keras')`. \n"
     ]
    },
    {
     "name": "stdout",
     "output_type": "stream",
     "text": [
      "\n",
      "✅ Saved model as fermentation_multitask_lstm.h5\n"
     ]
    }
   ],
   "source": [
    "model.save(\"fermentation_multitask_lstm.h5\")\n",
    "print(\"\\n✅ Saved model as fermentation_multitask_lstm.h5\")"
   ]
  },
  {
   "cell_type": "code",
   "execution_count": null,
   "id": "f713b719",
   "metadata": {},
   "outputs": [],
   "source": []
  }
 ],
 "metadata": {
  "kernelspec": {
   "display_name": "base",
   "language": "python",
   "name": "python3"
  },
  "language_info": {
   "codemirror_mode": {
    "name": "ipython",
    "version": 3
   },
   "file_extension": ".py",
   "mimetype": "text/x-python",
   "name": "python",
   "nbconvert_exporter": "python",
   "pygments_lexer": "ipython3",
   "version": "3.12.7"
  }
 },
 "nbformat": 4,
 "nbformat_minor": 5
}
