{
 "cells": [
  {
   "cell_type": "markdown",
   "id": "63f071d1",
   "metadata": {},
   "source": [
    "My Data:\n",
    "- 948 total readings\n",
    "- Readings 0-816: Not Fermented (Class 0)\n",
    "- Readings 817-948: Fermented (Class 1)\n",
    "- Features: gravity, temperature, timestamp, brix\n",
    "- Interval: ~15 seconds"
   ]
  },
  {
   "cell_type": "markdown",
   "id": "b4894630",
   "metadata": {},
   "source": [
    "## Import necessary libraries"
   ]
  },
  {
   "cell_type": "code",
   "execution_count": 2,
   "id": "e6ba223a",
   "metadata": {},
   "outputs": [],
   "source": [
    "import pandas as pd\n",
    "import numpy as np\n",
    "import matplotlib.pyplot as plt\n",
    "import seaborn as sns\n",
    "from sklearn.preprocessing import StandardScaler\n",
    "from sklearn.model_selection import train_test_split\n",
    "from sklearn.utils.class_weight import compute_class_weight\n",
    "from sklearn.metrics import classification_report, confusion_matrix, roc_curve, auc\n",
    "import joblib\n",
    "import tensorflow as tf\n",
    "from tensorflow.keras.models import Sequential\n",
    "from tensorflow.keras.layers import LSTM, Dense, Dropout, BatchNormalization\n",
    "from tensorflow.keras.callbacks import EarlyStopping, ReduceLROnPlateau, ModelCheckpoint\n",
    "from tensorflow.keras.regularizers import l2\n",
    "from imblearn.over_sampling import SMOTE\n",
    "import warnings\n",
    "warnings.filterwarnings('ignore')"
   ]
  },
  {
   "cell_type": "markdown",
   "id": "6dc21c5d",
   "metadata": {},
   "source": [
    "### Set seeds for reproducibility"
   ]
  },
  {
   "cell_type": "code",
   "execution_count": 6,
   "id": "57766729",
   "metadata": {},
   "outputs": [
    {
     "name": "stdout",
     "output_type": "stream",
     "text": [
      "======================================================================\n",
      "STEP-BY-STEP LSTM MODELING FOR TUBA FERMENTATION\n",
      "======================================================================\n"
     ]
    }
   ],
   "source": [
    "np.random.seed(42)\n",
    "tf.random.set_seed(42)\n",
    "print(\"=\"*70)\n",
    "print(\"STEP-BY-STEP LSTM MODELING FOR TUBA FERMENTATION\")\n",
    "print(\"=\"*70)"
   ]
  },
  {
   "cell_type": "code",
   "execution_count": 8,
   "id": "65d3fd35",
   "metadata": {},
   "outputs": [
    {
     "name": "stdout",
     "output_type": "stream",
     "text": [
      "\n",
      "======================================================================\n",
      "STEP 1: DATA LOADING\n",
      "======================================================================\n"
     ]
    }
   ],
   "source": [
    "print(\"\\n\" + \"=\"*70)\n",
    "print(\"STEP 1: DATA LOADING\")\n",
    "print(\"=\"*70)\n"
   ]
  },
  {
   "cell_type": "code",
   "execution_count": 88,
   "id": "ffbbc4a1",
   "metadata": {},
   "outputs": [],
   "source": [
    "# Load your CSV file\n",
    "df = pd.read_csv('transform_readings.csv')"
   ]
  },
  {
   "cell_type": "code",
   "execution_count": 89,
   "id": "79c42e75",
   "metadata": {},
   "outputs": [
    {
     "name": "stdout",
     "output_type": "stream",
     "text": [
      "✓ Loaded 948 readings\n",
      "\n",
      "Dataset Info:\n",
      "<class 'pandas.core.frame.DataFrame'>\n",
      "RangeIndex: 948 entries, 0 to 947\n",
      "Data columns (total 4 columns):\n",
      " #   Column       Non-Null Count  Dtype  \n",
      "---  ------       --------------  -----  \n",
      " 0   gravity      948 non-null    float64\n",
      " 1   temperature  948 non-null    float64\n",
      " 2   timestamp    948 non-null    object \n",
      " 3   brix         948 non-null    float64\n",
      "dtypes: float64(3), object(1)\n",
      "memory usage: 29.8+ KB\n",
      "None\n",
      "\n",
      "First 5 rows:\n",
      "    gravity  temperature                   timestamp      brix\n",
      "0  1.015740      30.1875  2025-10-06T16:08:45.513729  4.012791\n",
      "1  1.014763      30.1875  2025-10-06T16:08:58.411916  3.766628\n",
      "2  1.013954      30.1250  2025-10-06T16:09:10.999436  3.562475\n",
      "3  1.013093      30.0625  2025-10-06T16:09:23.931160  3.344882\n",
      "4  1.013142      30.0625  2025-10-06T16:09:39.360793  3.357274\n",
      "\n",
      "Last 5 rows:\n",
      "      gravity  temperature                   timestamp      brix\n",
      "943  0.999194      26.1875  2025-10-07T09:01:09.982037 -0.213538\n",
      "944  0.999150      26.1875  2025-10-07T09:02:12.577656 -0.224941\n",
      "945  0.999208      26.1875  2025-10-07T09:02:12.593633 -0.209909\n",
      "946  0.999159      26.1875  2025-10-07T09:02:19.263649 -0.222609\n",
      "947  0.999195      26.1875  2025-10-07T09:02:31.954492 -0.213278\n",
      "\n",
      "Basic statistics:\n",
      "          gravity  temperature        brix\n",
      "count  948.000000   948.000000  948.000000\n",
      "mean     1.002666    28.109968    0.678422\n",
      "std      0.004715     1.028162    1.210512\n",
      "min      0.998079    26.187500   -0.502790\n",
      "25%      0.998767    27.500000   -0.324242\n",
      "50%      0.999198    28.625000   -0.212371\n",
      "75%      1.005876    28.937500    1.507973\n",
      "max      1.015740    30.187500    4.012791\n"
     ]
    }
   ],
   "source": [
    "print(f\"✓ Loaded {len(df)} readings\")\n",
    "print(f\"\\nDataset Info:\")\n",
    "print(df.info())\n",
    "print(f\"\\nFirst 5 rows:\")\n",
    "print(df.head())\n",
    "print(f\"\\nLast 5 rows:\")\n",
    "print(df.tail())\n",
    "print(f\"\\nBasic statistics:\")\n",
    "print(df.describe())"
   ]
  },
  {
   "cell_type": "code",
   "execution_count": 11,
   "id": "17203b33",
   "metadata": {},
   "outputs": [
    {
     "name": "stdout",
     "output_type": "stream",
     "text": [
      "\n",
      "======================================================================\n",
      "STEP 2: DATA CLEANING\n",
      "======================================================================\n"
     ]
    }
   ],
   "source": [
    "print(\"\\n\" + \"=\"*70)\n",
    "print(\"STEP 2: DATA CLEANING\")\n",
    "print(\"=\"*70)"
   ]
  },
  {
   "cell_type": "code",
   "execution_count": 12,
   "id": "efda739b",
   "metadata": {},
   "outputs": [
    {
     "name": "stdout",
     "output_type": "stream",
     "text": [
      "✓ Converted timestamp to datetime format\n"
     ]
    }
   ],
   "source": [
    "# Convert timestamp to datetime\n",
    "df['timestamp'] = pd.to_datetime(df['timestamp'])\n",
    "print(f\"✓ Converted timestamp to datetime format\")"
   ]
  },
  {
   "cell_type": "code",
   "execution_count": 13,
   "id": "faf76a54",
   "metadata": {},
   "outputs": [
    {
     "name": "stdout",
     "output_type": "stream",
     "text": [
      "\n",
      "Missing values per column:\n",
      "gravity        0\n",
      "temperature    0\n",
      "timestamp      0\n",
      "brix           0\n",
      "dtype: int64\n"
     ]
    }
   ],
   "source": [
    "# Check for missing values\n",
    "print(f\"\\nMissing values per column:\")\n",
    "print(df.isnull().sum())"
   ]
  },
  {
   "cell_type": "code",
   "execution_count": 14,
   "id": "b634b0a4",
   "metadata": {},
   "outputs": [
    {
     "name": "stdout",
     "output_type": "stream",
     "text": [
      "\n",
      "Duplicate timestamps: 47\n",
      "✓ Removed 47 duplicate readings\n"
     ]
    }
   ],
   "source": [
    "# Check for duplicate timestamps\n",
    "duplicates = df.duplicated(subset=['timestamp']).sum()\n",
    "print(f\"\\nDuplicate timestamps: {duplicates}\")\n",
    "if duplicates > 0:\n",
    "    df = df.drop_duplicates(subset=['timestamp'], keep='first')\n",
    "    print(f\"✓ Removed {duplicates} duplicate readings\")"
   ]
  },
  {
   "cell_type": "code",
   "execution_count": 15,
   "id": "f3eb0457",
   "metadata": {},
   "outputs": [],
   "source": [
    "# Remove sensor errors (impossible values)\n",
    "initial_count = len(df)"
   ]
  },
  {
   "cell_type": "code",
   "execution_count": 16,
   "id": "e8e4193a",
   "metadata": {},
   "outputs": [
    {
     "name": "stdout",
     "output_type": "stream",
     "text": [
      "\n",
      "✓ Removed 0 readings with impossible values\n",
      "✓ Remaining readings: 901\n"
     ]
    }
   ],
   "source": [
    "# Gravity range: 0.990 - 1.120 (typical fermentation range)\n",
    "df = df[(df['gravity'] >= 0.990) & (df['gravity'] <= 1.120)]\n",
    "\n",
    "# Temperature range: 15-40°C (realistic fermentation temperature)\n",
    "df = df[(df['temperature'] >= 15) & (df['temperature'] <= 40)]\n",
    "\n",
    "# Brix range: -5 to 25 (reasonable range)\n",
    "df = df[(df['brix'] >= -5) & (df['brix'] <= 25)]\n",
    "\n",
    "removed = initial_count - len(df)\n",
    "print(f\"\\n✓ Removed {removed} readings with impossible values\")\n",
    "print(f\"✓ Remaining readings: {len(df)}\")"
   ]
  },
  {
   "cell_type": "code",
   "execution_count": 17,
   "id": "a1265d4f",
   "metadata": {},
   "outputs": [
    {
     "name": "stdout",
     "output_type": "stream",
     "text": [
      "\n",
      "Removing outliers using IQR method:\n",
      "  gravity: removed 0 outliers (range: 0.9840 to 1.0208)\n",
      "  temperature: removed 0 outliers (range: 24.6250 to 31.8125)\n",
      "  brix: removed 0 outliers (range: -4.1312 to 5.3661)\n",
      "\n",
      "✓ Final dataset after cleaning: 901 readings\n"
     ]
    }
   ],
   "source": [
    "# Detect and remove outliers using IQR method\n",
    "def remove_outliers_iqr(data, column, multiplier=1.5):\n",
    "    Q1 = data[column].quantile(0.25)\n",
    "    Q3 = data[column].quantile(0.75)\n",
    "    IQR = Q3 - Q1\n",
    "    lower_bound = Q1 - multiplier * IQR\n",
    "    upper_bound = Q3 + multiplier * IQR\n",
    "    \n",
    "    before = len(data)\n",
    "    data = data[(data[column] >= lower_bound) & (data[column] <= upper_bound)]\n",
    "    after = len(data)\n",
    "    \n",
    "    print(f\"  {column}: removed {before - after} outliers (range: {lower_bound:.4f} to {upper_bound:.4f})\")\n",
    "    return data\n",
    "\n",
    "print(f\"\\nRemoving outliers using IQR method:\")\n",
    "df = remove_outliers_iqr(df, 'gravity', multiplier=2.0)\n",
    "df = remove_outliers_iqr(df, 'temperature', multiplier=2.0)\n",
    "df = remove_outliers_iqr(df, 'brix', multiplier=2.0)\n",
    "\n",
    "print(f\"\\n✓ Final dataset after cleaning: {len(df)} readings\")"
   ]
  },
  {
   "cell_type": "code",
   "execution_count": 18,
   "id": "d93f52c1",
   "metadata": {},
   "outputs": [
    {
     "name": "stdout",
     "output_type": "stream",
     "text": [
      "\n",
      "======================================================================\n",
      "STEP 3: HANDLING MISSING DATA\n",
      "======================================================================\n"
     ]
    }
   ],
   "source": [
    "print(\"\\n\" + \"=\"*70)\n",
    "print(\"STEP 3: HANDLING MISSING DATA\")\n",
    "print(\"=\"*70)"
   ]
  },
  {
   "cell_type": "code",
   "execution_count": 19,
   "id": "aa34ef15",
   "metadata": {},
   "outputs": [
    {
     "name": "stdout",
     "output_type": "stream",
     "text": [
      "✓ Sorted data by timestamp\n"
     ]
    }
   ],
   "source": [
    "# Sort by timestamp to ensure proper interpolation\n",
    "df = df.sort_values('timestamp').reset_index(drop=True)\n",
    "print(f\"✓ Sorted data by timestamp\")"
   ]
  },
  {
   "cell_type": "code",
   "execution_count": 20,
   "id": "1d558e0a",
   "metadata": {},
   "outputs": [],
   "source": [
    "# Check for time gaps (missed transmissions)\n",
    "df['time_diff'] = df['timestamp'].diff().dt.total_seconds()\n",
    "expected_interval = 15  # seconds\n",
    "tolerance = 5  # seconds"
   ]
  },
  {
   "cell_type": "code",
   "execution_count": 21,
   "id": "71a8cba2",
   "metadata": {},
   "outputs": [
    {
     "name": "stdout",
     "output_type": "stream",
     "text": [
      "\n",
      "Detected 27 time gaps larger than 20 seconds\n",
      "Largest gap: 19992.4 seconds\n"
     ]
    }
   ],
   "source": [
    "large_gaps = df[df['time_diff'] > (expected_interval + tolerance)]\n",
    "print(f\"\\nDetected {len(large_gaps)} time gaps larger than {expected_interval + tolerance} seconds\")\n",
    "\n",
    "if len(large_gaps) > 0:\n",
    "    print(f\"Largest gap: {df['time_diff'].max():.1f} seconds\")"
   ]
  },
  {
   "cell_type": "code",
   "execution_count": null,
   "id": "0c7afa6c",
   "metadata": {},
   "outputs": [],
   "source": [
    "# Interpolate missing values (if any NaN values exist after cleaning)\n",
    "numeric_cols = ['gravity', 'temperature', 'brix']\n",
    "for col in numeric_cols:\n",
    "    if df[col].isnull().sum() > 0:\n",
    "        df[col] = df[col].interpolate(method='linear', limit=3)\n",
    "        print(f\"✓ Interpolated missing values in {col}\")"
   ]
  },
  {
   "cell_type": "code",
   "execution_count": 23,
   "id": "f63a4168",
   "metadata": {},
   "outputs": [],
   "source": [
    "# Forward fill any remaining NaN at start\n",
    "df = df.fillna(method='bfill')\n"
   ]
  },
  {
   "cell_type": "code",
   "execution_count": 24,
   "id": "c5b779a7",
   "metadata": {},
   "outputs": [],
   "source": [
    "# Backward fill any remaining NaN at end\n",
    "df = df.fillna(method='ffill')"
   ]
  },
  {
   "cell_type": "code",
   "execution_count": 25,
   "id": "4df9198f",
   "metadata": {},
   "outputs": [
    {
     "name": "stdout",
     "output_type": "stream",
     "text": [
      "\n",
      "✓ All missing values handled\n",
      "Remaining NaN values: 0\n"
     ]
    }
   ],
   "source": [
    "print(f\"\\n✓ All missing values handled\")\n",
    "print(f\"Remaining NaN values: {df.isnull().sum().sum()}\")"
   ]
  },
  {
   "cell_type": "code",
   "execution_count": 26,
   "id": "d9e969e7",
   "metadata": {},
   "outputs": [
    {
     "name": "stdout",
     "output_type": "stream",
     "text": [
      "\n",
      "======================================================================\n",
      "STEP 4: FEATURE ENGINEERING\n",
      "======================================================================\n"
     ]
    }
   ],
   "source": [
    "print(\"\\n\" + \"=\"*70)\n",
    "print(\"STEP 4: FEATURE ENGINEERING\")\n",
    "print(\"=\"*70)\n"
   ]
  },
  {
   "cell_type": "code",
   "execution_count": 27,
   "id": "8aa97c74",
   "metadata": {},
   "outputs": [
    {
     "name": "stdout",
     "output_type": "stream",
     "text": [
      "✓ Created 'hours_elapsed' feature\n"
     ]
    }
   ],
   "source": [
    "# 4.1: Time-based features\n",
    "batch_start = df['timestamp'].iloc[0]\n",
    "df['hours_elapsed'] = (df['timestamp'] - batch_start).dt.total_seconds() / 3600\n",
    "print(f\"✓ Created 'hours_elapsed' feature\")"
   ]
  },
  {
   "cell_type": "code",
   "execution_count": 28,
   "id": "04b9127a",
   "metadata": {},
   "outputs": [
    {
     "name": "stdout",
     "output_type": "stream",
     "text": [
      "✓ Brix values verified (avg diff: 0.0000)\n"
     ]
    }
   ],
   "source": [
    "# 4.2: Verify/Recalculate Brix (if needed)\n",
    "# You already have brix in your CSV, but let's verify it's correct\n",
    "# SG -> Brix formula: Brix = (((182.4601 * SG - 775.6821) * SG + 1262.7794) * SG - 669.5622)\n",
    "def sg_to_brix(sg):\n",
    "    \"\"\"Convert Specific Gravity to Brix using standard formula\"\"\"\n",
    "    return (((182.4601 * sg - 775.6821) * sg + 1262.7794) * sg - 669.5622)\n",
    "\n",
    "# Verify existing brix values (optional - your CSV already has brix)\n",
    "df['brix_verified'] = df['gravity'].apply(sg_to_brix)\n",
    "\n",
    "# Compare if significantly different\n",
    "brix_diff = abs(df['brix'] - df['brix_verified']).mean()\n",
    "if brix_diff > 0.1:\n",
    "    print(f\"⚠️  Warning: Brix values differ by {brix_diff:.4f} on average\")\n",
    "    print(f\"   Using verified brix from SG conversion\")\n",
    "    df['brix'] = df['brix_verified']\n",
    "else:\n",
    "    print(f\"✓ Brix values verified (avg diff: {brix_diff:.4f})\")\n",
    "\n",
    "df.drop('brix_verified', axis=1, inplace=True)"
   ]
  },
  {
   "cell_type": "code",
   "execution_count": 29,
   "id": "36b5a923",
   "metadata": {},
   "outputs": [
    {
     "name": "stdout",
     "output_type": "stream",
     "text": [
      "✓ Original Gravity (OG): 1.0157\n",
      "✓ Calculated 'alcohol' content (ABV %) using SG method\n",
      "✓ Calculated 'alcohol_from_brix' using Brix method (more accurate for tuba)\n",
      "   Original Brix: 4.01°Bx\n",
      "   Final Brix: -0.21°Bx\n",
      "   Estimated final ABV: 2.17% (SG method)\n",
      "   Estimated final ABV: 2.49% (Brix method)\n"
     ]
    }
   ],
   "source": [
    "# 4.3: Calculate alcohol content using proper formula\n",
    "# Method 1: Standard ABV formula from OG and FG\n",
    "# ABV = (OG - FG) × 131.25\n",
    "# For tuba, we need to determine Original Gravity (OG) from first reading\n",
    "ORIGINAL_GRAVITY = df['gravity'].iloc[0]  # First reading is your OG\n",
    "print(f\"✓ Original Gravity (OG): {ORIGINAL_GRAVITY:.4f}\")\n",
    "\n",
    "df['alcohol'] = (ORIGINAL_GRAVITY - df['gravity']) * 131.25\n",
    "df['alcohol'] = df['alcohol'].clip(lower=0)  # No negative alcohol\n",
    "\n",
    "# Alternative Method 2: Using Brix for alcohol calculation\n",
    "# More accurate for sugar-based fermentation (tuba is coconut sap sugar)\n",
    "# ABV ≈ (Starting Brix - Final Brix) × 0.59\n",
    "# This accounts for the fact that not all sugar converts to alcohol\n",
    "ORIGINAL_BRIX = df['brix'].iloc[0]  # First reading\n",
    "df['alcohol_from_brix'] = (ORIGINAL_BRIX - df['brix']) * 0.59\n",
    "df['alcohol_from_brix'] = df['alcohol_from_brix'].clip(lower=0)\n",
    "\n",
    "print(f\"✓ Calculated 'alcohol' content (ABV %) using SG method\")\n",
    "print(f\"✓ Calculated 'alcohol_from_brix' using Brix method (more accurate for tuba)\")\n",
    "print(f\"   Original Brix: {ORIGINAL_BRIX:.2f}°Bx\")\n",
    "print(f\"   Final Brix: {df['brix'].iloc[-1]:.2f}°Bx\")\n",
    "print(f\"   Estimated final ABV: {df['alcohol'].iloc[-1]:.2f}% (SG method)\")\n",
    "print(f\"   Estimated final ABV: {df['alcohol_from_brix'].iloc[-1]:.2f}% (Brix method)\")\n"
   ]
  },
  {
   "cell_type": "code",
   "execution_count": 30,
   "id": "ca3232f1",
   "metadata": {},
   "outputs": [
    {
     "name": "stdout",
     "output_type": "stream",
     "text": [
      "✓ Calculated velocity features (rate of change)\n"
     ]
    }
   ],
   "source": [
    "# 4.3: Rate of change features (velocity)\n",
    "df['gravity_velocity'] = df['gravity'].diff() / df['hours_elapsed'].diff()\n",
    "df['temp_velocity'] = df['temperature'].diff() / df['hours_elapsed'].diff()\n",
    "df['brix_velocity'] = df['brix'].diff() / df['hours_elapsed'].diff()\n",
    "df['alcohol_velocity'] = df['alcohol'].diff() / df['hours_elapsed'].diff()\n",
    "print(f\"✓ Calculated velocity features (rate of change)\")"
   ]
  },
  {
   "cell_type": "code",
   "execution_count": 31,
   "id": "1596b816",
   "metadata": {},
   "outputs": [
    {
     "name": "stdout",
     "output_type": "stream",
     "text": [
      "✓ Calculated acceleration features\n"
     ]
    }
   ],
   "source": [
    "# 4.4: Acceleration features (change in velocity)\n",
    "df['gravity_acceleration'] = df['gravity_velocity'].diff() / df['hours_elapsed'].diff()\n",
    "df['temp_acceleration'] = df['temp_velocity'].diff() / df['hours_elapsed'].diff()\n",
    "print(f\"✓ Calculated acceleration features\")"
   ]
  },
  {
   "cell_type": "code",
   "execution_count": 32,
   "id": "0e83dd80",
   "metadata": {},
   "outputs": [
    {
     "name": "stdout",
     "output_type": "stream",
     "text": [
      "✓ Calculated moving averages (windows: [5, 10, 20])\n"
     ]
    }
   ],
   "source": [
    "# 4.5: Moving averages (smoothing)\n",
    "window_sizes = [5, 10, 20]\n",
    "for window in window_sizes:\n",
    "    df[f'gravity_ma{window}'] = df['gravity'].rolling(window=window, min_periods=1).mean()\n",
    "    df[f'temp_ma{window}'] = df['temperature'].rolling(window=window, min_periods=1).mean()\n",
    "    df[f'brix_ma{window}'] = df['brix'].rolling(window=window, min_periods=1).mean()\n",
    "print(f\"✓ Calculated moving averages (windows: {window_sizes})\")"
   ]
  },
  {
   "cell_type": "code",
   "execution_count": 33,
   "id": "a5b3bdd2",
   "metadata": {},
   "outputs": [
    {
     "name": "stdout",
     "output_type": "stream",
     "text": [
      "✓ Calculated rolling standard deviations\n"
     ]
    }
   ],
   "source": [
    "# 4.6: Standard deviation (volatility)\n",
    "for window in [10, 20]:\n",
    "    df[f'gravity_std{window}'] = df['gravity'].rolling(window=window, min_periods=1).std()\n",
    "    df[f'temp_std{window}'] = df['temperature'].rolling(window=window, min_periods=1).std()\n",
    "print(f\"✓ Calculated rolling standard deviations\")"
   ]
  },
  {
   "cell_type": "code",
   "execution_count": 34,
   "id": "3108b2e1",
   "metadata": {},
   "outputs": [
    {
     "name": "stdout",
     "output_type": "stream",
     "text": [
      "✓ Calculated cumulative features\n",
      "\n",
      "✓ Total features created: 29\n",
      "Feature columns: ['gravity', 'temperature', 'timestamp', 'brix', 'time_diff', 'hours_elapsed', 'alcohol', 'alcohol_from_brix', 'gravity_velocity', 'temp_velocity', 'brix_velocity', 'alcohol_velocity', 'gravity_acceleration', 'temp_acceleration', 'gravity_ma5', 'temp_ma5', 'brix_ma5', 'gravity_ma10', 'temp_ma10', 'brix_ma10', 'gravity_ma20', 'temp_ma20', 'brix_ma20', 'gravity_std10', 'temp_std10', 'gravity_std20', 'temp_std20', 'gravity_cumsum', 'gravity_change_cumsum']\n"
     ]
    }
   ],
   "source": [
    "# 4.7: Cumulative features\n",
    "df['gravity_cumsum'] = df['gravity'].cumsum()\n",
    "df['gravity_change_cumsum'] = (ORIGINAL_GRAVITY - df['gravity']).cumsum()\n",
    "print(f\"✓ Calculated cumulative features\")\n",
    "\n",
    "# Fill any NaN created by diff() and rolling operations\n",
    "df = df.fillna(method='bfill').fillna(method='ffill')\n",
    "\n",
    "print(f\"\\n✓ Total features created: {len(df.columns)}\")\n",
    "print(f\"Feature columns: {list(df.columns)}\")"
   ]
  },
  {
   "cell_type": "code",
   "execution_count": 35,
   "id": "42975463",
   "metadata": {},
   "outputs": [
    {
     "name": "stdout",
     "output_type": "stream",
     "text": [
      "\n",
      "======================================================================\n",
      "STEP 5: LABEL CREATION\n",
      "======================================================================\n"
     ]
    }
   ],
   "source": [
    "print(\"\\n\" + \"=\"*70)\n",
    "print(\"STEP 5: LABEL CREATION\")\n",
    "print(\"=\"*70)"
   ]
  },
  {
   "cell_type": "code",
   "execution_count": 36,
   "id": "4c7eede1",
   "metadata": {},
   "outputs": [],
   "source": [
    "# Your fermentation split point\n",
    "FERMENTATION_SPLIT = 816  # Reading 816 is where fermentation starts"
   ]
  },
  {
   "cell_type": "code",
   "execution_count": 37,
   "id": "00d1f0d9",
   "metadata": {},
   "outputs": [
    {
     "name": "stdout",
     "output_type": "stream",
     "text": [
      "✓ Labels created:\n",
      "  - Not Fermented (Class 0): 816 readings\n",
      "  - Fermented (Class 1): 85 readings\n",
      "  - Class imbalance ratio: 9.60:1\n"
     ]
    }
   ],
   "source": [
    "# Create binary labels\n",
    "df['is_fermented'] = 0  # Default: Not Fermented\n",
    "df.loc[FERMENTATION_SPLIT:, 'is_fermented'] = 1  # After reading 816: Fermented\n",
    "\n",
    "not_fermented_count = (df['is_fermented'] == 0).sum()\n",
    "fermented_count = (df['is_fermented'] == 1).sum()\n",
    "\n",
    "print(f\"✓ Labels created:\")\n",
    "print(f\"  - Not Fermented (Class 0): {not_fermented_count} readings\")\n",
    "print(f\"  - Fermented (Class 1): {fermented_count} readings\")\n",
    "print(f\"  - Class imbalance ratio: {not_fermented_count/fermented_count:.2f}:1\")"
   ]
  },
  {
   "cell_type": "code",
   "execution_count": 38,
   "id": "0f78ca62",
   "metadata": {},
   "outputs": [
    {
     "name": "stdout",
     "output_type": "stream",
     "text": [
      "\n",
      "======================================================================\n",
      "STEP 6: SEQUENCE CREATION FOR LSTM\n",
      "======================================================================\n"
     ]
    }
   ],
   "source": [
    "print(\"\\n\" + \"=\"*70)\n",
    "print(\"STEP 6: SEQUENCE CREATION FOR LSTM\")\n",
    "print(\"=\"*70)"
   ]
  },
  {
   "cell_type": "code",
   "execution_count": 39,
   "id": "3b85dd75",
   "metadata": {},
   "outputs": [],
   "source": [
    "# Define sequence length (number of timesteps LSTM will look at)\n",
    "SEQUENCE_LENGTH = 132  # Your Day 2 (fermented) length"
   ]
  },
  {
   "cell_type": "code",
   "execution_count": 40,
   "id": "bfe65336",
   "metadata": {},
   "outputs": [
    {
     "name": "stdout",
     "output_type": "stream",
     "text": [
      "✓ Using 26 features for LSTM\n",
      "✓ Sequence length: 132 timesteps\n"
     ]
    }
   ],
   "source": [
    "# Select features for LSTM input\n",
    "feature_columns = [\n",
    "    # Core measurements\n",
    "    'gravity', 'temperature', 'brix', 'hours_elapsed',\n",
    "    \n",
    "    # Alcohol calculations (using Brix method - more accurate for tuba)\n",
    "    'alcohol_from_brix',  # Primary alcohol estimate\n",
    "    \n",
    "    # Velocities (rate of change)\n",
    "    'gravity_velocity', 'temp_velocity', 'brix_velocity', 'alcohol_velocity',\n",
    "    \n",
    "    # Accelerations\n",
    "    'gravity_acceleration', 'temp_acceleration',\n",
    "    \n",
    "    # Moving averages (5, 10, 20)\n",
    "    'gravity_ma5', 'temp_ma5', 'brix_ma5',\n",
    "    'gravity_ma10', 'temp_ma10', 'brix_ma10',\n",
    "    'gravity_ma20', 'temp_ma20', 'brix_ma20',\n",
    "    \n",
    "    # Standard deviations\n",
    "    'gravity_std10', 'temp_std10',\n",
    "    'gravity_std20', 'temp_std20',\n",
    "    \n",
    "    # Cumulative\n",
    "    'gravity_cumsum', 'gravity_change_cumsum'\n",
    "]\n",
    "\n",
    "print(f\"✓ Using {len(feature_columns)} features for LSTM\")\n",
    "print(f\"✓ Sequence length: {SEQUENCE_LENGTH} timesteps\")"
   ]
  },
  {
   "cell_type": "code",
   "execution_count": 41,
   "id": "8c631afa",
   "metadata": {},
   "outputs": [],
   "source": [
    "# Create sequences using sliding window\n",
    "def create_sequences(data, feature_cols, label_col, seq_length, stride=10):\n",
    "    \"\"\"\n",
    "    Create overlapping sequences for LSTM training\n",
    "    \n",
    "    Parameters:\n",
    "    -----------\n",
    "    data : DataFrame\n",
    "    feature_cols : list of feature column names\n",
    "    label_col : str, label column name\n",
    "    seq_length : int, number of timesteps per sequence\n",
    "    stride : int, how many timesteps to move window (smaller = more sequences)\n",
    "    \n",
    "    Returns:\n",
    "    --------\n",
    "    X : array of shape (n_sequences, seq_length, n_features)\n",
    "    y : array of shape (n_sequences,)\n",
    "    \"\"\"\n",
    "    X_list = []\n",
    "    y_list = []\n",
    "    \n",
    "    X_data = data[feature_cols].values\n",
    "    \n",
    "    for i in range(0, len(X_data) - seq_length + 1, stride):\n",
    "        # Extract sequence\n",
    "        sequence = X_data[i:i + seq_length]\n",
    "        \n",
    "        # Label is from the LAST reading in the sequence\n",
    "        label_idx = i + seq_length - 1\n",
    "        label = data.iloc[label_idx][label_col]\n",
    "        \n",
    "        X_list.append(sequence)\n",
    "        y_list.append(label)\n",
    "    \n",
    "    return np.array(X_list), np.array(y_list)"
   ]
  },
  {
   "cell_type": "code",
   "execution_count": 42,
   "id": "f3a01963",
   "metadata": {},
   "outputs": [
    {
     "name": "stdout",
     "output_type": "stream",
     "text": [
      "\n",
      "✓ Created sequences:\n",
      "  - Total sequences: 77\n",
      "  - Shape: (77, 132, 26) (sequences, timesteps, features)\n",
      "  - Not Fermented sequences: 69\n",
      "  - Fermented sequences: 8\n",
      "  - Class imbalance: 8.62:1\n"
     ]
    }
   ],
   "source": [
    "# Create sequences with stride=10 (overlap for more training samples)\n",
    "X, y = create_sequences(\n",
    "    df, \n",
    "    feature_columns, \n",
    "    'is_fermented', \n",
    "    SEQUENCE_LENGTH, \n",
    "    stride=10\n",
    ")\n",
    "\n",
    "print(f\"\\n✓ Created sequences:\")\n",
    "print(f\"  - Total sequences: {len(X)}\")\n",
    "print(f\"  - Shape: {X.shape} (sequences, timesteps, features)\")\n",
    "print(f\"  - Not Fermented sequences: {(y == 0).sum()}\")\n",
    "print(f\"  - Fermented sequences: {(y == 1).sum()}\")\n",
    "print(f\"  - Class imbalance: {(y == 0).sum() / (y == 1).sum():.2f}:1\")"
   ]
  },
  {
   "cell_type": "code",
   "execution_count": 43,
   "id": "a92b91bc",
   "metadata": {},
   "outputs": [
    {
     "name": "stdout",
     "output_type": "stream",
     "text": [
      "\n",
      "======================================================================\n",
      "STEP 7: NORMALIZATION\n",
      "======================================================================\n"
     ]
    }
   ],
   "source": [
    "print(\"\\n\" + \"=\"*70)\n",
    "print(\"STEP 7: NORMALIZATION\")\n",
    "print(\"=\"*70)\n"
   ]
  },
  {
   "cell_type": "code",
   "execution_count": 44,
   "id": "9dfadf23",
   "metadata": {},
   "outputs": [
    {
     "name": "stdout",
     "output_type": "stream",
     "text": [
      "✓ Data split:\n",
      "  - Training set: 61 sequences (55 Not Ferm, 6 Ferm)\n",
      "  - Test set: 16 sequences (14 Not Ferm, 2 Ferm)\n"
     ]
    }
   ],
   "source": [
    "# Split data first (important: normalize after split to prevent data leakage!)\n",
    "X_train, X_test, y_train, y_test = train_test_split(\n",
    "    X, y, \n",
    "    test_size=0.2, \n",
    "    random_state=42, \n",
    "    stratify=y  # Maintain class distribution\n",
    ")\n",
    "\n",
    "print(f\"✓ Data split:\")\n",
    "print(f\"  - Training set: {len(X_train)} sequences ({(y_train==0).sum()} Not Ferm, {(y_train==1).sum()} Ferm)\")\n",
    "print(f\"  - Test set: {len(X_test)} sequences ({(y_test==0).sum()} Not Ferm, {(y_test==1).sum()} Ferm)\")"
   ]
  },
  {
   "cell_type": "code",
   "execution_count": 45,
   "id": "01800d75",
   "metadata": {},
   "outputs": [
    {
     "name": "stdout",
     "output_type": "stream",
     "text": [
      "\n",
      "✓ Normalization completed using StandardScaler\n",
      "  - Mean: ~0, Std: ~1 for all features\n"
     ]
    }
   ],
   "source": [
    "# Initialize scaler\n",
    "scaler = StandardScaler()\n",
    "\n",
    "# Reshape for scaling: (samples * timesteps, features)\n",
    "n_samples_train, n_timesteps, n_features = X_train.shape\n",
    "X_train_reshaped = X_train.reshape(-1, n_features)\n",
    "\n",
    "# Fit scaler on training data only\n",
    "X_train_scaled = scaler.fit_transform(X_train_reshaped)\n",
    "X_train_scaled = X_train_scaled.reshape(n_samples_train, n_timesteps, n_features)\n",
    "\n",
    "# Transform test data (using fitted scaler)\n",
    "n_samples_test = X_test.shape[0]\n",
    "X_test_reshaped = X_test.reshape(-1, n_features)\n",
    "X_test_scaled = scaler.transform(X_test_reshaped)\n",
    "X_test_scaled = X_test_scaled.reshape(n_samples_test, n_timesteps, n_features)\n",
    "\n",
    "print(f\"\\n✓ Normalization completed using StandardScaler\")\n",
    "print(f\"  - Mean: ~0, Std: ~1 for all features\")"
   ]
  },
  {
   "cell_type": "code",
   "execution_count": 46,
   "id": "c21cd326",
   "metadata": {},
   "outputs": [
    {
     "name": "stdout",
     "output_type": "stream",
     "text": [
      "✓ Scaler saved to 'tuba_scaler.pkl'\n"
     ]
    }
   ],
   "source": [
    "# Save scaler for production use\n",
    "joblib.dump(scaler, 'tuba_scaler.pkl')\n",
    "print(f\"✓ Scaler saved to 'tuba_scaler.pkl'\")"
   ]
  },
  {
   "cell_type": "code",
   "execution_count": 47,
   "id": "9e121e94",
   "metadata": {},
   "outputs": [
    {
     "name": "stdout",
     "output_type": "stream",
     "text": [
      "\n",
      "======================================================================\n",
      "STEP 8: HANDLING CLASS IMBALANCE\n",
      "======================================================================\n"
     ]
    }
   ],
   "source": [
    "print(\"\\n\" + \"=\"*70)\n",
    "print(\"STEP 8: HANDLING CLASS IMBALANCE\")\n",
    "print(\"=\"*70)"
   ]
  },
  {
   "cell_type": "code",
   "execution_count": 48,
   "id": "c1cc5520",
   "metadata": {},
   "outputs": [
    {
     "name": "stdout",
     "output_type": "stream",
     "text": [
      "✓ Calculated class weights:\n",
      "  - Class 0 (Not Fermented): 0.5545\n",
      "  - Class 1 (Fermented): 5.0833\n",
      "  → Model will penalize wrong 'Fermented' predictions 9.17x more\n"
     ]
    }
   ],
   "source": [
    "# Calculate class weights\n",
    "class_weights = compute_class_weight(\n",
    "    'balanced',\n",
    "    classes=np.unique(y_train),\n",
    "    y=y_train\n",
    ")\n",
    "class_weight_dict = {0: class_weights[0], 1: class_weights[1]}\n",
    "\n",
    "print(f\"✓ Calculated class weights:\")\n",
    "print(f\"  - Class 0 (Not Fermented): {class_weights[0]:.4f}\")\n",
    "print(f\"  - Class 1 (Fermented): {class_weights[1]:.4f}\")\n",
    "print(f\"  → Model will penalize wrong 'Fermented' predictions {class_weights[1]/class_weights[0]:.2f}x more\")"
   ]
  },
  {
   "cell_type": "code",
   "execution_count": 49,
   "id": "6312313d",
   "metadata": {},
   "outputs": [
    {
     "name": "stdout",
     "output_type": "stream",
     "text": [
      "\n",
      "======================================================================\n",
      "STEP 9: BUILDING LSTM MODEL\n",
      "======================================================================\n"
     ]
    }
   ],
   "source": [
    "print(\"\\n\" + \"=\"*70)\n",
    "print(\"STEP 9: BUILDING LSTM MODEL\")\n",
    "print(\"=\"*70)"
   ]
  },
  {
   "cell_type": "code",
   "execution_count": 51,
   "id": "2fb0e5c9",
   "metadata": {},
   "outputs": [],
   "source": [
    "def build_lstm_model(seq_length, n_features):\n",
    "    \"\"\"\n",
    "    Build LSTM architecture with regularization\n",
    "    \"\"\"\n",
    "    model = Sequential([\n",
    "        # First LSTM layer - captures long-term dependencies\n",
    "        LSTM(\n",
    "            128, \n",
    "            return_sequences=True,\n",
    "            input_shape=(seq_length, n_features),\n",
    "            kernel_regularizer=l2(0.01),\n",
    "            recurrent_regularizer=l2(0.01)\n",
    "        ),\n",
    "        Dropout(0.3),\n",
    "        BatchNormalization(),\n",
    "        \n",
    "        # Second LSTM layer - refines patterns\n",
    "        LSTM(\n",
    "            64,\n",
    "            return_sequences=True,\n",
    "            kernel_regularizer=l2(0.01),\n",
    "            recurrent_regularizer=l2(0.01)\n",
    "        ),\n",
    "        Dropout(0.3),\n",
    "        BatchNormalization(),\n",
    "        \n",
    "        # Third LSTM layer - final feature extraction\n",
    "        LSTM(\n",
    "            32,\n",
    "            kernel_regularizer=l2(0.01),\n",
    "            recurrent_regularizer=l2(0.01)\n",
    "        ),\n",
    "        Dropout(0.2),\n",
    "        \n",
    "        # Dense layers for classification\n",
    "        Dense(16, activation='relu', kernel_regularizer=l2(0.01)),\n",
    "        Dropout(0.2),\n",
    "        \n",
    "        # Output layer - binary classification\n",
    "        Dense(1, activation='sigmoid')\n",
    "    ])\n",
    "    \n",
    "    # Compile model\n",
    "    model.compile(\n",
    "        optimizer=tf.keras.optimizers.Adam(learning_rate=0.001),\n",
    "        loss='binary_crossentropy',\n",
    "        metrics=[\n",
    "            'accuracy',\n",
    "            tf.keras.metrics.Precision(name='precision'),\n",
    "            tf.keras.metrics.Recall(name='recall'),\n",
    "            tf.keras.metrics.AUC(name='auc')\n",
    "        ]\n",
    "    )\n",
    "    \n",
    "    return model"
   ]
  },
  {
   "cell_type": "code",
   "execution_count": 52,
   "id": "23831aeb",
   "metadata": {},
   "outputs": [
    {
     "name": "stdout",
     "output_type": "stream",
     "text": [
      "✓ LSTM model architecture:\n"
     ]
    },
    {
     "data": {
      "text/html": [
       "<pre style=\"white-space:pre;overflow-x:auto;line-height:normal;font-family:Menlo,'DejaVu Sans Mono',consolas,'Courier New',monospace\"><span style=\"font-weight: bold\">Model: \"sequential\"</span>\n",
       "</pre>\n"
      ],
      "text/plain": [
       "\u001b[1mModel: \"sequential\"\u001b[0m\n"
      ]
     },
     "metadata": {},
     "output_type": "display_data"
    },
    {
     "data": {
      "text/html": [
       "<pre style=\"white-space:pre;overflow-x:auto;line-height:normal;font-family:Menlo,'DejaVu Sans Mono',consolas,'Courier New',monospace\">┏━━━━━━━━━━━━━━━━━━━━━━━━━━━━━━━━━┳━━━━━━━━━━━━━━━━━━━━━━━━┳━━━━━━━━━━━━━━━┓\n",
       "┃<span style=\"font-weight: bold\"> Layer (type)                    </span>┃<span style=\"font-weight: bold\"> Output Shape           </span>┃<span style=\"font-weight: bold\">       Param # </span>┃\n",
       "┡━━━━━━━━━━━━━━━━━━━━━━━━━━━━━━━━━╇━━━━━━━━━━━━━━━━━━━━━━━━╇━━━━━━━━━━━━━━━┩\n",
       "│ lstm (<span style=\"color: #0087ff; text-decoration-color: #0087ff\">LSTM</span>)                     │ (<span style=\"color: #00d7ff; text-decoration-color: #00d7ff\">None</span>, <span style=\"color: #00af00; text-decoration-color: #00af00\">132</span>, <span style=\"color: #00af00; text-decoration-color: #00af00\">128</span>)       │        <span style=\"color: #00af00; text-decoration-color: #00af00\">79,360</span> │\n",
       "├─────────────────────────────────┼────────────────────────┼───────────────┤\n",
       "│ dropout (<span style=\"color: #0087ff; text-decoration-color: #0087ff\">Dropout</span>)               │ (<span style=\"color: #00d7ff; text-decoration-color: #00d7ff\">None</span>, <span style=\"color: #00af00; text-decoration-color: #00af00\">132</span>, <span style=\"color: #00af00; text-decoration-color: #00af00\">128</span>)       │             <span style=\"color: #00af00; text-decoration-color: #00af00\">0</span> │\n",
       "├─────────────────────────────────┼────────────────────────┼───────────────┤\n",
       "│ batch_normalization             │ (<span style=\"color: #00d7ff; text-decoration-color: #00d7ff\">None</span>, <span style=\"color: #00af00; text-decoration-color: #00af00\">132</span>, <span style=\"color: #00af00; text-decoration-color: #00af00\">128</span>)       │           <span style=\"color: #00af00; text-decoration-color: #00af00\">512</span> │\n",
       "│ (<span style=\"color: #0087ff; text-decoration-color: #0087ff\">BatchNormalization</span>)            │                        │               │\n",
       "├─────────────────────────────────┼────────────────────────┼───────────────┤\n",
       "│ lstm_1 (<span style=\"color: #0087ff; text-decoration-color: #0087ff\">LSTM</span>)                   │ (<span style=\"color: #00d7ff; text-decoration-color: #00d7ff\">None</span>, <span style=\"color: #00af00; text-decoration-color: #00af00\">132</span>, <span style=\"color: #00af00; text-decoration-color: #00af00\">64</span>)        │        <span style=\"color: #00af00; text-decoration-color: #00af00\">49,408</span> │\n",
       "├─────────────────────────────────┼────────────────────────┼───────────────┤\n",
       "│ dropout_1 (<span style=\"color: #0087ff; text-decoration-color: #0087ff\">Dropout</span>)             │ (<span style=\"color: #00d7ff; text-decoration-color: #00d7ff\">None</span>, <span style=\"color: #00af00; text-decoration-color: #00af00\">132</span>, <span style=\"color: #00af00; text-decoration-color: #00af00\">64</span>)        │             <span style=\"color: #00af00; text-decoration-color: #00af00\">0</span> │\n",
       "├─────────────────────────────────┼────────────────────────┼───────────────┤\n",
       "│ batch_normalization_1           │ (<span style=\"color: #00d7ff; text-decoration-color: #00d7ff\">None</span>, <span style=\"color: #00af00; text-decoration-color: #00af00\">132</span>, <span style=\"color: #00af00; text-decoration-color: #00af00\">64</span>)        │           <span style=\"color: #00af00; text-decoration-color: #00af00\">256</span> │\n",
       "│ (<span style=\"color: #0087ff; text-decoration-color: #0087ff\">BatchNormalization</span>)            │                        │               │\n",
       "├─────────────────────────────────┼────────────────────────┼───────────────┤\n",
       "│ lstm_2 (<span style=\"color: #0087ff; text-decoration-color: #0087ff\">LSTM</span>)                   │ (<span style=\"color: #00d7ff; text-decoration-color: #00d7ff\">None</span>, <span style=\"color: #00af00; text-decoration-color: #00af00\">32</span>)             │        <span style=\"color: #00af00; text-decoration-color: #00af00\">12,416</span> │\n",
       "├─────────────────────────────────┼────────────────────────┼───────────────┤\n",
       "│ dropout_2 (<span style=\"color: #0087ff; text-decoration-color: #0087ff\">Dropout</span>)             │ (<span style=\"color: #00d7ff; text-decoration-color: #00d7ff\">None</span>, <span style=\"color: #00af00; text-decoration-color: #00af00\">32</span>)             │             <span style=\"color: #00af00; text-decoration-color: #00af00\">0</span> │\n",
       "├─────────────────────────────────┼────────────────────────┼───────────────┤\n",
       "│ dense (<span style=\"color: #0087ff; text-decoration-color: #0087ff\">Dense</span>)                   │ (<span style=\"color: #00d7ff; text-decoration-color: #00d7ff\">None</span>, <span style=\"color: #00af00; text-decoration-color: #00af00\">16</span>)             │           <span style=\"color: #00af00; text-decoration-color: #00af00\">528</span> │\n",
       "├─────────────────────────────────┼────────────────────────┼───────────────┤\n",
       "│ dropout_3 (<span style=\"color: #0087ff; text-decoration-color: #0087ff\">Dropout</span>)             │ (<span style=\"color: #00d7ff; text-decoration-color: #00d7ff\">None</span>, <span style=\"color: #00af00; text-decoration-color: #00af00\">16</span>)             │             <span style=\"color: #00af00; text-decoration-color: #00af00\">0</span> │\n",
       "├─────────────────────────────────┼────────────────────────┼───────────────┤\n",
       "│ dense_1 (<span style=\"color: #0087ff; text-decoration-color: #0087ff\">Dense</span>)                 │ (<span style=\"color: #00d7ff; text-decoration-color: #00d7ff\">None</span>, <span style=\"color: #00af00; text-decoration-color: #00af00\">1</span>)              │            <span style=\"color: #00af00; text-decoration-color: #00af00\">17</span> │\n",
       "└─────────────────────────────────┴────────────────────────┴───────────────┘\n",
       "</pre>\n"
      ],
      "text/plain": [
       "┏━━━━━━━━━━━━━━━━━━━━━━━━━━━━━━━━━┳━━━━━━━━━━━━━━━━━━━━━━━━┳━━━━━━━━━━━━━━━┓\n",
       "┃\u001b[1m \u001b[0m\u001b[1mLayer (type)                   \u001b[0m\u001b[1m \u001b[0m┃\u001b[1m \u001b[0m\u001b[1mOutput Shape          \u001b[0m\u001b[1m \u001b[0m┃\u001b[1m \u001b[0m\u001b[1m      Param #\u001b[0m\u001b[1m \u001b[0m┃\n",
       "┡━━━━━━━━━━━━━━━━━━━━━━━━━━━━━━━━━╇━━━━━━━━━━━━━━━━━━━━━━━━╇━━━━━━━━━━━━━━━┩\n",
       "│ lstm (\u001b[38;5;33mLSTM\u001b[0m)                     │ (\u001b[38;5;45mNone\u001b[0m, \u001b[38;5;34m132\u001b[0m, \u001b[38;5;34m128\u001b[0m)       │        \u001b[38;5;34m79,360\u001b[0m │\n",
       "├─────────────────────────────────┼────────────────────────┼───────────────┤\n",
       "│ dropout (\u001b[38;5;33mDropout\u001b[0m)               │ (\u001b[38;5;45mNone\u001b[0m, \u001b[38;5;34m132\u001b[0m, \u001b[38;5;34m128\u001b[0m)       │             \u001b[38;5;34m0\u001b[0m │\n",
       "├─────────────────────────────────┼────────────────────────┼───────────────┤\n",
       "│ batch_normalization             │ (\u001b[38;5;45mNone\u001b[0m, \u001b[38;5;34m132\u001b[0m, \u001b[38;5;34m128\u001b[0m)       │           \u001b[38;5;34m512\u001b[0m │\n",
       "│ (\u001b[38;5;33mBatchNormalization\u001b[0m)            │                        │               │\n",
       "├─────────────────────────────────┼────────────────────────┼───────────────┤\n",
       "│ lstm_1 (\u001b[38;5;33mLSTM\u001b[0m)                   │ (\u001b[38;5;45mNone\u001b[0m, \u001b[38;5;34m132\u001b[0m, \u001b[38;5;34m64\u001b[0m)        │        \u001b[38;5;34m49,408\u001b[0m │\n",
       "├─────────────────────────────────┼────────────────────────┼───────────────┤\n",
       "│ dropout_1 (\u001b[38;5;33mDropout\u001b[0m)             │ (\u001b[38;5;45mNone\u001b[0m, \u001b[38;5;34m132\u001b[0m, \u001b[38;5;34m64\u001b[0m)        │             \u001b[38;5;34m0\u001b[0m │\n",
       "├─────────────────────────────────┼────────────────────────┼───────────────┤\n",
       "│ batch_normalization_1           │ (\u001b[38;5;45mNone\u001b[0m, \u001b[38;5;34m132\u001b[0m, \u001b[38;5;34m64\u001b[0m)        │           \u001b[38;5;34m256\u001b[0m │\n",
       "│ (\u001b[38;5;33mBatchNormalization\u001b[0m)            │                        │               │\n",
       "├─────────────────────────────────┼────────────────────────┼───────────────┤\n",
       "│ lstm_2 (\u001b[38;5;33mLSTM\u001b[0m)                   │ (\u001b[38;5;45mNone\u001b[0m, \u001b[38;5;34m32\u001b[0m)             │        \u001b[38;5;34m12,416\u001b[0m │\n",
       "├─────────────────────────────────┼────────────────────────┼───────────────┤\n",
       "│ dropout_2 (\u001b[38;5;33mDropout\u001b[0m)             │ (\u001b[38;5;45mNone\u001b[0m, \u001b[38;5;34m32\u001b[0m)             │             \u001b[38;5;34m0\u001b[0m │\n",
       "├─────────────────────────────────┼────────────────────────┼───────────────┤\n",
       "│ dense (\u001b[38;5;33mDense\u001b[0m)                   │ (\u001b[38;5;45mNone\u001b[0m, \u001b[38;5;34m16\u001b[0m)             │           \u001b[38;5;34m528\u001b[0m │\n",
       "├─────────────────────────────────┼────────────────────────┼───────────────┤\n",
       "│ dropout_3 (\u001b[38;5;33mDropout\u001b[0m)             │ (\u001b[38;5;45mNone\u001b[0m, \u001b[38;5;34m16\u001b[0m)             │             \u001b[38;5;34m0\u001b[0m │\n",
       "├─────────────────────────────────┼────────────────────────┼───────────────┤\n",
       "│ dense_1 (\u001b[38;5;33mDense\u001b[0m)                 │ (\u001b[38;5;45mNone\u001b[0m, \u001b[38;5;34m1\u001b[0m)              │            \u001b[38;5;34m17\u001b[0m │\n",
       "└─────────────────────────────────┴────────────────────────┴───────────────┘\n"
      ]
     },
     "metadata": {},
     "output_type": "display_data"
    },
    {
     "data": {
      "text/html": [
       "<pre style=\"white-space:pre;overflow-x:auto;line-height:normal;font-family:Menlo,'DejaVu Sans Mono',consolas,'Courier New',monospace\"><span style=\"font-weight: bold\"> Total params: </span><span style=\"color: #00af00; text-decoration-color: #00af00\">142,497</span> (556.63 KB)\n",
       "</pre>\n"
      ],
      "text/plain": [
       "\u001b[1m Total params: \u001b[0m\u001b[38;5;34m142,497\u001b[0m (556.63 KB)\n"
      ]
     },
     "metadata": {},
     "output_type": "display_data"
    },
    {
     "data": {
      "text/html": [
       "<pre style=\"white-space:pre;overflow-x:auto;line-height:normal;font-family:Menlo,'DejaVu Sans Mono',consolas,'Courier New',monospace\"><span style=\"font-weight: bold\"> Trainable params: </span><span style=\"color: #00af00; text-decoration-color: #00af00\">142,113</span> (555.13 KB)\n",
       "</pre>\n"
      ],
      "text/plain": [
       "\u001b[1m Trainable params: \u001b[0m\u001b[38;5;34m142,113\u001b[0m (555.13 KB)\n"
      ]
     },
     "metadata": {},
     "output_type": "display_data"
    },
    {
     "data": {
      "text/html": [
       "<pre style=\"white-space:pre;overflow-x:auto;line-height:normal;font-family:Menlo,'DejaVu Sans Mono',consolas,'Courier New',monospace\"><span style=\"font-weight: bold\"> Non-trainable params: </span><span style=\"color: #00af00; text-decoration-color: #00af00\">384</span> (1.50 KB)\n",
       "</pre>\n"
      ],
      "text/plain": [
       "\u001b[1m Non-trainable params: \u001b[0m\u001b[38;5;34m384\u001b[0m (1.50 KB)\n"
      ]
     },
     "metadata": {},
     "output_type": "display_data"
    },
    {
     "name": "stdout",
     "output_type": "stream",
     "text": [
      "\n",
      "✓ Model configuration:\n",
      "  - LSTM layers: 3 (128 → 64 → 32 units)\n",
      "  - Dropout rate: 0.2-0.3 (prevents overfitting)\n",
      "  - L2 regularization: 0.01 (weight decay)\n",
      "  - Optimizer: Adam (learning rate = 0.001)\n",
      "  - Loss: Binary crossentropy\n"
     ]
    }
   ],
   "source": [
    "# Build model\n",
    "model = build_lstm_model(SEQUENCE_LENGTH, n_features)\n",
    "\n",
    "print(f\"✓ LSTM model architecture:\")\n",
    "model.summary()\n",
    "\n",
    "print(f\"\\n✓ Model configuration:\")\n",
    "print(f\"  - LSTM layers: 3 (128 → 64 → 32 units)\")\n",
    "print(f\"  - Dropout rate: 0.2-0.3 (prevents overfitting)\")\n",
    "print(f\"  - L2 regularization: 0.01 (weight decay)\")\n",
    "print(f\"  - Optimizer: Adam (learning rate = 0.001)\")\n",
    "print(f\"  - Loss: Binary crossentropy\")"
   ]
  },
  {
   "cell_type": "code",
   "execution_count": 53,
   "id": "56ca17d9",
   "metadata": {},
   "outputs": [
    {
     "name": "stdout",
     "output_type": "stream",
     "text": [
      "\n",
      "======================================================================\n",
      "STEP 10: TRAINING WITH FINE-TUNING\n",
      "======================================================================\n"
     ]
    }
   ],
   "source": [
    "print(\"\\n\" + \"=\"*70)\n",
    "print(\"STEP 10: TRAINING WITH FINE-TUNING\")\n",
    "print(\"=\"*70)"
   ]
  },
  {
   "cell_type": "code",
   "execution_count": 54,
   "id": "39a55c32",
   "metadata": {},
   "outputs": [
    {
     "name": "stdout",
     "output_type": "stream",
     "text": [
      "✓ Callbacks configured:\n",
      "  - EarlyStopping: patience=15\n",
      "  - ReduceLROnPlateau: factor=0.5, patience=7\n",
      "  - ModelCheckpoint: save best model to 'tuba_lstm_model.h5'\n"
     ]
    }
   ],
   "source": [
    "# Define callbacks for fine-tuning\n",
    "callbacks = [\n",
    "    # Early stopping - stop if validation loss doesn't improve\n",
    "    EarlyStopping(\n",
    "        monitor='val_loss',\n",
    "        patience=15,  # Wait 15 epochs before stopping\n",
    "        restore_best_weights=True,\n",
    "        verbose=1\n",
    "    ),\n",
    "    \n",
    "    # Reduce learning rate when learning plateaus\n",
    "    ReduceLROnPlateau(\n",
    "        monitor='val_loss',\n",
    "        factor=0.5,  # Reduce LR by half\n",
    "        patience=7,  # Wait 7 epochs before reducing\n",
    "        min_lr=1e-6,\n",
    "        verbose=1\n",
    "    ),\n",
    "    \n",
    "    # Save best model\n",
    "    ModelCheckpoint(\n",
    "        'tuba_lstm_model.h5',\n",
    "        monitor='val_accuracy',\n",
    "        save_best_only=True,\n",
    "        verbose=1\n",
    "    )\n",
    "]\n",
    "\n",
    "print(f\"✓ Callbacks configured:\")\n",
    "print(f\"  - EarlyStopping: patience=15\")\n",
    "print(f\"  - ReduceLROnPlateau: factor=0.5, patience=7\")\n",
    "print(f\"  - ModelCheckpoint: save best model to 'tuba_lstm_model.h5'\")"
   ]
  },
  {
   "cell_type": "code",
   "execution_count": 55,
   "id": "16550f7c",
   "metadata": {},
   "outputs": [
    {
     "name": "stdout",
     "output_type": "stream",
     "text": [
      "\n",
      "Starting training...\n",
      "======================================================================\n",
      "Epoch 1/100\n",
      "\u001b[1m2/2\u001b[0m \u001b[32m━━━━━━━━━━━━━━━━━━━━\u001b[0m\u001b[37m\u001b[0m \u001b[1m0s\u001b[0m 90ms/step - accuracy: 0.5607 - auc: 0.4390 - loss: 6.1411 - precision: 0.0238 - recall: 0.0833      \n",
      "Epoch 1: val_accuracy improved from -inf to 1.00000, saving model to tuba_lstm_model.h5\n"
     ]
    },
    {
     "name": "stderr",
     "output_type": "stream",
     "text": [
      "WARNING:absl:You are saving your model as an HDF5 file via `model.save()` or `keras.saving.save_model(model)`. This file format is considered legacy. We recommend using instead the native Keras format, e.g. `model.save('my_model.keras')` or `keras.saving.save_model(model, 'my_model.keras')`. \n"
     ]
    },
    {
     "name": "stdout",
     "output_type": "stream",
     "text": [
      "\u001b[1m2/2\u001b[0m \u001b[32m━━━━━━━━━━━━━━━━━━━━\u001b[0m\u001b[37m\u001b[0m \u001b[1m8s\u001b[0m 940ms/step - accuracy: 0.5705 - auc: 0.4492 - loss: 6.1573 - precision: 0.0317 - recall: 0.1111 - val_accuracy: 1.0000 - val_auc: 1.0000 - val_loss: 5.9894 - val_precision: 1.0000 - val_recall: 1.0000 - learning_rate: 0.0010\n",
      "Epoch 2/100\n",
      "\u001b[1m2/2\u001b[0m \u001b[32m━━━━━━━━━━━━━━━━━━━━\u001b[0m\u001b[37m\u001b[0m \u001b[1m0s\u001b[0m 75ms/step - accuracy: 0.8161 - auc: 0.9659 - loss: 5.8372 - precision: 0.3015 - recall: 1.0000 \n",
      "Epoch 2: val_accuracy did not improve from 1.00000\n",
      "\u001b[1m2/2\u001b[0m \u001b[32m━━━━━━━━━━━━━━━━━━━━\u001b[0m\u001b[37m\u001b[0m \u001b[1m0s\u001b[0m 156ms/step - accuracy: 0.8173 - auc: 0.9601 - loss: 5.8446 - precision: 0.3186 - recall: 1.0000 - val_accuracy: 0.8125 - val_auc: 1.0000 - val_loss: 5.8313 - val_precision: 0.4000 - val_recall: 1.0000 - learning_rate: 0.0010\n",
      "Epoch 3/100\n",
      "\u001b[1m2/2\u001b[0m \u001b[32m━━━━━━━━━━━━━━━━━━━━\u001b[0m\u001b[37m\u001b[0m \u001b[1m0s\u001b[0m 92ms/step - accuracy: 0.8563 - auc: 0.9985 - loss: 5.5957 - precision: 0.3571 - recall: 1.0000\n",
      "Epoch 3: val_accuracy did not improve from 1.00000\n",
      "\u001b[1m2/2\u001b[0m \u001b[32m━━━━━━━━━━━━━━━━━━━━\u001b[0m\u001b[37m\u001b[0m \u001b[1m0s\u001b[0m 154ms/step - accuracy: 0.8605 - auc: 0.9980 - loss: 5.5910 - precision: 0.3810 - recall: 1.0000 - val_accuracy: 0.9375 - val_auc: 1.0000 - val_loss: 5.6558 - val_precision: 0.6667 - val_recall: 1.0000 - learning_rate: 0.0010\n",
      "Epoch 4/100\n",
      "\u001b[1m2/2\u001b[0m \u001b[32m━━━━━━━━━━━━━━━━━━━━\u001b[0m\u001b[37m\u001b[0m \u001b[1m0s\u001b[0m 89ms/step - accuracy: 0.9203 - auc: 0.9758 - loss: 5.3873 - precision: 0.5000 - recall: 1.0000 \n",
      "Epoch 4: val_accuracy did not improve from 1.00000\n",
      "\u001b[1m2/2\u001b[0m \u001b[32m━━━━━━━━━━━━━━━━━━━━\u001b[0m\u001b[37m\u001b[0m \u001b[1m0s\u001b[0m 176ms/step - accuracy: 0.9250 - auc: 0.9788 - loss: 5.3819 - precision: 0.5333 - recall: 1.0000 - val_accuracy: 0.9375 - val_auc: 1.0000 - val_loss: 5.4750 - val_precision: 0.6667 - val_recall: 1.0000 - learning_rate: 0.0010\n",
      "Epoch 5/100\n",
      "\u001b[1m2/2\u001b[0m \u001b[32m━━━━━━━━━━━━━━━━━━━━\u001b[0m\u001b[37m\u001b[0m \u001b[1m0s\u001b[0m 80ms/step - accuracy: 0.9203 - auc: 0.9720 - loss: 5.2552 - precision: 0.5000 - recall: 1.0000\n",
      "Epoch 5: val_accuracy did not improve from 1.00000\n",
      "\u001b[1m2/2\u001b[0m \u001b[32m━━━━━━━━━━━━━━━━━━━━\u001b[0m\u001b[37m\u001b[0m \u001b[1m0s\u001b[0m 149ms/step - accuracy: 0.9250 - auc: 0.9737 - loss: 5.2501 - precision: 0.5333 - recall: 1.0000 - val_accuracy: 0.9375 - val_auc: 1.0000 - val_loss: 5.2946 - val_precision: 0.6667 - val_recall: 1.0000 - learning_rate: 0.0010\n",
      "Epoch 6/100\n",
      "\u001b[1m2/2\u001b[0m \u001b[32m━━━━━━━━━━━━━━━━━━━━\u001b[0m\u001b[37m\u001b[0m \u001b[1m0s\u001b[0m 84ms/step - accuracy: 0.9442 - auc: 0.9485 - loss: 5.1023 - precision: 0.5833 - recall: 1.0000\n",
      "Epoch 6: val_accuracy did not improve from 1.00000\n",
      "\u001b[1m2/2\u001b[0m \u001b[32m━━━━━━━━━━━━━━━━━━━━\u001b[0m\u001b[37m\u001b[0m \u001b[1m0s\u001b[0m 157ms/step - accuracy: 0.9464 - auc: 0.9535 - loss: 5.0946 - precision: 0.6111 - recall: 1.0000 - val_accuracy: 0.9375 - val_auc: 1.0000 - val_loss: 5.1147 - val_precision: 0.6667 - val_recall: 1.0000 - learning_rate: 0.0010\n",
      "Epoch 7/100\n",
      "\u001b[1m2/2\u001b[0m \u001b[32m━━━━━━━━━━━━━━━━━━━━\u001b[0m\u001b[37m\u001b[0m \u001b[1m0s\u001b[0m 84ms/step - accuracy: 0.9285 - auc: 0.9515 - loss: 4.9306 - precision: 0.5333 - recall: 1.0000 \n",
      "Epoch 7: val_accuracy did not improve from 1.00000\n",
      "\u001b[1m2/2\u001b[0m \u001b[32m━━━━━━━━━━━━━━━━━━━━\u001b[0m\u001b[37m\u001b[0m \u001b[1m0s\u001b[0m 155ms/step - accuracy: 0.9360 - auc: 0.9576 - loss: 4.9169 - precision: 0.5778 - recall: 1.0000 - val_accuracy: 0.9375 - val_auc: 1.0000 - val_loss: 4.9361 - val_precision: 0.6667 - val_recall: 1.0000 - learning_rate: 0.0010\n",
      "Epoch 8/100\n",
      "\u001b[1m2/2\u001b[0m \u001b[32m━━━━━━━━━━━━━━━━━━━━\u001b[0m\u001b[37m\u001b[0m \u001b[1m0s\u001b[0m 78ms/step - accuracy: 0.9524 - auc: 0.9970 - loss: 4.6963 - precision: 0.6250 - recall: 1.0000 \n",
      "Epoch 8: val_accuracy did not improve from 1.00000\n",
      "\u001b[1m2/2\u001b[0m \u001b[32m━━━━━━━━━━━━━━━━━━━━\u001b[0m\u001b[37m\u001b[0m \u001b[1m0s\u001b[0m 145ms/step - accuracy: 0.9573 - auc: 0.9960 - loss: 4.6917 - precision: 0.6667 - recall: 1.0000 - val_accuracy: 0.9375 - val_auc: 1.0000 - val_loss: 4.7643 - val_precision: 0.6667 - val_recall: 1.0000 - learning_rate: 0.0010\n",
      "Epoch 9/100\n",
      "\u001b[1m2/2\u001b[0m \u001b[32m━━━━━━━━━━━━━━━━━━━━\u001b[0m\u001b[37m\u001b[0m \u001b[1m0s\u001b[0m 78ms/step - accuracy: 0.9524 - auc: 0.9731 - loss: 4.6122 - precision: 0.6250 - recall: 1.0000\n",
      "Epoch 9: val_accuracy did not improve from 1.00000\n",
      "\u001b[1m2/2\u001b[0m \u001b[32m━━━━━━━━━━━━━━━━━━━━\u001b[0m\u001b[37m\u001b[0m \u001b[1m0s\u001b[0m 141ms/step - accuracy: 0.9573 - auc: 0.9780 - loss: 4.5980 - precision: 0.6667 - recall: 1.0000 - val_accuracy: 0.9375 - val_auc: 1.0000 - val_loss: 4.5969 - val_precision: 0.6667 - val_recall: 1.0000 - learning_rate: 0.0010\n",
      "Epoch 10/100\n",
      "\u001b[1m2/2\u001b[0m \u001b[32m━━━━━━━━━━━━━━━━━━━━\u001b[0m\u001b[37m\u001b[0m \u001b[1m0s\u001b[0m 71ms/step - accuracy: 0.9524 - auc: 0.9598 - loss: 4.4438 - precision: 0.6250 - recall: 1.0000\n",
      "Epoch 10: val_accuracy did not improve from 1.00000\n",
      "\u001b[1m2/2\u001b[0m \u001b[32m━━━━━━━━━━━━━━━━━━━━\u001b[0m\u001b[37m\u001b[0m \u001b[1m0s\u001b[0m 130ms/step - accuracy: 0.9573 - auc: 0.9631 - loss: 4.4317 - precision: 0.6667 - recall: 1.0000 - val_accuracy: 0.9375 - val_auc: 1.0000 - val_loss: 4.4342 - val_precision: 0.6667 - val_recall: 1.0000 - learning_rate: 0.0010\n",
      "Epoch 11/100\n",
      "\u001b[1m2/2\u001b[0m \u001b[32m━━━━━━━━━━━━━━━━━━━━\u001b[0m\u001b[37m\u001b[0m \u001b[1m0s\u001b[0m 89ms/step - accuracy: 0.9285 - auc: 0.9470 - loss: 4.3907 - precision: 0.5238 - recall: 0.6667\n",
      "Epoch 11: val_accuracy did not improve from 1.00000\n",
      "\u001b[1m2/2\u001b[0m \u001b[32m━━━━━━━━━━━━━━━━━━━━\u001b[0m\u001b[37m\u001b[0m \u001b[1m0s\u001b[0m 160ms/step - accuracy: 0.9360 - auc: 0.9515 - loss: 4.3693 - precision: 0.5873 - recall: 0.7222 - val_accuracy: 0.9375 - val_auc: 1.0000 - val_loss: 4.2789 - val_precision: 0.6667 - val_recall: 1.0000 - learning_rate: 0.0010\n",
      "Epoch 12/100\n",
      "\u001b[1m2/2\u001b[0m \u001b[32m━━━━━━━━━━━━━━━━━━━━\u001b[0m\u001b[37m\u001b[0m \u001b[1m0s\u001b[0m 77ms/step - accuracy: 0.9524 - auc: 0.9508 - loss: 4.1388 - precision: 0.6250 - recall: 1.0000\n",
      "Epoch 12: val_accuracy did not improve from 1.00000\n",
      "\u001b[1m2/2\u001b[0m \u001b[32m━━━━━━━━━━━━━━━━━━━━\u001b[0m\u001b[37m\u001b[0m \u001b[1m0s\u001b[0m 149ms/step - accuracy: 0.9573 - auc: 0.9566 - loss: 4.1271 - precision: 0.6667 - recall: 1.0000 - val_accuracy: 1.0000 - val_auc: 1.0000 - val_loss: 4.1281 - val_precision: 1.0000 - val_recall: 1.0000 - learning_rate: 0.0010\n",
      "Epoch 13/100\n",
      "\u001b[1m2/2\u001b[0m \u001b[32m━━━━━━━━━━━━━━━━━━━━\u001b[0m\u001b[37m\u001b[0m \u001b[1m0s\u001b[0m 74ms/step - accuracy: 0.9524 - auc: 0.9962 - loss: 3.9826 - precision: 0.6250 - recall: 1.0000\n",
      "Epoch 13: val_accuracy did not improve from 1.00000\n",
      "\u001b[1m2/2\u001b[0m \u001b[32m━━━━━━━━━━━━━━━━━━━━\u001b[0m\u001b[37m\u001b[0m \u001b[1m0s\u001b[0m 155ms/step - accuracy: 0.9573 - auc: 0.9949 - loss: 3.9733 - precision: 0.6667 - recall: 1.0000 - val_accuracy: 1.0000 - val_auc: 1.0000 - val_loss: 3.9825 - val_precision: 1.0000 - val_recall: 1.0000 - learning_rate: 0.0010\n",
      "Epoch 14/100\n",
      "\u001b[1m2/2\u001b[0m \u001b[32m━━━━━━━━━━━━━━━━━━━━\u001b[0m\u001b[37m\u001b[0m \u001b[1m0s\u001b[0m 75ms/step - accuracy: 0.9524 - auc: 0.9644 - loss: 3.8473 - precision: 0.6250 - recall: 1.0000\n",
      "Epoch 14: val_accuracy did not improve from 1.00000\n",
      "\u001b[1m2/2\u001b[0m \u001b[32m━━━━━━━━━━━━━━━━━━━━\u001b[0m\u001b[37m\u001b[0m \u001b[1m0s\u001b[0m 144ms/step - accuracy: 0.9573 - auc: 0.9692 - loss: 3.8350 - precision: 0.6667 - recall: 1.0000 - val_accuracy: 1.0000 - val_auc: 1.0000 - val_loss: 3.8415 - val_precision: 1.0000 - val_recall: 1.0000 - learning_rate: 0.0010\n",
      "Epoch 15/100\n",
      "\u001b[1m2/2\u001b[0m \u001b[32m━━━━━━━━━━━━━━━━━━━━\u001b[0m\u001b[37m\u001b[0m \u001b[1m0s\u001b[0m 83ms/step - accuracy: 0.9524 - auc: 0.9758 - loss: 3.7363 - precision: 0.6250 - recall: 1.0000\n",
      "Epoch 15: val_accuracy did not improve from 1.00000\n",
      "\u001b[1m2/2\u001b[0m \u001b[32m━━━━━━━━━━━━━━━━━━━━\u001b[0m\u001b[37m\u001b[0m \u001b[1m0s\u001b[0m 147ms/step - accuracy: 0.9573 - auc: 0.9788 - loss: 3.7208 - precision: 0.6667 - recall: 1.0000 - val_accuracy: 1.0000 - val_auc: 1.0000 - val_loss: 3.7066 - val_precision: 1.0000 - val_recall: 1.0000 - learning_rate: 0.0010\n",
      "Epoch 16/100\n",
      "\u001b[1m2/2\u001b[0m \u001b[32m━━━━━━━━━━━━━━━━━━━━\u001b[0m\u001b[37m\u001b[0m \u001b[1m0s\u001b[0m 70ms/step - accuracy: 0.9524 - auc: 0.9758 - loss: 3.5968 - precision: 0.6250 - recall: 1.0000\n",
      "Epoch 16: val_accuracy did not improve from 1.00000\n",
      "\u001b[1m2/2\u001b[0m \u001b[32m━━━━━━━━━━━━━━━━━━━━\u001b[0m\u001b[37m\u001b[0m \u001b[1m0s\u001b[0m 152ms/step - accuracy: 0.9573 - auc: 0.9788 - loss: 3.5814 - precision: 0.6667 - recall: 1.0000 - val_accuracy: 1.0000 - val_auc: 1.0000 - val_loss: 3.5777 - val_precision: 1.0000 - val_recall: 1.0000 - learning_rate: 0.0010\n",
      "Epoch 17/100\n",
      "\u001b[1m2/2\u001b[0m \u001b[32m━━━━━━━━━━━━━━━━━━━━\u001b[0m\u001b[37m\u001b[0m \u001b[1m0s\u001b[0m 81ms/step - accuracy: 0.9524 - auc: 0.9939 - loss: 3.4634 - precision: 0.6250 - recall: 1.0000\n",
      "Epoch 17: val_accuracy did not improve from 1.00000\n",
      "\u001b[1m2/2\u001b[0m \u001b[32m━━━━━━━━━━━━━━━━━━━━\u001b[0m\u001b[37m\u001b[0m \u001b[1m0s\u001b[0m 150ms/step - accuracy: 0.9573 - auc: 0.9919 - loss: 3.4541 - precision: 0.6667 - recall: 1.0000 - val_accuracy: 1.0000 - val_auc: 1.0000 - val_loss: 3.4548 - val_precision: 1.0000 - val_recall: 1.0000 - learning_rate: 0.0010\n",
      "Epoch 18/100\n",
      "\u001b[1m2/2\u001b[0m \u001b[32m━━━━━━━━━━━━━━━━━━━━\u001b[0m\u001b[37m\u001b[0m \u001b[1m0s\u001b[0m 85ms/step - accuracy: 0.9524 - auc: 0.9500 - loss: 3.3802 - precision: 0.6250 - recall: 1.0000\n",
      "Epoch 18: val_accuracy did not improve from 1.00000\n",
      "\u001b[1m2/2\u001b[0m \u001b[32m━━━━━━━━━━━━━━━━━━━━\u001b[0m\u001b[37m\u001b[0m \u001b[1m0s\u001b[0m 154ms/step - accuracy: 0.9573 - auc: 0.9556 - loss: 3.3654 - precision: 0.6667 - recall: 1.0000 - val_accuracy: 1.0000 - val_auc: 1.0000 - val_loss: 3.3375 - val_precision: 1.0000 - val_recall: 1.0000 - learning_rate: 0.0010\n",
      "Epoch 19/100\n",
      "\u001b[1m2/2\u001b[0m \u001b[32m━━━━━━━━━━━━━━━━━━━━\u001b[0m\u001b[37m\u001b[0m \u001b[1m0s\u001b[0m 82ms/step - accuracy: 0.9524 - auc: 0.9492 - loss: 3.2797 - precision: 0.6250 - recall: 1.0000\n",
      "Epoch 19: val_accuracy did not improve from 1.00000\n",
      "\u001b[1m2/2\u001b[0m \u001b[32m━━━━━━━━━━━━━━━━━━━━\u001b[0m\u001b[37m\u001b[0m \u001b[1m0s\u001b[0m 152ms/step - accuracy: 0.9573 - auc: 0.9545 - loss: 3.2636 - precision: 0.6667 - recall: 1.0000 - val_accuracy: 1.0000 - val_auc: 1.0000 - val_loss: 3.2260 - val_precision: 1.0000 - val_recall: 1.0000 - learning_rate: 0.0010\n",
      "Epoch 20/100\n",
      "\u001b[1m2/2\u001b[0m \u001b[32m━━━━━━━━━━━━━━━━━━━━\u001b[0m\u001b[37m\u001b[0m \u001b[1m0s\u001b[0m 77ms/step - accuracy: 0.9524 - auc: 0.9758 - loss: 3.1398 - precision: 0.6250 - recall: 1.0000\n",
      "Epoch 20: val_accuracy did not improve from 1.00000\n",
      "\u001b[1m2/2\u001b[0m \u001b[32m━━━━━━━━━━━━━━━━━━━━\u001b[0m\u001b[37m\u001b[0m \u001b[1m0s\u001b[0m 150ms/step - accuracy: 0.9573 - auc: 0.9788 - loss: 3.1285 - precision: 0.6667 - recall: 1.0000 - val_accuracy: 1.0000 - val_auc: 1.0000 - val_loss: 3.1186 - val_precision: 1.0000 - val_recall: 1.0000 - learning_rate: 0.0010\n",
      "Epoch 21/100\n",
      "\u001b[1m2/2\u001b[0m \u001b[32m━━━━━━━━━━━━━━━━━━━━\u001b[0m\u001b[37m\u001b[0m \u001b[1m0s\u001b[0m 80ms/step - accuracy: 0.9524 - auc: 0.9977 - loss: 3.0102 - precision: 0.6250 - recall: 1.0000\n",
      "Epoch 21: val_accuracy did not improve from 1.00000\n",
      "\u001b[1m2/2\u001b[0m \u001b[32m━━━━━━━━━━━━━━━━━━━━\u001b[0m\u001b[37m\u001b[0m \u001b[1m0s\u001b[0m 152ms/step - accuracy: 0.9573 - auc: 0.9970 - loss: 2.9988 - precision: 0.6667 - recall: 1.0000 - val_accuracy: 1.0000 - val_auc: 1.0000 - val_loss: 3.0149 - val_precision: 1.0000 - val_recall: 1.0000 - learning_rate: 0.0010\n",
      "Epoch 22/100\n",
      "\u001b[1m2/2\u001b[0m \u001b[32m━━━━━━━━━━━━━━━━━━━━\u001b[0m\u001b[37m\u001b[0m \u001b[1m0s\u001b[0m 68ms/step - accuracy: 0.9524 - auc: 0.9856 - loss: 2.9201 - precision: 0.6250 - recall: 1.0000\n",
      "Epoch 22: val_accuracy did not improve from 1.00000\n",
      "\u001b[1m2/2\u001b[0m \u001b[32m━━━━━━━━━━━━━━━━━━━━\u001b[0m\u001b[37m\u001b[0m \u001b[1m0s\u001b[0m 147ms/step - accuracy: 0.9573 - auc: 0.9864 - loss: 2.9114 - precision: 0.6667 - recall: 1.0000 - val_accuracy: 1.0000 - val_auc: 1.0000 - val_loss: 2.9140 - val_precision: 1.0000 - val_recall: 1.0000 - learning_rate: 0.0010\n",
      "Epoch 23/100\n",
      "\u001b[1m2/2\u001b[0m \u001b[32m━━━━━━━━━━━━━━━━━━━━\u001b[0m\u001b[37m\u001b[0m \u001b[1m0s\u001b[0m 78ms/step - accuracy: 0.9524 - auc: 0.9742 - loss: 2.8280 - precision: 0.6250 - recall: 1.0000\n",
      "Epoch 23: val_accuracy did not improve from 1.00000\n",
      "\u001b[1m2/2\u001b[0m \u001b[32m━━━━━━━━━━━━━━━━━━━━\u001b[0m\u001b[37m\u001b[0m \u001b[1m0s\u001b[0m 150ms/step - accuracy: 0.9573 - auc: 0.9768 - loss: 2.8183 - precision: 0.6667 - recall: 1.0000 - val_accuracy: 1.0000 - val_auc: 1.0000 - val_loss: 2.8150 - val_precision: 1.0000 - val_recall: 1.0000 - learning_rate: 0.0010\n",
      "Epoch 24/100\n",
      "\u001b[1m2/2\u001b[0m \u001b[32m━━━━━━━━━━━━━━━━━━━━\u001b[0m\u001b[37m\u001b[0m \u001b[1m0s\u001b[0m 79ms/step - accuracy: 0.9524 - auc: 0.9561 - loss: 2.7254 - precision: 0.6250 - recall: 1.0000\n",
      "Epoch 24: val_accuracy did not improve from 1.00000\n",
      "\u001b[1m2/2\u001b[0m \u001b[32m━━━━━━━━━━━━━━━━━━━━\u001b[0m\u001b[37m\u001b[0m \u001b[1m0s\u001b[0m 149ms/step - accuracy: 0.9573 - auc: 0.9636 - loss: 2.7148 - precision: 0.6667 - recall: 1.0000 - val_accuracy: 1.0000 - val_auc: 1.0000 - val_loss: 2.7203 - val_precision: 1.0000 - val_recall: 1.0000 - learning_rate: 0.0010\n",
      "Epoch 25/100\n",
      "\u001b[1m2/2\u001b[0m \u001b[32m━━━━━━━━━━━━━━━━━━━━\u001b[0m\u001b[37m\u001b[0m \u001b[1m0s\u001b[0m 67ms/step - accuracy: 0.9524 - auc: 0.9659 - loss: 2.6445 - precision: 0.6250 - recall: 1.0000\n",
      "Epoch 25: val_accuracy did not improve from 1.00000\n",
      "\u001b[1m2/2\u001b[0m \u001b[32m━━━━━━━━━━━━━━━━━━━━\u001b[0m\u001b[37m\u001b[0m \u001b[1m0s\u001b[0m 135ms/step - accuracy: 0.9573 - auc: 0.9712 - loss: 2.6346 - precision: 0.6667 - recall: 1.0000 - val_accuracy: 1.0000 - val_auc: 1.0000 - val_loss: 2.6314 - val_precision: 1.0000 - val_recall: 1.0000 - learning_rate: 0.0010\n",
      "Epoch 26/100\n",
      "\u001b[1m2/2\u001b[0m \u001b[32m━━━━━━━━━━━━━━━━━━━━\u001b[0m\u001b[37m\u001b[0m \u001b[1m0s\u001b[0m 72ms/step - accuracy: 0.9524 - auc: 0.9955 - loss: 2.5364 - precision: 0.6250 - recall: 1.0000\n",
      "Epoch 26: val_accuracy did not improve from 1.00000\n",
      "\u001b[1m2/2\u001b[0m \u001b[32m━━━━━━━━━━━━━━━━━━━━\u001b[0m\u001b[37m\u001b[0m \u001b[1m0s\u001b[0m 147ms/step - accuracy: 0.9573 - auc: 0.9939 - loss: 2.5326 - precision: 0.6667 - recall: 1.0000 - val_accuracy: 1.0000 - val_auc: 1.0000 - val_loss: 2.5457 - val_precision: 1.0000 - val_recall: 1.0000 - learning_rate: 0.0010\n",
      "Epoch 27/100\n",
      "\u001b[1m2/2\u001b[0m \u001b[32m━━━━━━━━━━━━━━━━━━━━\u001b[0m\u001b[37m\u001b[0m \u001b[1m0s\u001b[0m 87ms/step - accuracy: 0.9524 - auc: 0.9742 - loss: 2.4752 - precision: 0.6250 - recall: 1.0000\n",
      "Epoch 27: val_accuracy did not improve from 1.00000\n",
      "\u001b[1m2/2\u001b[0m \u001b[32m━━━━━━━━━━━━━━━━━━━━\u001b[0m\u001b[37m\u001b[0m \u001b[1m0s\u001b[0m 157ms/step - accuracy: 0.9573 - auc: 0.9768 - loss: 2.4643 - precision: 0.6667 - recall: 1.0000 - val_accuracy: 1.0000 - val_auc: 1.0000 - val_loss: 2.4610 - val_precision: 1.0000 - val_recall: 1.0000 - learning_rate: 0.0010\n",
      "Epoch 28/100\n",
      "\u001b[1m2/2\u001b[0m \u001b[32m━━━━━━━━━━━━━━━━━━━━\u001b[0m\u001b[37m\u001b[0m \u001b[1m0s\u001b[0m 63ms/step - accuracy: 0.9524 - auc: 0.9970 - loss: 2.3801 - precision: 0.6250 - recall: 1.0000\n",
      "Epoch 28: val_accuracy did not improve from 1.00000\n",
      "\u001b[1m2/2\u001b[0m \u001b[32m━━━━━━━━━━━━━━━━━━━━\u001b[0m\u001b[37m\u001b[0m \u001b[1m0s\u001b[0m 146ms/step - accuracy: 0.9573 - auc: 0.9960 - loss: 2.3708 - precision: 0.6667 - recall: 1.0000 - val_accuracy: 1.0000 - val_auc: 1.0000 - val_loss: 2.3780 - val_precision: 1.0000 - val_recall: 1.0000 - learning_rate: 0.0010\n",
      "Epoch 29/100\n",
      "\u001b[1m2/2\u001b[0m \u001b[32m━━━━━━━━━━━━━━━━━━━━\u001b[0m\u001b[37m\u001b[0m \u001b[1m0s\u001b[0m 79ms/step - accuracy: 0.9524 - auc: 0.9795 - loss: 2.3282 - precision: 0.6250 - recall: 1.0000\n",
      "Epoch 29: val_accuracy did not improve from 1.00000\n",
      "\u001b[1m2/2\u001b[0m \u001b[32m━━━━━━━━━━━━━━━━━━━━\u001b[0m\u001b[37m\u001b[0m \u001b[1m0s\u001b[0m 136ms/step - accuracy: 0.9573 - auc: 0.9838 - loss: 2.3148 - precision: 0.6667 - recall: 1.0000 - val_accuracy: 1.0000 - val_auc: 1.0000 - val_loss: 2.3021 - val_precision: 1.0000 - val_recall: 1.0000 - learning_rate: 0.0010\n",
      "Epoch 30/100\n",
      "\u001b[1m2/2\u001b[0m \u001b[32m━━━━━━━━━━━━━━━━━━━━\u001b[0m\u001b[37m\u001b[0m \u001b[1m0s\u001b[0m 72ms/step - accuracy: 0.9524 - auc: 0.9992 - loss: 2.2114 - precision: 0.6250 - recall: 1.0000\n",
      "Epoch 30: val_accuracy did not improve from 1.00000\n",
      "\u001b[1m2/2\u001b[0m \u001b[32m━━━━━━━━━━━━━━━━━━━━\u001b[0m\u001b[37m\u001b[0m \u001b[1m0s\u001b[0m 139ms/step - accuracy: 0.9573 - auc: 0.9990 - loss: 2.2098 - precision: 0.6667 - recall: 1.0000 - val_accuracy: 1.0000 - val_auc: 1.0000 - val_loss: 2.2284 - val_precision: 1.0000 - val_recall: 1.0000 - learning_rate: 0.0010\n",
      "Epoch 31/100\n",
      "\u001b[1m2/2\u001b[0m \u001b[32m━━━━━━━━━━━━━━━━━━━━\u001b[0m\u001b[37m\u001b[0m \u001b[1m0s\u001b[0m 75ms/step - accuracy: 0.9524 - auc: 1.0000 - loss: 2.1284 - precision: 0.6250 - recall: 1.0000\n",
      "Epoch 31: val_accuracy did not improve from 1.00000\n",
      "\u001b[1m2/2\u001b[0m \u001b[32m━━━━━━━━━━━━━━━━━━━━\u001b[0m\u001b[37m\u001b[0m \u001b[1m0s\u001b[0m 146ms/step - accuracy: 0.9573 - auc: 1.0000 - loss: 2.1225 - precision: 0.6667 - recall: 1.0000 - val_accuracy: 1.0000 - val_auc: 1.0000 - val_loss: 2.1577 - val_precision: 1.0000 - val_recall: 1.0000 - learning_rate: 0.0010\n",
      "Epoch 32/100\n",
      "\u001b[1m2/2\u001b[0m \u001b[32m━━━━━━━━━━━━━━━━━━━━\u001b[0m\u001b[37m\u001b[0m \u001b[1m0s\u001b[0m 91ms/step - accuracy: 0.9524 - auc: 0.9970 - loss: 2.0827 - precision: 0.6250 - recall: 1.0000\n",
      "Epoch 32: val_accuracy did not improve from 1.00000\n",
      "\u001b[1m2/2\u001b[0m \u001b[32m━━━━━━━━━━━━━━━━━━━━\u001b[0m\u001b[37m\u001b[0m \u001b[1m0s\u001b[0m 160ms/step - accuracy: 0.9573 - auc: 0.9960 - loss: 2.0799 - precision: 0.6667 - recall: 1.0000 - val_accuracy: 1.0000 - val_auc: 1.0000 - val_loss: 2.0920 - val_precision: 1.0000 - val_recall: 1.0000 - learning_rate: 0.0010\n",
      "Epoch 33/100\n",
      "\u001b[1m2/2\u001b[0m \u001b[32m━━━━━━━━━━━━━━━━━━━━\u001b[0m\u001b[37m\u001b[0m \u001b[1m0s\u001b[0m 73ms/step - accuracy: 0.9524 - auc: 1.0000 - loss: 1.9847 - precision: 0.6250 - recall: 1.0000\n",
      "Epoch 33: val_accuracy did not improve from 1.00000\n",
      "\u001b[1m2/2\u001b[0m \u001b[32m━━━━━━━━━━━━━━━━━━━━\u001b[0m\u001b[37m\u001b[0m \u001b[1m0s\u001b[0m 149ms/step - accuracy: 0.9573 - auc: 1.0000 - loss: 1.9794 - precision: 0.6667 - recall: 1.0000 - val_accuracy: 1.0000 - val_auc: 1.0000 - val_loss: 2.0305 - val_precision: 1.0000 - val_recall: 1.0000 - learning_rate: 0.0010\n",
      "Epoch 34/100\n",
      "\u001b[1m2/2\u001b[0m \u001b[32m━━━━━━━━━━━━━━━━━━━━\u001b[0m\u001b[37m\u001b[0m \u001b[1m0s\u001b[0m 75ms/step - accuracy: 0.9762 - auc: 0.9985 - loss: 1.9339 - precision: 0.7619 - recall: 1.0000 \n",
      "Epoch 34: val_accuracy did not improve from 1.00000\n",
      "\u001b[1m2/2\u001b[0m \u001b[32m━━━━━━━━━━━━━━━━━━━━\u001b[0m\u001b[37m\u001b[0m \u001b[1m0s\u001b[0m 145ms/step - accuracy: 0.9787 - auc: 0.9980 - loss: 1.9278 - precision: 0.7937 - recall: 1.0000 - val_accuracy: 1.0000 - val_auc: 1.0000 - val_loss: 1.9748 - val_precision: 1.0000 - val_recall: 1.0000 - learning_rate: 0.0010\n",
      "Epoch 35/100\n",
      "\u001b[1m2/2\u001b[0m \u001b[32m━━━━━━━━━━━━━━━━━━━━\u001b[0m\u001b[37m\u001b[0m \u001b[1m0s\u001b[0m 72ms/step - accuracy: 0.9762 - auc: 1.0000 - loss: 1.8638 - precision: 0.7619 - recall: 1.0000 \n",
      "Epoch 35: val_accuracy did not improve from 1.00000\n",
      "\u001b[1m2/2\u001b[0m \u001b[32m━━━━━━━━━━━━━━━━━━━━\u001b[0m\u001b[37m\u001b[0m \u001b[1m0s\u001b[0m 143ms/step - accuracy: 0.9787 - auc: 1.0000 - loss: 1.8688 - precision: 0.7937 - recall: 1.0000 - val_accuracy: 1.0000 - val_auc: 1.0000 - val_loss: 1.9207 - val_precision: 1.0000 - val_recall: 1.0000 - learning_rate: 0.0010\n",
      "Epoch 36/100\n",
      "\u001b[1m2/2\u001b[0m \u001b[32m━━━━━━━━━━━━━━━━━━━━\u001b[0m\u001b[37m\u001b[0m \u001b[1m0s\u001b[0m 77ms/step - accuracy: 1.0000 - auc: 1.0000 - loss: 1.7821 - precision: 1.0000 - recall: 1.0000\n",
      "Epoch 36: val_accuracy did not improve from 1.00000\n",
      "\u001b[1m2/2\u001b[0m \u001b[32m━━━━━━━━━━━━━━━━━━━━\u001b[0m\u001b[37m\u001b[0m \u001b[1m0s\u001b[0m 150ms/step - accuracy: 1.0000 - auc: 1.0000 - loss: 1.7827 - precision: 1.0000 - recall: 1.0000 - val_accuracy: 1.0000 - val_auc: 1.0000 - val_loss: 1.8727 - val_precision: 1.0000 - val_recall: 1.0000 - learning_rate: 0.0010\n",
      "Epoch 37/100\n",
      "\u001b[1m2/2\u001b[0m \u001b[32m━━━━━━━━━━━━━━━━━━━━\u001b[0m\u001b[37m\u001b[0m \u001b[1m0s\u001b[0m 64ms/step - accuracy: 0.9762 - auc: 1.0000 - loss: 1.7389 - precision: 0.7619 - recall: 1.0000 \n",
      "Epoch 37: val_accuracy did not improve from 1.00000\n",
      "\u001b[1m2/2\u001b[0m \u001b[32m━━━━━━━━━━━━━━━━━━━━\u001b[0m\u001b[37m\u001b[0m \u001b[1m0s\u001b[0m 142ms/step - accuracy: 0.9787 - auc: 1.0000 - loss: 1.7373 - precision: 0.7937 - recall: 1.0000 - val_accuracy: 1.0000 - val_auc: 1.0000 - val_loss: 1.8374 - val_precision: 1.0000 - val_recall: 1.0000 - learning_rate: 0.0010\n",
      "Epoch 38/100\n",
      "\u001b[1m2/2\u001b[0m \u001b[32m━━━━━━━━━━━━━━━━━━━━\u001b[0m\u001b[37m\u001b[0m \u001b[1m0s\u001b[0m 78ms/step - accuracy: 0.9524 - auc: 1.0000 - loss: 1.7064 - precision: 0.6250 - recall: 1.0000\n",
      "Epoch 38: val_accuracy did not improve from 1.00000\n",
      "\u001b[1m2/2\u001b[0m \u001b[32m━━━━━━━━━━━━━━━━━━━━\u001b[0m\u001b[37m\u001b[0m \u001b[1m0s\u001b[0m 147ms/step - accuracy: 0.9573 - auc: 1.0000 - loss: 1.7005 - precision: 0.6667 - recall: 1.0000 - val_accuracy: 1.0000 - val_auc: 1.0000 - val_loss: 1.7564 - val_precision: 1.0000 - val_recall: 1.0000 - learning_rate: 0.0010\n",
      "Epoch 39/100\n",
      "\u001b[1m2/2\u001b[0m \u001b[32m━━━━━━━━━━━━━━━━━━━━\u001b[0m\u001b[37m\u001b[0m \u001b[1m0s\u001b[0m 77ms/step - accuracy: 0.9762 - auc: 1.0000 - loss: 1.6447 - precision: 0.7619 - recall: 1.0000\n",
      "Epoch 39: val_accuracy did not improve from 1.00000\n",
      "\u001b[1m2/2\u001b[0m \u001b[32m━━━━━━━━━━━━━━━━━━━━\u001b[0m\u001b[37m\u001b[0m \u001b[1m0s\u001b[0m 145ms/step - accuracy: 0.9787 - auc: 1.0000 - loss: 1.6415 - precision: 0.7937 - recall: 1.0000 - val_accuracy: 1.0000 - val_auc: 1.0000 - val_loss: 1.7010 - val_precision: 1.0000 - val_recall: 1.0000 - learning_rate: 0.0010\n",
      "Epoch 40/100\n",
      "\u001b[1m2/2\u001b[0m \u001b[32m━━━━━━━━━━━━━━━━━━━━\u001b[0m\u001b[37m\u001b[0m \u001b[1m0s\u001b[0m 74ms/step - accuracy: 1.0000 - auc: 1.0000 - loss: 1.5800 - precision: 1.0000 - recall: 1.0000\n",
      "Epoch 40: val_accuracy did not improve from 1.00000\n",
      "\u001b[1m2/2\u001b[0m \u001b[32m━━━━━━━━━━━━━━━━━━━━\u001b[0m\u001b[37m\u001b[0m \u001b[1m0s\u001b[0m 144ms/step - accuracy: 1.0000 - auc: 1.0000 - loss: 1.5804 - precision: 1.0000 - recall: 1.0000 - val_accuracy: 1.0000 - val_auc: 1.0000 - val_loss: 1.6492 - val_precision: 1.0000 - val_recall: 1.0000 - learning_rate: 0.0010\n",
      "Epoch 41/100\n",
      "\u001b[1m2/2\u001b[0m \u001b[32m━━━━━━━━━━━━━━━━━━━━\u001b[0m\u001b[37m\u001b[0m \u001b[1m0s\u001b[0m 75ms/step - accuracy: 0.9762 - auc: 1.0000 - loss: 1.5484 - precision: 0.7619 - recall: 1.0000\n",
      "Epoch 41: val_accuracy did not improve from 1.00000\n",
      "\u001b[1m2/2\u001b[0m \u001b[32m━━━━━━━━━━━━━━━━━━━━\u001b[0m\u001b[37m\u001b[0m \u001b[1m0s\u001b[0m 137ms/step - accuracy: 0.9787 - auc: 1.0000 - loss: 1.5440 - precision: 0.7937 - recall: 1.0000 - val_accuracy: 1.0000 - val_auc: 1.0000 - val_loss: 1.5986 - val_precision: 1.0000 - val_recall: 1.0000 - learning_rate: 0.0010\n",
      "Epoch 42/100\n",
      "\u001b[1m2/2\u001b[0m \u001b[32m━━━━━━━━━━━━━━━━━━━━\u001b[0m\u001b[37m\u001b[0m \u001b[1m0s\u001b[0m 77ms/step - accuracy: 0.9762 - auc: 1.0000 - loss: 1.5060 - precision: 0.7619 - recall: 1.0000\n",
      "Epoch 42: val_accuracy did not improve from 1.00000\n",
      "\u001b[1m2/2\u001b[0m \u001b[32m━━━━━━━━━━━━━━━━━━━━\u001b[0m\u001b[37m\u001b[0m \u001b[1m0s\u001b[0m 139ms/step - accuracy: 0.9787 - auc: 1.0000 - loss: 1.5028 - precision: 0.7937 - recall: 1.0000 - val_accuracy: 1.0000 - val_auc: 1.0000 - val_loss: 1.5534 - val_precision: 1.0000 - val_recall: 1.0000 - learning_rate: 0.0010\n",
      "Epoch 43/100\n",
      "\u001b[1m2/2\u001b[0m \u001b[32m━━━━━━━━━━━━━━━━━━━━\u001b[0m\u001b[37m\u001b[0m \u001b[1m0s\u001b[0m 73ms/step - accuracy: 1.0000 - auc: 1.0000 - loss: 1.4827 - precision: 1.0000 - recall: 1.0000\n",
      "Epoch 43: val_accuracy did not improve from 1.00000\n",
      "\u001b[1m2/2\u001b[0m \u001b[32m━━━━━━━━━━━━━━━━━━━━\u001b[0m\u001b[37m\u001b[0m \u001b[1m0s\u001b[0m 146ms/step - accuracy: 1.0000 - auc: 1.0000 - loss: 1.4877 - precision: 1.0000 - recall: 1.0000 - val_accuracy: 1.0000 - val_auc: 1.0000 - val_loss: 1.5019 - val_precision: 1.0000 - val_recall: 1.0000 - learning_rate: 0.0010\n",
      "Epoch 44/100\n",
      "\u001b[1m2/2\u001b[0m \u001b[32m━━━━━━━━━━━━━━━━━━━━\u001b[0m\u001b[37m\u001b[0m \u001b[1m0s\u001b[0m 71ms/step - accuracy: 1.0000 - auc: 1.0000 - loss: 1.4037 - precision: 1.0000 - recall: 1.0000\n",
      "Epoch 44: val_accuracy did not improve from 1.00000\n",
      "\u001b[1m2/2\u001b[0m \u001b[32m━━━━━━━━━━━━━━━━━━━━\u001b[0m\u001b[37m\u001b[0m \u001b[1m0s\u001b[0m 139ms/step - accuracy: 1.0000 - auc: 1.0000 - loss: 1.4050 - precision: 1.0000 - recall: 1.0000 - val_accuracy: 1.0000 - val_auc: 1.0000 - val_loss: 1.4597 - val_precision: 1.0000 - val_recall: 1.0000 - learning_rate: 0.0010\n",
      "Epoch 45/100\n",
      "\u001b[1m2/2\u001b[0m \u001b[32m━━━━━━━━━━━━━━━━━━━━\u001b[0m\u001b[37m\u001b[0m \u001b[1m0s\u001b[0m 75ms/step - accuracy: 0.9762 - auc: 0.9879 - loss: 1.4127 - precision: 0.7619 - recall: 1.0000\n",
      "Epoch 45: val_accuracy did not improve from 1.00000\n",
      "\u001b[1m2/2\u001b[0m \u001b[32m━━━━━━━━━━━━━━━━━━━━\u001b[0m\u001b[37m\u001b[0m \u001b[1m0s\u001b[0m 138ms/step - accuracy: 0.9787 - auc: 0.9894 - loss: 1.4057 - precision: 0.7937 - recall: 1.0000 - val_accuracy: 1.0000 - val_auc: 1.0000 - val_loss: 1.4236 - val_precision: 1.0000 - val_recall: 1.0000 - learning_rate: 0.0010\n",
      "Epoch 46/100\n",
      "\u001b[1m2/2\u001b[0m \u001b[32m━━━━━━━━━━━━━━━━━━━━\u001b[0m\u001b[37m\u001b[0m \u001b[1m0s\u001b[0m 83ms/step - accuracy: 0.9762 - auc: 1.0000 - loss: 1.3399 - precision: 0.7619 - recall: 1.0000\n",
      "Epoch 46: val_accuracy did not improve from 1.00000\n",
      "\u001b[1m2/2\u001b[0m \u001b[32m━━━━━━━━━━━━━━━━━━━━\u001b[0m\u001b[37m\u001b[0m \u001b[1m0s\u001b[0m 147ms/step - accuracy: 0.9787 - auc: 1.0000 - loss: 1.3363 - precision: 0.7937 - recall: 1.0000 - val_accuracy: 1.0000 - val_auc: 1.0000 - val_loss: 1.3810 - val_precision: 1.0000 - val_recall: 1.0000 - learning_rate: 0.0010\n",
      "Epoch 47/100\n",
      "\u001b[1m2/2\u001b[0m \u001b[32m━━━━━━━━━━━━━━━━━━━━\u001b[0m\u001b[37m\u001b[0m \u001b[1m0s\u001b[0m 68ms/step - accuracy: 0.9762 - auc: 1.0000 - loss: 1.2980 - precision: 0.7619 - recall: 1.0000\n",
      "Epoch 47: val_accuracy did not improve from 1.00000\n",
      "\u001b[1m2/2\u001b[0m \u001b[32m━━━━━━━━━━━━━━━━━━━━\u001b[0m\u001b[37m\u001b[0m \u001b[1m0s\u001b[0m 143ms/step - accuracy: 0.9787 - auc: 1.0000 - loss: 1.2951 - precision: 0.7937 - recall: 1.0000 - val_accuracy: 1.0000 - val_auc: 1.0000 - val_loss: 1.3399 - val_precision: 1.0000 - val_recall: 1.0000 - learning_rate: 0.0010\n",
      "Epoch 48/100\n",
      "\u001b[1m2/2\u001b[0m \u001b[32m━━━━━━━━━━━━━━━━━━━━\u001b[0m\u001b[37m\u001b[0m \u001b[1m0s\u001b[0m 76ms/step - accuracy: 0.9762 - auc: 1.0000 - loss: 1.2615 - precision: 0.7619 - recall: 1.0000\n",
      "Epoch 48: val_accuracy did not improve from 1.00000\n",
      "\u001b[1m2/2\u001b[0m \u001b[32m━━━━━━━━━━━━━━━━━━━━\u001b[0m\u001b[37m\u001b[0m \u001b[1m0s\u001b[0m 149ms/step - accuracy: 0.9787 - auc: 1.0000 - loss: 1.2595 - precision: 0.7937 - recall: 1.0000 - val_accuracy: 1.0000 - val_auc: 1.0000 - val_loss: 1.3019 - val_precision: 1.0000 - val_recall: 1.0000 - learning_rate: 0.0010\n",
      "Epoch 49/100\n",
      "\u001b[1m2/2\u001b[0m \u001b[32m━━━━━━━━━━━━━━━━━━━━\u001b[0m\u001b[37m\u001b[0m \u001b[1m0s\u001b[0m 64ms/step - accuracy: 1.0000 - auc: 1.0000 - loss: 1.2128 - precision: 1.0000 - recall: 1.0000 \n",
      "Epoch 49: val_accuracy did not improve from 1.00000\n",
      "\u001b[1m2/2\u001b[0m \u001b[32m━━━━━━━━━━━━━━━━━━━━\u001b[0m\u001b[37m\u001b[0m \u001b[1m0s\u001b[0m 140ms/step - accuracy: 1.0000 - auc: 1.0000 - loss: 1.2124 - precision: 1.0000 - recall: 1.0000 - val_accuracy: 1.0000 - val_auc: 1.0000 - val_loss: 1.2680 - val_precision: 1.0000 - val_recall: 1.0000 - learning_rate: 0.0010\n",
      "Epoch 50/100\n",
      "\u001b[1m2/2\u001b[0m \u001b[32m━━━━━━━━━━━━━━━━━━━━\u001b[0m\u001b[37m\u001b[0m \u001b[1m0s\u001b[0m 74ms/step - accuracy: 1.0000 - auc: 1.0000 - loss: 1.1884 - precision: 1.0000 - recall: 1.0000\n",
      "Epoch 50: val_accuracy did not improve from 1.00000\n",
      "\u001b[1m2/2\u001b[0m \u001b[32m━━━━━━━━━━━━━━━━━━━━\u001b[0m\u001b[37m\u001b[0m \u001b[1m0s\u001b[0m 139ms/step - accuracy: 1.0000 - auc: 1.0000 - loss: 1.1871 - precision: 1.0000 - recall: 1.0000 - val_accuracy: 1.0000 - val_auc: 1.0000 - val_loss: 1.2376 - val_precision: 1.0000 - val_recall: 1.0000 - learning_rate: 0.0010\n",
      "Epoch 51/100\n",
      "\u001b[1m2/2\u001b[0m \u001b[32m━━━━━━━━━━━━━━━━━━━━\u001b[0m\u001b[37m\u001b[0m \u001b[1m0s\u001b[0m 73ms/step - accuracy: 1.0000 - auc: 1.0000 - loss: 1.1496 - precision: 1.0000 - recall: 1.0000\n",
      "Epoch 51: val_accuracy did not improve from 1.00000\n",
      "\u001b[1m2/2\u001b[0m \u001b[32m━━━━━━━━━━━━━━━━━━━━\u001b[0m\u001b[37m\u001b[0m \u001b[1m0s\u001b[0m 142ms/step - accuracy: 1.0000 - auc: 1.0000 - loss: 1.1492 - precision: 1.0000 - recall: 1.0000 - val_accuracy: 1.0000 - val_auc: 1.0000 - val_loss: 1.2062 - val_precision: 1.0000 - val_recall: 1.0000 - learning_rate: 0.0010\n",
      "Epoch 52/100\n",
      "\u001b[1m2/2\u001b[0m \u001b[32m━━━━━━━━━━━━━━━━━━━━\u001b[0m\u001b[37m\u001b[0m \u001b[1m0s\u001b[0m 58ms/step - accuracy: 1.0000 - auc: 1.0000 - loss: 1.1134 - precision: 1.0000 - recall: 1.0000\n",
      "Epoch 52: val_accuracy did not improve from 1.00000\n",
      "\u001b[1m2/2\u001b[0m \u001b[32m━━━━━━━━━━━━━━━━━━━━\u001b[0m\u001b[37m\u001b[0m \u001b[1m0s\u001b[0m 142ms/step - accuracy: 1.0000 - auc: 1.0000 - loss: 1.1126 - precision: 1.0000 - recall: 1.0000 - val_accuracy: 1.0000 - val_auc: 1.0000 - val_loss: 1.1724 - val_precision: 1.0000 - val_recall: 1.0000 - learning_rate: 0.0010\n",
      "Epoch 53/100\n",
      "\u001b[1m2/2\u001b[0m \u001b[32m━━━━━━━━━━━━━━━━━━━━\u001b[0m\u001b[37m\u001b[0m \u001b[1m0s\u001b[0m 72ms/step - accuracy: 1.0000 - auc: 1.0000 - loss: 1.0840 - precision: 1.0000 - recall: 1.0000\n",
      "Epoch 53: val_accuracy did not improve from 1.00000\n",
      "\u001b[1m2/2\u001b[0m \u001b[32m━━━━━━━━━━━━━━━━━━━━\u001b[0m\u001b[37m\u001b[0m \u001b[1m0s\u001b[0m 143ms/step - accuracy: 1.0000 - auc: 1.0000 - loss: 1.0833 - precision: 1.0000 - recall: 1.0000 - val_accuracy: 1.0000 - val_auc: 1.0000 - val_loss: 1.1400 - val_precision: 1.0000 - val_recall: 1.0000 - learning_rate: 0.0010\n",
      "Epoch 54/100\n",
      "\u001b[1m2/2\u001b[0m \u001b[32m━━━━━━━━━━━━━━━━━━━━\u001b[0m\u001b[37m\u001b[0m \u001b[1m0s\u001b[0m 70ms/step - accuracy: 1.0000 - auc: 1.0000 - loss: 1.0601 - precision: 1.0000 - recall: 1.0000\n",
      "Epoch 54: val_accuracy did not improve from 1.00000\n",
      "\u001b[1m2/2\u001b[0m \u001b[32m━━━━━━━━━━━━━━━━━━━━\u001b[0m\u001b[37m\u001b[0m \u001b[1m0s\u001b[0m 150ms/step - accuracy: 1.0000 - auc: 1.0000 - loss: 1.0585 - precision: 1.0000 - recall: 1.0000 - val_accuracy: 1.0000 - val_auc: 1.0000 - val_loss: 1.1099 - val_precision: 1.0000 - val_recall: 1.0000 - learning_rate: 0.0010\n",
      "Epoch 55/100\n",
      "\u001b[1m2/2\u001b[0m \u001b[32m━━━━━━━━━━━━━━━━━━━━\u001b[0m\u001b[37m\u001b[0m \u001b[1m0s\u001b[0m 61ms/step - accuracy: 1.0000 - auc: 1.0000 - loss: 1.0341 - precision: 1.0000 - recall: 1.0000\n",
      "Epoch 55: val_accuracy did not improve from 1.00000\n",
      "\u001b[1m2/2\u001b[0m \u001b[32m━━━━━━━━━━━━━━━━━━━━\u001b[0m\u001b[37m\u001b[0m \u001b[1m0s\u001b[0m 147ms/step - accuracy: 1.0000 - auc: 1.0000 - loss: 1.0338 - precision: 1.0000 - recall: 1.0000 - val_accuracy: 1.0000 - val_auc: 1.0000 - val_loss: 1.0813 - val_precision: 1.0000 - val_recall: 1.0000 - learning_rate: 0.0010\n",
      "Epoch 56/100\n",
      "\u001b[1m2/2\u001b[0m \u001b[32m━━━━━━━━━━━━━━━━━━━━\u001b[0m\u001b[37m\u001b[0m \u001b[1m0s\u001b[0m 75ms/step - accuracy: 1.0000 - auc: 1.0000 - loss: 1.0037 - precision: 1.0000 - recall: 1.0000\n",
      "Epoch 56: val_accuracy did not improve from 1.00000\n",
      "\u001b[1m2/2\u001b[0m \u001b[32m━━━━━━━━━━━━━━━━━━━━\u001b[0m\u001b[37m\u001b[0m \u001b[1m0s\u001b[0m 145ms/step - accuracy: 1.0000 - auc: 1.0000 - loss: 1.0022 - precision: 1.0000 - recall: 1.0000 - val_accuracy: 1.0000 - val_auc: 1.0000 - val_loss: 1.0537 - val_precision: 1.0000 - val_recall: 1.0000 - learning_rate: 0.0010\n",
      "Epoch 57/100\n",
      "\u001b[1m2/2\u001b[0m \u001b[32m━━━━━━━━━━━━━━━━━━━━\u001b[0m\u001b[37m\u001b[0m \u001b[1m0s\u001b[0m 73ms/step - accuracy: 1.0000 - auc: 1.0000 - loss: 0.9782 - precision: 1.0000 - recall: 1.0000\n",
      "Epoch 57: val_accuracy did not improve from 1.00000\n",
      "\u001b[1m2/2\u001b[0m \u001b[32m━━━━━━━━━━━━━━━━━━━━\u001b[0m\u001b[37m\u001b[0m \u001b[1m0s\u001b[0m 146ms/step - accuracy: 1.0000 - auc: 1.0000 - loss: 0.9771 - precision: 1.0000 - recall: 1.0000 - val_accuracy: 1.0000 - val_auc: 1.0000 - val_loss: 1.0271 - val_precision: 1.0000 - val_recall: 1.0000 - learning_rate: 0.0010\n",
      "Epoch 58/100\n",
      "\u001b[1m2/2\u001b[0m \u001b[32m━━━━━━━━━━━━━━━━━━━━\u001b[0m\u001b[37m\u001b[0m \u001b[1m0s\u001b[0m 74ms/step - accuracy: 1.0000 - auc: 1.0000 - loss: 0.9518 - precision: 1.0000 - recall: 1.0000\n",
      "Epoch 58: val_accuracy did not improve from 1.00000\n",
      "\u001b[1m2/2\u001b[0m \u001b[32m━━━━━━━━━━━━━━━━━━━━\u001b[0m\u001b[37m\u001b[0m \u001b[1m0s\u001b[0m 146ms/step - accuracy: 1.0000 - auc: 1.0000 - loss: 0.9510 - precision: 1.0000 - recall: 1.0000 - val_accuracy: 1.0000 - val_auc: 1.0000 - val_loss: 1.0014 - val_precision: 1.0000 - val_recall: 1.0000 - learning_rate: 0.0010\n",
      "Epoch 59/100\n",
      "\u001b[1m2/2\u001b[0m \u001b[32m━━━━━━━━━━━━━━━━━━━━\u001b[0m\u001b[37m\u001b[0m \u001b[1m0s\u001b[0m 61ms/step - accuracy: 1.0000 - auc: 1.0000 - loss: 0.9180 - precision: 1.0000 - recall: 1.0000\n",
      "Epoch 59: val_accuracy did not improve from 1.00000\n",
      "\u001b[1m2/2\u001b[0m \u001b[32m━━━━━━━━━━━━━━━━━━━━\u001b[0m\u001b[37m\u001b[0m \u001b[1m0s\u001b[0m 145ms/step - accuracy: 1.0000 - auc: 1.0000 - loss: 0.9170 - precision: 1.0000 - recall: 1.0000 - val_accuracy: 1.0000 - val_auc: 1.0000 - val_loss: 0.9768 - val_precision: 1.0000 - val_recall: 1.0000 - learning_rate: 0.0010\n",
      "Epoch 60/100\n",
      "\u001b[1m2/2\u001b[0m \u001b[32m━━━━━━━━━━━━━━━━━━━━\u001b[0m\u001b[37m\u001b[0m \u001b[1m0s\u001b[0m 87ms/step - accuracy: 1.0000 - auc: 1.0000 - loss: 0.8945 - precision: 1.0000 - recall: 1.0000\n",
      "Epoch 60: val_accuracy did not improve from 1.00000\n",
      "\u001b[1m2/2\u001b[0m \u001b[32m━━━━━━━━━━━━━━━━━━━━\u001b[0m\u001b[37m\u001b[0m \u001b[1m0s\u001b[0m 172ms/step - accuracy: 1.0000 - auc: 1.0000 - loss: 0.8934 - precision: 1.0000 - recall: 1.0000 - val_accuracy: 1.0000 - val_auc: 1.0000 - val_loss: 0.9533 - val_precision: 1.0000 - val_recall: 1.0000 - learning_rate: 0.0010\n",
      "Epoch 61/100\n",
      "\u001b[1m2/2\u001b[0m \u001b[32m━━━━━━━━━━━━━━━━━━━━\u001b[0m\u001b[37m\u001b[0m \u001b[1m0s\u001b[0m 54ms/step - accuracy: 1.0000 - auc: 1.0000 - loss: 0.8779 - precision: 1.0000 - recall: 1.0000\n",
      "Epoch 61: val_accuracy did not improve from 1.00000\n",
      "\u001b[1m2/2\u001b[0m \u001b[32m━━━━━━━━━━━━━━━━━━━━\u001b[0m\u001b[37m\u001b[0m \u001b[1m0s\u001b[0m 134ms/step - accuracy: 1.0000 - auc: 1.0000 - loss: 0.8762 - precision: 1.0000 - recall: 1.0000 - val_accuracy: 1.0000 - val_auc: 1.0000 - val_loss: 0.9305 - val_precision: 1.0000 - val_recall: 1.0000 - learning_rate: 0.0010\n",
      "Epoch 62/100\n",
      "\u001b[1m2/2\u001b[0m \u001b[32m━━━━━━━━━━━━━━━━━━━━\u001b[0m\u001b[37m\u001b[0m \u001b[1m0s\u001b[0m 81ms/step - accuracy: 1.0000 - auc: 1.0000 - loss: 0.8506 - precision: 1.0000 - recall: 1.0000\n",
      "Epoch 62: val_accuracy did not improve from 1.00000\n",
      "\u001b[1m2/2\u001b[0m \u001b[32m━━━━━━━━━━━━━━━━━━━━\u001b[0m\u001b[37m\u001b[0m \u001b[1m0s\u001b[0m 143ms/step - accuracy: 1.0000 - auc: 1.0000 - loss: 0.8501 - precision: 1.0000 - recall: 1.0000 - val_accuracy: 1.0000 - val_auc: 1.0000 - val_loss: 0.9089 - val_precision: 1.0000 - val_recall: 1.0000 - learning_rate: 0.0010\n",
      "Epoch 63/100\n",
      "\u001b[1m2/2\u001b[0m \u001b[32m━━━━━━━━━━━━━━━━━━━━\u001b[0m\u001b[37m\u001b[0m \u001b[1m0s\u001b[0m 72ms/step - accuracy: 1.0000 - auc: 1.0000 - loss: 0.8420 - precision: 1.0000 - recall: 1.0000\n",
      "Epoch 63: val_accuracy did not improve from 1.00000\n",
      "\u001b[1m2/2\u001b[0m \u001b[32m━━━━━━━━━━━━━━━━━━━━\u001b[0m\u001b[37m\u001b[0m \u001b[1m0s\u001b[0m 141ms/step - accuracy: 1.0000 - auc: 1.0000 - loss: 0.8449 - precision: 1.0000 - recall: 1.0000 - val_accuracy: 1.0000 - val_auc: 1.0000 - val_loss: 0.8883 - val_precision: 1.0000 - val_recall: 1.0000 - learning_rate: 0.0010\n",
      "Epoch 64/100\n",
      "\u001b[1m2/2\u001b[0m \u001b[32m━━━━━━━━━━━━━━━━━━━━\u001b[0m\u001b[37m\u001b[0m \u001b[1m0s\u001b[0m 72ms/step - accuracy: 1.0000 - auc: 1.0000 - loss: 0.8103 - precision: 1.0000 - recall: 1.0000\n",
      "Epoch 64: val_accuracy did not improve from 1.00000\n",
      "\u001b[1m2/2\u001b[0m \u001b[32m━━━━━━━━━━━━━━━━━━━━\u001b[0m\u001b[37m\u001b[0m \u001b[1m0s\u001b[0m 140ms/step - accuracy: 1.0000 - auc: 1.0000 - loss: 0.8110 - precision: 1.0000 - recall: 1.0000 - val_accuracy: 1.0000 - val_auc: 1.0000 - val_loss: 0.8686 - val_precision: 1.0000 - val_recall: 1.0000 - learning_rate: 0.0010\n",
      "Epoch 65/100\n",
      "\u001b[1m2/2\u001b[0m \u001b[32m━━━━━━━━━━━━━━━━━━━━\u001b[0m\u001b[37m\u001b[0m \u001b[1m0s\u001b[0m 55ms/step - accuracy: 1.0000 - auc: 1.0000 - loss: 0.7927 - precision: 1.0000 - recall: 1.0000 \n",
      "Epoch 65: val_accuracy did not improve from 1.00000\n",
      "\u001b[1m2/2\u001b[0m \u001b[32m━━━━━━━━━━━━━━━━━━━━\u001b[0m\u001b[37m\u001b[0m \u001b[1m0s\u001b[0m 139ms/step - accuracy: 1.0000 - auc: 1.0000 - loss: 0.7916 - precision: 1.0000 - recall: 1.0000 - val_accuracy: 1.0000 - val_auc: 1.0000 - val_loss: 0.8495 - val_precision: 1.0000 - val_recall: 1.0000 - learning_rate: 0.0010\n",
      "Epoch 66/100\n",
      "\u001b[1m2/2\u001b[0m \u001b[32m━━━━━━━━━━━━━━━━━━━━\u001b[0m\u001b[37m\u001b[0m \u001b[1m0s\u001b[0m 77ms/step - accuracy: 1.0000 - auc: 1.0000 - loss: 0.7691 - precision: 1.0000 - recall: 1.0000\n",
      "Epoch 66: val_accuracy did not improve from 1.00000\n",
      "\u001b[1m2/2\u001b[0m \u001b[32m━━━━━━━━━━━━━━━━━━━━\u001b[0m\u001b[37m\u001b[0m \u001b[1m0s\u001b[0m 148ms/step - accuracy: 1.0000 - auc: 1.0000 - loss: 0.7698 - precision: 1.0000 - recall: 1.0000 - val_accuracy: 1.0000 - val_auc: 1.0000 - val_loss: 0.8288 - val_precision: 1.0000 - val_recall: 1.0000 - learning_rate: 0.0010\n",
      "Epoch 67/100\n",
      "\u001b[1m2/2\u001b[0m \u001b[32m━━━━━━━━━━━━━━━━━━━━\u001b[0m\u001b[37m\u001b[0m \u001b[1m0s\u001b[0m 72ms/step - accuracy: 1.0000 - auc: 1.0000 - loss: 0.7482 - precision: 1.0000 - recall: 1.0000\n",
      "Epoch 67: val_accuracy did not improve from 1.00000\n",
      "\u001b[1m2/2\u001b[0m \u001b[32m━━━━━━━━━━━━━━━━━━━━\u001b[0m\u001b[37m\u001b[0m \u001b[1m0s\u001b[0m 143ms/step - accuracy: 1.0000 - auc: 1.0000 - loss: 0.7477 - precision: 1.0000 - recall: 1.0000 - val_accuracy: 1.0000 - val_auc: 1.0000 - val_loss: 0.8092 - val_precision: 1.0000 - val_recall: 1.0000 - learning_rate: 0.0010\n",
      "Epoch 68/100\n",
      "\u001b[1m2/2\u001b[0m \u001b[32m━━━━━━━━━━━━━━━━━━━━\u001b[0m\u001b[37m\u001b[0m \u001b[1m0s\u001b[0m 73ms/step - accuracy: 1.0000 - auc: 1.0000 - loss: 0.7313 - precision: 1.0000 - recall: 1.0000\n",
      "Epoch 68: val_accuracy did not improve from 1.00000\n",
      "\u001b[1m2/2\u001b[0m \u001b[32m━━━━━━━━━━━━━━━━━━━━\u001b[0m\u001b[37m\u001b[0m \u001b[1m0s\u001b[0m 142ms/step - accuracy: 1.0000 - auc: 1.0000 - loss: 0.7300 - precision: 1.0000 - recall: 1.0000 - val_accuracy: 1.0000 - val_auc: 1.0000 - val_loss: 0.7908 - val_precision: 1.0000 - val_recall: 1.0000 - learning_rate: 0.0010\n",
      "Epoch 69/100\n",
      "\u001b[1m2/2\u001b[0m \u001b[32m━━━━━━━━━━━━━━━━━━━━\u001b[0m\u001b[37m\u001b[0m \u001b[1m0s\u001b[0m 70ms/step - accuracy: 1.0000 - auc: 1.0000 - loss: 0.7232 - precision: 1.0000 - recall: 1.0000\n",
      "Epoch 69: val_accuracy did not improve from 1.00000\n",
      "\u001b[1m2/2\u001b[0m \u001b[32m━━━━━━━━━━━━━━━━━━━━\u001b[0m\u001b[37m\u001b[0m \u001b[1m0s\u001b[0m 140ms/step - accuracy: 1.0000 - auc: 1.0000 - loss: 0.7210 - precision: 1.0000 - recall: 1.0000 - val_accuracy: 1.0000 - val_auc: 1.0000 - val_loss: 0.7738 - val_precision: 1.0000 - val_recall: 1.0000 - learning_rate: 0.0010\n",
      "Epoch 70/100\n",
      "\u001b[1m2/2\u001b[0m \u001b[32m━━━━━━━━━━━━━━━━━━━━\u001b[0m\u001b[37m\u001b[0m \u001b[1m0s\u001b[0m 73ms/step - accuracy: 1.0000 - auc: 1.0000 - loss: 0.6969 - precision: 1.0000 - recall: 1.0000\n",
      "Epoch 70: val_accuracy did not improve from 1.00000\n",
      "\u001b[1m2/2\u001b[0m \u001b[32m━━━━━━━━━━━━━━━━━━━━\u001b[0m\u001b[37m\u001b[0m \u001b[1m0s\u001b[0m 139ms/step - accuracy: 1.0000 - auc: 1.0000 - loss: 0.6965 - precision: 1.0000 - recall: 1.0000 - val_accuracy: 1.0000 - val_auc: 1.0000 - val_loss: 0.7577 - val_precision: 1.0000 - val_recall: 1.0000 - learning_rate: 0.0010\n",
      "Epoch 71/100\n",
      "\u001b[1m2/2\u001b[0m \u001b[32m━━━━━━━━━━━━━━━━━━━━\u001b[0m\u001b[37m\u001b[0m \u001b[1m0s\u001b[0m 70ms/step - accuracy: 1.0000 - auc: 1.0000 - loss: 0.6820 - precision: 1.0000 - recall: 1.0000\n",
      "Epoch 71: val_accuracy did not improve from 1.00000\n",
      "\u001b[1m2/2\u001b[0m \u001b[32m━━━━━━━━━━━━━━━━━━━━\u001b[0m\u001b[37m\u001b[0m \u001b[1m0s\u001b[0m 126ms/step - accuracy: 1.0000 - auc: 1.0000 - loss: 0.6831 - precision: 1.0000 - recall: 1.0000 - val_accuracy: 1.0000 - val_auc: 1.0000 - val_loss: 0.7440 - val_precision: 1.0000 - val_recall: 1.0000 - learning_rate: 0.0010\n",
      "Epoch 72/100\n",
      "\u001b[1m2/2\u001b[0m \u001b[32m━━━━━━━━━━━━━━━━━━━━\u001b[0m\u001b[37m\u001b[0m \u001b[1m0s\u001b[0m 69ms/step - accuracy: 1.0000 - auc: 1.0000 - loss: 0.6666 - precision: 1.0000 - recall: 1.0000\n",
      "Epoch 72: val_accuracy did not improve from 1.00000\n",
      "\u001b[1m2/2\u001b[0m \u001b[32m━━━━━━━━━━━━━━━━━━━━\u001b[0m\u001b[37m\u001b[0m \u001b[1m0s\u001b[0m 137ms/step - accuracy: 1.0000 - auc: 1.0000 - loss: 0.6657 - precision: 1.0000 - recall: 1.0000 - val_accuracy: 1.0000 - val_auc: 1.0000 - val_loss: 0.7305 - val_precision: 1.0000 - val_recall: 1.0000 - learning_rate: 0.0010\n",
      "Epoch 73/100\n",
      "\u001b[1m2/2\u001b[0m \u001b[32m━━━━━━━━━━━━━━━━━━━━\u001b[0m\u001b[37m\u001b[0m \u001b[1m0s\u001b[0m 62ms/step - accuracy: 1.0000 - auc: 1.0000 - loss: 0.6591 - precision: 1.0000 - recall: 1.0000\n",
      "Epoch 73: val_accuracy did not improve from 1.00000\n",
      "\u001b[1m2/2\u001b[0m \u001b[32m━━━━━━━━━━━━━━━━━━━━\u001b[0m\u001b[37m\u001b[0m \u001b[1m0s\u001b[0m 140ms/step - accuracy: 1.0000 - auc: 1.0000 - loss: 0.6567 - precision: 1.0000 - recall: 1.0000 - val_accuracy: 1.0000 - val_auc: 1.0000 - val_loss: 0.7145 - val_precision: 1.0000 - val_recall: 1.0000 - learning_rate: 0.0010\n",
      "Epoch 74/100\n",
      "\u001b[1m2/2\u001b[0m \u001b[32m━━━━━━━━━━━━━━━━━━━━\u001b[0m\u001b[37m\u001b[0m \u001b[1m0s\u001b[0m 76ms/step - accuracy: 1.0000 - auc: 1.0000 - loss: 0.6369 - precision: 1.0000 - recall: 1.0000\n",
      "Epoch 74: val_accuracy did not improve from 1.00000\n",
      "\u001b[1m2/2\u001b[0m \u001b[32m━━━━━━━━━━━━━━━━━━━━\u001b[0m\u001b[37m\u001b[0m \u001b[1m0s\u001b[0m 135ms/step - accuracy: 1.0000 - auc: 1.0000 - loss: 0.6357 - precision: 1.0000 - recall: 1.0000 - val_accuracy: 1.0000 - val_auc: 1.0000 - val_loss: 0.6948 - val_precision: 1.0000 - val_recall: 1.0000 - learning_rate: 0.0010\n",
      "Epoch 75/100\n",
      "\u001b[1m2/2\u001b[0m \u001b[32m━━━━━━━━━━━━━━━━━━━━\u001b[0m\u001b[37m\u001b[0m \u001b[1m0s\u001b[0m 72ms/step - accuracy: 1.0000 - auc: 1.0000 - loss: 0.6210 - precision: 1.0000 - recall: 1.0000 \n",
      "Epoch 75: val_accuracy did not improve from 1.00000\n",
      "\u001b[1m2/2\u001b[0m \u001b[32m━━━━━━━━━━━━━━━━━━━━\u001b[0m\u001b[37m\u001b[0m \u001b[1m0s\u001b[0m 143ms/step - accuracy: 1.0000 - auc: 1.0000 - loss: 0.6231 - precision: 1.0000 - recall: 1.0000 - val_accuracy: 1.0000 - val_auc: 1.0000 - val_loss: 0.6824 - val_precision: 1.0000 - val_recall: 1.0000 - learning_rate: 0.0010\n",
      "Epoch 76/100\n",
      "\u001b[1m2/2\u001b[0m \u001b[32m━━━━━━━━━━━━━━━━━━━━\u001b[0m\u001b[37m\u001b[0m \u001b[1m0s\u001b[0m 69ms/step - accuracy: 1.0000 - auc: 1.0000 - loss: 0.6098 - precision: 1.0000 - recall: 1.0000\n",
      "Epoch 76: val_accuracy did not improve from 1.00000\n",
      "\u001b[1m2/2\u001b[0m \u001b[32m━━━━━━━━━━━━━━━━━━━━\u001b[0m\u001b[37m\u001b[0m \u001b[1m0s\u001b[0m 137ms/step - accuracy: 1.0000 - auc: 1.0000 - loss: 0.6105 - precision: 1.0000 - recall: 1.0000 - val_accuracy: 1.0000 - val_auc: 1.0000 - val_loss: 0.6774 - val_precision: 1.0000 - val_recall: 1.0000 - learning_rate: 0.0010\n",
      "Epoch 77/100\n",
      "\u001b[1m2/2\u001b[0m \u001b[32m━━━━━━━━━━━━━━━━━━━━\u001b[0m\u001b[37m\u001b[0m \u001b[1m0s\u001b[0m 70ms/step - accuracy: 0.9762 - auc: 0.9970 - loss: 0.6434 - precision: 0.7619 - recall: 1.0000\n",
      "Epoch 77: val_accuracy did not improve from 1.00000\n",
      "\u001b[1m2/2\u001b[0m \u001b[32m━━━━━━━━━━━━━━━━━━━━\u001b[0m\u001b[37m\u001b[0m \u001b[1m0s\u001b[0m 138ms/step - accuracy: 0.9787 - auc: 0.9960 - loss: 0.6391 - precision: 0.7937 - recall: 1.0000 - val_accuracy: 1.0000 - val_auc: 1.0000 - val_loss: 0.6548 - val_precision: 1.0000 - val_recall: 1.0000 - learning_rate: 0.0010\n",
      "Epoch 78/100\n",
      "\u001b[1m2/2\u001b[0m \u001b[32m━━━━━━━━━━━━━━━━━━━━\u001b[0m\u001b[37m\u001b[0m \u001b[1m0s\u001b[0m 79ms/step - accuracy: 1.0000 - auc: 1.0000 - loss: 0.5903 - precision: 1.0000 - recall: 1.0000\n",
      "Epoch 78: val_accuracy did not improve from 1.00000\n",
      "\u001b[1m2/2\u001b[0m \u001b[32m━━━━━━━━━━━━━━━━━━━━\u001b[0m\u001b[37m\u001b[0m \u001b[1m0s\u001b[0m 145ms/step - accuracy: 1.0000 - auc: 1.0000 - loss: 0.5901 - precision: 1.0000 - recall: 1.0000 - val_accuracy: 1.0000 - val_auc: 1.0000 - val_loss: 0.6361 - val_precision: 1.0000 - val_recall: 1.0000 - learning_rate: 0.0010\n",
      "Epoch 79/100\n",
      "\u001b[1m2/2\u001b[0m \u001b[32m━━━━━━━━━━━━━━━━━━━━\u001b[0m\u001b[37m\u001b[0m \u001b[1m0s\u001b[0m 73ms/step - accuracy: 1.0000 - auc: 1.0000 - loss: 0.5666 - precision: 1.0000 - recall: 1.0000\n",
      "Epoch 79: val_accuracy did not improve from 1.00000\n",
      "\u001b[1m2/2\u001b[0m \u001b[32m━━━━━━━━━━━━━━━━━━━━\u001b[0m\u001b[37m\u001b[0m \u001b[1m0s\u001b[0m 135ms/step - accuracy: 1.0000 - auc: 1.0000 - loss: 0.5666 - precision: 1.0000 - recall: 1.0000 - val_accuracy: 1.0000 - val_auc: 1.0000 - val_loss: 0.6203 - val_precision: 1.0000 - val_recall: 1.0000 - learning_rate: 0.0010\n",
      "Epoch 80/100\n",
      "\u001b[1m2/2\u001b[0m \u001b[32m━━━━━━━━━━━━━━━━━━━━\u001b[0m\u001b[37m\u001b[0m \u001b[1m0s\u001b[0m 73ms/step - accuracy: 1.0000 - auc: 1.0000 - loss: 0.5602 - precision: 1.0000 - recall: 1.0000\n",
      "Epoch 80: val_accuracy did not improve from 1.00000\n",
      "\u001b[1m2/2\u001b[0m \u001b[32m━━━━━━━━━━━━━━━━━━━━\u001b[0m\u001b[37m\u001b[0m \u001b[1m0s\u001b[0m 139ms/step - accuracy: 1.0000 - auc: 1.0000 - loss: 0.5607 - precision: 1.0000 - recall: 1.0000 - val_accuracy: 1.0000 - val_auc: 1.0000 - val_loss: 0.6053 - val_precision: 1.0000 - val_recall: 1.0000 - learning_rate: 0.0010\n",
      "Epoch 81/100\n",
      "\u001b[1m2/2\u001b[0m \u001b[32m━━━━━━━━━━━━━━━━━━━━\u001b[0m\u001b[37m\u001b[0m \u001b[1m0s\u001b[0m 116ms/step - accuracy: 1.0000 - auc: 1.0000 - loss: 0.5530 - precision: 1.0000 - recall: 1.0000\n",
      "Epoch 81: val_accuracy did not improve from 1.00000\n",
      "\u001b[1m2/2\u001b[0m \u001b[32m━━━━━━━━━━━━━━━━━━━━\u001b[0m\u001b[37m\u001b[0m \u001b[1m0s\u001b[0m 219ms/step - accuracy: 1.0000 - auc: 1.0000 - loss: 0.5542 - precision: 1.0000 - recall: 1.0000 - val_accuracy: 1.0000 - val_auc: 1.0000 - val_loss: 0.5925 - val_precision: 1.0000 - val_recall: 1.0000 - learning_rate: 0.0010\n",
      "Epoch 82/100\n",
      "\u001b[1m2/2\u001b[0m \u001b[32m━━━━━━━━━━━━━━━━━━━━\u001b[0m\u001b[37m\u001b[0m \u001b[1m0s\u001b[0m 113ms/step - accuracy: 1.0000 - auc: 1.0000 - loss: 0.5357 - precision: 1.0000 - recall: 1.0000\n",
      "Epoch 82: val_accuracy did not improve from 1.00000\n",
      "\u001b[1m2/2\u001b[0m \u001b[32m━━━━━━━━━━━━━━━━━━━━\u001b[0m\u001b[37m\u001b[0m \u001b[1m0s\u001b[0m 241ms/step - accuracy: 1.0000 - auc: 1.0000 - loss: 0.5351 - precision: 1.0000 - recall: 1.0000 - val_accuracy: 1.0000 - val_auc: 1.0000 - val_loss: 0.5817 - val_precision: 1.0000 - val_recall: 1.0000 - learning_rate: 0.0010\n",
      "Epoch 83/100\n",
      "\u001b[1m2/2\u001b[0m \u001b[32m━━━━━━━━━━━━━━━━━━━━\u001b[0m\u001b[37m\u001b[0m \u001b[1m0s\u001b[0m 105ms/step - accuracy: 1.0000 - auc: 1.0000 - loss: 0.5158 - precision: 1.0000 - recall: 1.0000\n",
      "Epoch 83: val_accuracy did not improve from 1.00000\n",
      "\u001b[1m2/2\u001b[0m \u001b[32m━━━━━━━━━━━━━━━━━━━━\u001b[0m\u001b[37m\u001b[0m \u001b[1m0s\u001b[0m 229ms/step - accuracy: 1.0000 - auc: 1.0000 - loss: 0.5158 - precision: 1.0000 - recall: 1.0000 - val_accuracy: 1.0000 - val_auc: 1.0000 - val_loss: 0.5691 - val_precision: 1.0000 - val_recall: 1.0000 - learning_rate: 0.0010\n",
      "Epoch 84/100\n",
      "\u001b[1m2/2\u001b[0m \u001b[32m━━━━━━━━━━━━━━━━━━━━\u001b[0m\u001b[37m\u001b[0m \u001b[1m0s\u001b[0m 107ms/step - accuracy: 1.0000 - auc: 1.0000 - loss: 0.5094 - precision: 1.0000 - recall: 1.0000\n",
      "Epoch 84: val_accuracy did not improve from 1.00000\n",
      "\u001b[1m2/2\u001b[0m \u001b[32m━━━━━━━━━━━━━━━━━━━━\u001b[0m\u001b[37m\u001b[0m \u001b[1m0s\u001b[0m 233ms/step - accuracy: 1.0000 - auc: 1.0000 - loss: 0.5098 - precision: 1.0000 - recall: 1.0000 - val_accuracy: 1.0000 - val_auc: 1.0000 - val_loss: 0.5543 - val_precision: 1.0000 - val_recall: 1.0000 - learning_rate: 0.0010\n",
      "Epoch 85/100\n",
      "\u001b[1m2/2\u001b[0m \u001b[32m━━━━━━━━━━━━━━━━━━━━\u001b[0m\u001b[37m\u001b[0m \u001b[1m0s\u001b[0m 111ms/step - accuracy: 1.0000 - auc: 1.0000 - loss: 0.5039 - precision: 1.0000 - recall: 1.0000\n",
      "Epoch 85: val_accuracy did not improve from 1.00000\n",
      "\u001b[1m2/2\u001b[0m \u001b[32m━━━━━━━━━━━━━━━━━━━━\u001b[0m\u001b[37m\u001b[0m \u001b[1m0s\u001b[0m 229ms/step - accuracy: 1.0000 - auc: 1.0000 - loss: 0.5028 - precision: 1.0000 - recall: 1.0000 - val_accuracy: 1.0000 - val_auc: 1.0000 - val_loss: 0.5397 - val_precision: 1.0000 - val_recall: 1.0000 - learning_rate: 0.0010\n",
      "Epoch 86/100\n",
      "\u001b[1m2/2\u001b[0m \u001b[32m━━━━━━━━━━━━━━━━━━━━\u001b[0m\u001b[37m\u001b[0m \u001b[1m0s\u001b[0m 113ms/step - accuracy: 1.0000 - auc: 1.0000 - loss: 0.4965 - precision: 1.0000 - recall: 1.0000\n",
      "Epoch 86: val_accuracy did not improve from 1.00000\n",
      "\u001b[1m2/2\u001b[0m \u001b[32m━━━━━━━━━━━━━━━━━━━━\u001b[0m\u001b[37m\u001b[0m \u001b[1m0s\u001b[0m 225ms/step - accuracy: 1.0000 - auc: 1.0000 - loss: 0.4954 - precision: 1.0000 - recall: 1.0000 - val_accuracy: 1.0000 - val_auc: 1.0000 - val_loss: 0.5269 - val_precision: 1.0000 - val_recall: 1.0000 - learning_rate: 0.0010\n",
      "Epoch 87/100\n",
      "\u001b[1m2/2\u001b[0m \u001b[32m━━━━━━━━━━━━━━━━━━━━\u001b[0m\u001b[37m\u001b[0m \u001b[1m0s\u001b[0m 114ms/step - accuracy: 1.0000 - auc: 1.0000 - loss: 0.4781 - precision: 1.0000 - recall: 1.0000\n",
      "Epoch 87: val_accuracy did not improve from 1.00000\n",
      "\u001b[1m2/2\u001b[0m \u001b[32m━━━━━━━━━━━━━━━━━━━━\u001b[0m\u001b[37m\u001b[0m \u001b[1m0s\u001b[0m 229ms/step - accuracy: 1.0000 - auc: 1.0000 - loss: 0.4785 - precision: 1.0000 - recall: 1.0000 - val_accuracy: 1.0000 - val_auc: 1.0000 - val_loss: 0.5155 - val_precision: 1.0000 - val_recall: 1.0000 - learning_rate: 0.0010\n",
      "Epoch 88/100\n",
      "\u001b[1m2/2\u001b[0m \u001b[32m━━━━━━━━━━━━━━━━━━━━\u001b[0m\u001b[37m\u001b[0m \u001b[1m0s\u001b[0m 108ms/step - accuracy: 1.0000 - auc: 1.0000 - loss: 0.4669 - precision: 1.0000 - recall: 1.0000\n",
      "Epoch 88: val_accuracy did not improve from 1.00000\n",
      "\u001b[1m2/2\u001b[0m \u001b[32m━━━━━━━━━━━━━━━━━━━━\u001b[0m\u001b[37m\u001b[0m \u001b[1m0s\u001b[0m 238ms/step - accuracy: 1.0000 - auc: 1.0000 - loss: 0.4667 - precision: 1.0000 - recall: 1.0000 - val_accuracy: 1.0000 - val_auc: 1.0000 - val_loss: 0.5049 - val_precision: 1.0000 - val_recall: 1.0000 - learning_rate: 0.0010\n",
      "Epoch 89/100\n",
      "\u001b[1m2/2\u001b[0m \u001b[32m━━━━━━━━━━━━━━━━━━━━\u001b[0m\u001b[37m\u001b[0m \u001b[1m0s\u001b[0m 99ms/step - accuracy: 1.0000 - auc: 1.0000 - loss: 0.4574 - precision: 1.0000 - recall: 1.0000 \n",
      "Epoch 89: val_accuracy did not improve from 1.00000\n",
      "\u001b[1m2/2\u001b[0m \u001b[32m━━━━━━━━━━━━━━━━━━━━\u001b[0m\u001b[37m\u001b[0m \u001b[1m0s\u001b[0m 229ms/step - accuracy: 1.0000 - auc: 1.0000 - loss: 0.4570 - precision: 1.0000 - recall: 1.0000 - val_accuracy: 1.0000 - val_auc: 1.0000 - val_loss: 0.4947 - val_precision: 1.0000 - val_recall: 1.0000 - learning_rate: 0.0010\n",
      "Epoch 90/100\n",
      "\u001b[1m2/2\u001b[0m \u001b[32m━━━━━━━━━━━━━━━━━━━━\u001b[0m\u001b[37m\u001b[0m \u001b[1m0s\u001b[0m 111ms/step - accuracy: 1.0000 - auc: 1.0000 - loss: 0.4488 - precision: 1.0000 - recall: 1.0000\n",
      "Epoch 90: val_accuracy did not improve from 1.00000\n",
      "\u001b[1m2/2\u001b[0m \u001b[32m━━━━━━━━━━━━━━━━━━━━\u001b[0m\u001b[37m\u001b[0m \u001b[1m0s\u001b[0m 236ms/step - accuracy: 1.0000 - auc: 1.0000 - loss: 0.4488 - precision: 1.0000 - recall: 1.0000 - val_accuracy: 1.0000 - val_auc: 1.0000 - val_loss: 0.4848 - val_precision: 1.0000 - val_recall: 1.0000 - learning_rate: 0.0010\n",
      "Epoch 91/100\n",
      "\u001b[1m2/2\u001b[0m \u001b[32m━━━━━━━━━━━━━━━━━━━━\u001b[0m\u001b[37m\u001b[0m \u001b[1m0s\u001b[0m 104ms/step - accuracy: 1.0000 - auc: 1.0000 - loss: 0.4380 - precision: 1.0000 - recall: 1.0000\n",
      "Epoch 91: val_accuracy did not improve from 1.00000\n",
      "\u001b[1m2/2\u001b[0m \u001b[32m━━━━━━━━━━━━━━━━━━━━\u001b[0m\u001b[37m\u001b[0m \u001b[1m0s\u001b[0m 235ms/step - accuracy: 1.0000 - auc: 1.0000 - loss: 0.4386 - precision: 1.0000 - recall: 1.0000 - val_accuracy: 1.0000 - val_auc: 1.0000 - val_loss: 0.4757 - val_precision: 1.0000 - val_recall: 1.0000 - learning_rate: 0.0010\n",
      "Epoch 92/100\n",
      "\u001b[1m2/2\u001b[0m \u001b[32m━━━━━━━━━━━━━━━━━━━━\u001b[0m\u001b[37m\u001b[0m \u001b[1m0s\u001b[0m 115ms/step - accuracy: 1.0000 - auc: 1.0000 - loss: 0.4308 - precision: 1.0000 - recall: 1.0000\n",
      "Epoch 92: val_accuracy did not improve from 1.00000\n",
      "\u001b[1m2/2\u001b[0m \u001b[32m━━━━━━━━━━━━━━━━━━━━\u001b[0m\u001b[37m\u001b[0m \u001b[1m0s\u001b[0m 237ms/step - accuracy: 1.0000 - auc: 1.0000 - loss: 0.4300 - precision: 1.0000 - recall: 1.0000 - val_accuracy: 1.0000 - val_auc: 1.0000 - val_loss: 0.4662 - val_precision: 1.0000 - val_recall: 1.0000 - learning_rate: 0.0010\n",
      "Epoch 93/100\n",
      "\u001b[1m2/2\u001b[0m \u001b[32m━━━━━━━━━━━━━━━━━━━━\u001b[0m\u001b[37m\u001b[0m \u001b[1m0s\u001b[0m 118ms/step - accuracy: 1.0000 - auc: 1.0000 - loss: 0.4195 - precision: 1.0000 - recall: 1.0000\n",
      "Epoch 93: val_accuracy did not improve from 1.00000\n",
      "\u001b[1m2/2\u001b[0m \u001b[32m━━━━━━━━━━━━━━━━━━━━\u001b[0m\u001b[37m\u001b[0m \u001b[1m0s\u001b[0m 219ms/step - accuracy: 1.0000 - auc: 1.0000 - loss: 0.4189 - precision: 1.0000 - recall: 1.0000 - val_accuracy: 1.0000 - val_auc: 1.0000 - val_loss: 0.4561 - val_precision: 1.0000 - val_recall: 1.0000 - learning_rate: 0.0010\n",
      "Epoch 94/100\n",
      "\u001b[1m2/2\u001b[0m \u001b[32m━━━━━━━━━━━━━━━━━━━━\u001b[0m\u001b[37m\u001b[0m \u001b[1m0s\u001b[0m 118ms/step - accuracy: 1.0000 - auc: 1.0000 - loss: 0.4091 - precision: 1.0000 - recall: 1.0000\n",
      "Epoch 94: val_accuracy did not improve from 1.00000\n",
      "\u001b[1m2/2\u001b[0m \u001b[32m━━━━━━━━━━━━━━━━━━━━\u001b[0m\u001b[37m\u001b[0m \u001b[1m0s\u001b[0m 238ms/step - accuracy: 1.0000 - auc: 1.0000 - loss: 0.4089 - precision: 1.0000 - recall: 1.0000 - val_accuracy: 1.0000 - val_auc: 1.0000 - val_loss: 0.4463 - val_precision: 1.0000 - val_recall: 1.0000 - learning_rate: 0.0010\n",
      "Epoch 95/100\n",
      "\u001b[1m2/2\u001b[0m \u001b[32m━━━━━━━━━━━━━━━━━━━━\u001b[0m\u001b[37m\u001b[0m \u001b[1m0s\u001b[0m 118ms/step - accuracy: 1.0000 - auc: 1.0000 - loss: 0.4064 - precision: 1.0000 - recall: 1.0000\n",
      "Epoch 95: val_accuracy did not improve from 1.00000\n",
      "\u001b[1m2/2\u001b[0m \u001b[32m━━━━━━━━━━━━━━━━━━━━\u001b[0m\u001b[37m\u001b[0m \u001b[1m0s\u001b[0m 227ms/step - accuracy: 1.0000 - auc: 1.0000 - loss: 0.4057 - precision: 1.0000 - recall: 1.0000 - val_accuracy: 1.0000 - val_auc: 1.0000 - val_loss: 0.4371 - val_precision: 1.0000 - val_recall: 1.0000 - learning_rate: 0.0010\n",
      "Epoch 96/100\n",
      "\u001b[1m2/2\u001b[0m \u001b[32m━━━━━━━━━━━━━━━━━━━━\u001b[0m\u001b[37m\u001b[0m \u001b[1m0s\u001b[0m 101ms/step - accuracy: 1.0000 - auc: 1.0000 - loss: 0.3962 - precision: 1.0000 - recall: 1.0000\n",
      "Epoch 96: val_accuracy did not improve from 1.00000\n",
      "\u001b[1m2/2\u001b[0m \u001b[32m━━━━━━━━━━━━━━━━━━━━\u001b[0m\u001b[37m\u001b[0m \u001b[1m0s\u001b[0m 225ms/step - accuracy: 1.0000 - auc: 1.0000 - loss: 0.3961 - precision: 1.0000 - recall: 1.0000 - val_accuracy: 1.0000 - val_auc: 1.0000 - val_loss: 0.4281 - val_precision: 1.0000 - val_recall: 1.0000 - learning_rate: 0.0010\n",
      "Epoch 97/100\n",
      "\u001b[1m2/2\u001b[0m \u001b[32m━━━━━━━━━━━━━━━━━━━━\u001b[0m\u001b[37m\u001b[0m \u001b[1m0s\u001b[0m 70ms/step - accuracy: 1.0000 - auc: 1.0000 - loss: 0.3823 - precision: 1.0000 - recall: 1.0000 \n",
      "Epoch 97: val_accuracy did not improve from 1.00000\n",
      "\u001b[1m2/2\u001b[0m \u001b[32m━━━━━━━━━━━━━━━━━━━━\u001b[0m\u001b[37m\u001b[0m \u001b[1m0s\u001b[0m 148ms/step - accuracy: 1.0000 - auc: 1.0000 - loss: 0.3826 - precision: 1.0000 - recall: 1.0000 - val_accuracy: 1.0000 - val_auc: 1.0000 - val_loss: 0.4194 - val_precision: 1.0000 - val_recall: 1.0000 - learning_rate: 0.0010\n",
      "Epoch 98/100\n",
      "\u001b[1m2/2\u001b[0m \u001b[32m━━━━━━━━━━━━━━━━━━━━\u001b[0m\u001b[37m\u001b[0m \u001b[1m0s\u001b[0m 67ms/step - accuracy: 1.0000 - auc: 1.0000 - loss: 0.3807 - precision: 1.0000 - recall: 1.0000 \n",
      "Epoch 98: val_accuracy did not improve from 1.00000\n",
      "\u001b[1m2/2\u001b[0m \u001b[32m━━━━━━━━━━━━━━━━━━━━\u001b[0m\u001b[37m\u001b[0m \u001b[1m0s\u001b[0m 145ms/step - accuracy: 1.0000 - auc: 1.0000 - loss: 0.3807 - precision: 1.0000 - recall: 1.0000 - val_accuracy: 1.0000 - val_auc: 1.0000 - val_loss: 0.4112 - val_precision: 1.0000 - val_recall: 1.0000 - learning_rate: 0.0010\n",
      "Epoch 99/100\n",
      "\u001b[1m2/2\u001b[0m \u001b[32m━━━━━━━━━━━━━━━━━━━━\u001b[0m\u001b[37m\u001b[0m \u001b[1m0s\u001b[0m 69ms/step - accuracy: 1.0000 - auc: 1.0000 - loss: 0.3796 - precision: 1.0000 - recall: 1.0000\n",
      "Epoch 99: val_accuracy did not improve from 1.00000\n",
      "\u001b[1m2/2\u001b[0m \u001b[32m━━━━━━━━━━━━━━━━━━━━\u001b[0m\u001b[37m\u001b[0m \u001b[1m0s\u001b[0m 140ms/step - accuracy: 1.0000 - auc: 1.0000 - loss: 0.3786 - precision: 1.0000 - recall: 1.0000 - val_accuracy: 1.0000 - val_auc: 1.0000 - val_loss: 0.4030 - val_precision: 1.0000 - val_recall: 1.0000 - learning_rate: 0.0010\n",
      "Epoch 100/100\n",
      "\u001b[1m2/2\u001b[0m \u001b[32m━━━━━━━━━━━━━━━━━━━━\u001b[0m\u001b[37m\u001b[0m \u001b[1m0s\u001b[0m 77ms/step - accuracy: 1.0000 - auc: 1.0000 - loss: 0.3715 - precision: 1.0000 - recall: 1.0000\n",
      "Epoch 100: val_accuracy did not improve from 1.00000\n",
      "\u001b[1m2/2\u001b[0m \u001b[32m━━━━━━━━━━━━━━━━━━━━\u001b[0m\u001b[37m\u001b[0m \u001b[1m0s\u001b[0m 147ms/step - accuracy: 1.0000 - auc: 1.0000 - loss: 0.3732 - precision: 1.0000 - recall: 1.0000 - val_accuracy: 1.0000 - val_auc: 1.0000 - val_loss: 0.3953 - val_precision: 1.0000 - val_recall: 1.0000 - learning_rate: 0.0010\n",
      "Restoring model weights from the end of the best epoch: 100.\n",
      "\n",
      "======================================================================\n",
      "✓ TRAINING COMPLETED!\n",
      "======================================================================\n"
     ]
    }
   ],
   "source": [
    "# Train model\n",
    "print(f\"\\nStarting training...\")\n",
    "print(f\"=\"*70)\n",
    "\n",
    "history = model.fit(\n",
    "    X_train_scaled, y_train,\n",
    "    validation_data=(X_test_scaled, y_test),\n",
    "    epochs=100,\n",
    "    batch_size=32,\n",
    "    class_weight=class_weight_dict,  # Handle class imbalance\n",
    "    callbacks=callbacks,\n",
    "    verbose=1\n",
    ")\n",
    "\n",
    "print(f\"\\n\" + \"=\"*70)\n",
    "print(f\"✓ TRAINING COMPLETED!\")\n",
    "print(f\"=\"*70)\n"
   ]
  },
  {
   "cell_type": "code",
   "execution_count": 56,
   "id": "14b2c03a",
   "metadata": {},
   "outputs": [
    {
     "name": "stdout",
     "output_type": "stream",
     "text": [
      "\n",
      "======================================================================\n",
      "STEP 11: MODEL EVALUATION\n",
      "======================================================================\n"
     ]
    }
   ],
   "source": [
    "print(\"\\n\" + \"=\"*70)\n",
    "print(\"STEP 11: MODEL EVALUATION\")\n",
    "print(\"=\"*70)"
   ]
  },
  {
   "cell_type": "code",
   "execution_count": 57,
   "id": "d9916e47",
   "metadata": {},
   "outputs": [
    {
     "name": "stderr",
     "output_type": "stream",
     "text": [
      "WARNING:absl:Compiled the loaded model, but the compiled metrics have yet to be built. `model.compile_metrics` will be empty until you train or evaluate the model.\n"
     ]
    },
    {
     "name": "stdout",
     "output_type": "stream",
     "text": [
      "✓ Loaded best model from checkpoint\n"
     ]
    }
   ],
   "source": [
    "# Load best model\n",
    "model = tf.keras.models.load_model('tuba_lstm_model.h5')\n",
    "print(f\"✓ Loaded best model from checkpoint\")"
   ]
  },
  {
   "cell_type": "code",
   "execution_count": 58,
   "id": "316e7bde",
   "metadata": {},
   "outputs": [],
   "source": [
    "# Make predictions\n",
    "y_pred_proba = model.predict(X_test_scaled, verbose=0)\n",
    "y_pred = (y_pred_proba > 0.5).astype(int).flatten()"
   ]
  },
  {
   "cell_type": "code",
   "execution_count": 59,
   "id": "50780473",
   "metadata": {},
   "outputs": [
    {
     "name": "stdout",
     "output_type": "stream",
     "text": [
      "\n",
      "📊 CLASSIFICATION REPORT:\n",
      "======================================================================\n",
      "               precision    recall  f1-score   support\n",
      "\n",
      "Not Fermented     1.0000    1.0000    1.0000        14\n",
      "    Fermented     1.0000    1.0000    1.0000         2\n",
      "\n",
      "     accuracy                         1.0000        16\n",
      "    macro avg     1.0000    1.0000    1.0000        16\n",
      " weighted avg     1.0000    1.0000    1.0000        16\n",
      "\n"
     ]
    }
   ],
   "source": [
    "# Classification report\n",
    "print(f\"\\n📊 CLASSIFICATION REPORT:\")\n",
    "print(\"=\"*70)\n",
    "print(classification_report(\n",
    "    y_test, y_pred,\n",
    "    target_names=['Not Fermented', 'Fermented'],\n",
    "    digits=4\n",
    "))"
   ]
  },
  {
   "cell_type": "code",
   "execution_count": 60,
   "id": "a6d02622",
   "metadata": {},
   "outputs": [
    {
     "name": "stdout",
     "output_type": "stream",
     "text": [
      "\n",
      "📊 CONFUSION MATRIX:\n",
      "======================================================================\n",
      "                  Predicted\n",
      "                  Not Ferm  Fermented\n",
      "Actual Not Ferm        14         0\n",
      "Actual Fermented        0         2\n"
     ]
    }
   ],
   "source": [
    "# Confusion matrix\n",
    "cm = confusion_matrix(y_test, y_pred)\n",
    "print(f\"\\n📊 CONFUSION MATRIX:\")\n",
    "print(\"=\"*70)\n",
    "print(f\"                  Predicted\")\n",
    "print(f\"                  Not Ferm  Fermented\")\n",
    "print(f\"Actual Not Ferm      {cm[0][0]:4d}      {cm[0][1]:4d}\")\n",
    "print(f\"Actual Fermented     {cm[1][0]:4d}      {cm[1][1]:4d}\")"
   ]
  },
  {
   "cell_type": "code",
   "execution_count": 62,
   "id": "15d8856c",
   "metadata": {},
   "outputs": [
    {
     "name": "stdout",
     "output_type": "stream",
     "text": [
      "\n",
      "📊 DETAILED METRICS:\n",
      "======================================================================\n",
      "Accuracy:    1.0000 (100.00%)\n",
      "Precision:   1.0000 (100.00%)\n",
      "Recall:      1.0000 (100.00%)\n",
      "Specificity: 1.0000 (100.00%)\n",
      "F1-Score:    1.0000\n"
     ]
    }
   ],
   "source": [
    "# Calculate metrics\n",
    "tn, fp, fn, tp = cm.ravel()\n",
    "accuracy = (tp + tn) / (tp + tn + fp + fn)\n",
    "precision = tp / (tp + fp) if (tp + fp) > 0 else 0\n",
    "recall = tp / (tp + fn) if (tp + fn) > 0 else 0\n",
    "f1 = 2 * (precision * recall) / (precision + recall) if (precision + recall) > 0 else 0\n",
    "specificity = tn / (tn + fp) if (tn + fp) > 0 else 0\n",
    "\n",
    "print(f\"\\n📊 DETAILED METRICS:\")\n",
    "print(\"=\"*70)\n",
    "print(f\"Accuracy:    {accuracy:.4f} ({accuracy*100:.2f}%)\")\n",
    "print(f\"Precision:   {precision:.4f} ({precision*100:.2f}%)\")\n",
    "print(f\"Recall:      {recall:.4f} ({recall*100:.2f}%)\")\n",
    "print(f\"Specificity: {specificity:.4f} ({specificity*100:.2f}%)\")\n",
    "print(f\"F1-Score:    {f1:.4f}\")"
   ]
  },
  {
   "cell_type": "code",
   "execution_count": 63,
   "id": "5f88f6fd",
   "metadata": {},
   "outputs": [
    {
     "name": "stdout",
     "output_type": "stream",
     "text": [
      "ROC-AUC:     1.0000\n"
     ]
    }
   ],
   "source": [
    "# ROC-AUC\n",
    "fpr, tpr, _ = roc_curve(y_test, y_pred_proba)\n",
    "roc_auc = auc(fpr, tpr)\n",
    "print(f\"ROC-AUC:     {roc_auc:.4f}\")"
   ]
  },
  {
   "cell_type": "code",
   "execution_count": 64,
   "id": "8ae19e76",
   "metadata": {},
   "outputs": [
    {
     "name": "stdout",
     "output_type": "stream",
     "text": [
      "\n",
      "======================================================================\n",
      "STEP 12: CREATING VISUALIZATIONS\n",
      "======================================================================\n"
     ]
    }
   ],
   "source": [
    "print(\"\\n\" + \"=\"*70)\n",
    "print(\"STEP 12: CREATING VISUALIZATIONS\")\n",
    "print(\"=\"*70)"
   ]
  },
  {
   "cell_type": "code",
   "execution_count": 65,
   "id": "c890cab4",
   "metadata": {},
   "outputs": [
    {
     "data": {
      "image/png": "[encoded data removed]",
      "text/plain": [
       "<Figure size 1600x1200 with 1 Axes>"
      ]
     },
     "metadata": {},
     "output_type": "display_data"
    }
   ],
   "source": [
    "fig = plt.figure(figsize=(16, 12))\n",
    "\n",
    "# 1. Training History - Accuracy\n",
    "ax1 = plt.subplot(3, 3, 1)\n",
    "ax1.plot(history.history['accuracy'], label='Train', linewidth=2)\n",
    "ax1.plot(history.history['val_accuracy'], label='Validation', linewidth=2)\n",
    "ax1.set_xlabel('Epoch')\n",
    "ax1.set_ylabel('Accuracy')\n",
    "ax1.set_title('Model Accuracy')\n",
    "ax1.legend()\n",
    "ax1.grid(True, alpha=0.3)"
   ]
  },
  {
   "cell_type": "code",
   "execution_count": 66,
   "id": "f0f1d2b7",
   "metadata": {},
   "outputs": [
    {
     "data": {
      "image/png": "[encoded data removed]",
      "text/plain": [
       "<Figure size 640x480 with 1 Axes>"
      ]
     },
     "metadata": {},
     "output_type": "display_data"
    }
   ],
   "source": [
    "# 2. Training History - Loss\n",
    "ax2 = plt.subplot(3, 3, 2)\n",
    "ax2.plot(history.history['loss'], label='Train', linewidth=2)\n",
    "ax2.plot(history.history['val_loss'], label='Validation', linewidth=2)\n",
    "ax2.set_xlabel('Epoch')\n",
    "ax2.set_ylabel('Loss')\n",
    "ax2.set_title('Model Loss')\n",
    "ax2.legend()\n",
    "ax2.grid(True, alpha=0.3)"
   ]
  },
  {
   "cell_type": "code",
   "execution_count": 83,
   "id": "7afebe0a",
   "metadata": {},
   "outputs": [
    {
     "data": {
      "text/plain": [
       "Text(0.5, 1.0, 'Confusion Matrix')"
      ]
     },
     "execution_count": 83,
     "metadata": {},
     "output_type": "execute_result"
    },
    {
     "data": {
      "image/png": "[encoded data removed]",
      "text/plain": [
       "<Figure size 640x480 with 2 Axes>"
      ]
     },
     "metadata": {},
     "output_type": "display_data"
    }
   ],
   "source": [
    "# 3. Confusion Matrix\n",
    "ax3 = plt.subplot(3, 3, 3)\n",
    "sns.heatmap(cm, annot=True, fmt='d', cmap='Blues', ax=ax3,\n",
    "            xticklabels=['Not Ferm', 'Fermented'],\n",
    "            yticklabels=['Not Ferm', 'Fermented'],\n",
    "            cbar_kws={'label': 'Count'})\n",
    "ax3.set_xlabel('Predicted')\n",
    "ax3.set_ylabel('Actual')\n",
    "ax3.set_title('Confusion Matrix')"
   ]
  },
  {
   "cell_type": "code",
   "execution_count": 68,
   "id": "62c4eaa4",
   "metadata": {},
   "outputs": [
    {
     "data": {
      "image/png": "[encoded data removed]",
      "text/plain": [
       "<Figure size 640x480 with 1 Axes>"
      ]
     },
     "metadata": {},
     "output_type": "display_data"
    }
   ],
   "source": [
    "# 4. ROC Curve\n",
    "ax4 = plt.subplot(3, 3, 4)\n",
    "ax4.plot(fpr, tpr, linewidth=2, label=f'ROC (AUC = {roc_auc:.4f})')\n",
    "ax4.plot([0, 1], [0, 1], 'k--', linewidth=1, label='Random')\n",
    "ax4.set_xlabel('False Positive Rate')\n",
    "ax4.set_ylabel('True Positive Rate')\n",
    "ax4.set_title('ROC Curve')\n",
    "ax4.legend()\n",
    "ax4.grid(True, alpha=0.3)"
   ]
  },
  {
   "cell_type": "code",
   "execution_count": 75,
   "id": "61368e64",
   "metadata": {},
   "outputs": [
    {
     "data": {
      "image/png": "[encoded data removed]",
      "text/plain": [
       "<Figure size 640x480 with 1 Axes>"
      ]
     },
     "metadata": {},
     "output_type": "display_data"
    }
   ],
   "source": [
    "# 5. Precision-Recall\n",
    "ax5 = plt.subplot(3, 3, 5)\n",
    "ax5.plot(history.history['precision'], label='Train Precision', linewidth=2)\n",
    "ax5.plot(history.history['val_precision'], label='Val Precision', linewidth=2)\n",
    "ax5.plot(history.history['recall'], label='Train Recall', linewidth=2, linestyle='--')\n",
    "ax5.plot(history.history['val_recall'], label='Val Recall', linewidth=2, linestyle='--')\n",
    "ax5.set_xlabel('Epoch')\n",
    "ax5.set_ylabel('Score')\n",
    "ax5.set_title('Precision & Recall')\n",
    "ax5.legend()\n",
    "ax5.grid(True, alpha=0.3)\n"
   ]
  },
  {
   "cell_type": "code",
   "execution_count": 81,
   "id": "c31eb103",
   "metadata": {},
   "outputs": [
    {
     "data": {
      "image/png": "[encoded data removed]",
      "text/plain": [
       "<Figure size 640x480 with 1 Axes>"
      ]
     },
     "metadata": {},
     "output_type": "display_data"
    }
   ],
   "source": [
    "# 6. Prediction Distribution\n",
    "ax6 = plt.subplot(3, 3, 6)\n",
    "ax6.hist(y_pred_proba[y_test == 0], bins=20, alpha=0.5, label='Not Fermented', color='blue')\n",
    "ax6.hist(y_pred_proba[y_test == 1], bins=20, alpha=0.5, label='Fermented', color='orange')\n",
    "ax6.axvline(x=0.5, color='red', linestyle='--', linewidth=2, label='Threshold')\n",
    "ax6.set_xlabel('Predicted Probability')\n",
    "ax6.set_ylabel('Frequency')\n",
    "ax6.set_title('Prediction Distribution')\n",
    "ax6.legend()\n",
    "ax6.grid(True, alpha=0.3)"
   ]
  },
  {
   "cell_type": "code",
   "execution_count": 77,
   "id": "dbbc31b3",
   "metadata": {},
   "outputs": [
    {
     "data": {
      "image/png": "[encoded data removed]",
      "text/plain": [
       "<Figure size 640x480 with 1 Axes>"
      ]
     },
     "metadata": {},
     "output_type": "display_data"
    }
   ],
   "source": [
    "# 7. Fermentation Progress (Gravity)\n",
    "ax7 = plt.subplot(3, 3, 7)\n",
    "ax7.plot(df['hours_elapsed'], df['gravity'], linewidth=2, color='purple')\n",
    "ax7.axvline(x=df.iloc[FERMENTATION_SPLIT]['hours_elapsed'], \n",
    "            color='red', linestyle='--', linewidth=2, label=f'Fermentation starts (reading {FERMENTATION_SPLIT})')\n",
    "ax7.set_xlabel('Hours Elapsed')\n",
    "ax7.set_ylabel('Specific Gravity')\n",
    "ax7.set_title('Gravity Over Time')\n",
    "ax7.legend()\n",
    "ax7.grid(True, alpha=0.3)"
   ]
  },
  {
   "cell_type": "code",
   "execution_count": 78,
   "id": "772e3407",
   "metadata": {},
   "outputs": [
    {
     "data": {
      "image/png": "[encoded data removed]",
      "text/plain": [
       "<Figure size 640x480 with 1 Axes>"
      ]
     },
     "metadata": {},
     "output_type": "display_data"
    }
   ],
   "source": [
    "# 8. Temperature Profile\n",
    "ax8 = plt.subplot(3, 3, 8)\n",
    "ax8.plot(df['hours_elapsed'], df['temperature'], linewidth=2, color='orange')\n",
    "ax8.axvline(x=df.iloc[FERMENTATION_SPLIT]['hours_elapsed'], \n",
    "            color='red', linestyle='--', linewidth=2)\n",
    "ax8.set_xlabel('Hours Elapsed')\n",
    "ax8.set_ylabel('Temperature (°C)')\n",
    "ax8.set_title('Temperature Over Time')\n",
    "ax8.grid(True, alpha=0.3)"
   ]
  },
  {
   "cell_type": "code",
   "execution_count": 79,
   "id": "149a0d37",
   "metadata": {},
   "outputs": [
    {
     "data": {
      "text/plain": [
       "<bound method Axes.set of <Axes: >>"
      ]
     },
     "execution_count": 79,
     "metadata": {},
     "output_type": "execute_result"
    },
    {
     "data": {
      "image/png": "[encoded data removed]",
      "text/plain": [
       "<Figure size 640x480 with 2 Axes>"
      ]
     },
     "metadata": {},
     "output_type": "display_data"
    }
   ],
   "source": [
    "# 9. Brix/Alcohol Evolution\n",
    "ax9 = plt.subplot(3, 3, 9)\n",
    "ax9_twin = ax9.twinx()\n",
    "ax9.plot(df['hours_elapsed'], df['brix'], linewidth=2, color='green', label='Brix')\n",
    "ax9_twin.plot(df['hours_elapsed'], df['alcohol'], linewidth=2, color='red', label='Alcohol')\n",
    "ax9.axvline(x=df.iloc[FERMENTATION_SPLIT]['hours_elapsed'], \n",
    "            color='black', linestyle='--', linewidth=2, alpha=0.5)\n",
    "ax9.set_xlabel('Hours Elapsed')\n",
    "ax9.set_ylabel('Brix (°Bx)', color='green')\n",
    "ax9_twin.set"
   ]
  },
  {
   "cell_type": "code",
   "execution_count": null,
   "id": "f633f6c2",
   "metadata": {},
   "outputs": [],
   "source": []
  }
 ],
 "metadata": {
  "kernelspec": {
   "display_name": "base",
   "language": "python",
   "name": "python3"
  },
  "language_info": {
   "codemirror_mode": {
    "name": "ipython",
    "version": 3
   },
   "file_extension": ".py",
   "mimetype": "text/x-python",
   "name": "python",
   "nbconvert_exporter": "python",
   "pygments_lexer": "ipython3",
   "version": "3.12.7"
  }
 },
 "nbformat": 4,
 "nbformat_minor": 5
}
