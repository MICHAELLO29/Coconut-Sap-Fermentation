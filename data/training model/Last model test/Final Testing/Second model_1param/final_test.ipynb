{
 "cells": [
  {
   "cell_type": "markdown",
   "id": "5a6fbb8d",
   "metadata": {},
   "source": [
    "# %% Imports"
   ]
  },
  {
   "cell_type": "code",
   "execution_count": 586,
   "id": "6e172d54",
   "metadata": {},
   "outputs": [],
   "source": [
    "import os\n",
    "import math\n",
    "import numpy as np\n",
    "import pandas as pd\n",
    "import matplotlib.pyplot as plt\n",
    "from sklearn.preprocessing import MinMaxScaler\n",
    "from sklearn.metrics import mean_squared_error, mean_absolute_error, confusion_matrix, classification_report\n",
    "import joblib\n",
    "import tensorflow as tf\n",
    "from tensorflow.keras.models import Model\n",
    "from tensorflow.keras.layers import Input, LSTM, Dense, Dropout, Bidirectional, TimeDistributed\n",
    "from tensorflow.keras.callbacks import EarlyStopping, ModelCheckpoint"
   ]
  },
  {
   "cell_type": "markdown",
   "id": "ce552bc9",
   "metadata": {},
   "source": [
    "# Reproducibility"
   ]
  },
  {
   "cell_type": "code",
   "execution_count": 587,
   "id": "5ac12b8f",
   "metadata": {},
   "outputs": [],
   "source": [
    "SEED = 42\n",
    "np.random.seed(SEED)\n",
    "tf.random.set_seed(SEED)"
   ]
  },
  {
   "cell_type": "markdown",
   "id": "8bf53bda",
   "metadata": {},
   "source": [
    "# %% CONFIG"
   ]
  },
  {
   "cell_type": "code",
   "execution_count": 588,
   "id": "0a7b4052",
   "metadata": {},
   "outputs": [],
   "source": [
    "CSV_PATH = 'filtered_readings.csv'\n",
    "OUTPUT_DIR = 'model_output'\n",
    "os.makedirs(OUTPUT_DIR, exist_ok=True)\n",
    "\n",
    "\n",
    "SEQUENCE_LENGTH = 30 # 30-50 recommended\n",
    "PREDICT_HORIZON = 1 # predict 1 step ahead\n",
    "TEST_SIZE = 0.2\n",
    "BATCH_SIZE = 32\n",
    "EPOCHS = 100\n",
    "LEARNING_RATE = 5e-4\n",
    "PATIENCE = 10\n",
    "HIDDEN_UNITS = 64\n",
    "DROPOUT = 0.2\n",
    "RECURRENT_DROPOUT = 0.1\n",
    "USE_BIDIRECTIONAL_AUTO = True # will train and compare both LSTM and BiLSTM\n",
    "SMOOTH_WINDOW = 3\n",
    "LAMBDA_SMOOTH = 1e-4\n",
    "BRIX_READY_THRESHOLD = 0.04"
   ]
  },
  {
   "cell_type": "markdown",
   "id": "62ca5ca3",
   "metadata": {},
   "source": [
    "# %% Utilities: Loading & Preprocessing"
   ]
  },
  {
   "cell_type": "code",
   "execution_count": 589,
   "id": "b96e8ef5",
   "metadata": {},
   "outputs": [],
   "source": [
    "def load_and_order(csv_path):\n",
    "    df = pd.read_csv(csv_path)\n",
    "    if 'timestamp' in df.columns:\n",
    "        df['timestamp'] = pd.to_datetime(df['timestamp'])\n",
    "        df = df.sort_values('timestamp').reset_index(drop=True)\n",
    "    else:\n",
    "        df = df.reset_index(drop=True)\n",
    "    return df"
   ]
  },
  {
   "cell_type": "code",
   "execution_count": 590,
   "id": "bf79b638",
   "metadata": {},
   "outputs": [],
   "source": [
    "def handle_missing(df):\n",
    "    numeric_cols = df.select_dtypes(include=[np.number]).columns.tolist()\n",
    "    if 'timestamp' in df.columns:\n",
    "        df.set_index('timestamp', inplace=True)\n",
    "        df[numeric_cols] = df[numeric_cols].interpolate(method='time')\n",
    "        df[numeric_cols] = df[numeric_cols].fillna(method='ffill').fillna(method='bfill')\n",
    "        df.reset_index(inplace=True)\n",
    "    else:\n",
    "        df[numeric_cols] = df[numeric_cols].interpolate().fillna(method='ffill').fillna(method='bfill')\n",
    "    return df"
   ]
  },
  {
   "cell_type": "code",
   "execution_count": 591,
   "id": "ef4f5c59",
   "metadata": {},
   "outputs": [],
   "source": [
    "def remove_outliers_iqr(df, col, k=1.5):\n",
    "    series = df[col]\n",
    "    baseline = series.rolling(window=max(3, SEQUENCE_LENGTH//2), center=True, min_periods=1).median()\n",
    "    resid = (series - baseline).abs()\n",
    "    q1 = resid.quantile(0.25)\n",
    "    q3 = resid.quantile(0.75)\n",
    "    iqr = q3 - q1\n",
    "    threshold = q3 + k * iqr\n",
    "    mask = resid > threshold\n",
    "    series_clean = series.copy()\n",
    "    series_clean[mask] = baseline[mask]\n",
    "    df[col] = series_clean\n",
    "    return df"
   ]
  },
  {
   "cell_type": "code",
   "execution_count": 592,
   "id": "a98bbe7b",
   "metadata": {},
   "outputs": [],
   "source": [
    "def remove_outliers_all(df):\n",
    "    for col in ['gravity','brix','temperature']:\n",
    "        if col in df.columns:\n",
    "            df = remove_outliers_iqr(df, col)\n",
    "    return df"
   ]
  },
  {
   "cell_type": "code",
   "execution_count": 593,
   "id": "6645635a",
   "metadata": {},
   "outputs": [],
   "source": [
    "def split_continuous_runs(df):\n",
    "    if 'batch_id' in df.columns:\n",
    "        runs = [g.sort_values('timestamp').reset_index(drop=True) for _, g in df.groupby('batch_id', sort=False)]\n",
    "        runs = [r for r in runs if len(r) >= SEQUENCE_LENGTH]\n",
    "        return runs\n",
    "    # fallback: detect large gaps\n",
    "    if 'interval_seconds' in df.columns:\n",
    "        gap = df['interval_seconds']\n",
    "        median = gap.median()\n",
    "        threshold = max(10 * median, median + 60)\n",
    "        indices = df.index[gap > threshold].tolist()\n",
    "    elif 'timestamp' in df.columns:\n",
    "        diffs = df['timestamp'].diff().dt.total_seconds().fillna(0)\n",
    "        median = diffs[diffs>0].median() if (diffs>0).any() else 0\n",
    "        threshold = max(10 * median, median + 60)\n",
    "        indices = df.index[diffs > threshold].tolist()\n",
    "    else:\n",
    "        return [df]\n",
    "    runs = []\n",
    "    start = 0\n",
    "    for idx in indices:\n",
    "        runs.append(df.iloc[start:idx].reset_index(drop=True))\n",
    "        start = idx\n",
    "    runs.append(df.iloc[start:].reset_index(drop=True))\n",
    "    runs = [r for r in runs if len(r) >= SEQUENCE_LENGTH]\n",
    "    return runs"
   ]
  },
  {
   "cell_type": "code",
   "execution_count": 594,
   "id": "a2709954",
   "metadata": {},
   "outputs": [],
   "source": [
    "def build_sequences_from_runs(runs, seq_len=SEQUENCE_LENGTH, horizon=PREDICT_HORIZON):\n",
    "    X_list, y_list = [], []\n",
    "    for run in runs:\n",
    "        if not set(['gravity','brix','temperature']).issubset(run.columns):\n",
    "            continue\n",
    "        values = run[['gravity','brix','temperature']].values\n",
    "        brix_vals = run['brix'].values\n",
    "        n = len(run)\n",
    "        for i in range(0, n - seq_len - horizon + 1):\n",
    "            X_list.append(values[i:i+seq_len])\n",
    "            y_list.append(brix_vals[i+seq_len+horizon-1])\n",
    "    X = np.array(X_list)\n",
    "    y = np.array(y_list).reshape(-1,1)\n",
    "    return X, y"
   ]
  },
  {
   "cell_type": "markdown",
   "id": "fc70d78d",
   "metadata": {},
   "source": [
    "# %% Load and preprocess"
   ]
  },
  {
   "cell_type": "code",
   "execution_count": 595,
   "id": "553a3736",
   "metadata": {},
   "outputs": [
    {
     "name": "stdout",
     "output_type": "stream",
     "text": [
      "Loading... filtered_readings.csv\n",
      "Rows: 846\n",
      "Handling missing...\n",
      "Removing outliers...\n"
     ]
    },
    {
     "name": "stderr",
     "output_type": "stream",
     "text": [
      "C:\\Users\\Miggy\\AppData\\Local\\Temp\\ipykernel_28680\\351927595.py:6: FutureWarning: DataFrame.fillna with 'method' is deprecated and will raise in a future version. Use obj.ffill() or obj.bfill() instead.\n",
      "  df[numeric_cols] = df[numeric_cols].fillna(method='ffill').fillna(method='bfill')\n"
     ]
    }
   ],
   "source": [
    "print('Loading...', CSV_PATH)\n",
    "df = load_and_order(CSV_PATH)\n",
    "print('Rows:', len(df))\n",
    "print('Handling missing...')\n",
    "df = handle_missing(df)\n",
    "print('Removing outliers...')\n",
    "df = remove_outliers_all(df)"
   ]
  },
  {
   "cell_type": "code",
   "execution_count": 597,
   "id": "74618938",
   "metadata": {},
   "outputs": [
    {
     "name": "stdout",
     "output_type": "stream",
     "text": [
      "Splitting continuous runs...\n",
      "Detected runs: 1\n"
     ]
    }
   ],
   "source": [
    "print('Splitting continuous runs...')\n",
    "runs = split_continuous_runs(df)\n",
    "print('Detected runs:', len(runs))"
   ]
  },
  {
   "cell_type": "markdown",
   "id": "e81432ed",
   "metadata": {},
   "source": [
    "# %% Build sequences"
   ]
  },
  {
   "cell_type": "code",
   "execution_count": 598,
   "id": "98f91a42",
   "metadata": {},
   "outputs": [
    {
     "name": "stdout",
     "output_type": "stream",
     "text": [
      "Total sequences: 816\n"
     ]
    }
   ],
   "source": [
    "X, y = build_sequences_from_runs(runs)\n",
    "print('Total sequences:', X.shape[0])\n",
    "if X.shape[0] == 0:\n",
    "    raise RuntimeError('No sequences produced. Check SEQUENCE_LENGTH and your data segmentation.')"
   ]
  },
  {
   "cell_type": "markdown",
   "id": "a08e8c34",
   "metadata": {},
   "source": [
    "# %% Temporal split (80/20) without shuffling"
   ]
  },
  {
   "cell_type": "code",
   "execution_count": 599,
   "id": "97741580",
   "metadata": {},
   "outputs": [
    {
     "name": "stdout",
     "output_type": "stream",
     "text": [
      "Training set Brix range: -0.4838349099167089 to 3.6117096600078185\n",
      "Testing set Brix range: -0.2936410659307285 to 1.424770229052001\n",
      "Training fermented ratio: 0.5502958579881657\n",
      "Testing fermented ratio: 0.5529411764705883\n",
      "Train sequences: 646 Test sequences: 140\n"
     ]
    }
   ],
   "source": [
    "df['is_fermented'] = (df['brix'] <= 0.04).astype(int)\n",
    "df = df.sort_values('timestamp').reset_index(drop=True)\n",
    "\n",
    "# Split the dataframe to ensure both fermented and unfermented are represented\n",
    "fermented_df = df[df['is_fermented'] == 1]\n",
    "unfermented_df = df[df['is_fermented'] == 0]\n",
    "\n",
    "train_fermented = fermented_df.iloc[:int(len(fermented_df)*0.8)]\n",
    "test_fermented = fermented_df.iloc[int(len(fermented_df)*0.8):]\n",
    "\n",
    "train_unfermented = unfermented_df.iloc[:int(len(unfermented_df)*0.8)]\n",
    "test_unfermented = unfermented_df.iloc[int(len(unfermented_df)*0.8):]\n",
    "\n",
    "train_df = pd.concat([train_fermented, train_unfermented]).sort_values('timestamp').reset_index(drop=True)\n",
    "test_df = pd.concat([test_fermented, test_unfermented]).sort_values('timestamp').reset_index(drop=True)\n",
    "\n",
    "print('Training set Brix range:', train_df['brix'].min(), 'to', train_df['brix'].max())\n",
    "print('Testing set Brix range:', test_df['brix'].min(), 'to', test_df['brix'].max())\n",
    "print('Training fermented ratio:', train_df['is_fermented'].mean())\n",
    "print('Testing fermented ratio:', test_df['is_fermented'].mean())\n",
    "\n",
    "train_runs = split_continuous_runs(train_df)\n",
    "test_runs = split_continuous_runs(test_df)\n",
    "\n",
    "X_train, y_train = build_sequences_from_runs(train_runs)\n",
    "X_test, y_test = build_sequences_from_runs(test_runs)\n",
    "\n",
    "print('Train sequences:', X_train.shape[0], 'Test sequences:', X_test.shape[0])"
   ]
  },
  {
   "cell_type": "markdown",
   "id": "c0c0e3f6",
   "metadata": {},
   "source": [
    "# %% Scaling (fit scalers only on train to prevent leakage)"
   ]
  },
  {
   "cell_type": "code",
   "execution_count": 600,
   "id": "68c9c4f0",
   "metadata": {},
   "outputs": [],
   "source": [
    "feature_scalers = {}\n",
    "for i, col in enumerate(['gravity','brix','temperature']):\n",
    "    scaler = MinMaxScaler()\n",
    "    data_to_fit = X_train[:,:,i].reshape(-1,1)\n",
    "    scaler.fit(data_to_fit)\n",
    "    X_train[:, :, i] = scaler.transform(X_train[:, :, i].reshape(-1, 1)).reshape(X_train[:, :, i].shape)\n",
    "    X_test[:, :, i] = scaler.transform(X_test[:, :, i].reshape(-1, 1)).reshape(X_test[:, :, i].shape)\n",
    "    feature_scalers[col] = scaler\n",
    "\n",
    "\n",
    "brix_scaler = MinMaxScaler()\n",
    "brix_scaler.fit(y_train)\n",
    "y_train_s = brix_scaler.transform(y_train)\n",
    "y_test_s = brix_scaler.transform(y_test)"
   ]
  },
  {
   "cell_type": "markdown",
   "id": "83e1f0ba",
   "metadata": {},
   "source": [
    "# Save scalers"
   ]
  },
  {
   "cell_type": "code",
   "execution_count": 601,
   "id": "7fe99184",
   "metadata": {},
   "outputs": [
    {
     "name": "stdout",
     "output_type": "stream",
     "text": [
      "Saved scalers.\n"
     ]
    }
   ],
   "source": [
    "joblib.dump(feature_scalers, os.path.join(OUTPUT_DIR, 'feature_scalers.joblib'))\n",
    "joblib.dump(brix_scaler, os.path.join(OUTPUT_DIR, 'brix_scaler.joblib'))\n",
    "print('Saved scalers.')"
   ]
  },
  {
   "cell_type": "markdown",
   "id": "22fb093a",
   "metadata": {},
   "source": [
    "# %% Smoothness loss (operates on scaled predictions)"
   ]
  },
  {
   "cell_type": "code",
   "execution_count": 602,
   "id": "ffd8bd0e",
   "metadata": {},
   "outputs": [],
   "source": [
    "import tensorflow.keras.backend as K"
   ]
  },
  {
   "cell_type": "code",
   "execution_count": 603,
   "id": "aa6c730f",
   "metadata": {},
   "outputs": [],
   "source": [
    "def smoothness_loss_lambda(lambda_smooth=LAMBDA_SMOOTH):\n",
    "    def loss_fn(y_true, y_pred):\n",
    "        mse = K.mean(K.square(y_true - y_pred))\n",
    "        diff = y_pred[1:, :] - y_pred[:-1, :]\n",
    "        def smooth_term(): return K.mean(K.square(diff))\n",
    "        def zero_term(): return K.constant(0.0, dtype=K.floatx())\n",
    "        smooth = tf.cond(tf.greater(tf.shape(diff)[0], 0), smooth_term, zero_term)\n",
    "        return mse + K.cast(lambda_smooth, K.floatx()) * smooth\n",
    "    return loss_fn"
   ]
  },
  {
   "cell_type": "markdown",
   "id": "0789450f",
   "metadata": {},
   "source": [
    "# %% Model builder (single-output regression)"
   ]
  },
  {
   "cell_type": "code",
   "execution_count": 604,
   "id": "b4b2b52b",
   "metadata": {},
   "outputs": [],
   "source": [
    "def build_regression_model(input_shape, hidden_units=HIDDEN_UNITS, bidirectional=False):\n",
    "    inp = Input(shape=input_shape)\n",
    "    if bidirectional:\n",
    "        x = Bidirectional(LSTM(hidden_units, return_sequences=False, dropout=DROPOUT, recurrent_dropout=RECURRENT_DROPOUT))(inp)\n",
    "    else:\n",
    "        x = LSTM(hidden_units, return_sequences=False, dropout=DROPOUT, recurrent_dropout=RECURRENT_DROPOUT)(inp)\n",
    "    x = Dropout(DROPOUT)(x)\n",
    "    x = Dense(32, activation='relu')(x)\n",
    "    out = Dense(1, activation='linear')(x)\n",
    "    model = Model(inputs=inp, outputs=out)\n",
    "    model.compile(optimizer=tf.keras.optimizers.Adam(learning_rate=LEARNING_RATE,clipnorm=1.0),\n",
    "                  loss=smoothness_loss_lambda(LAMBDA_SMOOTH),\n",
    "                  metrics=['mse', 'mae'])\n",
    "    return model"
   ]
  },
  {
   "cell_type": "code",
   "execution_count": 605,
   "id": "c9478f66",
   "metadata": {},
   "outputs": [
    {
     "name": "stdout",
     "output_type": "stream",
     "text": [
      "Check for NaN/inf in training and validation data:\n",
      "X_train: 0 0\n",
      "y_train_s: 0 0\n",
      "X_test: 0 0\n",
      "y_test_s: 0 0\n"
     ]
    }
   ],
   "source": [
    "print(\"Check for NaN/inf in training and validation data:\")\n",
    "print(\"X_train:\", np.isnan(X_train).sum(), np.isinf(X_train).sum())\n",
    "print(\"y_train_s:\", np.isnan(y_train_s).sum(), np.isinf(y_train_s).sum())\n",
    "print(\"X_test:\", np.isnan(X_test).sum(), np.isinf(X_test).sum())\n",
    "print(\"y_test_s:\", np.isnan(y_test_s).sum(), np.isinf(y_test_s).sum())"
   ]
  },
  {
   "cell_type": "markdown",
   "id": "72af61b8",
   "metadata": {},
   "source": [
    "# %% Train both LSTM and BiLSTM (if requested)"
   ]
  },
  {
   "cell_type": "code",
   "execution_count": 606,
   "id": "923f7260",
   "metadata": {},
   "outputs": [
    {
     "name": "stdout",
     "output_type": "stream",
     "text": [
      "Training model: LSTM\n"
     ]
    },
    {
     "data": {
      "text/html": [
       "<pre style=\"white-space:pre;overflow-x:auto;line-height:normal;font-family:Menlo,'DejaVu Sans Mono',consolas,'Courier New',monospace\"><span style=\"font-weight: bold\">Model: \"functional_38\"</span>\n",
       "</pre>\n"
      ],
      "text/plain": [
       "\u001b[1mModel: \"functional_38\"\u001b[0m\n"
      ]
     },
     "metadata": {},
     "output_type": "display_data"
    },
    {
     "data": {
      "text/html": [
       "<pre style=\"white-space:pre;overflow-x:auto;line-height:normal;font-family:Menlo,'DejaVu Sans Mono',consolas,'Courier New',monospace\">┏━━━━━━━━━━━━━━━━━━━━━━━━━━━━━━━━━┳━━━━━━━━━━━━━━━━━━━━━━━━┳━━━━━━━━━━━━━━━┓\n",
       "┃<span style=\"font-weight: bold\"> Layer (type)                    </span>┃<span style=\"font-weight: bold\"> Output Shape           </span>┃<span style=\"font-weight: bold\">       Param # </span>┃\n",
       "┡━━━━━━━━━━━━━━━━━━━━━━━━━━━━━━━━━╇━━━━━━━━━━━━━━━━━━━━━━━━╇━━━━━━━━━━━━━━━┩\n",
       "│ input_layer_38 (<span style=\"color: #0087ff; text-decoration-color: #0087ff\">InputLayer</span>)     │ (<span style=\"color: #00d7ff; text-decoration-color: #00d7ff\">None</span>, <span style=\"color: #00af00; text-decoration-color: #00af00\">30</span>, <span style=\"color: #00af00; text-decoration-color: #00af00\">3</span>)          │             <span style=\"color: #00af00; text-decoration-color: #00af00\">0</span> │\n",
       "├─────────────────────────────────┼────────────────────────┼───────────────┤\n",
       "│ lstm_62 (<span style=\"color: #0087ff; text-decoration-color: #0087ff\">LSTM</span>)                  │ (<span style=\"color: #00d7ff; text-decoration-color: #00d7ff\">None</span>, <span style=\"color: #00af00; text-decoration-color: #00af00\">64</span>)             │        <span style=\"color: #00af00; text-decoration-color: #00af00\">17,408</span> │\n",
       "├─────────────────────────────────┼────────────────────────┼───────────────┤\n",
       "│ dropout_78 (<span style=\"color: #0087ff; text-decoration-color: #0087ff\">Dropout</span>)            │ (<span style=\"color: #00d7ff; text-decoration-color: #00d7ff\">None</span>, <span style=\"color: #00af00; text-decoration-color: #00af00\">64</span>)             │             <span style=\"color: #00af00; text-decoration-color: #00af00\">0</span> │\n",
       "├─────────────────────────────────┼────────────────────────┼───────────────┤\n",
       "│ dense_66 (<span style=\"color: #0087ff; text-decoration-color: #0087ff\">Dense</span>)                │ (<span style=\"color: #00d7ff; text-decoration-color: #00d7ff\">None</span>, <span style=\"color: #00af00; text-decoration-color: #00af00\">32</span>)             │         <span style=\"color: #00af00; text-decoration-color: #00af00\">2,080</span> │\n",
       "├─────────────────────────────────┼────────────────────────┼───────────────┤\n",
       "│ dense_67 (<span style=\"color: #0087ff; text-decoration-color: #0087ff\">Dense</span>)                │ (<span style=\"color: #00d7ff; text-decoration-color: #00d7ff\">None</span>, <span style=\"color: #00af00; text-decoration-color: #00af00\">1</span>)              │            <span style=\"color: #00af00; text-decoration-color: #00af00\">33</span> │\n",
       "└─────────────────────────────────┴────────────────────────┴───────────────┘\n",
       "</pre>\n"
      ],
      "text/plain": [
       "┏━━━━━━━━━━━━━━━━━━━━━━━━━━━━━━━━━┳━━━━━━━━━━━━━━━━━━━━━━━━┳━━━━━━━━━━━━━━━┓\n",
       "┃\u001b[1m \u001b[0m\u001b[1mLayer (type)                   \u001b[0m\u001b[1m \u001b[0m┃\u001b[1m \u001b[0m\u001b[1mOutput Shape          \u001b[0m\u001b[1m \u001b[0m┃\u001b[1m \u001b[0m\u001b[1m      Param #\u001b[0m\u001b[1m \u001b[0m┃\n",
       "┡━━━━━━━━━━━━━━━━━━━━━━━━━━━━━━━━━╇━━━━━━━━━━━━━━━━━━━━━━━━╇━━━━━━━━━━━━━━━┩\n",
       "│ input_layer_38 (\u001b[38;5;33mInputLayer\u001b[0m)     │ (\u001b[38;5;45mNone\u001b[0m, \u001b[38;5;34m30\u001b[0m, \u001b[38;5;34m3\u001b[0m)          │             \u001b[38;5;34m0\u001b[0m │\n",
       "├─────────────────────────────────┼────────────────────────┼───────────────┤\n",
       "│ lstm_62 (\u001b[38;5;33mLSTM\u001b[0m)                  │ (\u001b[38;5;45mNone\u001b[0m, \u001b[38;5;34m64\u001b[0m)             │        \u001b[38;5;34m17,408\u001b[0m │\n",
       "├─────────────────────────────────┼────────────────────────┼───────────────┤\n",
       "│ dropout_78 (\u001b[38;5;33mDropout\u001b[0m)            │ (\u001b[38;5;45mNone\u001b[0m, \u001b[38;5;34m64\u001b[0m)             │             \u001b[38;5;34m0\u001b[0m │\n",
       "├─────────────────────────────────┼────────────────────────┼───────────────┤\n",
       "│ dense_66 (\u001b[38;5;33mDense\u001b[0m)                │ (\u001b[38;5;45mNone\u001b[0m, \u001b[38;5;34m32\u001b[0m)             │         \u001b[38;5;34m2,080\u001b[0m │\n",
       "├─────────────────────────────────┼────────────────────────┼───────────────┤\n",
       "│ dense_67 (\u001b[38;5;33mDense\u001b[0m)                │ (\u001b[38;5;45mNone\u001b[0m, \u001b[38;5;34m1\u001b[0m)              │            \u001b[38;5;34m33\u001b[0m │\n",
       "└─────────────────────────────────┴────────────────────────┴───────────────┘\n"
      ]
     },
     "metadata": {},
     "output_type": "display_data"
    },
    {
     "data": {
      "text/html": [
       "<pre style=\"white-space:pre;overflow-x:auto;line-height:normal;font-family:Menlo,'DejaVu Sans Mono',consolas,'Courier New',monospace\"><span style=\"font-weight: bold\"> Total params: </span><span style=\"color: #00af00; text-decoration-color: #00af00\">19,521</span> (76.25 KB)\n",
       "</pre>\n"
      ],
      "text/plain": [
       "\u001b[1m Total params: \u001b[0m\u001b[38;5;34m19,521\u001b[0m (76.25 KB)\n"
      ]
     },
     "metadata": {},
     "output_type": "display_data"
    },
    {
     "data": {
      "text/html": [
       "<pre style=\"white-space:pre;overflow-x:auto;line-height:normal;font-family:Menlo,'DejaVu Sans Mono',consolas,'Courier New',monospace\"><span style=\"font-weight: bold\"> Trainable params: </span><span style=\"color: #00af00; text-decoration-color: #00af00\">19,521</span> (76.25 KB)\n",
       "</pre>\n"
      ],
      "text/plain": [
       "\u001b[1m Trainable params: \u001b[0m\u001b[38;5;34m19,521\u001b[0m (76.25 KB)\n"
      ]
     },
     "metadata": {},
     "output_type": "display_data"
    },
    {
     "data": {
      "text/html": [
       "<pre style=\"white-space:pre;overflow-x:auto;line-height:normal;font-family:Menlo,'DejaVu Sans Mono',consolas,'Courier New',monospace\"><span style=\"font-weight: bold\"> Non-trainable params: </span><span style=\"color: #00af00; text-decoration-color: #00af00\">0</span> (0.00 B)\n",
       "</pre>\n"
      ],
      "text/plain": [
       "\u001b[1m Non-trainable params: \u001b[0m\u001b[38;5;34m0\u001b[0m (0.00 B)\n"
      ]
     },
     "metadata": {},
     "output_type": "display_data"
    },
    {
     "name": "stdout",
     "output_type": "stream",
     "text": [
      "Training model: BiLSTM\n"
     ]
    },
    {
     "data": {
      "text/html": [
       "<pre style=\"white-space:pre;overflow-x:auto;line-height:normal;font-family:Menlo,'DejaVu Sans Mono',consolas,'Courier New',monospace\"><span style=\"font-weight: bold\">Model: \"functional_39\"</span>\n",
       "</pre>\n"
      ],
      "text/plain": [
       "\u001b[1mModel: \"functional_39\"\u001b[0m\n"
      ]
     },
     "metadata": {},
     "output_type": "display_data"
    },
    {
     "data": {
      "text/html": [
       "<pre style=\"white-space:pre;overflow-x:auto;line-height:normal;font-family:Menlo,'DejaVu Sans Mono',consolas,'Courier New',monospace\">┏━━━━━━━━━━━━━━━━━━━━━━━━━━━━━━━━━┳━━━━━━━━━━━━━━━━━━━━━━━━┳━━━━━━━━━━━━━━━┓\n",
       "┃<span style=\"font-weight: bold\"> Layer (type)                    </span>┃<span style=\"font-weight: bold\"> Output Shape           </span>┃<span style=\"font-weight: bold\">       Param # </span>┃\n",
       "┡━━━━━━━━━━━━━━━━━━━━━━━━━━━━━━━━━╇━━━━━━━━━━━━━━━━━━━━━━━━╇━━━━━━━━━━━━━━━┩\n",
       "│ input_layer_39 (<span style=\"color: #0087ff; text-decoration-color: #0087ff\">InputLayer</span>)     │ (<span style=\"color: #00d7ff; text-decoration-color: #00d7ff\">None</span>, <span style=\"color: #00af00; text-decoration-color: #00af00\">30</span>, <span style=\"color: #00af00; text-decoration-color: #00af00\">3</span>)          │             <span style=\"color: #00af00; text-decoration-color: #00af00\">0</span> │\n",
       "├─────────────────────────────────┼────────────────────────┼───────────────┤\n",
       "│ bidirectional_37                │ (<span style=\"color: #00d7ff; text-decoration-color: #00d7ff\">None</span>, <span style=\"color: #00af00; text-decoration-color: #00af00\">128</span>)            │        <span style=\"color: #00af00; text-decoration-color: #00af00\">34,816</span> │\n",
       "│ (<span style=\"color: #0087ff; text-decoration-color: #0087ff\">Bidirectional</span>)                 │                        │               │\n",
       "├─────────────────────────────────┼────────────────────────┼───────────────┤\n",
       "│ dropout_79 (<span style=\"color: #0087ff; text-decoration-color: #0087ff\">Dropout</span>)            │ (<span style=\"color: #00d7ff; text-decoration-color: #00d7ff\">None</span>, <span style=\"color: #00af00; text-decoration-color: #00af00\">128</span>)            │             <span style=\"color: #00af00; text-decoration-color: #00af00\">0</span> │\n",
       "├─────────────────────────────────┼────────────────────────┼───────────────┤\n",
       "│ dense_68 (<span style=\"color: #0087ff; text-decoration-color: #0087ff\">Dense</span>)                │ (<span style=\"color: #00d7ff; text-decoration-color: #00d7ff\">None</span>, <span style=\"color: #00af00; text-decoration-color: #00af00\">32</span>)             │         <span style=\"color: #00af00; text-decoration-color: #00af00\">4,128</span> │\n",
       "├─────────────────────────────────┼────────────────────────┼───────────────┤\n",
       "│ dense_69 (<span style=\"color: #0087ff; text-decoration-color: #0087ff\">Dense</span>)                │ (<span style=\"color: #00d7ff; text-decoration-color: #00d7ff\">None</span>, <span style=\"color: #00af00; text-decoration-color: #00af00\">1</span>)              │            <span style=\"color: #00af00; text-decoration-color: #00af00\">33</span> │\n",
       "└─────────────────────────────────┴────────────────────────┴───────────────┘\n",
       "</pre>\n"
      ],
      "text/plain": [
       "┏━━━━━━━━━━━━━━━━━━━━━━━━━━━━━━━━━┳━━━━━━━━━━━━━━━━━━━━━━━━┳━━━━━━━━━━━━━━━┓\n",
       "┃\u001b[1m \u001b[0m\u001b[1mLayer (type)                   \u001b[0m\u001b[1m \u001b[0m┃\u001b[1m \u001b[0m\u001b[1mOutput Shape          \u001b[0m\u001b[1m \u001b[0m┃\u001b[1m \u001b[0m\u001b[1m      Param #\u001b[0m\u001b[1m \u001b[0m┃\n",
       "┡━━━━━━━━━━━━━━━━━━━━━━━━━━━━━━━━━╇━━━━━━━━━━━━━━━━━━━━━━━━╇━━━━━━━━━━━━━━━┩\n",
       "│ input_layer_39 (\u001b[38;5;33mInputLayer\u001b[0m)     │ (\u001b[38;5;45mNone\u001b[0m, \u001b[38;5;34m30\u001b[0m, \u001b[38;5;34m3\u001b[0m)          │             \u001b[38;5;34m0\u001b[0m │\n",
       "├─────────────────────────────────┼────────────────────────┼───────────────┤\n",
       "│ bidirectional_37                │ (\u001b[38;5;45mNone\u001b[0m, \u001b[38;5;34m128\u001b[0m)            │        \u001b[38;5;34m34,816\u001b[0m │\n",
       "│ (\u001b[38;5;33mBidirectional\u001b[0m)                 │                        │               │\n",
       "├─────────────────────────────────┼────────────────────────┼───────────────┤\n",
       "│ dropout_79 (\u001b[38;5;33mDropout\u001b[0m)            │ (\u001b[38;5;45mNone\u001b[0m, \u001b[38;5;34m128\u001b[0m)            │             \u001b[38;5;34m0\u001b[0m │\n",
       "├─────────────────────────────────┼────────────────────────┼───────────────┤\n",
       "│ dense_68 (\u001b[38;5;33mDense\u001b[0m)                │ (\u001b[38;5;45mNone\u001b[0m, \u001b[38;5;34m32\u001b[0m)             │         \u001b[38;5;34m4,128\u001b[0m │\n",
       "├─────────────────────────────────┼────────────────────────┼───────────────┤\n",
       "│ dense_69 (\u001b[38;5;33mDense\u001b[0m)                │ (\u001b[38;5;45mNone\u001b[0m, \u001b[38;5;34m1\u001b[0m)              │            \u001b[38;5;34m33\u001b[0m │\n",
       "└─────────────────────────────────┴────────────────────────┴───────────────┘\n"
      ]
     },
     "metadata": {},
     "output_type": "display_data"
    },
    {
     "data": {
      "text/html": [
       "<pre style=\"white-space:pre;overflow-x:auto;line-height:normal;font-family:Menlo,'DejaVu Sans Mono',consolas,'Courier New',monospace\"><span style=\"font-weight: bold\"> Total params: </span><span style=\"color: #00af00; text-decoration-color: #00af00\">38,977</span> (152.25 KB)\n",
       "</pre>\n"
      ],
      "text/plain": [
       "\u001b[1m Total params: \u001b[0m\u001b[38;5;34m38,977\u001b[0m (152.25 KB)\n"
      ]
     },
     "metadata": {},
     "output_type": "display_data"
    },
    {
     "data": {
      "text/html": [
       "<pre style=\"white-space:pre;overflow-x:auto;line-height:normal;font-family:Menlo,'DejaVu Sans Mono',consolas,'Courier New',monospace\"><span style=\"font-weight: bold\"> Trainable params: </span><span style=\"color: #00af00; text-decoration-color: #00af00\">38,977</span> (152.25 KB)\n",
       "</pre>\n"
      ],
      "text/plain": [
       "\u001b[1m Trainable params: \u001b[0m\u001b[38;5;34m38,977\u001b[0m (152.25 KB)\n"
      ]
     },
     "metadata": {},
     "output_type": "display_data"
    },
    {
     "data": {
      "text/html": [
       "<pre style=\"white-space:pre;overflow-x:auto;line-height:normal;font-family:Menlo,'DejaVu Sans Mono',consolas,'Courier New',monospace\"><span style=\"font-weight: bold\"> Non-trainable params: </span><span style=\"color: #00af00; text-decoration-color: #00af00\">0</span> (0.00 B)\n",
       "</pre>\n"
      ],
      "text/plain": [
       "\u001b[1m Non-trainable params: \u001b[0m\u001b[38;5;34m0\u001b[0m (0.00 B)\n"
      ]
     },
     "metadata": {},
     "output_type": "display_data"
    },
    {
     "name": "stdout",
     "output_type": "stream",
     "text": [
      "Epoch 1/100\n",
      "\n",
      "Epoch 1: val_loss improved from inf to 0.00059, saving model to model_output\\tuba_model_best_BiLSTM.h5\n",
      "\n",
      "Epoch 1: val_loss improved from inf to 0.00059, saving model to model_output\\tuba_model_best_BiLSTM.h5\n"
     ]
    },
    {
     "name": "stderr",
     "output_type": "stream",
     "text": [
      "WARNING:absl:You are saving your model as an HDF5 file via `model.save()` or `keras.saving.save_model(model)`. This file format is considered legacy. We recommend using instead the native Keras format, e.g. `model.save('my_model.keras')` or `keras.saving.save_model(model, 'my_model.keras')`. \n"
     ]
    },
    {
     "name": "stdout",
     "output_type": "stream",
     "text": [
      "19/19 - 7s - 389ms/step - loss: 0.0319 - mae: 0.1309 - mse: 0.0319 - val_loss: 5.9084e-04 - val_mae: 0.0227 - val_mse: 5.9084e-04\n",
      "Epoch 2/100\n",
      "Epoch 2/100\n",
      "\n",
      "Epoch 2: val_loss did not improve from 0.00059\n",
      "19/19 - 0s - 19ms/step - loss: 0.0177 - mae: 0.0887 - mse: 0.0177 - val_loss: 8.9302e-04 - val_mae: 0.0289 - val_mse: 8.9302e-04\n",
      "Epoch 3/100\n",
      "\n",
      "Epoch 2: val_loss did not improve from 0.00059\n",
      "19/19 - 0s - 19ms/step - loss: 0.0177 - mae: 0.0887 - mse: 0.0177 - val_loss: 8.9302e-04 - val_mae: 0.0289 - val_mse: 8.9302e-04\n",
      "Epoch 3/100\n",
      "\n",
      "Epoch 3: val_loss did not improve from 0.00059\n",
      "19/19 - 0s - 18ms/step - loss: 0.0150 - mae: 0.0800 - mse: 0.0150 - val_loss: 6.5752e-04 - val_mae: 0.0236 - val_mse: 6.5752e-04\n",
      "Epoch 4/100\n",
      "\n",
      "Epoch 3: val_loss did not improve from 0.00059\n",
      "19/19 - 0s - 18ms/step - loss: 0.0150 - mae: 0.0800 - mse: 0.0150 - val_loss: 6.5752e-04 - val_mae: 0.0236 - val_mse: 6.5752e-04\n",
      "Epoch 4/100\n",
      "\n",
      "Epoch 4: val_loss did not improve from 0.00059\n",
      "19/19 - 0s - 20ms/step - loss: 0.0143 - mae: 0.0752 - mse: 0.0143 - val_loss: 0.0010 - val_mae: 0.0306 - val_mse: 0.0010\n",
      "Epoch 5/100\n",
      "\n",
      "Epoch 4: val_loss did not improve from 0.00059\n",
      "19/19 - 0s - 20ms/step - loss: 0.0143 - mae: 0.0752 - mse: 0.0143 - val_loss: 0.0010 - val_mae: 0.0306 - val_mse: 0.0010\n",
      "Epoch 5/100\n",
      "\n",
      "Epoch 5: val_loss did not improve from 0.00059\n",
      "19/19 - 0s - 20ms/step - loss: 0.0110 - mae: 0.0663 - mse: 0.0110 - val_loss: 0.0011 - val_mae: 0.0286 - val_mse: 0.0011\n",
      "Epoch 6/100\n",
      "\n",
      "Epoch 5: val_loss did not improve from 0.00059\n",
      "19/19 - 0s - 20ms/step - loss: 0.0110 - mae: 0.0663 - mse: 0.0110 - val_loss: 0.0011 - val_mae: 0.0286 - val_mse: 0.0011\n",
      "Epoch 6/100\n",
      "\n",
      "Epoch 6: val_loss did not improve from 0.00059\n",
      "19/19 - 0s - 18ms/step - loss: 0.0100 - mae: 0.0653 - mse: 0.0099 - val_loss: 0.0015 - val_mae: 0.0364 - val_mse: 0.0015\n",
      "Epoch 7/100\n",
      "\n",
      "Epoch 6: val_loss did not improve from 0.00059\n",
      "19/19 - 0s - 18ms/step - loss: 0.0100 - mae: 0.0653 - mse: 0.0099 - val_loss: 0.0015 - val_mae: 0.0364 - val_mse: 0.0015\n",
      "Epoch 7/100\n",
      "\n",
      "Epoch 7: val_loss did not improve from 0.00059\n",
      "19/19 - 0s - 18ms/step - loss: 0.0093 - mae: 0.0587 - mse: 0.0093 - val_loss: 0.0010 - val_mae: 0.0300 - val_mse: 0.0010\n",
      "Epoch 8/100\n",
      "\n",
      "Epoch 7: val_loss did not improve from 0.00059\n",
      "19/19 - 0s - 18ms/step - loss: 0.0093 - mae: 0.0587 - mse: 0.0093 - val_loss: 0.0010 - val_mae: 0.0300 - val_mse: 0.0010\n",
      "Epoch 8/100\n",
      "\n",
      "Epoch 8: val_loss did not improve from 0.00059\n",
      "19/19 - 0s - 19ms/step - loss: 0.0091 - mae: 0.0586 - mse: 0.0090 - val_loss: 0.0013 - val_mae: 0.0335 - val_mse: 0.0013\n",
      "Epoch 9/100\n",
      "\n",
      "Epoch 8: val_loss did not improve from 0.00059\n",
      "19/19 - 0s - 19ms/step - loss: 0.0091 - mae: 0.0586 - mse: 0.0090 - val_loss: 0.0013 - val_mae: 0.0335 - val_mse: 0.0013\n",
      "Epoch 9/100\n",
      "\n",
      "Epoch 9: val_loss did not improve from 0.00059\n",
      "19/19 - 0s - 18ms/step - loss: 0.0093 - mae: 0.0606 - mse: 0.0092 - val_loss: 0.0013 - val_mae: 0.0348 - val_mse: 0.0013\n",
      "Epoch 10/100\n",
      "\n",
      "Epoch 9: val_loss did not improve from 0.00059\n",
      "19/19 - 0s - 18ms/step - loss: 0.0093 - mae: 0.0606 - mse: 0.0092 - val_loss: 0.0013 - val_mae: 0.0348 - val_mse: 0.0013\n",
      "Epoch 10/100\n",
      "\n",
      "Epoch 10: val_loss did not improve from 0.00059\n",
      "19/19 - 0s - 17ms/step - loss: 0.0068 - mae: 0.0537 - mse: 0.0068 - val_loss: 0.0015 - val_mae: 0.0384 - val_mse: 0.0015\n",
      "Epoch 11/100\n",
      "\n",
      "Epoch 10: val_loss did not improve from 0.00059\n",
      "19/19 - 0s - 17ms/step - loss: 0.0068 - mae: 0.0537 - mse: 0.0068 - val_loss: 0.0015 - val_mae: 0.0384 - val_mse: 0.0015\n",
      "Epoch 11/100\n",
      "\n",
      "Epoch 11: val_loss did not improve from 0.00059\n",
      "19/19 - 0s - 18ms/step - loss: 0.0060 - mae: 0.0496 - mse: 0.0059 - val_loss: 0.0011 - val_mae: 0.0324 - val_mse: 0.0011\n",
      "Epoch 11: early stopping\n",
      "Restoring model weights from the end of the best epoch: 1.\n",
      "\n",
      "Epoch 11: val_loss did not improve from 0.00059\n",
      "19/19 - 0s - 18ms/step - loss: 0.0060 - mae: 0.0496 - mse: 0.0059 - val_loss: 0.0011 - val_mae: 0.0324 - val_mse: 0.0011\n",
      "Epoch 11: early stopping\n",
      "Restoring model weights from the end of the best epoch: 1.\n"
     ]
    }
   ],
   "source": [
    "models_trained = {}\n",
    "for bidir in ([False, True] if USE_BIDIRECTIONAL_AUTO else [False]):\n",
    "    name = 'BiLSTM' if bidir else 'LSTM'\n",
    "    print('Training model:', name)\n",
    "    model = build_regression_model((X_train.shape[1], X_train.shape[2]), bidirectional=bidir)\n",
    "    model.summary()\n",
    "    ckpt = os.path.join(OUTPUT_DIR, f'tuba_model_best_{name}.h5')\n",
    "    callbacks = [\n",
    "        EarlyStopping(monitor='val_loss', patience=PATIENCE, restore_best_weights=True, verbose=1),\n",
    "        ModelCheckpoint(ckpt, monitor='val_loss', save_best_only=True, verbose=1)\n",
    "]\n",
    "    \n",
    "history = model.fit(X_train, y_train_s,\n",
    "                    validation_split=0.1,\n",
    "                    epochs=EPOCHS,\n",
    "                    batch_size=BATCH_SIZE,\n",
    "                    callbacks=callbacks,\n",
    "                    verbose=2)\n",
    "\n",
    "# evaluate on test set\n",
    "evals = model.evaluate(X_test, y_test_s, verbose=0)\n",
    "models_trained[name] = {'model': model, 'history': history, 'evals': evals, 'ckpt': ckpt}"
   ]
  },
  {
   "cell_type": "markdown",
   "id": "3eeb9422",
   "metadata": {},
   "source": [
    "# %% Choose best model by minimum val_loss observed"
   ]
  },
  {
   "cell_type": "code",
   "execution_count": 607,
   "id": "d0c2c649",
   "metadata": {},
   "outputs": [
    {
     "name": "stderr",
     "output_type": "stream",
     "text": [
      "WARNING:absl:You are saving your model as an HDF5 file via `model.save()` or `keras.saving.save_model(model)`. This file format is considered legacy. We recommend using instead the native Keras format, e.g. `model.save('my_model.keras')` or `keras.saving.save_model(model, 'my_model.keras')`. \n"
     ]
    },
    {
     "name": "stdout",
     "output_type": "stream",
     "text": [
      "Model BiLSTM min val_loss: 0.0005908409948460758\n",
      "Best model: BiLSTM\n",
      "Saved final model to model_output\\tuba_model_final.h5\n"
     ]
    }
   ],
   "source": [
    "best_name = None\n",
    "best_val_loss = math.inf\n",
    "for name, info in models_trained.items():\n",
    "    hist = info['history'].history\n",
    "    val_loss_min = min(hist['val_loss']) if 'val_loss' in hist else math.inf\n",
    "    print(f\"Model {name} min val_loss: {val_loss_min}\")\n",
    "    if val_loss_min < best_val_loss:\n",
    "        best_val_loss = val_loss_min\n",
    "        best_name = name\n",
    "\n",
    "print('Best model:', best_name)\n",
    "best_model = models_trained[best_name]['model']\n",
    "final_model_path = os.path.join(OUTPUT_DIR, 'tuba_model_final.h5')\n",
    "best_model.save(final_model_path)\n",
    "print('Saved final model to', final_model_path)"
   ]
  },
  {
   "cell_type": "code",
   "execution_count": 608,
   "id": "92ac6822",
   "metadata": {},
   "outputs": [
    {
     "name": "stdout",
     "output_type": "stream",
     "text": [
      "Training samples: 646 Validation samples: 140\n"
     ]
    }
   ],
   "source": [
    "print('Training samples:', len(X_train), 'Validation samples:', len(X_test))\n"
   ]
  },
  {
   "cell_type": "markdown",
   "id": "a3fd5ebe",
   "metadata": {},
   "source": [
    "# %% Inference and evaluation"
   ]
  },
  {
   "cell_type": "code",
   "execution_count": 609,
   "id": "7d4bed7b",
   "metadata": {},
   "outputs": [
    {
     "name": "stdout",
     "output_type": "stream",
     "text": [
      "Predicting on test set...\n",
      "\u001b[1m5/5\u001b[0m \u001b[32m━━━━━━━━━━━━━━━━━━━━\u001b[0m\u001b[37m\u001b[0m \u001b[1m1s\u001b[0m 179ms/step\n",
      "\u001b[1m5/5\u001b[0m \u001b[32m━━━━━━━━━━━━━━━━━━━━\u001b[0m\u001b[37m\u001b[0m \u001b[1m1s\u001b[0m 179ms/step\n"
     ]
    }
   ],
   "source": [
    "print('Predicting on test set...')\n",
    "pred_s = best_model.predict(X_test)"
   ]
  },
  {
   "cell_type": "markdown",
   "id": "d0922174",
   "metadata": {},
   "source": [
    "# inverse transform"
   ]
  },
  {
   "cell_type": "code",
   "execution_count": 610,
   "id": "50f35181",
   "metadata": {},
   "outputs": [],
   "source": [
    "pred_brix = brix_scaler.inverse_transform(pred_s.reshape(-1,1)).flatten()\n",
    "true_brix = y_test.flatten()"
   ]
  },
  {
   "cell_type": "markdown",
   "id": "5fe9c277",
   "metadata": {},
   "source": [
    "# Post-process smoothing (rolling)"
   ]
  },
  {
   "cell_type": "code",
   "execution_count": 611,
   "id": "c8c2a0af",
   "metadata": {},
   "outputs": [],
   "source": [
    "pred_brix_smoothed = pd.Series(pred_brix).rolling(window=SMOOTH_WINDOW, min_periods=1, center=True).mean().values"
   ]
  },
  {
   "cell_type": "markdown",
   "id": "4bafeb24",
   "metadata": {},
   "source": [
    "# Regression metrics"
   ]
  },
  {
   "cell_type": "code",
   "execution_count": 612,
   "id": "6def2325",
   "metadata": {},
   "outputs": [
    {
     "name": "stdout",
     "output_type": "stream",
     "text": [
      "MSE: 0.087837, MAE: 0.194821, RMSE: 0.296373\n",
      "MSE (smoothed): 0.087650, MAE (smoothed): 0.194541, RMSE (smoothed): 0.296057\n"
     ]
    }
   ],
   "source": [
    "mse = mean_squared_error(true_brix, pred_brix)\n",
    "mae = mean_absolute_error(true_brix, pred_brix)\n",
    "rmse = math.sqrt(mse)\n",
    "print(f'MSE: {mse:.6f}, MAE: {mae:.6f}, RMSE: {rmse:.6f}')\n",
    "\n",
    "\n",
    "mse_s = mean_squared_error(true_brix, pred_brix_smoothed)\n",
    "mae_s = mean_absolute_error(true_brix, pred_brix_smoothed)\n",
    "rmse_s = math.sqrt(mse_s)\n",
    "print(f'MSE (smoothed): {mse_s:.6f}, MAE (smoothed): {mae_s:.6f}, RMSE (smoothed): {rmse_s:.6f}')"
   ]
  },
  {
   "cell_type": "markdown",
   "id": "b24666f9",
   "metadata": {},
   "source": [
    "# Volatility metric"
   ]
  },
  {
   "cell_type": "code",
   "execution_count": 613,
   "id": "a4025fe1",
   "metadata": {},
   "outputs": [
    {
     "name": "stdout",
     "output_type": "stream",
     "text": [
      "Volatility (true): 0.030890, (pred): 0.010861, (pred smoothed): 0.010532\n"
     ]
    }
   ],
   "source": [
    "def volatility(series):\n",
    "    return np.mean(np.abs(np.diff(series)))\n",
    "vol_true = volatility(true_brix)\n",
    "vol_pred = volatility(pred_brix)\n",
    "vol_pred_s = volatility(pred_brix_smoothed)\n",
    "print(f'Volatility (true): {vol_true:.6f}, (pred): {vol_pred:.6f}, (pred smoothed): {vol_pred_s:.6f}')"
   ]
  },
  {
   "cell_type": "markdown",
   "id": "e22eae55",
   "metadata": {},
   "source": [
    "# Classification from predicted brix (smoothed)"
   ]
  },
  {
   "cell_type": "code",
   "execution_count": 614,
   "id": "b50c9dcd",
   "metadata": {},
   "outputs": [
    {
     "name": "stdout",
     "output_type": "stream",
     "text": [
      "Classification accuracy (from predicted brix): 0.8357\n",
      "Classification report:\n",
      "              precision    recall  f1-score   support\n",
      "\n",
      "           0       0.67      1.00      0.80        46\n",
      "           1       1.00      0.76      0.86        94\n",
      "\n",
      "    accuracy                           0.84       140\n",
      "   macro avg       0.83      0.88      0.83       140\n",
      "weighted avg       0.89      0.84      0.84       140\n",
      "\n",
      "Confusion matrix: [[46  0]\n",
      " [23 71]]\n",
      "True Ready counts: (array([0, 1]), array([46, 94], dtype=int64))\n",
      "Pred Ready counts: (array([0, 1]), array([69, 71], dtype=int64))\n"
     ]
    }
   ],
   "source": [
    "# --- Classification based on new Brix fermentation threshold ---\n",
    "FERMENTED_MAX = 0.04   # brix <= 0.04  → fermented\n",
    "NOT_FERMENTED_MIN = 0.05  # brix > 0.04 → not fermented\n",
    "\n",
    "true_ready = np.where(true_brix <= FERMENTED_MAX, 1, 0)\n",
    "pred_ready = np.where(pred_brix_smoothed <= FERMENTED_MAX, 1, 0)\n",
    "\n",
    "acc = np.mean(pred_ready == true_ready)\n",
    "print(f'Classification accuracy (from predicted brix): {acc:.4f}')\n",
    "print('Classification report:')\n",
    "print(classification_report(true_ready, pred_ready, zero_division=0))\n",
    "\n",
    "cm = confusion_matrix(true_ready, pred_ready)\n",
    "print('Confusion matrix:', cm)\n",
    "\n",
    "# Optional: display counts per class to confirm\n",
    "print('True Ready counts:', np.unique(true_ready, return_counts=True))\n",
    "print('Pred Ready counts:', np.unique(pred_ready, return_counts=True))\n"
   ]
  },
  {
   "cell_type": "markdown",
   "id": "119efdf6",
   "metadata": {},
   "source": [
    "# %% Plots: training curves and per-run plots"
   ]
  },
  {
   "cell_type": "code",
   "execution_count": 615,
   "id": "0c64b247",
   "metadata": {},
   "outputs": [],
   "source": [
    "import matplotlib.pyplot as plt\n",
    "\n",
    "\n",
    "def plot_training(history, model_name):\n",
    "    hist = history.history\n",
    "    plt.figure(figsize=(12,4))\n",
    "    plt.subplot(1,2,1)\n",
    "    plt.plot(hist['loss'], label='train_loss')\n",
    "    plt.plot(hist['val_loss'], label='val_loss')\n",
    "    plt.title(f'{model_name} Combined Loss')\n",
    "    plt.xlabel('epoch')\n",
    "    plt.legend()\n",
    "    plt.subplot(1,2,2)\n",
    "    plt.plot(hist.get('mse', []), label='train_mse')\n",
    "    plt.plot(hist.get('val_mse', []), label='val_mse')\n",
    "    plt.title(f'{model_name} MSE')\n",
    "    plt.legend()\n",
    "    plt.show()"
   ]
  },
  {
   "cell_type": "markdown",
   "id": "fb07cac0",
   "metadata": {},
   "source": [
    "# show curves"
   ]
  },
  {
   "cell_type": "code",
   "execution_count": 616,
   "id": "1ffe5cb7",
   "metadata": {},
   "outputs": [
    {
     "data": {
      "image/png": "[encoded data removed]",
      "text/plain": [
       "<Figure size 1200x400 with 2 Axes>"
      ]
     },
     "metadata": {},
     "output_type": "display_data"
    }
   ],
   "source": [
    "plot_training(models_trained[best_name]['history'], best_name)"
   ]
  },
  {
   "cell_type": "markdown",
   "id": "b144d1a5",
   "metadata": {},
   "source": [
    "# Plot a chunk of test predictions vs actual"
   ]
  },
  {
   "cell_type": "code",
   "execution_count": 617,
   "id": "646c0ef5",
   "metadata": {},
   "outputs": [
    {
     "data": {
      "image/png": "[encoded data removed]",
      "text/plain": [
       "<Figure size 1200x500 with 1 Axes>"
      ]
     },
     "metadata": {},
     "output_type": "display_data"
    }
   ],
   "source": [
    "Nplot = min(300, len(pred_brix))\n",
    "plt.figure(figsize=(12,5))\n",
    "plt.plot(true_brix[:Nplot], label='actual_brix')\n",
    "plt.plot(pred_brix[:Nplot], label='pred_brix_raw', alpha=0.7)\n",
    "plt.plot(pred_brix_smoothed[:Nplot], label='pred_brix_smoothed', linewidth=2)\n",
    "plt.axhline(BRIX_READY_THRESHOLD, color='k', linestyle='--', label='ready_threshold')\n",
    "plt.legend()\n",
    "plt.title('Actual vs Predicted Brix (test set slice)')\n",
    "plt.show()"
   ]
  },
  {
   "cell_type": "code",
   "execution_count": null,
   "id": "cc553c84",
   "metadata": {},
   "outputs": [
    {
     "data": {
      "image/png": "[encoded data removed]",
      "text/plain": [
       "<Figure size 1200x600 with 1 Axes>"
      ]
     },
     "metadata": {},
     "output_type": "display_data"
    }
   ],
   "source": [
    "plt.figure(figsize=(12,6))\n",
    "plt.plot(true_brix, label='actual')\n",
    "plt.plot(pred_brix_smoothed, label='pred_smoothed')\n",
    "plt.title('Full test set: actual vs predicted (smoothed)')\n",
    "plt.legend()\n",
    "plt.show()"
   ]
  },
  {
   "cell_type": "code",
   "execution_count": 618,
   "id": "73f32854",
   "metadata": {},
   "outputs": [
    {
     "name": "stdout",
     "output_type": "stream",
     "text": [
      "True Ready counts: (array([0, 1]), array([46, 94], dtype=int64))\n",
      "Pred Ready counts: (array([0, 1]), array([69, 71], dtype=int64))\n"
     ]
    }
   ],
   "source": [
    "import numpy as np\n",
    "\n",
    "print(\"True Ready counts:\", np.unique(true_ready, return_counts=True))\n",
    "print(\"Pred Ready counts:\", np.unique(pred_ready, return_counts=True))"
   ]
  },
  {
   "cell_type": "code",
   "execution_count": 619,
   "id": "6ff62978",
   "metadata": {},
   "outputs": [
    {
     "name": "stdout",
     "output_type": "stream",
     "text": [
      "Brix test range: -0.2936 to 1.1839\n",
      "Predicted Brix range: -0.3661 to 1.0539\n"
     ]
    }
   ],
   "source": [
    "print(f\"Brix test range: {true_brix.min():.4f} to {true_brix.max():.4f}\")\n",
    "print(f\"Predicted Brix range: {pred_brix_smoothed.min():.4f} to {pred_brix_smoothed.max():.4f}\")"
   ]
  },
  {
   "cell_type": "code",
   "execution_count": 620,
   "id": "6740e50e",
   "metadata": {},
   "outputs": [
    {
     "name": "stdout",
     "output_type": "stream",
     "text": [
      "count    846.000000\n",
      "mean       0.710651\n",
      "std        1.268617\n",
      "min       -0.483835\n",
      "25%       -0.341815\n",
      "50%       -0.240234\n",
      "75%        1.628113\n",
      "max        3.611710\n",
      "Name: brix, dtype: float64\n"
     ]
    }
   ],
   "source": [
    "print(df['brix'].describe())"
   ]
  },
  {
   "cell_type": "code",
   "execution_count": 622,
   "id": "a48794bd",
   "metadata": {},
   "outputs": [
    {
     "data": {
      "image/png": "[encoded data removed]",
      "text/plain": [
       "<Figure size 600x500 with 2 Axes>"
      ]
     },
     "metadata": {},
     "output_type": "display_data"
    }
   ],
   "source": [
    "import seaborn as sns\n",
    "import matplotlib.pyplot as plt\n",
    "from sklearn.metrics import confusion_matrix\n",
    "\n",
    "# Compute confusion matrix (assuming y_true and y_pred_ready are your true/predicted labels)\n",
    "cm = confusion_matrix(true_ready, pred_ready)\n",
    "\n",
    "# Define class labels\n",
    "labels = ['Not Ready (0)', 'Ready (1)']\n",
    "\n",
    "# Plot the confusion matrix\n",
    "plt.figure(figsize=(6, 5))\n",
    "sns.heatmap(cm, annot=True, fmt='d', cmap='Blues', xticklabels=labels, yticklabels=labels)\n",
    "plt.title('Confusion Matrix - Fermentation Classification')\n",
    "plt.xlabel('Predicted Label')\n",
    "plt.ylabel('True Label')\n",
    "plt.show()"
   ]
  },
  {
   "cell_type": "code",
   "execution_count": null,
   "id": "8cedafb5",
   "metadata": {},
   "outputs": [],
   "source": []
  }
 ],
 "metadata": {
  "kernelspec": {
   "display_name": "base",
   "language": "python",
   "name": "python3"
  },
  "language_info": {
   "codemirror_mode": {
    "name": "ipython",
    "version": 3
   },
   "file_extension": ".py",
   "mimetype": "text/x-python",
   "name": "python",
   "nbconvert_exporter": "python",
   "pygments_lexer": "ipython3",
   "version": "3.12.7"
  }
 },
 "nbformat": 4,
 "nbformat_minor": 5
}
